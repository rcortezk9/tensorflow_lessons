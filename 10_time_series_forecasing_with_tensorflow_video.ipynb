{
  "nbformat": 4,
  "nbformat_minor": 0,
  "metadata": {
    "colab": {
      "name": "10_time_series_forecasing_with_tensorflow_video.ipynb",
      "provenance": [],
      "collapsed_sections": [],
      "mount_file_id": "1VwGEkU32sRBXcTqSuCgQvDqsHXv14RRM",
      "authorship_tag": "ABX9TyNqlCe4QcWZRLXbrmgYJJzL",
      "include_colab_link": true
    },
    "kernelspec": {
      "name": "python3",
      "display_name": "Python 3"
    },
    "language_info": {
      "name": "python"
    },
    "accelerator": "GPU"
  },
  "cells": [
    {
      "cell_type": "markdown",
      "metadata": {
        "id": "view-in-github",
        "colab_type": "text"
      },
      "source": [
        "<a href=\"https://colab.research.google.com/github/rcortezk9/tensorflow_lessons/blob/main/10_time_series_forecasing_with_tensorflow_video.ipynb\" target=\"_parent\"><img src=\"https://colab.research.google.com/assets/colab-badge.svg\" alt=\"Open In Colab\"/></a>"
      ]
    },
    {
      "cell_type": "markdown",
      "metadata": {
        "id": "-AqBbrfQwSPj"
      },
      "source": [
        "# Time series forecasting fundamentals with TensorFlow + Milestone Project 3: BitPredict 💰📈\n",
        "\n",
        "Let's write some TensorFlow code to predict the price of Bitcoin based on the historical price of Bitcoin.\n",
        "\n",
        "⚠️ **Note:** This is not financial advice.\n",
        "\n",
        "Links:\n",
        "* All resources: https://github.com/mrdbourke/tensorflow-deep-learning\n",
        "* Book version of actual code/text: https://dev.mrdbourke.com/tensorflow-deep-learning/10_time_series_forecasting_in_tensorflow/"
      ]
    },
    {
      "cell_type": "code",
      "metadata": {
        "colab": {
          "base_uri": "https://localhost:8080/"
        },
        "id": "VNg4fLUD1DQl",
        "outputId": "31bea71a-936e-4409-ef37-c92b63f4ad0d"
      },
      "source": [
        "# Check for GPU\n",
        "!nvidia-smi -L"
      ],
      "execution_count": 1,
      "outputs": [
        {
          "output_type": "stream",
          "text": [
            "GPU 0: Tesla T4 (UUID: GPU-f5a33e4d-a83c-b9ba-d2d7-8bc4cf77441c)\n"
          ],
          "name": "stdout"
        }
      ]
    },
    {
      "cell_type": "markdown",
      "metadata": {
        "id": "SIE4OZQwtWiw"
      },
      "source": [
        "## What is a time series problem?\n",
        "Time series problems deal with data over time.\n",
        "\n",
        "Such as, the number of staff members in a company over 10-years, sales of computers for the past 5-years, electricity usage for the past 50-years.\n",
        "\n",
        "The timeline can be short (seconds/minutes) or long (years/decades). And the problems you might investigate using can usually be broken down into two categories."
      ]
    },
    {
      "cell_type": "markdown",
      "metadata": {
        "id": "afnx6mh2telX"
      },
      "source": [
        "<img src=\"https://raw.githubusercontent.com/mrdbourke/tensorflow-deep-learning/main/images/10-example-time-series-problems.png\" alt=\"example time series problems\">"
      ]
    },
    {
      "cell_type": "markdown",
      "metadata": {
        "id": "GQKv5pfWt1B3"
      },
      "source": [
        "In both cases above, a supervised learning approach is often used. Meaning, you'd have some example data and a label assosciated with that data.\n",
        "\n",
        "For example, in forecasting the price of Bitcoin, your data could be the historical price of Bitcoin for the past month and the label could be today's price (the label can't be tomorrow's price because that's what we'd want to predict).\n",
        "\n",
        "Can you guess what kind of problem BitPredict 💰📈 is?"
      ]
    },
    {
      "cell_type": "markdown",
      "metadata": {
        "id": "7rWL2IMXyMjv"
      },
      "source": [
        "## Get data\n",
        "\n",
        "We're going to be using the historical price data of Bitcoin to try and predict the furtre price of Bitcoin, we downloaded the data from here: https://www.coindesk.com/price/bitcoin"
      ]
    },
    {
      "cell_type": "code",
      "metadata": {
        "id": "PwlpkNZliX3p",
        "colab": {
          "base_uri": "https://localhost:8080/"
        },
        "outputId": "32f04eb3-e0ff-4a40-a3dd-17a3554b9763"
      },
      "source": [
        "!wget https://raw.githubusercontent.com/mrdbourke/tensorflow-deep-learning/main/extras/BTC_USD_2013-10-01_2021-05-18-CoinDesk.csv"
      ],
      "execution_count": 2,
      "outputs": [
        {
          "output_type": "stream",
          "text": [
            "--2021-08-16 15:41:46--  https://raw.githubusercontent.com/mrdbourke/tensorflow-deep-learning/main/extras/BTC_USD_2013-10-01_2021-05-18-CoinDesk.csv\n",
            "Resolving raw.githubusercontent.com (raw.githubusercontent.com)... 185.199.108.133, 185.199.109.133, 185.199.110.133, ...\n",
            "Connecting to raw.githubusercontent.com (raw.githubusercontent.com)|185.199.108.133|:443... connected.\n",
            "HTTP request sent, awaiting response... 200 OK\n",
            "Length: 178509 (174K) [text/plain]\n",
            "Saving to: ‘BTC_USD_2013-10-01_2021-05-18-CoinDesk.csv’\n",
            "\n",
            "BTC_USD_2013-10-01_ 100%[===================>] 174.33K  --.-KB/s    in 0.02s   \n",
            "\n",
            "2021-08-16 15:41:46 (11.0 MB/s) - ‘BTC_USD_2013-10-01_2021-05-18-CoinDesk.csv’ saved [178509/178509]\n",
            "\n"
          ],
          "name": "stdout"
        }
      ]
    },
    {
      "cell_type": "markdown",
      "metadata": {
        "id": "dMksH-8XyzN7"
      },
      "source": [
        "## Importing time series with pandas"
      ]
    },
    {
      "cell_type": "code",
      "metadata": {
        "colab": {
          "base_uri": "https://localhost:8080/",
          "height": 235
        },
        "id": "T5ldgMjJzbSF",
        "outputId": "a2e44646-642e-4b53-d5bc-b9c1dc828d55"
      },
      "source": [
        "# Import with Pandas\n",
        "import pandas as pd\n",
        "# Let's read in our Bitcoin data\n",
        "df = pd.read_csv(\"/content/BTC_USD_2013-10-01_2021-05-18-CoinDesk.csv\",\n",
        "                 parse_dates=['Date'],\n",
        "                 index_col=['Date'],) # parse the data column and tell pandas column 1 is a datetime\n",
        "\n",
        "df.head()"
      ],
      "execution_count": 3,
      "outputs": [
        {
          "output_type": "execute_result",
          "data": {
            "text/html": [
              "<div>\n",
              "<style scoped>\n",
              "    .dataframe tbody tr th:only-of-type {\n",
              "        vertical-align: middle;\n",
              "    }\n",
              "\n",
              "    .dataframe tbody tr th {\n",
              "        vertical-align: top;\n",
              "    }\n",
              "\n",
              "    .dataframe thead th {\n",
              "        text-align: right;\n",
              "    }\n",
              "</style>\n",
              "<table border=\"1\" class=\"dataframe\">\n",
              "  <thead>\n",
              "    <tr style=\"text-align: right;\">\n",
              "      <th></th>\n",
              "      <th>Currency</th>\n",
              "      <th>Closing Price (USD)</th>\n",
              "      <th>24h Open (USD)</th>\n",
              "      <th>24h High (USD)</th>\n",
              "      <th>24h Low (USD)</th>\n",
              "    </tr>\n",
              "    <tr>\n",
              "      <th>Date</th>\n",
              "      <th></th>\n",
              "      <th></th>\n",
              "      <th></th>\n",
              "      <th></th>\n",
              "      <th></th>\n",
              "    </tr>\n",
              "  </thead>\n",
              "  <tbody>\n",
              "    <tr>\n",
              "      <th>2013-10-01</th>\n",
              "      <td>BTC</td>\n",
              "      <td>123.65499</td>\n",
              "      <td>124.30466</td>\n",
              "      <td>124.75166</td>\n",
              "      <td>122.56349</td>\n",
              "    </tr>\n",
              "    <tr>\n",
              "      <th>2013-10-02</th>\n",
              "      <td>BTC</td>\n",
              "      <td>125.45500</td>\n",
              "      <td>123.65499</td>\n",
              "      <td>125.75850</td>\n",
              "      <td>123.63383</td>\n",
              "    </tr>\n",
              "    <tr>\n",
              "      <th>2013-10-03</th>\n",
              "      <td>BTC</td>\n",
              "      <td>108.58483</td>\n",
              "      <td>125.45500</td>\n",
              "      <td>125.66566</td>\n",
              "      <td>83.32833</td>\n",
              "    </tr>\n",
              "    <tr>\n",
              "      <th>2013-10-04</th>\n",
              "      <td>BTC</td>\n",
              "      <td>118.67466</td>\n",
              "      <td>108.58483</td>\n",
              "      <td>118.67500</td>\n",
              "      <td>107.05816</td>\n",
              "    </tr>\n",
              "    <tr>\n",
              "      <th>2013-10-05</th>\n",
              "      <td>BTC</td>\n",
              "      <td>121.33866</td>\n",
              "      <td>118.67466</td>\n",
              "      <td>121.93633</td>\n",
              "      <td>118.00566</td>\n",
              "    </tr>\n",
              "  </tbody>\n",
              "</table>\n",
              "</div>"
            ],
            "text/plain": [
              "           Currency  Closing Price (USD)  ...  24h High (USD)  24h Low (USD)\n",
              "Date                                      ...                               \n",
              "2013-10-01      BTC            123.65499  ...       124.75166      122.56349\n",
              "2013-10-02      BTC            125.45500  ...       125.75850      123.63383\n",
              "2013-10-03      BTC            108.58483  ...       125.66566       83.32833\n",
              "2013-10-04      BTC            118.67466  ...       118.67500      107.05816\n",
              "2013-10-05      BTC            121.33866  ...       121.93633      118.00566\n",
              "\n",
              "[5 rows x 5 columns]"
            ]
          },
          "metadata": {
            "tags": []
          },
          "execution_count": 3
        }
      ]
    },
    {
      "cell_type": "code",
      "metadata": {
        "colab": {
          "base_uri": "https://localhost:8080/"
        },
        "id": "U7wBq66W0c0R",
        "outputId": "39654966-482e-46c3-d2d6-6e4b213c934b"
      },
      "source": [
        "df.info()"
      ],
      "execution_count": 4,
      "outputs": [
        {
          "output_type": "stream",
          "text": [
            "<class 'pandas.core.frame.DataFrame'>\n",
            "DatetimeIndex: 2787 entries, 2013-10-01 to 2021-05-18\n",
            "Data columns (total 5 columns):\n",
            " #   Column               Non-Null Count  Dtype  \n",
            "---  ------               --------------  -----  \n",
            " 0   Currency             2787 non-null   object \n",
            " 1   Closing Price (USD)  2787 non-null   float64\n",
            " 2   24h Open (USD)       2787 non-null   float64\n",
            " 3   24h High (USD)       2787 non-null   float64\n",
            " 4   24h Low (USD)        2787 non-null   float64\n",
            "dtypes: float64(4), object(1)\n",
            "memory usage: 130.6+ KB\n"
          ],
          "name": "stdout"
        }
      ]
    },
    {
      "cell_type": "code",
      "metadata": {
        "colab": {
          "base_uri": "https://localhost:8080/"
        },
        "id": "uWpLiSN20gKs",
        "outputId": "3a47db09-d4d0-427c-f851-8d39f4b40b5a"
      },
      "source": [
        "# How many samples do we have\n",
        "len(df)"
      ],
      "execution_count": 5,
      "outputs": [
        {
          "output_type": "execute_result",
          "data": {
            "text/plain": [
              "2787"
            ]
          },
          "metadata": {
            "tags": []
          },
          "execution_count": 5
        }
      ]
    },
    {
      "cell_type": "markdown",
      "metadata": {
        "id": "It18ejvh1Ab3"
      },
      "source": [
        "We've collected the historical price of Bitcoin for the past ~8 years but there's 2787 samples.\n",
        "\n",
        "Typically deep learning models usually like lots and lots and lots of samples (where lots and lots and lots can thousands to tens of thousands to millions).\n",
        "\n",
        "A smaller number of samples is something you'll ofthen run into with time series data problems.\n",
        "\n",
        "\n",
        "> 🔑 **Note:** The frequency at which a time series value is collected is often referred to as seasonality. This is usually mesaured in number of samples per year. For example, collecting the price of Bitcoin once per day would result in a time series with a seasonality of 365. Time series data collected with different seasonality values often exhibit seasonal patterns (e.g. electricity demand behing higher in Summer months for air conditioning than Winter months). For more on different time series patterns, see Forecasting: Principles and Practice Chapter 2.3.\n",
        "\n"
      ]
    },
    {
      "cell_type": "markdown",
      "metadata": {
        "id": "cXVK1Hlc0rwI"
      },
      "source": [
        "<img src=\"https://raw.githubusercontent.com/mrdbourke/tensorflow-deep-learning/main/images/10-types-of-time-series-patterns.png\" alt=\"different types of time series patterns\">\n",
        "\n",
        "<img src=\"https://raw.githubusercontent.com/mrdbourke/tensorflow-deep-learning/main/images/10-univariate-and-multivariate-time-series-data.png\" alt=\"comparison of univariate and multivariate time series data\">"
      ]
    },
    {
      "cell_type": "code",
      "metadata": {
        "id": "a4vYpTQl4HIc",
        "colab": {
          "base_uri": "https://localhost:8080/",
          "height": 235
        },
        "outputId": "35e4921f-27cc-45c5-a1d7-d1c313e6e995"
      },
      "source": [
        "# Only want closing price for each day\n",
        "bitcoin_prices = pd.DataFrame(df[\"Closing Price (USD)\"]).rename(columns={\"Closing Price (USD)\": \"Price\"})\n",
        "bitcoin_prices.head()"
      ],
      "execution_count": 6,
      "outputs": [
        {
          "output_type": "execute_result",
          "data": {
            "text/html": [
              "<div>\n",
              "<style scoped>\n",
              "    .dataframe tbody tr th:only-of-type {\n",
              "        vertical-align: middle;\n",
              "    }\n",
              "\n",
              "    .dataframe tbody tr th {\n",
              "        vertical-align: top;\n",
              "    }\n",
              "\n",
              "    .dataframe thead th {\n",
              "        text-align: right;\n",
              "    }\n",
              "</style>\n",
              "<table border=\"1\" class=\"dataframe\">\n",
              "  <thead>\n",
              "    <tr style=\"text-align: right;\">\n",
              "      <th></th>\n",
              "      <th>Price</th>\n",
              "    </tr>\n",
              "    <tr>\n",
              "      <th>Date</th>\n",
              "      <th></th>\n",
              "    </tr>\n",
              "  </thead>\n",
              "  <tbody>\n",
              "    <tr>\n",
              "      <th>2013-10-01</th>\n",
              "      <td>123.65499</td>\n",
              "    </tr>\n",
              "    <tr>\n",
              "      <th>2013-10-02</th>\n",
              "      <td>125.45500</td>\n",
              "    </tr>\n",
              "    <tr>\n",
              "      <th>2013-10-03</th>\n",
              "      <td>108.58483</td>\n",
              "    </tr>\n",
              "    <tr>\n",
              "      <th>2013-10-04</th>\n",
              "      <td>118.67466</td>\n",
              "    </tr>\n",
              "    <tr>\n",
              "      <th>2013-10-05</th>\n",
              "      <td>121.33866</td>\n",
              "    </tr>\n",
              "  </tbody>\n",
              "</table>\n",
              "</div>"
            ],
            "text/plain": [
              "                Price\n",
              "Date                 \n",
              "2013-10-01  123.65499\n",
              "2013-10-02  125.45500\n",
              "2013-10-03  108.58483\n",
              "2013-10-04  118.67466\n",
              "2013-10-05  121.33866"
            ]
          },
          "metadata": {
            "tags": []
          },
          "execution_count": 6
        }
      ]
    },
    {
      "cell_type": "code",
      "metadata": {
        "colab": {
          "base_uri": "https://localhost:8080/",
          "height": 460
        },
        "id": "n3utoeUJFBoP",
        "outputId": "90485cec-488a-40b1-912e-56cc42199132"
      },
      "source": [
        "import matplotlib.pyplot as plt\n",
        "bitcoin_prices.plot(figsize=(10, 7))\n",
        "plt.ylabel('BTC Price')\n",
        "plt.title(\"Price of Bitcoin from 1 Oct 2013 to 18 May 2021\", fontsize=16)\n",
        "plt.legend(fontsize=14);"
      ],
      "execution_count": 7,
      "outputs": [
        {
          "output_type": "display_data",
          "data": {
            "image/png": "[encoded data removed]",
            "text/plain": [
              "<Figure size 720x504 with 1 Axes>"
            ]
          },
          "metadata": {
            "tags": [],
            "needs_background": "light"
          }
        }
      ]
    },
    {
      "cell_type": "markdown",
      "metadata": {
        "id": "v-Ibe8JLG6Lc"
      },
      "source": [
        "## Import time series with Python's CSV module\n",
        "\n",
        "If your time series data comes in CSV form you don't necessarily have to use pandas.\n",
        "\n",
        "You can use Python's in-built csv module. And if you're working with dates, you might also want to use Python's datetime.\n",
        "\n",
        "Let's see how we can replicate the plot we created before except this time using Python's csv and datetime modules.\n",
        "\n",
        "> 📖 **Resources:** For a great guide on using Python's `csv` module, check out Real Python's tutorial on [Reading and Writing CSV files in Python](https://realpython.com/python-csv/)."
      ]
    },
    {
      "cell_type": "code",
      "metadata": {
        "colab": {
          "base_uri": "https://localhost:8080/"
        },
        "id": "zXv6e1SnFkOi",
        "outputId": "86b8825a-cb48-412f-f7ef-ecad203b55b3"
      },
      "source": [
        "# Importing and formatting historical Bitcoin data with Python\n",
        "import csv\n",
        "from datetime import datetime\n",
        "# Empty list\n",
        "timesteps = []\n",
        "btc_price = []\n",
        "with open(\"/content/BTC_USD_2013-10-01_2021-05-18-CoinDesk.csv\", \"r\") as f:\n",
        "  csv_reader = csv.reader(f, delimiter=\",\") # read in the target CSV\n",
        "  next(csv_reader) # skip first line (this gets rid of the column titles)\n",
        "  for line in csv_reader:\n",
        "    timesteps.append(datetime.strptime(line[1], \"%Y-%m-%d\")) # get the dates as dates (not strings), strptime = string parse time\n",
        "    btc_price.append(float(line[2])) # get the closing price as float\n",
        "\n",
        "# View first 10 of each\n",
        "timesteps[:10], btc_price[:10]"
      ],
      "execution_count": 8,
      "outputs": [
        {
          "output_type": "execute_result",
          "data": {
            "text/plain": [
              "([datetime.datetime(2013, 10, 1, 0, 0),\n",
              "  datetime.datetime(2013, 10, 2, 0, 0),\n",
              "  datetime.datetime(2013, 10, 3, 0, 0),\n",
              "  datetime.datetime(2013, 10, 4, 0, 0),\n",
              "  datetime.datetime(2013, 10, 5, 0, 0),\n",
              "  datetime.datetime(2013, 10, 6, 0, 0),\n",
              "  datetime.datetime(2013, 10, 7, 0, 0),\n",
              "  datetime.datetime(2013, 10, 8, 0, 0),\n",
              "  datetime.datetime(2013, 10, 9, 0, 0),\n",
              "  datetime.datetime(2013, 10, 10, 0, 0)],\n",
              " [123.65499,\n",
              "  125.455,\n",
              "  108.58483,\n",
              "  118.67466,\n",
              "  121.33866,\n",
              "  120.65533,\n",
              "  121.795,\n",
              "  123.033,\n",
              "  124.049,\n",
              "  125.96116])"
            ]
          },
          "metadata": {
            "tags": []
          },
          "execution_count": 8
        }
      ]
    },
    {
      "cell_type": "code",
      "metadata": {
        "colab": {
          "base_uri": "https://localhost:8080/",
          "height": 460
        },
        "id": "0TXCM9p_GNiI",
        "outputId": "e5ccc4e9-67bb-4d95-fdfa-5447fb99783b"
      },
      "source": [
        "# Plot from CSV\n",
        "import matplotlib.pyplot as plt\n",
        "import numpy as np\n",
        "plt.figure(figsize=(10, 7))\n",
        "plt.plot(timesteps, btc_price)\n",
        "plt.title(\"Price of Bitcoin from 1 Oct 2013 to 18 May 2021\", fontsize=16)\n",
        "plt.xlabel(\"Date\")\n",
        "plt.ylabel(\"BTC Price\");"
      ],
      "execution_count": 9,
      "outputs": [
        {
          "output_type": "display_data",
          "data": {
            "image/png": "[encoded data removed]",
            "text/plain": [
              "<Figure size 720x504 with 1 Axes>"
            ]
          },
          "metadata": {
            "tags": [],
            "needs_background": "light"
          }
        }
      ]
    },
    {
      "cell_type": "markdown",
      "metadata": {
        "id": "Dl4iC4vjGPlB"
      },
      "source": [
        "## Format data part 1: Create train and test sets of our time series data"
      ]
    },
    {
      "cell_type": "markdown",
      "metadata": {
        "id": "WtiYlEiMLiuz"
      },
      "source": [
        "### Creating train and test sets with time series data (the wrong way)"
      ]
    },
    {
      "cell_type": "code",
      "metadata": {
        "colab": {
          "base_uri": "https://localhost:8080/"
        },
        "id": "1dE0Sah9LrO4",
        "outputId": "a3ca1d55-fd95-4d7b-e51c-5b08ac80cbe4"
      },
      "source": [
        "# Get bitcoin data array\n",
        "timesteps = bitcoin_prices.index.to_numpy()\n",
        "prices = bitcoin_prices[\"Price\"].to_numpy()\n",
        "\n",
        "timesteps[:10], prices[:10]"
      ],
      "execution_count": 10,
      "outputs": [
        {
          "output_type": "execute_result",
          "data": {
            "text/plain": [
              "(array(['2013-10-01T00:00:00.000000000', '2013-10-02T00:00:00.000000000',\n",
              "        '2013-10-03T00:00:00.000000000', '2013-10-04T00:00:00.000000000',\n",
              "        '2013-10-05T00:00:00.000000000', '2013-10-06T00:00:00.000000000',\n",
              "        '2013-10-07T00:00:00.000000000', '2013-10-08T00:00:00.000000000',\n",
              "        '2013-10-09T00:00:00.000000000', '2013-10-10T00:00:00.000000000'],\n",
              "       dtype='datetime64[ns]'),\n",
              " array([123.65499, 125.455  , 108.58483, 118.67466, 121.33866, 120.65533,\n",
              "        121.795  , 123.033  , 124.049  , 125.96116]))"
            ]
          },
          "metadata": {
            "tags": []
          },
          "execution_count": 10
        }
      ]
    },
    {
      "cell_type": "code",
      "metadata": {
        "colab": {
          "base_uri": "https://localhost:8080/"
        },
        "id": "7KGt4HcfMHh5",
        "outputId": "23dba1e3-4e80-46aa-d3b5-92552f605e47"
      },
      "source": [
        "# Wrong way to make train/test sets for tiem series\n",
        "from sklearn.model_selection import train_test_split\n",
        "\n",
        "X_train, X_test, y_train, y_test = train_test_split(timesteps, # dates\n",
        "                                                    prices, # BTC prices\n",
        "                                                    test_size=0.2, \n",
        "                                                    random_state=42)\n",
        "\n",
        "X_train.shape, X_test.shape, y_train.shape, y_test.shape"
      ],
      "execution_count": 11,
      "outputs": [
        {
          "output_type": "execute_result",
          "data": {
            "text/plain": [
              "((2229,), (558,), (2229,), (558,))"
            ]
          },
          "metadata": {
            "tags": []
          },
          "execution_count": 11
        }
      ]
    },
    {
      "cell_type": "markdown",
      "metadata": {
        "id": "gBPUh2odNfKJ"
      },
      "source": [
        "Looks like the splits worked well, but let's not trust numbers on a page, let's visualize, visualize, visualize!"
      ]
    },
    {
      "cell_type": "code",
      "metadata": {
        "colab": {
          "base_uri": "https://localhost:8080/",
          "height": 442
        },
        "id": "1uppz3w6M46Z",
        "outputId": "87759af4-14e5-43f5-b960-b1b387bc1529"
      },
      "source": [
        "# Let's plot wrong train and test splits\n",
        "plt.figure(figsize=(10, 7))\n",
        "plt.scatter(X_train, y_train, s=5, label=\"Train data\")\n",
        "plt.scatter(X_test, y_test, s=5, label=\"Test data\")\n",
        "plt.xlabel(\"Date\")\n",
        "plt.ylabel(\"BTC Price\")\n",
        "plt.legend(fontsize=14)\n",
        "plt.show();"
      ],
      "execution_count": 12,
      "outputs": [
        {
          "output_type": "display_data",
          "data": {
            "image/png": "[encoded data removed]",
            "text/plain": [
              "<Figure size 720x504 with 1 Axes>"
            ]
          },
          "metadata": {
            "tags": [],
            "needs_background": "light"
          }
        }
      ]
    },
    {
      "cell_type": "markdown",
      "metadata": {
        "id": "-8befFwFNrRC"
      },
      "source": [
        "This kind of random split is okay for **datasets without a time component** (such as images or passages of text for classification problems) but for time series, we've got to take the time factor into account.\n",
        "\n",
        "To fix this, we've got to split our data in a way that reflects what we're actually trying to do.\n",
        "\n",
        "We need to split our historical Bitcoin data to have a dataset that reflects the past (train set) and a dataset that reflects the future (test set)."
      ]
    },
    {
      "cell_type": "markdown",
      "metadata": {
        "id": "8AuCbElAXNI8"
      },
      "source": [
        "### Create train & test sets for time series (the right way)"
      ]
    },
    {
      "cell_type": "markdown",
      "metadata": {
        "id": "ZRWQ1TNXXT5N"
      },
      "source": [
        "<img src=\"https://raw.githubusercontent.com/mrdbourke/tensorflow-deep-learning/main/images/10-time-series-train-test-split.png\" alt=\"time series train test split\">"
      ]
    },
    {
      "cell_type": "code",
      "metadata": {
        "colab": {
          "base_uri": "https://localhost:8080/"
        },
        "id": "CCFt3B6_Xc71",
        "outputId": "241b1d74-1f8a-4ad4-ef08-c344880f8168"
      },
      "source": [
        "# Create train and test splits the right way for time series data\n",
        "split_size = int(0.8 * len(prices)) # 80% train, 20% test\n",
        "\n",
        "# Create train data splits (everything before the split)\n",
        "X_train, y_train = timesteps[:split_size], prices[:split_size]\n",
        "\n",
        "# Create test data splits (everything after the split)\n",
        "X_test, y_test = timesteps[split_size:], prices[split_size:]\n",
        "\n",
        "len(X_train), len(X_test), len(y_train), len(y_test)"
      ],
      "execution_count": 13,
      "outputs": [
        {
          "output_type": "execute_result",
          "data": {
            "text/plain": [
              "(2229, 558, 2229, 558)"
            ]
          },
          "metadata": {
            "tags": []
          },
          "execution_count": 13
        }
      ]
    },
    {
      "cell_type": "code",
      "metadata": {
        "colab": {
          "base_uri": "https://localhost:8080/",
          "height": 442
        },
        "id": "jhBmEg-2YGY-",
        "outputId": "d69222f7-826b-4803-a82b-cb7c0d8b8f65"
      },
      "source": [
        "plt.figure(figsize=(10, 7))\n",
        "plt.scatter(X_train, y_train, s=5, label=\"Train data\")\n",
        "plt.scatter(X_test, y_test, s=5, label=\"Test data\")\n",
        "plt.xlabel(\"Date\")\n",
        "plt.ylabel(\"BTC Price\")\n",
        "plt.legend(fontsize=14)\n",
        "plt.show();"
      ],
      "execution_count": 14,
      "outputs": [
        {
          "output_type": "display_data",
          "data": {
            "image/png": "[encoded data removed]",
            "text/plain": [
              "<Figure size 720x504 with 1 Axes>"
            ]
          },
          "metadata": {
            "tags": [],
            "needs_background": "light"
          }
        }
      ]
    },
    {
      "cell_type": "markdown",
      "metadata": {
        "id": "NyMVz1cyYYbh"
      },
      "source": [
        "> 📖 Resource: Working with time series data can be tricky compared to other kinds of data. And there are a few pitfalls to watch out for, such as how much data to use for a test set. The article 3 facts about time series forecasting that surprise experienced machine learning practitioners talks about different things to watch out for when working with time series data, I'd recommend reading it."
      ]
    },
    {
      "cell_type": "markdown",
      "metadata": {
        "id": "89cjRvFMZjfu"
      },
      "source": [
        "## Creating a plotting function\n",
        "Rather than retyping `matplotlib` commands to countinously plot data, let's make a plotting function we can reuse later"
      ]
    },
    {
      "cell_type": "code",
      "metadata": {
        "id": "bH5jgDb4fimy"
      },
      "source": [
        "# Create a function to plot time series data\n",
        "def plot_time_series(timesteps, values, format='.', start=0, end=None, label=None):\n",
        "  \"\"\"\n",
        "  Plots a timesteps (a series of points in time) against values (a series of values across timesteps).\n",
        "  \n",
        "  Parameters\n",
        "  ----------\n",
        "  timesteps : array of timesteps\n",
        "  values : array of values across time\n",
        "  format : style of plot, default \".\"\n",
        "  start : where to start the plot (setting a value will index from start of timesteps & values)\n",
        "  end : where to end the plot (setting a value will index from end of timesteps & values)\n",
        "  label : label to show on plot of values\n",
        "  \"\"\"\n",
        "  # Plot the series\n",
        "  plt.plot(timesteps[start:end], values[start:end], format, label=label)\n",
        "  plt.xlabel(\"Time\")\n",
        "  plt.ylabel(\"BTC Price\")\n",
        "  if label:\n",
        "    plt.legend(fontsize=14) # make label bigger\n",
        "  plt.grid(True)"
      ],
      "execution_count": 15,
      "outputs": []
    },
    {
      "cell_type": "code",
      "metadata": {
        "colab": {
          "base_uri": "https://localhost:8080/",
          "height": 442
        },
        "id": "7RKefadUhdRR",
        "outputId": "65f16ae2-2c50-4f43-bc53-de863146c9d5"
      },
      "source": [
        "# Test out plotting the function\n",
        "plt.figure(figsize=(10, 7))\n",
        "plot_time_series(timesteps=X_train, values=y_train, label=\"Train data\")\n",
        "plot_time_series(timesteps=X_test, values=y_test, label=\"Test data\")"
      ],
      "execution_count": 16,
      "outputs": [
        {
          "output_type": "display_data",
          "data": {
            "image/png": "[encoded data removed]",
            "text/plain": [
              "<Figure size 720x504 with 1 Axes>"
            ]
          },
          "metadata": {
            "tags": [],
            "needs_background": "light"
          }
        }
      ]
    },
    {
      "cell_type": "markdown",
      "metadata": {
        "id": "9XhpdkDohy0C"
      },
      "source": [
        "## Modelling Experiments\n",
        "\n",
        "We've got some Bitcoin historical data, to model it, let's run a series of modelling experiments and see which model performs best.\n",
        "\n",
        "Terms to be familiar with:\n",
        "\n",
        "**Horizon** = number of timesteps into the future we're going to predict\n",
        "\n",
        "**Window size** = number of timesteps we're going to use to predict **horizon**\n",
        "\n",
        "Modelling experiments we're running:\n",
        "\n",
        "* 0 Naïve model (baseline)\n",
        "* 1 Dense model, horizon = 1, window = 7\n",
        "* 2 Same as 1, horizon = 1, window = 30\n",
        "* 3 Same as 1, horizon = 7, window = 30\n",
        "* 4 Conv1D\n",
        "* 5 LSTM\n",
        "* 6 Same as 1 (but with multivariate data)\n",
        "* 7 N-BEATs Algorithm\n",
        "* 8 Ensemble (multiple models optimized on different loss functions)\n",
        "* 9 Future prediction model (model to predict future values)\n",
        "* 10 Same as 1 (but with turkey 🦃 data introduced)"
      ]
    },
    {
      "cell_type": "markdown",
      "metadata": {
        "id": "zQ2dR1vJbeXd"
      },
      "source": [
        "## Model 0: Naïve forecast (baseline)\n",
        "\n",
        "The formaula looks like this:\n",
        "\n",
        "$$\\hat{y}_{t} = y_{t-1}$$\n",
        "\n",
        "In English:\n",
        "\n",
        "> The prediction at timestep t (y-hat) is equal to the value at timestep t-1 (previous timestep) - this is for horizon of 1"
      ]
    },
    {
      "cell_type": "code",
      "metadata": {
        "colab": {
          "base_uri": "https://localhost:8080/"
        },
        "id": "aqu2PA_Vdbby",
        "outputId": "f41bb9e0-9b8c-402f-ab22-dc7187336e1a"
      },
      "source": [
        "# Create a naive forecast\n",
        "naive_forecast = y_test[:-1] # Naïve forecast equals every value excluding the last value\n",
        "naive_forecast[:10], naive_forecast[-10:] # View frist 10 and last 10"
      ],
      "execution_count": 17,
      "outputs": [
        {
          "output_type": "execute_result",
          "data": {
            "text/plain": [
              "(array([9226.48582088, 8794.35864452, 8798.04205463, 9081.18687849,\n",
              "        8711.53433917, 8760.89271814, 8749.52059102, 8656.97092235,\n",
              "        8500.64355816, 8469.2608989 ]),\n",
              " array([57107.12067189, 58788.20967893, 58102.19142623, 55715.54665129,\n",
              "        56573.5554719 , 52147.82118698, 49764.1320816 , 50032.69313676,\n",
              "        47885.62525472, 45604.61575361]))"
            ]
          },
          "metadata": {
            "tags": []
          },
          "execution_count": 17
        }
      ]
    },
    {
      "cell_type": "code",
      "metadata": {
        "colab": {
          "base_uri": "https://localhost:8080/",
          "height": 442
        },
        "id": "_gbblRtkfScW",
        "outputId": "c7c76ebf-a192-41e1-8a59-82308b28f9f1"
      },
      "source": [
        "# Plot naive forecast\n",
        "plt.figure(figsize=(10, 7))\n",
        "plot_time_series(timesteps=X_train, values=y_train, label=\"Train data\")\n",
        "plot_time_series(timesteps=X_test, values=y_test, label=\"Test data\")\n",
        "plot_time_series(timesteps=X_test[1:], values=naive_forecast, format=\"-\", label=\"Naive forecast\");"
      ],
      "execution_count": 18,
      "outputs": [
        {
          "output_type": "display_data",
          "data": {
            "image/png": "[encoded data removed]",
            "text/plain": [
              "<Figure size 720x504 with 1 Axes>"
            ]
          },
          "metadata": {
            "tags": [],
            "needs_background": "light"
          }
        }
      ]
    },
    {
      "cell_type": "code",
      "metadata": {
        "colab": {
          "base_uri": "https://localhost:8080/",
          "height": 442
        },
        "id": "r0h67dT-fy22",
        "outputId": "994b6659-d719-451a-a9f5-72df4f1d88aa"
      },
      "source": [
        "plt.figure(figsize=(10, 7))\n",
        "offset = 300\n",
        "plot_time_series(timesteps=X_test, values=y_test, label=\"Test data\")\n",
        "plot_time_series(timesteps=X_test[1:], values=naive_forecast, format=\"-\", start=offset, label=\"Naive Forecast\");"
      ],
      "execution_count": 19,
      "outputs": [
        {
          "output_type": "display_data",
          "data": {
            "image/png": "[encoded data removed]",
            "text/plain": [
              "<Figure size 720x504 with 1 Axes>"
            ]
          },
          "metadata": {
            "tags": [],
            "needs_background": "light"
          }
        }
      ]
    },
    {
      "cell_type": "markdown",
      "metadata": {
        "id": "oJozFpSelMuI"
      },
      "source": [
        "## Evaluating a time series model\n",
        "\n",
        "Let's look into some evaluation metrics for time series forecasting.\n",
        "\n",
        "What are we doing?\n",
        "\n",
        "We're predicting a number, so that means we have a form of a regression problem.\n",
        "\n",
        "Because we're working on a regression problem, we'll need some regression-like metrics.\n",
        "\n",
        "A few common regression metrics (which can also be used for time series forecasting):\n",
        "\n",
        "* MAE - mean absolute error\n",
        "* MSE - mean squared error\n",
        "* RMSE - root mean square error\n",
        "* MAPE/sMAPE - (symmetric) mean absolute percentage error\n",
        "* MASE - mean absolute scaled error\n",
        "\n",
        "For all of the above metrics, lower is better, for example, an MAE of 0 that is better than an MAE of 100.\n",
        "\n",
        "The main thing we're evaluating here is: **how do our model's forecasts (y_pred) compare against the actual values (y_true or ground truth values)?**\n",
        "\n",
        "> 📖 **Resource:** for a deeper dive on the various kinds of time series forecasting methods [Forecasting: Principles and Practice chapter 5.8](https://otexts.com/fpp3/accuracy.html)"
      ]
    },
    {
      "cell_type": "markdown",
      "metadata": {
        "id": "V6L07DWhklET"
      },
      "source": [
        "<div class=\"md-typeset__table\"><table>\n",
        "<thead><tr>\n",
        "<th>Metric</th>\n",
        "<th>Details</th>\n",
        "<th>Code</th>\n",
        "</tr>\n",
        "</thead>\n",
        "<tbody>\n",
        "<tr>\n",
        "<td><strong>MAE</strong> (mean absolute error)</td>\n",
        "<td>Easy to interpret (a forecast is X amount different from actual amount). Forecast methods which minimises the MAE will lead to forecasts of the median.</td>\n",
        "<td><a href=\"https://www.tensorflow.org/api_docs/python/tf/keras/metrics/MeanAbsoluteError\"><code>tf.keras.metrics.mean_absolute_error()</code></a></td>\n",
        "</tr>\n",
        "<tr>\n",
        "<td><strong>RMSE</strong> (root mean square error)</td>\n",
        "<td>Forecasts which minimise the RMSE lead to forecasts of the mean.</td>\n",
        "<td><code>tf.sqrt(</code><a href=\"https://www.tensorflow.org/api_docs/python/tf/keras/metrics/RootMeanSquaredError\"><code>tf.keras.metrics.mean_square_error()</code></a><code>)</code></td>\n",
        "</tr>\n",
        "</tbody>\n",
        "</table></div>\n",
        "\n",
        "<div class=\"md-typeset__table\"><table>\n",
        "<thead><tr>\n",
        "<th><strong>Metric</strong></th>\n",
        "<th><strong>Details</strong></th>\n",
        "<th><strong>Code</strong></th>\n",
        "</tr>\n",
        "</thead>\n",
        "<tbody>\n",
        "<tr>\n",
        "<td><strong>MAPE</strong> (mean absolute percentage error)</td>\n",
        "<td>Most commonly used percentage error. May explode (not work) if <code>y=0</code>.</td>\n",
        "<td><a href=\"https://www.tensorflow.org/api_docs/python/tf/keras/losses/MAPE\"><code>tf.keras.metrics.mean_absolute_percentage_error()</code></a></td>\n",
        "</tr>\n",
        "<tr>\n",
        "<td><strong>sMAPE</strong> (symmetric mean absolute percentage error)</td>\n",
        "<td>Recommended not to be used by <a href=\"https://otexts.com/fpp3/accuracy.html#percentage-errors\">Forecasting: Principles and Practice</a>, though it is used in forecasting competitions.</td>\n",
        "<td>Custom implementation</td>\n",
        "</tr>\n",
        "</tbody>\n",
        "</table></div>"
      ]
    },
    {
      "cell_type": "markdown",
      "metadata": {
        "id": "qUKtv7CtmcoV"
      },
      "source": [
        "<div class=\"md-typeset__scrollwrap\"><div class=\"md-typeset__table\"><table>\n",
        "<thead><tr>\n",
        "<th><strong>Metric</strong></th>\n",
        "<th><strong>Details</strong></th>\n",
        "<th><strong>Code</strong></th>\n",
        "</tr>\n",
        "</thead>\n",
        "<tbody>\n",
        "<tr>\n",
        "<td><strong>MASE</strong> (mean absolute scaled error).</td>\n",
        "<td>MASE equals one for the naive forecast (or very close to one). A forecast which performs better than the naïve should get &lt;1 MASE.</td>\n",
        "<td>See sktime's <a href=\"https://github.com/alan-turing-institute/sktime/blob/ee7a06843a44f4aaec7582d847e36073a9ab0566/sktime/performance_metrics/forecasting/_functions.py#L16\"><code>mase_loss()</code></a></td>\n",
        "</tr>\n",
        "</tbody>\n",
        "</table></div></div>"
      ]
    },
    {
      "cell_type": "code",
      "metadata": {
        "id": "oTT084tTm97N"
      },
      "source": [
        "import tensorflow as tf\n"
      ],
      "execution_count": 20,
      "outputs": []
    },
    {
      "cell_type": "markdown",
      "metadata": {
        "id": "cTALBdh13nPP"
      },
      "source": [
        "We'll take inspiration from [sktime's](https://github.com/alan-turing-institute/sktime) (Scikit-Learn for time series) [mase_loss()](https://www.sktime.org/en/latest/api_reference/modules/auto_generated/sktime.performance_metrics.forecasting.MeanAbsoluteScaledError.html#sktime.performance_metrics.forecasting.MeanAbsoluteScaledError) function which calculates the MASE."
      ]
    },
    {
      "cell_type": "code",
      "metadata": {
        "id": "MKOWV5ic1ahr"
      },
      "source": [
        "# MASE implementation\n",
        "def mean_absolute_scaled_error(y_true, y_pred):\n",
        "  \"\"\"\n",
        "  Implement MASE (assuming no seasonality of data).\n",
        "  \"\"\"\n",
        "  mae = tf.reduce_mean(tf.abs(y_true-y_pred))\n",
        "\n",
        "  #Find MAE of naive forecast (no seasonality)\n",
        "  mae_naive_no_season = tf.reduce_mean(tf.abs(y_true[1:] - y_true[:-1])) # our seasonality is 1 day (hence the shifting of day 1)\n",
        "\n",
        "  return mae / mae_naive_no_season"
      ],
      "execution_count": 21,
      "outputs": []
    },
    {
      "cell_type": "code",
      "metadata": {
        "colab": {
          "base_uri": "https://localhost:8080/"
        },
        "id": "IoI2V-Am3czK",
        "outputId": "152e1ea4-a5cc-4518-8c4a-ef0945bed753"
      },
      "source": [
        "mean_absolute_scaled_error(y_true=y_test[1:], y_pred=naive_forecast).numpy()"
      ],
      "execution_count": 22,
      "outputs": [
        {
          "output_type": "execute_result",
          "data": {
            "text/plain": [
              "0.9995699939182624"
            ]
          },
          "metadata": {
            "tags": []
          },
          "execution_count": 22
        }
      ]
    },
    {
      "cell_type": "markdown",
      "metadata": {
        "id": "tnufHOD05XNO"
      },
      "source": [
        "In practice, if we've created the function correctly, the naïve model should achieve an MASE of 1 (or very close to 1). Any model worse than the naïve forecast will achieve an MASE of >1 and any model better than the naïve forecast will achieve an MASE of <1."
      ]
    },
    {
      "cell_type": "code",
      "metadata": {
        "id": "oPasGdCC4RIZ"
      },
      "source": [
        "# Create a function to take in model predictions and truth values and retruen evaluation \n",
        "def evaluate_preds(y_true, y_pred):\n",
        " # Make sure float32 (for metric calculation)\n",
        " y_true = tf.cast(y_true, dtype=tf.float32)\n",
        " y_pred = tf.cast(y_pred, dtype=tf.float32)\n",
        "\n",
        " # Calculate various evaluation metrics\n",
        " mae = tf.metrics.mean_absolute_error(y_true, y_pred)\n",
        " mse = tf.metrics.mean_squared_error(y_true, y_pred)\n",
        " rmse = tf.sqrt(mse)\n",
        " mape = tf.metrics.mean_absolute_percentage_error(y_true, y_pred)\n",
        " mase = mean_absolute_scaled_error(y_true, y_pred)\n",
        "\n",
        "# Return a dictionary\n",
        " return {\"mae\": mae.numpy(),\n",
        "         \"mse\": mse.numpy(),\n",
        "         \"rmse\": rmse.numpy(),\n",
        "         \"mape\": mape.numpy(),\n",
        "         \"mase\": mase.numpy()}\n"
      ],
      "execution_count": 23,
      "outputs": []
    },
    {
      "cell_type": "markdown",
      "metadata": {
        "id": "Lj3xaNfT9m6b"
      },
      "source": [
        "That's one good looking evaluation function!\n",
        "\n",
        "Let's now see if it works..."
      ]
    },
    {
      "cell_type": "code",
      "metadata": {
        "colab": {
          "base_uri": "https://localhost:8080/"
        },
        "id": "Rdriv7qF7r3v",
        "outputId": "b331ceeb-5c18-42a0-e761-b7abc34a157b"
      },
      "source": [
        "naive_results = evaluate_preds(y_true=y_test[1:],\n",
        "                               y_pred=naive_forecast)\n",
        "naive_results"
      ],
      "execution_count": 24,
      "outputs": [
        {
          "output_type": "execute_result",
          "data": {
            "text/plain": [
              "{'mae': 567.9802,\n",
              " 'mape': 2.516525,\n",
              " 'mase': 0.99957,\n",
              " 'mse': 1147547.0,\n",
              " 'rmse': 1071.2362}"
            ]
          },
          "metadata": {
            "tags": []
          },
          "execution_count": 24
        }
      ]
    },
    {
      "cell_type": "markdown",
      "metadata": {
        "id": "GBySgwca-Lif"
      },
      "source": [
        "Alright, looks like we've got some baselines to beat.\n",
        "\n",
        "Taking a look at the naïve forecast's MAE, it seems on average each forecast is ~$567 different than the actual Bitcoin price.\n",
        "\n",
        "How does this compare to the average price of Bitcoin in the test dataset?"
      ]
    },
    {
      "cell_type": "code",
      "metadata": {
        "colab": {
          "base_uri": "https://localhost:8080/"
        },
        "id": "uf6mzCq_8QH-",
        "outputId": "c8ff03a5-0ef2-4943-b3d4-e28aa85ee9fc"
      },
      "source": [
        "naive_forecast[-10:]"
      ],
      "execution_count": 25,
      "outputs": [
        {
          "output_type": "execute_result",
          "data": {
            "text/plain": [
              "array([57107.12067189, 58788.20967893, 58102.19142623, 55715.54665129,\n",
              "       56573.5554719 , 52147.82118698, 49764.1320816 , 50032.69313676,\n",
              "       47885.62525472, 45604.61575361])"
            ]
          },
          "metadata": {
            "tags": []
          },
          "execution_count": 25
        }
      ]
    },
    {
      "cell_type": "code",
      "metadata": {
        "colab": {
          "base_uri": "https://localhost:8080/"
        },
        "id": "NWiKn_4Q-EDq",
        "outputId": "2da9c2e4-4c3c-4ea9-a936-c7b030e51549"
      },
      "source": [
        "tf.reduce_mean(y_test)"
      ],
      "execution_count": 26,
      "outputs": [
        {
          "output_type": "execute_result",
          "data": {
            "text/plain": [
              "<tf.Tensor: shape=(), dtype=float64, numpy=20056.632963737226>"
            ]
          },
          "metadata": {
            "tags": []
          },
          "execution_count": 26
        }
      ]
    },
    {
      "cell_type": "code",
      "metadata": {
        "colab": {
          "base_uri": "https://localhost:8080/"
        },
        "id": "Fi2YZsah-YSl",
        "outputId": "07b80dd2-c78f-47b0-8367-82af55dcaa53"
      },
      "source": [
        "tf.reduce_min(y_test), tf.reduce_max(y_test)"
      ],
      "execution_count": 27,
      "outputs": [
        {
          "output_type": "execute_result",
          "data": {
            "text/plain": [
              "(<tf.Tensor: shape=(), dtype=float64, numpy=4944.7023359837>,\n",
              " <tf.Tensor: shape=(), dtype=float64, numpy=63346.7890351052>)"
            ]
          },
          "metadata": {
            "tags": []
          },
          "execution_count": 27
        }
      ]
    },
    {
      "cell_type": "markdown",
      "metadata": {
        "id": "qIijZStG-3KZ"
      },
      "source": [
        "Okay, looking at these two values is starting to give us an idea of how our model is performing:\n",
        "\n",
        "* The average price of Bitcoin in the test dataset is: $20,056 (note: average may not be the best measure here, since the highest price is over 3x this value and the lowest price is over 4x lower)\n",
        "\n",
        "* Each prediction in naive forecast is on average off by: $567\n",
        "\n",
        "Is this enough to say it's a good model?\n",
        "\n",
        "That's up your own interpretation. Personally, I'd prefer a model which was closer to the mark"
      ]
    },
    {
      "cell_type": "markdown",
      "metadata": {
        "id": "Tvme3QhrBxYE"
      },
      "source": [
        "## Other models you can use for baseline and for actual forecasts\n",
        "\n",
        "In this notebook, we're focused on TensorFlow and deep learning models.\n",
        "\n",
        "However, there are plenty of other styles of time series forcasting models you may want to experiment with: https://dev.mrdbourke.com/tensorflow-deep-learning/10_time_series_forecasting_in_tensorflow/#other-kinds-of-time-series-forecasting-models-which-can-be-used-for-baselines-and-actual-forecasts"
      ]
    },
    {
      "cell_type": "markdown",
      "metadata": {
        "id": "bR9mzM50-fL3"
      },
      "source": [
        "## Formate Data Part 2: Windowing our dataset \n",
        "\n",
        "Why do we window?\n",
        "\n",
        "We window our time series dataset to turn our data into a supervised learning problem.\n",
        "\n",
        "In other words, we want to use windows of the past to predict the future.\n",
        "\n",
        "For example for a univariate time series, windowing for one week (window=7) to predict the next single value (horizon=1) might look like:\n",
        "\n",
        "```\n",
        "Window for one week (univariate time series)\n",
        "\n",
        "[0, 1, 2, 3, 4, 5, 6] -> [7]\n",
        "[1, 2, 3, 4, 5, 6, 7] -> [8]\n",
        "[2, 3, 4, 5, 6, 7, 8] -> [9]\n",
        "```\n",
        "\n",
        "<img src=\"https://raw.githubusercontent.com/mrdbourke/tensorflow-deep-learning/main/images/10-time-series-windows-and-horizons.png\" alt=\"windows and horizons for turning time series data into a supervised learning problem\">"
      ]
    },
    {
      "cell_type": "code",
      "metadata": {
        "colab": {
          "base_uri": "https://localhost:8080/"
        },
        "id": "iGKa4zxkMzQN",
        "outputId": "92f17cbc-c1a7-404d-fead-0b710f5aa585"
      },
      "source": [
        "# What we want to do with our Bitcoin data\n",
        "print(f\"We want to use: {btc_price[:7]} to predict this: {btc_price[7]}\")"
      ],
      "execution_count": 28,
      "outputs": [
        {
          "output_type": "stream",
          "text": [
            "We want to use: [123.65499, 125.455, 108.58483, 118.67466, 121.33866, 120.65533, 121.795] to predict this: 123.033\n"
          ],
          "name": "stdout"
        }
      ]
    },
    {
      "cell_type": "code",
      "metadata": {
        "id": "auqzLG0zOC-E"
      },
      "source": [
        "# Let's setup global variables for window and horizon size\n",
        "HORIZON = 1 # predict next one day\n",
        "WINDOW_SIZE = 7 # use a past worth of Bitcon data to make the prediction"
      ],
      "execution_count": 29,
      "outputs": []
    },
    {
      "cell_type": "code",
      "metadata": {
        "id": "F3vDl_MtOTWT"
      },
      "source": [
        "# Create function to label windowed data\n",
        "def get_labelled_windows(x, horizon=HORIZON):\n",
        "  \"\"\"\n",
        "  Create labels for window dataset.\n",
        "\n",
        "  e.g. if horizon=1\n",
        "  input: [0, 1, 2, 3, 4, 5, 6, 7] -> Output: ([1, 2, 3, 4, 6], [7])\n",
        "  \"\"\"\n",
        "  return x[:, :-horizon], x[:, -horizon:]"
      ],
      "execution_count": 30,
      "outputs": []
    },
    {
      "cell_type": "code",
      "metadata": {
        "colab": {
          "base_uri": "https://localhost:8080/"
        },
        "id": "xBMyHrsSPD_e",
        "outputId": "0ebf62e2-6e30-4939-efe0-97a43017b5cf"
      },
      "source": [
        "# Test out the window labelling function\n",
        "test_window, test_label = get_labelled_windows(tf.expand_dims(tf.range(8), axis=0), horizon=HORIZON)\n",
        "print(f\"Window: {tf.squeeze(test_window).numpy()} -> Label: {tf.squeeze(test_label).numpy()}\")"
      ],
      "execution_count": 31,
      "outputs": [
        {
          "output_type": "stream",
          "text": [
            "Window: [0 1 2 3 4 5 6] -> Label: 7\n"
          ],
          "name": "stdout"
        }
      ]
    },
    {
      "cell_type": "markdown",
      "metadata": {
        "id": "kJivHtKaQP_4"
      },
      "source": [
        "We've got a eay to label our windowed data.\n",
        "\n",
        "However, this only works on a small scale.\n",
        "\n",
        "We need a way to do the above across our entire time series.\n",
        "\n",
        "To speed thihgs up, we'll leverage [Numpy's array indexing.](https://numpy.org/doc/stable/reference/arrays.indexing.html)\n",
        "\n",
        "Let's write a function which:\n",
        "\n",
        "1. Creates a window step of specific window size, for example: [[0, 1, 2, 3, 4, 5, 6, 7]]\n",
        "2. Uses NumPy indexing to create a 2D of multiple window steps, for example:\n",
        "```\n",
        "[[0, 1, 2, 3, 4, 5, 6, 7],\n",
        "[1, 2, 3, 4, 5, 6, 7, 8],\n",
        "[2, 3, 4, 5, 6, 7, 8, 9]]\n",
        "```\n",
        "\n",
        "3. Uses the 2D array of multuple window steps (from 2.) to index on a target series (e.g. the historical price of Bitcoin)\n",
        "4. Uses the `get_labelled_windows()` function we created above to turn the window steps into windows with a specified horizon\n",
        "\n",
        "> 📖 Resource: The function created below has been adapted from Syafiq Kamarul Azman's article Fast and Robust Sliding Window [Vectorization with NumPy](https://towardsdatascience.com/fast-and-robust-sliding-window-vectorization-with-numpy-3ad950ed62f5)."
      ]
    },
    {
      "cell_type": "code",
      "metadata": {
        "id": "CZZu_4p-Tq3U"
      },
      "source": [
        "import numpy as np\n",
        "\n",
        "# Create function to view NumPy arrays as windows\n",
        "def make_windows(x, window_size=WINDOW_SIZE, horizon=HORIZON):\n",
        "  \"\"\"\n",
        "  Turns a 1D array into a 2D array of sequential labelled windows of \n",
        "  window_size with horizon size labels.\n",
        "  \"\"\"\n",
        "  # 1. Create a window of specific window_size (add the horizon on the end for labelling later)\n",
        "  window_step = np.expand_dims(np.arange(window_size+horizon), axis=0)\n",
        "\n",
        "  # 2. Create a 2D array of multiple window steps (minus 1 to account for 0 indexing)\n",
        "  window_indexes = window_step + np.expand_dims(np.arange(len(x)-(window_size+horizon-1)), axis=0).T \n",
        "  # create 2D array of windows of size window_size\n",
        "  # print(f\"Window indexes:\\n {window_indexes[:3], window_indexes[-3:], window_indexes.shape}\")\n",
        "\n",
        "  # 3. Index on the target array (time series) with 2D array of multiple window steps\n",
        "  windowed_array = x[window_indexes]\n",
        "\n",
        "  # 4. Get the labelled windows\n",
        "  windows, labels = get_labelled_windows(windowed_array, horizon=horizon)\n",
        "\n",
        "  return windows, labels\n"
      ],
      "execution_count": 32,
      "outputs": []
    },
    {
      "cell_type": "code",
      "metadata": {
        "colab": {
          "base_uri": "https://localhost:8080/"
        },
        "id": "wQQDDKtHYjQA",
        "outputId": "30e35bc7-6761-4a5d-b118-6d4b403a24b4"
      },
      "source": [
        "full_windows, full_labels = make_windows(prices, window_size=WINDOW_SIZE, horizon=HORIZON)\n",
        "len(full_windows), len(full_labels)"
      ],
      "execution_count": 33,
      "outputs": [
        {
          "output_type": "execute_result",
          "data": {
            "text/plain": [
              "(2780, 2780)"
            ]
          },
          "metadata": {
            "tags": []
          },
          "execution_count": 33
        }
      ]
    },
    {
      "cell_type": "code",
      "metadata": {
        "colab": {
          "base_uri": "https://localhost:8080/"
        },
        "id": "yI4EnJv3XIS3",
        "outputId": "4b8e70a3-5022-4907-e817-f4ad87f17c71"
      },
      "source": [
        "# View the first 3 windows/labels\n",
        "for i in range(3):\n",
        "  print(f\"Window: {full_windows[i]} -> Label: {full_labels[i]}\")"
      ],
      "execution_count": 34,
      "outputs": [
        {
          "output_type": "stream",
          "text": [
            "Window: [123.65499 125.455   108.58483 118.67466 121.33866 120.65533 121.795  ] -> Label: [123.033]\n",
            "Window: [125.455   108.58483 118.67466 121.33866 120.65533 121.795   123.033  ] -> Label: [124.049]\n",
            "Window: [108.58483 118.67466 121.33866 120.65533 121.795   123.033   124.049  ] -> Label: [125.96116]\n"
          ],
          "name": "stdout"
        }
      ]
    },
    {
      "cell_type": "markdown",
      "metadata": {
        "id": "RrhKqU9ZgUQN"
      },
      "source": [
        "Notice the default split of 80% training data and 20% testing data (this split can be adjusted if needed).\n",
        "\n",
        "How do the first 5 samples of the training windows and labels looks?"
      ]
    },
    {
      "cell_type": "code",
      "metadata": {
        "colab": {
          "base_uri": "https://localhost:8080/"
        },
        "id": "Fy8YLMKkg_SS",
        "outputId": "80484044-b27a-4215-d9ec-e6b2b636bbcc"
      },
      "source": [
        "# View the last 3 windows/labels\n",
        "for i in range(3):\n",
        "  print(f\"Window: {full_windows[i-3]} -> Label: {full_labels[i-3 ]}\")"
      ],
      "execution_count": 35,
      "outputs": [
        {
          "output_type": "stream",
          "text": [
            "Window: [58788.20967893 58102.19142623 55715.54665129 56573.5554719\n",
            " 52147.82118698 49764.1320816  50032.69313676] -> Label: [47885.62525472]\n",
            "Window: [58102.19142623 55715.54665129 56573.5554719  52147.82118698\n",
            " 49764.1320816  50032.69313676 47885.62525472] -> Label: [45604.61575361]\n",
            "Window: [55715.54665129 56573.5554719  52147.82118698 49764.1320816\n",
            " 50032.69313676 47885.62525472 45604.61575361] -> Label: [43144.47129086]\n"
          ],
          "name": "stdout"
        }
      ]
    },
    {
      "cell_type": "markdown",
      "metadata": {
        "id": "AzfXSJc2hisr"
      },
      "source": [
        "> 🔑 **Note:** There's a function which does similar to the above in tf.keras.perprocessing, an extension could be to try and replicate what we'be done using the premade function: https://www.tensorflow.org/api_docs/python/tf/keras/preprocessing/timeseries_dataset_from_array"
      ]
    },
    {
      "cell_type": "markdown",
      "metadata": {
        "id": "--kTOj2mhrdN"
      },
      "source": [
        "### Turning windows into training and test sets"
      ]
    },
    {
      "cell_type": "code",
      "metadata": {
        "id": "VYyOfTWpi4MT"
      },
      "source": [
        "# Make train/test set\n",
        "def make_train_test_splits(windows, labels, test_split=0.2):\n",
        "  \"\"\"\n",
        "  Splits matching pairs of windows and labels into train and test splits.\n",
        "  \"\"\"\n",
        "  split_size = int(len(windows) * (1-test_split)) # this will default to 80% train/20% test split\n",
        "  train_windows = windows[:split_size]\n",
        "  train_labels = labels[:split_size]\n",
        "  test_windows = windows[split_size:]\n",
        "  test_labels = labels[split_size:]\n",
        "  return train_windows, test_windows, train_labels, test_labels \n"
      ],
      "execution_count": 36,
      "outputs": []
    },
    {
      "cell_type": "code",
      "metadata": {
        "colab": {
          "base_uri": "https://localhost:8080/"
        },
        "id": "EC6FJkh7kgkD",
        "outputId": "a010b402-6770-4b36-e940-fccc449163cb"
      },
      "source": [
        "# Create train and test windows\n",
        "train_windows, test_windows, train_labels, test_labels = make_train_test_splits(full_windows, full_labels)\n",
        "len(train_windows), len(test_windows), len(train_labels), len(test_labels)"
      ],
      "execution_count": 37,
      "outputs": [
        {
          "output_type": "execute_result",
          "data": {
            "text/plain": [
              "(2224, 556, 2224, 556)"
            ]
          },
          "metadata": {
            "tags": []
          },
          "execution_count": 37
        }
      ]
    },
    {
      "cell_type": "code",
      "metadata": {
        "colab": {
          "base_uri": "https://localhost:8080/"
        },
        "id": "GKU-GNsqkrrf",
        "outputId": "4c86c07e-a2ec-404b-9a96-66f4b82cec19"
      },
      "source": [
        "train_windows[:5], train_labels[:5]"
      ],
      "execution_count": 38,
      "outputs": [
        {
          "output_type": "execute_result",
          "data": {
            "text/plain": [
              "(array([[123.65499, 125.455  , 108.58483, 118.67466, 121.33866, 120.65533,\n",
              "         121.795  ],\n",
              "        [125.455  , 108.58483, 118.67466, 121.33866, 120.65533, 121.795  ,\n",
              "         123.033  ],\n",
              "        [108.58483, 118.67466, 121.33866, 120.65533, 121.795  , 123.033  ,\n",
              "         124.049  ],\n",
              "        [118.67466, 121.33866, 120.65533, 121.795  , 123.033  , 124.049  ,\n",
              "         125.96116],\n",
              "        [121.33866, 120.65533, 121.795  , 123.033  , 124.049  , 125.96116,\n",
              "         125.27966]]), array([[123.033  ],\n",
              "        [124.049  ],\n",
              "        [125.96116],\n",
              "        [125.27966],\n",
              "        [125.9275 ]]))"
            ]
          },
          "metadata": {
            "tags": []
          },
          "execution_count": 38
        }
      ]
    },
    {
      "cell_type": "code",
      "metadata": {
        "colab": {
          "base_uri": "https://localhost:8080/"
        },
        "id": "QQ2rcWSQlkQe",
        "outputId": "95da80a2-5592-4177-d997-b313e9195471"
      },
      "source": [
        "\n",
        "test_windows[:5], test_labels[:5]"
      ],
      "execution_count": 39,
      "outputs": [
        {
          "output_type": "execute_result",
          "data": {
            "text/plain": [
              "(array([[9290.89660239, 9202.41545055, 9369.62808116, 9326.59962378,\n",
              "         9335.75240233, 9226.48582088, 8794.35864452],\n",
              "        [9202.41545055, 9369.62808116, 9326.59962378, 9335.75240233,\n",
              "         9226.48582088, 8794.35864452, 8798.04205463],\n",
              "        [9369.62808116, 9326.59962378, 9335.75240233, 9226.48582088,\n",
              "         8794.35864452, 8798.04205463, 9081.18687849],\n",
              "        [9326.59962378, 9335.75240233, 9226.48582088, 8794.35864452,\n",
              "         8798.04205463, 9081.18687849, 8711.53433917],\n",
              "        [9335.75240233, 9226.48582088, 8794.35864452, 8798.04205463,\n",
              "         9081.18687849, 8711.53433917, 8760.89271814]]),\n",
              " array([[8798.04205463],\n",
              "        [9081.18687849],\n",
              "        [8711.53433917],\n",
              "        [8760.89271814],\n",
              "        [8749.52059102]]))"
            ]
          },
          "metadata": {
            "tags": []
          },
          "execution_count": 39
        }
      ]
    },
    {
      "cell_type": "code",
      "metadata": {
        "colab": {
          "base_uri": "https://localhost:8080/"
        },
        "id": "nQCg5ywNl9FI",
        "outputId": "4387f661-855a-4d15-f309-5906871e923a"
      },
      "source": [
        "# Check to see if same (accounting for horizon and window size)\n",
        "np.array_equal(np.squeeze(train_labels[:-HORIZON-1]), y_train[WINDOW_SIZE:])"
      ],
      "execution_count": 40,
      "outputs": [
        {
          "output_type": "execute_result",
          "data": {
            "text/plain": [
              "True"
            ]
          },
          "metadata": {
            "tags": []
          },
          "execution_count": 40
        }
      ]
    },
    {
      "cell_type": "markdown",
      "metadata": {
        "id": "PPWP78TqmH5o"
      },
      "source": [
        "## Make a modelling checkpoint callback\n",
        "\n",
        "Because our model's performance will fluctuate from experiment to experiment, we're going to write a model checkpoint so we can compare apples to apples.\n",
        "\n",
        "More specifically, we want to comapre each of our model's best performances against the other model's best performance.\n",
        "\n",
        "For example if our model perfomrs the best on epoch 55 (but we're training for 100 epochs), we want to load and evaluate the model saved on epoch 55.\n",
        "\n",
        "We can create a modelling checkpoint callback using the following: https://www.tensorflow.org/api_docs/python/tf/keras/callbacks/ModelCheckpoint"
      ]
    },
    {
      "cell_type": "code",
      "metadata": {
        "id": "28hRLN0keg6H"
      },
      "source": [
        "import os\n",
        "\n",
        "# Create a function to implement a ModelCheckpoint callback with a specific filename\n",
        "def create_model_checkpoint(model_name, save_path=\"model_experiments\"):\n",
        "  return tf.keras.callbacks.ModelCheckpoint(filepath=os.path.join(save_path, model_name),\n",
        "                                            monitor=\"val_loss\",\n",
        "                                            verbose=0,\n",
        "                                            save_best_only=True) # only output a limited amount of text"
      ],
      "execution_count": 41,
      "outputs": []
    },
    {
      "cell_type": "markdown",
      "metadata": {
        "id": "amNUwkX0gUBF"
      },
      "source": [
        "## Model 1: Dense model (window = 1, horizon =1)\n",
        "\n",
        "Our first deep model is going to be a simple dense model:\n",
        "* A single dense layer with 128 hidden units and ReLU\n",
        "* An output layer with linear activation (no activation)\n",
        "* Adam optimization and MAE loss function\n",
        "* Batch size of 128 (previousl we've used 32)\n",
        "* 100 epochs\n",
        "\n",
        "Why these values?\n",
        "\n",
        "I picked them out of experimentation. \n",
        "* **Hyperparameters** = values a maching learning practitioner (you!) can adjust themselves\n",
        "* **Paramerters** = values a model learns on its own"
      ]
    },
    {
      "cell_type": "code",
      "metadata": {
        "colab": {
          "base_uri": "https://localhost:8080/"
        },
        "id": "sgNxY2iKiOmu",
        "outputId": "5f301fea-7881-49e0-fb5e-a6a77878b10f"
      },
      "source": [
        "import tensorflow as tf\n",
        "from tensorflow.keras import layers\n",
        "\n",
        "# Set random seed for as reproducible results as possible\n",
        "tf.random.set_seed(42)\n",
        "\n",
        "# 1. Construct model\n",
        "model_1 = tf.keras.Sequential([\n",
        "  layers. Dense(128, activation=\"relu\"),\n",
        "  layers.Dense(HORIZON, activation=\"linear\") # linear activation is the same as having no activation\n",
        "], name=\"model_1_dense\") # name our model so we can save it\n",
        "\n",
        "# 2. Compile\n",
        "model_1.compile(loss=\"mae\",\n",
        "                optimizer=tf.keras.optimizers.Adam(),\n",
        "                metrics=[\"mae\", \"mse\"])\n",
        "\n",
        "# 3. Fit the model\n",
        "model_1.fit(x=train_windows,\n",
        "           y=train_labels,\n",
        "           epochs=100,\n",
        "           verbose=1, \n",
        "           batch_size=128,\n",
        "           validation_data=(test_windows, test_labels),\n",
        "           callbacks=[create_model_checkpoint(model_name=model_1.name)])"
      ],
      "execution_count": 42,
      "outputs": [
        {
          "output_type": "stream",
          "text": [
            "Epoch 1/100\n",
            "18/18 [==============================] - 3s 12ms/step - loss: 780.3455 - mae: 780.3455 - mse: 2312725.7500 - val_loss: 2279.6528 - val_mae: 2279.6528 - val_mse: 12772731.0000\n",
            "INFO:tensorflow:Assets written to: model_experiments/model_1_dense/assets\n",
            "Epoch 2/100\n",
            "18/18 [==============================] - 0s 4ms/step - loss: 247.6756 - mae: 247.6756 - mse: 285481.1875 - val_loss: 1005.9993 - val_mae: 1005.9993 - val_mse: 3441833.2500\n",
            "INFO:tensorflow:Assets written to: model_experiments/model_1_dense/assets\n",
            "Epoch 3/100\n",
            "18/18 [==============================] - 0s 4ms/step - loss: 188.4116 - mae: 188.4116 - mse: 171891.6094 - val_loss: 923.2862 - val_mae: 923.2861 - val_mse: 2868220.7500\n",
            "INFO:tensorflow:Assets written to: model_experiments/model_1_dense/assets\n",
            "Epoch 4/100\n",
            "18/18 [==============================] - 0s 3ms/step - loss: 169.4340 - mae: 169.4340 - mse: 151700.5781 - val_loss: 900.5872 - val_mae: 900.5872 - val_mse: 2683715.5000\n",
            "INFO:tensorflow:Assets written to: model_experiments/model_1_dense/assets\n",
            "Epoch 5/100\n",
            "18/18 [==============================] - 0s 3ms/step - loss: 165.0894 - mae: 165.0894 - mse: 145490.7812 - val_loss: 895.2237 - val_mae: 895.2237 - val_mse: 2564574.5000\n",
            "INFO:tensorflow:Assets written to: model_experiments/model_1_dense/assets\n",
            "Epoch 6/100\n",
            "18/18 [==============================] - 0s 3ms/step - loss: 158.5210 - mae: 158.5210 - mse: 133817.7344 - val_loss: 855.1984 - val_mae: 855.1984 - val_mse: 2481873.2500\n",
            "INFO:tensorflow:Assets written to: model_experiments/model_1_dense/assets\n",
            "Epoch 7/100\n",
            "18/18 [==============================] - 0s 4ms/step - loss: 151.3566 - mae: 151.3566 - mse: 123446.9766 - val_loss: 840.9166 - val_mae: 840.9166 - val_mse: 2276451.5000\n",
            "INFO:tensorflow:Assets written to: model_experiments/model_1_dense/assets\n",
            "Epoch 8/100\n",
            "18/18 [==============================] - 0s 3ms/step - loss: 145.2560 - mae: 145.2560 - mse: 117694.5000 - val_loss: 803.5956 - val_mae: 803.5956 - val_mse: 2140573.5000\n",
            "INFO:tensorflow:Assets written to: model_experiments/model_1_dense/assets\n",
            "Epoch 9/100\n",
            "18/18 [==============================] - 0s 4ms/step - loss: 144.3546 - mae: 144.3546 - mse: 115269.3047 - val_loss: 799.5454 - val_mae: 799.5454 - val_mse: 2049207.7500\n",
            "INFO:tensorflow:Assets written to: model_experiments/model_1_dense/assets\n",
            "Epoch 10/100\n",
            "18/18 [==============================] - 0s 3ms/step - loss: 141.2943 - mae: 141.2943 - mse: 112394.5938 - val_loss: 763.5010 - val_mae: 763.5010 - val_mse: 1933140.7500\n",
            "INFO:tensorflow:Assets written to: model_experiments/model_1_dense/assets\n",
            "Epoch 11/100\n",
            "18/18 [==============================] - 0s 3ms/step - loss: 135.6595 - mae: 135.6595 - mse: 104118.2344 - val_loss: 771.3356 - val_mae: 771.3356 - val_mse: 1885849.7500\n",
            "Epoch 12/100\n",
            "18/18 [==============================] - 0s 3ms/step - loss: 134.1700 - mae: 134.1700 - mse: 101780.8672 - val_loss: 782.8079 - val_mae: 782.8079 - val_mse: 1881727.1250\n",
            "Epoch 13/100\n",
            "18/18 [==============================] - 0s 3ms/step - loss: 134.6015 - mae: 134.6015 - mse: 102345.2266 - val_loss: 784.4449 - val_mae: 784.4449 - val_mse: 1860996.1250\n",
            "Epoch 14/100\n",
            "18/18 [==============================] - 0s 3ms/step - loss: 130.6127 - mae: 130.6127 - mse: 96225.1328 - val_loss: 751.3234 - val_mae: 751.3233 - val_mse: 1749609.0000\n",
            "INFO:tensorflow:Assets written to: model_experiments/model_1_dense/assets\n",
            "Epoch 15/100\n",
            "18/18 [==============================] - 0s 4ms/step - loss: 128.8347 - mae: 128.8347 - mse: 94306.9922 - val_loss: 696.5756 - val_mae: 696.5756 - val_mse: 1606352.3750\n",
            "INFO:tensorflow:Assets written to: model_experiments/model_1_dense/assets\n",
            "Epoch 16/100\n",
            "18/18 [==============================] - 0s 4ms/step - loss: 124.7739 - mae: 124.7739 - mse: 90394.9375 - val_loss: 702.4698 - val_mae: 702.4698 - val_mse: 1592416.2500\n",
            "Epoch 17/100\n",
            "18/18 [==============================] - 0s 3ms/step - loss: 123.4474 - mae: 123.4474 - mse: 89247.7031 - val_loss: 704.9239 - val_mae: 704.9239 - val_mse: 1580782.7500\n",
            "Epoch 18/100\n",
            "18/18 [==============================] - 0s 3ms/step - loss: 122.2105 - mae: 122.2105 - mse: 87607.5938 - val_loss: 667.9724 - val_mae: 667.9724 - val_mse: 1498881.8750\n",
            "INFO:tensorflow:Assets written to: model_experiments/model_1_dense/assets\n",
            "Epoch 19/100\n",
            "18/18 [==============================] - 0s 4ms/step - loss: 121.7263 - mae: 121.7263 - mse: 86632.2422 - val_loss: 718.8796 - val_mae: 718.8796 - val_mse: 1589299.3750\n",
            "Epoch 20/100\n",
            "18/18 [==============================] - 0s 3ms/step - loss: 119.2420 - mae: 119.2420 - mse: 84334.3203 - val_loss: 657.0666 - val_mae: 657.0666 - val_mse: 1447501.1250\n",
            "INFO:tensorflow:Assets written to: model_experiments/model_1_dense/assets\n",
            "Epoch 21/100\n",
            "18/18 [==============================] - 0s 3ms/step - loss: 121.2275 - mae: 121.2275 - mse: 85743.3828 - val_loss: 637.0333 - val_mae: 637.0333 - val_mse: 1401774.2500\n",
            "INFO:tensorflow:Assets written to: model_experiments/model_1_dense/assets\n",
            "Epoch 22/100\n",
            "18/18 [==============================] - 0s 3ms/step - loss: 119.9544 - mae: 119.9544 - mse: 84050.1094 - val_loss: 671.2488 - val_mae: 671.2488 - val_mse: 1447895.7500\n",
            "Epoch 23/100\n",
            "18/18 [==============================] - 0s 4ms/step - loss: 121.9248 - mae: 121.9248 - mse: 83746.1250 - val_loss: 633.3592 - val_mae: 633.3592 - val_mse: 1367377.8750\n",
            "INFO:tensorflow:Assets written to: model_experiments/model_1_dense/assets\n",
            "Epoch 24/100\n",
            "18/18 [==============================] - 0s 3ms/step - loss: 116.3665 - mae: 116.3665 - mse: 81446.6562 - val_loss: 624.4852 - val_mae: 624.4852 - val_mse: 1348960.6250\n",
            "INFO:tensorflow:Assets written to: model_experiments/model_1_dense/assets\n",
            "Epoch 25/100\n",
            "18/18 [==============================] - 0s 3ms/step - loss: 114.6816 - mae: 114.6816 - mse: 78912.8359 - val_loss: 619.7570 - val_mae: 619.7570 - val_mse: 1351089.7500\n",
            "INFO:tensorflow:Assets written to: model_experiments/model_1_dense/assets\n",
            "Epoch 26/100\n",
            "18/18 [==============================] - 0s 3ms/step - loss: 116.4455 - mae: 116.4455 - mse: 79365.5938 - val_loss: 615.6364 - val_mae: 615.6364 - val_mse: 1321514.3750\n",
            "INFO:tensorflow:Assets written to: model_experiments/model_1_dense/assets\n",
            "Epoch 27/100\n",
            "18/18 [==============================] - 0s 3ms/step - loss: 116.5868 - mae: 116.5868 - mse: 78672.9062 - val_loss: 615.9629 - val_mae: 615.9629 - val_mse: 1313077.5000\n",
            "Epoch 28/100\n",
            "18/18 [==============================] - 0s 3ms/step - loss: 113.4691 - mae: 113.4691 - mse: 77440.0938 - val_loss: 608.0921 - val_mae: 608.0921 - val_mse: 1309775.3750\n",
            "INFO:tensorflow:Assets written to: model_experiments/model_1_dense/assets\n",
            "Epoch 29/100\n",
            "18/18 [==============================] - 0s 3ms/step - loss: 113.7598 - mae: 113.7598 - mse: 78506.9531 - val_loss: 621.9305 - val_mae: 621.9305 - val_mse: 1313324.6250\n",
            "Epoch 30/100\n",
            "18/18 [==============================] - 0s 3ms/step - loss: 116.8613 - mae: 116.8613 - mse: 79236.4609 - val_loss: 604.4056 - val_mae: 604.4056 - val_mse: 1283408.0000\n",
            "INFO:tensorflow:Assets written to: model_experiments/model_1_dense/assets\n",
            "Epoch 31/100\n",
            "18/18 [==============================] - 0s 4ms/step - loss: 111.9375 - mae: 111.9375 - mse: 74849.0703 - val_loss: 609.3882 - val_mae: 609.3882 - val_mse: 1284506.2500\n",
            "Epoch 32/100\n",
            "18/18 [==============================] - 0s 3ms/step - loss: 112.4175 - mae: 112.4175 - mse: 77178.5859 - val_loss: 603.0588 - val_mae: 603.0588 - val_mse: 1273059.5000\n",
            "INFO:tensorflow:Assets written to: model_experiments/model_1_dense/assets\n",
            "Epoch 33/100\n",
            "18/18 [==============================] - 0s 3ms/step - loss: 112.6697 - mae: 112.6697 - mse: 75787.9766 - val_loss: 645.6973 - val_mae: 645.6973 - val_mse: 1353255.7500\n",
            "Epoch 34/100\n",
            "18/18 [==============================] - 0s 3ms/step - loss: 111.9867 - mae: 111.9867 - mse: 77245.7266 - val_loss: 604.7634 - val_mae: 604.7634 - val_mse: 1289360.3750\n",
            "Epoch 35/100\n",
            "18/18 [==============================] - 0s 4ms/step - loss: 110.9451 - mae: 110.9451 - mse: 75301.7812 - val_loss: 593.4648 - val_mae: 593.4648 - val_mse: 1250491.3750\n",
            "INFO:tensorflow:Assets written to: model_experiments/model_1_dense/assets\n",
            "Epoch 36/100\n",
            "18/18 [==============================] - 0s 4ms/step - loss: 114.4816 - mae: 114.4816 - mse: 76138.5391 - val_loss: 608.0074 - val_mae: 608.0074 - val_mse: 1269272.3750\n",
            "Epoch 37/100\n",
            "18/18 [==============================] - 0s 3ms/step - loss: 110.2016 - mae: 110.2016 - mse: 74635.3047 - val_loss: 597.2308 - val_mae: 597.2308 - val_mse: 1248474.0000\n",
            "Epoch 38/100\n",
            "18/18 [==============================] - 0s 3ms/step - loss: 112.2372 - mae: 112.2372 - mse: 75821.6953 - val_loss: 637.9798 - val_mae: 637.9798 - val_mse: 1366130.8750\n",
            "Epoch 39/100\n",
            "18/18 [==============================] - 0s 3ms/step - loss: 115.1289 - mae: 115.1289 - mse: 76339.6797 - val_loss: 587.4680 - val_mae: 587.4680 - val_mse: 1233512.3750\n",
            "INFO:tensorflow:Assets written to: model_experiments/model_1_dense/assets\n",
            "Epoch 40/100\n",
            "18/18 [==============================] - 0s 3ms/step - loss: 110.0854 - mae: 110.0854 - mse: 73528.4766 - val_loss: 592.7117 - val_mae: 592.7117 - val_mse: 1251474.6250\n",
            "Epoch 41/100\n",
            "18/18 [==============================] - 0s 5ms/step - loss: 110.6344 - mae: 110.6344 - mse: 73528.7891 - val_loss: 593.8997 - val_mae: 593.8997 - val_mse: 1253678.5000\n",
            "Epoch 42/100\n",
            "18/18 [==============================] - 0s 3ms/step - loss: 113.5762 - mae: 113.5762 - mse: 77076.7031 - val_loss: 636.3674 - val_mae: 636.3674 - val_mse: 1317283.5000\n",
            "Epoch 43/100\n",
            "18/18 [==============================] - 0s 3ms/step - loss: 116.2285 - mae: 116.2285 - mse: 74712.2031 - val_loss: 662.9263 - val_mae: 662.9263 - val_mse: 1419201.7500\n",
            "Epoch 44/100\n",
            "18/18 [==============================] - 0s 3ms/step - loss: 120.0192 - mae: 120.0192 - mse: 80971.8750 - val_loss: 635.6360 - val_mae: 635.6360 - val_mse: 1345999.3750\n",
            "Epoch 45/100\n",
            "18/18 [==============================] - 0s 3ms/step - loss: 110.9675 - mae: 110.9675 - mse: 74941.2891 - val_loss: 601.9926 - val_mae: 601.9926 - val_mse: 1244816.7500\n",
            "Epoch 46/100\n",
            "18/18 [==============================] - 0s 3ms/step - loss: 111.6012 - mae: 111.6012 - mse: 74565.6016 - val_loss: 593.3531 - val_mae: 593.3531 - val_mse: 1248764.3750\n",
            "Epoch 47/100\n",
            "18/18 [==============================] - 0s 3ms/step - loss: 109.6161 - mae: 109.6161 - mse: 74190.7109 - val_loss: 637.0011 - val_mae: 637.0011 - val_mse: 1314970.2500\n",
            "Epoch 48/100\n",
            "18/18 [==============================] - 0s 3ms/step - loss: 109.1368 - mae: 109.1368 - mse: 72792.5547 - val_loss: 598.4197 - val_mae: 598.4197 - val_mse: 1234610.1250\n",
            "Epoch 49/100\n",
            "18/18 [==============================] - 0s 3ms/step - loss: 112.4355 - mae: 112.4355 - mse: 73980.3359 - val_loss: 579.7042 - val_mae: 579.7042 - val_mse: 1208301.8750\n",
            "INFO:tensorflow:Assets written to: model_experiments/model_1_dense/assets\n",
            "Epoch 50/100\n",
            "18/18 [==============================] - 0s 4ms/step - loss: 110.2108 - mae: 110.2108 - mse: 72939.7109 - val_loss: 639.2327 - val_mae: 639.2327 - val_mse: 1347994.1250\n",
            "Epoch 51/100\n",
            "18/18 [==============================] - 0s 3ms/step - loss: 111.0958 - mae: 111.0958 - mse: 73281.9062 - val_loss: 597.3571 - val_mae: 597.3571 - val_mse: 1229791.1250\n",
            "Epoch 52/100\n",
            "18/18 [==============================] - 0s 3ms/step - loss: 110.7351 - mae: 110.7351 - mse: 74529.6328 - val_loss: 580.7227 - val_mae: 580.7227 - val_mse: 1215477.1250\n",
            "Epoch 53/100\n",
            "18/18 [==============================] - 0s 3ms/step - loss: 111.1785 - mae: 111.1785 - mse: 74149.4766 - val_loss: 648.3586 - val_mae: 648.3586 - val_mse: 1336951.1250\n",
            "Epoch 54/100\n",
            "18/18 [==============================] - 0s 4ms/step - loss: 114.0831 - mae: 114.0831 - mse: 74815.0781 - val_loss: 593.2006 - val_mae: 593.2006 - val_mse: 1220661.2500\n",
            "Epoch 55/100\n",
            "18/18 [==============================] - 0s 3ms/step - loss: 110.4910 - mae: 110.4910 - mse: 74711.2500 - val_loss: 579.5067 - val_mae: 579.5067 - val_mse: 1211580.3750\n",
            "INFO:tensorflow:Assets written to: model_experiments/model_1_dense/assets\n",
            "Epoch 56/100\n",
            "18/18 [==============================] - 0s 3ms/step - loss: 108.0488 - mae: 108.0488 - mse: 71844.1562 - val_loss: 807.3853 - val_mae: 807.3853 - val_mse: 1859292.5000\n",
            "Epoch 57/100\n",
            "18/18 [==============================] - 0s 3ms/step - loss: 125.0614 - mae: 125.0614 - mse: 84025.2812 - val_loss: 674.1658 - val_mae: 674.1658 - val_mse: 1437686.8750\n",
            "Epoch 58/100\n",
            "18/18 [==============================] - 0s 3ms/step - loss: 115.4340 - mae: 115.4340 - mse: 73710.7422 - val_loss: 582.2697 - val_mae: 582.2697 - val_mse: 1202679.3750\n",
            "Epoch 59/100\n",
            "18/18 [==============================] - 0s 4ms/step - loss: 110.0881 - mae: 110.0881 - mse: 72845.1172 - val_loss: 606.7640 - val_mae: 606.7640 - val_mse: 1267544.0000\n",
            "Epoch 60/100\n",
            "18/18 [==============================] - 0s 3ms/step - loss: 108.7156 - mae: 108.7156 - mse: 72675.7734 - val_loss: 602.3099 - val_mae: 602.3099 - val_mse: 1234690.0000\n",
            "Epoch 61/100\n",
            "18/18 [==============================] - 0s 3ms/step - loss: 108.1525 - mae: 108.1525 - mse: 72252.1250 - val_loss: 573.9990 - val_mae: 573.9990 - val_mse: 1189583.5000\n",
            "INFO:tensorflow:Assets written to: model_experiments/model_1_dense/assets\n",
            "Epoch 62/100\n",
            "18/18 [==============================] - 0s 3ms/step - loss: 107.3726 - mae: 107.3726 - mse: 70822.7891 - val_loss: 581.7015 - val_mae: 581.7015 - val_mse: 1214006.6250\n",
            "Epoch 63/100\n",
            "18/18 [==============================] - 0s 3ms/step - loss: 110.7667 - mae: 110.7667 - mse: 73178.4453 - val_loss: 637.5243 - val_mae: 637.5243 - val_mse: 1311201.6250\n",
            "Epoch 64/100\n",
            "18/18 [==============================] - 0s 4ms/step - loss: 110.1539 - mae: 110.1539 - mse: 72588.2188 - val_loss: 586.6598 - val_mae: 586.6598 - val_mse: 1207116.3750\n",
            "Epoch 65/100\n",
            "18/18 [==============================] - 0s 3ms/step - loss: 108.2325 - mae: 108.2325 - mse: 71962.0859 - val_loss: 573.5618 - val_mae: 573.5618 - val_mse: 1188986.2500\n",
            "INFO:tensorflow:Assets written to: model_experiments/model_1_dense/assets\n",
            "Epoch 66/100\n",
            "18/18 [==============================] - 0s 3ms/step - loss: 108.6825 - mae: 108.6825 - mse: 71026.3516 - val_loss: 572.2206 - val_mae: 572.2206 - val_mse: 1187818.3750\n",
            "INFO:tensorflow:Assets written to: model_experiments/model_1_dense/assets\n",
            "Epoch 67/100\n",
            "18/18 [==============================] - 0s 4ms/step - loss: 106.6371 - mae: 106.6371 - mse: 70166.2578 - val_loss: 646.6359 - val_mae: 646.6359 - val_mse: 1356393.0000\n",
            "Epoch 68/100\n",
            "18/18 [==============================] - 0s 3ms/step - loss: 114.1603 - mae: 114.1603 - mse: 71297.3203 - val_loss: 681.8572 - val_mae: 681.8572 - val_mse: 1455430.5000\n",
            "Epoch 69/100\n",
            "18/18 [==============================] - 0s 3ms/step - loss: 124.5514 - mae: 124.5514 - mse: 81238.9609 - val_loss: 655.9892 - val_mae: 655.9892 - val_mse: 1383324.6250\n",
            "Epoch 70/100\n",
            "18/18 [==============================] - 0s 3ms/step - loss: 125.0234 - mae: 125.0234 - mse: 83058.2109 - val_loss: 601.0039 - val_mae: 601.0039 - val_mse: 1256963.6250\n",
            "Epoch 71/100\n",
            "18/18 [==============================] - 0s 4ms/step - loss: 110.3652 - mae: 110.3652 - mse: 71691.4922 - val_loss: 595.3957 - val_mae: 595.3957 - val_mse: 1222771.6250\n",
            "Epoch 72/100\n",
            "18/18 [==============================] - 0s 3ms/step - loss: 107.9285 - mae: 107.9285 - mse: 71745.5312 - val_loss: 573.7084 - val_mae: 573.7084 - val_mse: 1192818.5000\n",
            "Epoch 73/100\n",
            "18/18 [==============================] - 0s 4ms/step - loss: 109.5085 - mae: 109.5085 - mse: 71691.1484 - val_loss: 580.4183 - val_mae: 580.4183 - val_mse: 1211317.6250\n",
            "Epoch 74/100\n",
            "18/18 [==============================] - 0s 4ms/step - loss: 108.7380 - mae: 108.7380 - mse: 72051.1094 - val_loss: 576.1216 - val_mae: 576.1216 - val_mse: 1199670.7500\n",
            "Epoch 75/100\n",
            "18/18 [==============================] - 0s 3ms/step - loss: 107.9404 - mae: 107.9404 - mse: 71043.1328 - val_loss: 591.1470 - val_mae: 591.1470 - val_mse: 1211107.6250\n",
            "Epoch 76/100\n",
            "18/18 [==============================] - 0s 4ms/step - loss: 109.4232 - mae: 109.4232 - mse: 72295.0312 - val_loss: 597.8611 - val_mae: 597.8611 - val_mse: 1243936.2500\n",
            "Epoch 77/100\n",
            "18/18 [==============================] - 0s 3ms/step - loss: 107.5879 - mae: 107.5879 - mse: 70333.8359 - val_loss: 571.9301 - val_mae: 571.9301 - val_mse: 1186830.0000\n",
            "INFO:tensorflow:Assets written to: model_experiments/model_1_dense/assets\n",
            "Epoch 78/100\n",
            "18/18 [==============================] - 0s 3ms/step - loss: 108.1598 - mae: 108.1598 - mse: 70200.0781 - val_loss: 575.2387 - val_mae: 575.2387 - val_mse: 1195318.0000\n",
            "Epoch 79/100\n",
            "18/18 [==============================] - 0s 4ms/step - loss: 107.9175 - mae: 107.9175 - mse: 72451.5859 - val_loss: 617.3083 - val_mae: 617.3083 - val_mse: 1285512.3750\n",
            "Epoch 80/100\n",
            "18/18 [==============================] - 0s 3ms/step - loss: 108.9510 - mae: 108.9510 - mse: 72158.7812 - val_loss: 583.4841 - val_mae: 583.4841 - val_mse: 1194356.7500\n",
            "Epoch 81/100\n",
            "18/18 [==============================] - 0s 4ms/step - loss: 106.0505 - mae: 106.0505 - mse: 69690.9219 - val_loss: 570.0803 - val_mae: 570.0803 - val_mse: 1177237.8750\n",
            "INFO:tensorflow:Assets written to: model_experiments/model_1_dense/assets\n",
            "Epoch 82/100\n",
            "18/18 [==============================] - 0s 3ms/step - loss: 115.6827 - mae: 115.6827 - mse: 76903.4922 - val_loss: 575.7388 - val_mae: 575.7388 - val_mse: 1194662.6250\n",
            "Epoch 83/100\n",
            "18/18 [==============================] - 0s 3ms/step - loss: 110.9379 - mae: 110.9379 - mse: 72968.3047 - val_loss: 659.6579 - val_mae: 659.6579 - val_mse: 1388829.8750\n",
            "Epoch 84/100\n",
            "18/18 [==============================] - 0s 3ms/step - loss: 111.4836 - mae: 111.4836 - mse: 73017.9453 - val_loss: 570.1957 - val_mae: 570.1957 - val_mse: 1177492.2500\n",
            "Epoch 85/100\n",
            "18/18 [==============================] - 0s 3ms/step - loss: 107.5949 - mae: 107.5949 - mse: 70728.2266 - val_loss: 601.5939 - val_mae: 601.5939 - val_mse: 1228450.7500\n",
            "Epoch 86/100\n",
            "18/18 [==============================] - 0s 3ms/step - loss: 108.9425 - mae: 108.9425 - mse: 70066.7422 - val_loss: 592.8101 - val_mae: 592.8101 - val_mse: 1209680.7500\n",
            "Epoch 87/100\n",
            "18/18 [==============================] - 0s 3ms/step - loss: 105.7717 - mae: 105.7717 - mse: 68382.3516 - val_loss: 603.6174 - val_mae: 603.6174 - val_mse: 1252409.5000\n",
            "Epoch 88/100\n",
            "18/18 [==============================] - 0s 3ms/step - loss: 107.9217 - mae: 107.9217 - mse: 71668.0469 - val_loss: 569.0500 - val_mae: 569.0500 - val_mse: 1174588.3750\n",
            "INFO:tensorflow:Assets written to: model_experiments/model_1_dense/assets\n",
            "Epoch 89/100\n",
            "18/18 [==============================] - 0s 3ms/step - loss: 106.0344 - mae: 106.0344 - mse: 68979.1484 - val_loss: 568.9510 - val_mae: 568.9510 - val_mse: 1171743.5000\n",
            "INFO:tensorflow:Assets written to: model_experiments/model_1_dense/assets\n",
            "Epoch 90/100\n",
            "18/18 [==============================] - 0s 3ms/step - loss: 105.4977 - mae: 105.4977 - mse: 67516.5000 - val_loss: 581.7677 - val_mae: 581.7677 - val_mse: 1190160.5000\n",
            "Epoch 91/100\n",
            "18/18 [==============================] - 0s 3ms/step - loss: 108.8468 - mae: 108.8468 - mse: 71112.3281 - val_loss: 573.6025 - val_mae: 573.6025 - val_mse: 1185216.0000\n",
            "Epoch 92/100\n",
            "18/18 [==============================] - 0s 3ms/step - loss: 110.8884 - mae: 110.8884 - mse: 73287.8125 - val_loss: 576.8243 - val_mae: 576.8243 - val_mse: 1181628.3750\n",
            "Epoch 93/100\n",
            "18/18 [==============================] - 0s 3ms/step - loss: 113.8781 - mae: 113.8781 - mse: 75236.4375 - val_loss: 608.3022 - val_mae: 608.3022 - val_mse: 1264206.1250\n",
            "Epoch 94/100\n",
            "18/18 [==============================] - 0s 3ms/step - loss: 110.5763 - mae: 110.5763 - mse: 72590.8672 - val_loss: 601.6042 - val_mae: 601.6042 - val_mse: 1229105.1250\n",
            "Epoch 95/100\n",
            "18/18 [==============================] - 0s 3ms/step - loss: 106.5906 - mae: 106.5906 - mse: 68612.3281 - val_loss: 570.3651 - val_mae: 570.3651 - val_mse: 1175759.6250\n",
            "Epoch 96/100\n",
            "18/18 [==============================] - 0s 3ms/step - loss: 116.9515 - mae: 116.9515 - mse: 75082.1172 - val_loss: 615.2584 - val_mae: 615.2584 - val_mse: 1277124.3750\n",
            "Epoch 97/100\n",
            "18/18 [==============================] - 0s 3ms/step - loss: 108.0739 - mae: 108.0739 - mse: 71321.4219 - val_loss: 580.3076 - val_mae: 580.3076 - val_mse: 1202622.3750\n",
            "Epoch 98/100\n",
            "18/18 [==============================] - 0s 3ms/step - loss: 108.7102 - mae: 108.7102 - mse: 70248.0625 - val_loss: 586.6510 - val_mae: 586.6510 - val_mse: 1200831.2500\n",
            "Epoch 99/100\n",
            "18/18 [==============================] - 0s 3ms/step - loss: 109.0488 - mae: 109.0488 - mse: 70913.1562 - val_loss: 570.0628 - val_mae: 570.0628 - val_mse: 1177064.5000\n",
            "Epoch 100/100\n",
            "18/18 [==============================] - 0s 4ms/step - loss: 106.1845 - mae: 106.1845 - mse: 68681.7344 - val_loss: 585.9758 - val_mae: 585.9758 - val_mse: 1197802.1250\n"
          ],
          "name": "stdout"
        },
        {
          "output_type": "execute_result",
          "data": {
            "text/plain": [
              "<tensorflow.python.keras.callbacks.History at 0x7f1d84144b50>"
            ]
          },
          "metadata": {
            "tags": []
          },
          "execution_count": 42
        }
      ]
    },
    {
      "cell_type": "code",
      "metadata": {
        "colab": {
          "base_uri": "https://localhost:8080/"
        },
        "id": "_eTntBjYkugu",
        "outputId": "bb45402b-a9c8-46b6-c9a9-60536f1c1c2f"
      },
      "source": [
        "# Evaluate model on test data \n",
        "model_1.evaluate(test_windows, test_labels)"
      ],
      "execution_count": 43,
      "outputs": [
        {
          "output_type": "stream",
          "text": [
            "18/18 [==============================] - 0s 2ms/step - loss: 585.9758 - mae: 585.9758 - mse: 1197802.1250\n"
          ],
          "name": "stdout"
        },
        {
          "output_type": "execute_result",
          "data": {
            "text/plain": [
              "[585.9757690429688, 585.9757690429688, 1197802.125]"
            ]
          },
          "metadata": {
            "tags": []
          },
          "execution_count": 43
        }
      ]
    },
    {
      "cell_type": "code",
      "metadata": {
        "colab": {
          "base_uri": "https://localhost:8080/"
        },
        "id": "DUFVLBR5lzqm",
        "outputId": "6d1b273e-2108-480b-94aa-cf8de217198b"
      },
      "source": [
        "# Loading in saved best performing model_1 and evalutate it on test data\n",
        "model_1 = tf.keras.models.load_model(\"model_experiments/model_1_dense/\")\n",
        "model_1.evaluate(test_windows, test_labels)"
      ],
      "execution_count": 44,
      "outputs": [
        {
          "output_type": "stream",
          "text": [
            "18/18 [==============================] - 0s 2ms/step - loss: 568.9510 - mae: 568.9510 - mse: 1171743.6250\n"
          ],
          "name": "stdout"
        },
        {
          "output_type": "execute_result",
          "data": {
            "text/plain": [
              "[568.9510498046875, 568.9510498046875, 1171743.625]"
            ]
          },
          "metadata": {
            "tags": []
          },
          "execution_count": 44
        }
      ]
    },
    {
      "cell_type": "markdown",
      "metadata": {
        "id": "srbIZFcHmV57"
      },
      "source": [
        "## Making forecasts with a model (on the test dataset)\n",
        "\n",
        "To make \"forecast\" on the test dataset (note: these won't be actual forecast, they're only psuedo forecasts because actual forecasts are into the future), let's write a function to:\n",
        "\n",
        "1. Takes in a trained model (just like model_1)\n",
        "2. Takes in some input data (just like the data the model was trained on)\n",
        "3. Passes the input data to the model's `predict()` method\n",
        "4. Returns the predictions"
      ]
    },
    {
      "cell_type": "code",
      "metadata": {
        "id": "msasDPhwm9KW"
      },
      "source": [
        "def make_preds(model, input_data):\n",
        "  \"\"\"\n",
        "  Uses model to make predictions input_data.\n",
        "  \"\"\"\n",
        "  forecast = model.predict(input_data)\n",
        "  return tf.squeeze(forecast) # return 1D array of predictions"
      ],
      "execution_count": 45,
      "outputs": []
    },
    {
      "cell_type": "code",
      "metadata": {
        "colab": {
          "base_uri": "https://localhost:8080/"
        },
        "id": "zWADb2PooRYL",
        "outputId": "976369bb-0cc4-4e85-ba5b-cf42d4262e3d"
      },
      "source": [
        "# Make predictions using model_1 on the test dataset and view results\n",
        "model_1_preds = make_preds(model_1, test_windows)\n",
        "len(model_1_preds), model_1_preds[:10]"
      ],
      "execution_count": 46,
      "outputs": [
        {
          "output_type": "execute_result",
          "data": {
            "text/plain": [
              "(556, <tf.Tensor: shape=(10,), dtype=float32, numpy=\n",
              " array([8861.71 , 8769.887, 9015.711, 8795.519, 8723.811, 8730.111,\n",
              "        8691.952, 8502.054, 8460.961, 8516.548], dtype=float32)>)"
            ]
          },
          "metadata": {
            "tags": []
          },
          "execution_count": 46
        }
      ]
    },
    {
      "cell_type": "code",
      "metadata": {
        "colab": {
          "base_uri": "https://localhost:8080/"
        },
        "id": "Q_iQvkzQpAsI",
        "outputId": "d98c786e-d242-4b63-9295-c35b9097ea05"
      },
      "source": [
        "# Evaluate preds (helper function)\n",
        "model_1_results = evaluate_preds(y_true=tf.squeeze(test_labels),\n",
        "                                 y_pred=model_1_preds)\n",
        "model_1_results"
      ],
      "execution_count": 47,
      "outputs": [
        {
          "output_type": "execute_result",
          "data": {
            "text/plain": [
              "{'mae': 568.9511,\n",
              " 'mape': 2.5448983,\n",
              " 'mase': 0.99948955,\n",
              " 'mse': 1171743.8,\n",
              " 'rmse': 1082.4712}"
            ]
          },
          "metadata": {
            "tags": []
          },
          "execution_count": 47
        }
      ]
    },
    {
      "cell_type": "code",
      "metadata": {
        "colab": {
          "base_uri": "https://localhost:8080/"
        },
        "id": "ki6qe8sKpRqQ",
        "outputId": "f99a807f-83f7-4b6a-b000-0b98b3e12c00"
      },
      "source": [
        "naive_results"
      ],
      "execution_count": 48,
      "outputs": [
        {
          "output_type": "execute_result",
          "data": {
            "text/plain": [
              "{'mae': 567.9802,\n",
              " 'mape': 2.516525,\n",
              " 'mase': 0.99957,\n",
              " 'mse': 1147547.0,\n",
              " 'rmse': 1071.2362}"
            ]
          },
          "metadata": {
            "tags": []
          },
          "execution_count": 48
        }
      ]
    },
    {
      "cell_type": "code",
      "metadata": {
        "colab": {
          "base_uri": "https://localhost:8080/",
          "height": 446
        },
        "id": "_pXNg6A2qOFU",
        "outputId": "e2ef2d70-b69d-44bf-9b55-ff399a4f5050"
      },
      "source": [
        "# Let's plot our model 1 predictions\n",
        "offset = 450\n",
        "plt.figure(figsize=(10, 7))\n",
        "# Account for the test_window offset and index into test_labels to ensure correct plotting\n",
        "plot_time_series(timesteps=X_test[-len(test_windows):], \n",
        "                 values=test_labels[:, 0], \n",
        "                 start=offset, label=\"Test Data\")\n",
        "\n",
        "plot_time_series(timesteps=X_test[-len(test_windows):],\n",
        "                 values=model_1_preds,\n",
        "                 start=offset,\n",
        "                 format=\"-\",\n",
        "                 label=\"model_1_preds\")"
      ],
      "execution_count": 49,
      "outputs": [
        {
          "output_type": "display_data",
          "data": {
            "image/png": "[encoded data removed]",
            "text/plain": [
              "<Figure size 720x504 with 1 Axes>"
            ]
          },
          "metadata": {
            "tags": [],
            "needs_background": "light"
          }
        }
      ]
    },
    {
      "cell_type": "markdown",
      "metadata": {
        "id": "cNnRbAfOrJgS"
      },
      "source": [
        "## Model 2: Dense (window = 30, horizon = 1)\n",
        "\n",
        "A naïve model is currently beating our handcrafted deep learning model.\n",
        "\n",
        "We can't let this happen.\n",
        "\n",
        "Let's continue our modelling experiments.\n",
        "\n",
        "We'll keep the previous model architecture but use a window size of 30.\n",
        "\n",
        "In other words, we'll use the previous 30 days of Bitcoin prices to try and predict the next day price.\n",
        "\n",
        "<img src=\"https://raw.githubusercontent.com/mrdbourke/tensorflow-deep-learning/main/images/10-bitcoin-price-window-for-one-month.png\" alt=\"bitcoin prices windowed for 30 days to predict a horizon of 1 day\">"
      ]
    },
    {
      "cell_type": "code",
      "metadata": {
        "id": "giF_okT2o_9M"
      },
      "source": [
        "HORIZON = 1 # predict one step at a time (one day of Bitcoin prices)\n",
        "WINDOW_SIZE = 30 # use 30 timesteps in the past"
      ],
      "execution_count": 50,
      "outputs": []
    },
    {
      "cell_type": "code",
      "metadata": {
        "colab": {
          "base_uri": "https://localhost:8080/"
        },
        "id": "RLmHpBHxpqGB",
        "outputId": "744393c0-5e63-490d-a8e2-af472d8bded7"
      },
      "source": [
        "# Make windowed data with appropriate horizon and window sizes\n",
        "full_windows, full_labels = make_windows(prices, window_size=WINDOW_SIZE, horizon=HORIZON)\n",
        "len(full_windows), len(full_labels)"
      ],
      "execution_count": 51,
      "outputs": [
        {
          "output_type": "execute_result",
          "data": {
            "text/plain": [
              "(2757, 2757)"
            ]
          },
          "metadata": {
            "tags": []
          },
          "execution_count": 51
        }
      ]
    },
    {
      "cell_type": "code",
      "metadata": {
        "colab": {
          "base_uri": "https://localhost:8080/"
        },
        "id": "5nwEkU1HqGaT",
        "outputId": "18e5349c-e13d-4ee5-f5ad-d7b74bad219b"
      },
      "source": [
        "# Make train and testing windows\n",
        "train_windows, test_windows, train_labels, test_labels = make_train_test_splits(windows=full_windows,\n",
        "                                                                   labels=full_labels,\n",
        "                                                                   test_split=0.2)\n",
        "len(train_windows), len(test_windows), len(train_labels), len(test_labels)"
      ],
      "execution_count": 52,
      "outputs": [
        {
          "output_type": "execute_result",
          "data": {
            "text/plain": [
              "(2205, 552, 2205, 552)"
            ]
          },
          "metadata": {
            "tags": []
          },
          "execution_count": 52
        }
      ]
    },
    {
      "cell_type": "code",
      "metadata": {
        "colab": {
          "base_uri": "https://localhost:8080/"
        },
        "id": "Dk2sijNVqiXD",
        "outputId": "bdb4892d-d6f5-4907-c42c-0593abf51ff4"
      },
      "source": [
        "train_windows[:3], train_labels[:3]"
      ],
      "execution_count": 53,
      "outputs": [
        {
          "output_type": "execute_result",
          "data": {
            "text/plain": [
              "(array([[123.65499, 125.455  , 108.58483, 118.67466, 121.33866, 120.65533,\n",
              "         121.795  , 123.033  , 124.049  , 125.96116, 125.27966, 125.9275 ,\n",
              "         126.38333, 135.24199, 133.20333, 142.76333, 137.92333, 142.95166,\n",
              "         152.55183, 160.33883, 164.31499, 177.63333, 188.29716, 200.70166,\n",
              "         180.355  , 175.03166, 177.6965 , 187.15983, 192.75666, 197.4    ],\n",
              "        [125.455  , 108.58483, 118.67466, 121.33866, 120.65533, 121.795  ,\n",
              "         123.033  , 124.049  , 125.96116, 125.27966, 125.9275 , 126.38333,\n",
              "         135.24199, 133.20333, 142.76333, 137.92333, 142.95166, 152.55183,\n",
              "         160.33883, 164.31499, 177.63333, 188.29716, 200.70166, 180.355  ,\n",
              "         175.03166, 177.6965 , 187.15983, 192.75666, 197.4    , 196.02499],\n",
              "        [108.58483, 118.67466, 121.33866, 120.65533, 121.795  , 123.033  ,\n",
              "         124.049  , 125.96116, 125.27966, 125.9275 , 126.38333, 135.24199,\n",
              "         133.20333, 142.76333, 137.92333, 142.95166, 152.55183, 160.33883,\n",
              "         164.31499, 177.63333, 188.29716, 200.70166, 180.355  , 175.03166,\n",
              "         177.6965 , 187.15983, 192.75666, 197.4    , 196.02499, 198.04883]]),\n",
              " array([[196.02499],\n",
              "        [198.04883],\n",
              "        [198.93233]]))"
            ]
          },
          "metadata": {
            "tags": []
          },
          "execution_count": 53
        }
      ]
    },
    {
      "cell_type": "markdown",
      "metadata": {
        "id": "TVm6vJ7jrQxO"
      },
      "source": [
        "Now let's construct model_2, a model with the same architecture as model_1 as well as the same training routine."
      ]
    },
    {
      "cell_type": "code",
      "metadata": {
        "colab": {
          "base_uri": "https://localhost:8080/"
        },
        "id": "uYlCZpxRq-Co",
        "outputId": "2f8d23c4-a88b-4959-a9e1-03a70a4c2a05"
      },
      "source": [
        "tf.random.set_seed(42)\n",
        "\n",
        "# Create model (same model as model 1 but data input will be different)\n",
        "model_2 = tf.keras.Sequential([\n",
        "  layers.Dense(128, activation=\"relu\"),\n",
        "  layers.Dense(HORIZON) # need to predict horizon number of steps into the future\n",
        "], name=\"model_2_dense\")\n",
        "\n",
        "# Compile\n",
        "model_2.compile(loss=\"mae\",\n",
        "                optimizer=tf.keras.optimizers.Adam())\n",
        "\n",
        "# Fit\n",
        "model_2.fit(train_windows,\n",
        "           train_labels,\n",
        "           epochs=100,\n",
        "           batch_size=128,\n",
        "           verbose=0,\n",
        "           validation_data=(test_windows, test_labels),\n",
        "           callbacks=[create_model_checkpoint(model_name=model_2.name)])"
      ],
      "execution_count": 54,
      "outputs": [
        {
          "output_type": "stream",
          "text": [
            "INFO:tensorflow:Assets written to: model_experiments/model_2_dense/assets\n",
            "INFO:tensorflow:Assets written to: model_experiments/model_2_dense/assets\n",
            "INFO:tensorflow:Assets written to: model_experiments/model_2_dense/assets\n",
            "INFO:tensorflow:Assets written to: model_experiments/model_2_dense/assets\n",
            "INFO:tensorflow:Assets written to: model_experiments/model_2_dense/assets\n",
            "INFO:tensorflow:Assets written to: model_experiments/model_2_dense/assets\n",
            "INFO:tensorflow:Assets written to: model_experiments/model_2_dense/assets\n",
            "INFO:tensorflow:Assets written to: model_experiments/model_2_dense/assets\n",
            "INFO:tensorflow:Assets written to: model_experiments/model_2_dense/assets\n",
            "INFO:tensorflow:Assets written to: model_experiments/model_2_dense/assets\n",
            "INFO:tensorflow:Assets written to: model_experiments/model_2_dense/assets\n",
            "INFO:tensorflow:Assets written to: model_experiments/model_2_dense/assets\n",
            "INFO:tensorflow:Assets written to: model_experiments/model_2_dense/assets\n",
            "INFO:tensorflow:Assets written to: model_experiments/model_2_dense/assets\n",
            "INFO:tensorflow:Assets written to: model_experiments/model_2_dense/assets\n",
            "INFO:tensorflow:Assets written to: model_experiments/model_2_dense/assets\n",
            "INFO:tensorflow:Assets written to: model_experiments/model_2_dense/assets\n",
            "INFO:tensorflow:Assets written to: model_experiments/model_2_dense/assets\n",
            "INFO:tensorflow:Assets written to: model_experiments/model_2_dense/assets\n",
            "INFO:tensorflow:Assets written to: model_experiments/model_2_dense/assets\n",
            "INFO:tensorflow:Assets written to: model_experiments/model_2_dense/assets\n",
            "INFO:tensorflow:Assets written to: model_experiments/model_2_dense/assets\n",
            "INFO:tensorflow:Assets written to: model_experiments/model_2_dense/assets\n",
            "INFO:tensorflow:Assets written to: model_experiments/model_2_dense/assets\n",
            "INFO:tensorflow:Assets written to: model_experiments/model_2_dense/assets\n",
            "INFO:tensorflow:Assets written to: model_experiments/model_2_dense/assets\n",
            "INFO:tensorflow:Assets written to: model_experiments/model_2_dense/assets\n",
            "INFO:tensorflow:Assets written to: model_experiments/model_2_dense/assets\n",
            "INFO:tensorflow:Assets written to: model_experiments/model_2_dense/assets\n",
            "INFO:tensorflow:Assets written to: model_experiments/model_2_dense/assets\n"
          ],
          "name": "stdout"
        },
        {
          "output_type": "execute_result",
          "data": {
            "text/plain": [
              "<tensorflow.python.keras.callbacks.History at 0x7f1d840b40d0>"
            ]
          },
          "metadata": {
            "tags": []
          },
          "execution_count": 54
        }
      ]
    },
    {
      "cell_type": "code",
      "metadata": {
        "colab": {
          "base_uri": "https://localhost:8080/"
        },
        "id": "5Ot_ITedr8TR",
        "outputId": "34cd379e-4924-4eb1-ade2-7aa7c657dcc8"
      },
      "source": [
        "# Evaluate model 2 on test data\n",
        "model_2.evaluate(test_windows, test_labels)"
      ],
      "execution_count": 55,
      "outputs": [
        {
          "output_type": "stream",
          "text": [
            "18/18 [==============================] - 0s 1ms/step - loss: 659.3332\n"
          ],
          "name": "stdout"
        },
        {
          "output_type": "execute_result",
          "data": {
            "text/plain": [
              "659.3331909179688"
            ]
          },
          "metadata": {
            "tags": []
          },
          "execution_count": 55
        }
      ]
    },
    {
      "cell_type": "code",
      "metadata": {
        "colab": {
          "base_uri": "https://localhost:8080/"
        },
        "id": "dlCeg_lfsWcJ",
        "outputId": "cda26b7d-6d0a-452e-e3a2-fdb1f64520ec"
      },
      "source": [
        "# Load in the best performing model\n",
        "model_2 = tf.keras.models.load_model(\"model_experiments/model_2_dense/\")\n",
        "model_2.evaluate(test_windows, test_labels)"
      ],
      "execution_count": 56,
      "outputs": [
        {
          "output_type": "stream",
          "text": [
            "18/18 [==============================] - 0s 1ms/step - loss: 605.8741\n"
          ],
          "name": "stdout"
        },
        {
          "output_type": "execute_result",
          "data": {
            "text/plain": [
              "605.8740844726562"
            ]
          },
          "metadata": {
            "tags": []
          },
          "execution_count": 56
        }
      ]
    },
    {
      "cell_type": "code",
      "metadata": {
        "id": "M1qjMzLksrig"
      },
      "source": [
        "# Get forecast predictions\n",
        "model_2_preds = make_preds(model_2,\n",
        "                           input_data=test_windows)"
      ],
      "execution_count": 57,
      "outputs": []
    },
    {
      "cell_type": "code",
      "metadata": {
        "colab": {
          "base_uri": "https://localhost:8080/"
        },
        "id": "Rl-HPp50tDMA",
        "outputId": "5a129fc7-43b4-4394-d04c-16572e0d49de"
      },
      "source": [
        "# Evaluate results for model 2 predictions\n",
        "model_2_results = evaluate_preds(y_true=tf.squeeze(test_labels),\n",
        "                                 y_pred=model_2_preds)\n",
        "model_2_results"
      ],
      "execution_count": 58,
      "outputs": [
        {
          "output_type": "execute_result",
          "data": {
            "text/plain": [
              "{'mae': 605.8741,\n",
              " 'mape': 2.726445,\n",
              " 'mase': 1.0590738,\n",
              " 'mse': 1273360.8,\n",
              " 'rmse': 1128.4329}"
            ]
          },
          "metadata": {
            "tags": []
          },
          "execution_count": 58
        }
      ]
    },
    {
      "cell_type": "code",
      "metadata": {
        "colab": {
          "base_uri": "https://localhost:8080/"
        },
        "id": "XdAs8eXHtmH0",
        "outputId": "f374e398-07cc-4117-aa09-3215e4d5f5f9"
      },
      "source": [
        "model_1_results"
      ],
      "execution_count": 59,
      "outputs": [
        {
          "output_type": "execute_result",
          "data": {
            "text/plain": [
              "{'mae': 568.9511,\n",
              " 'mape': 2.5448983,\n",
              " 'mase': 0.99948955,\n",
              " 'mse': 1171743.8,\n",
              " 'rmse': 1082.4712}"
            ]
          },
          "metadata": {
            "tags": []
          },
          "execution_count": 59
        }
      ]
    },
    {
      "cell_type": "code",
      "metadata": {
        "colab": {
          "base_uri": "https://localhost:8080/",
          "height": 442
        },
        "id": "GgxUCZhIts2W",
        "outputId": "30efffac-b6e4-449d-ea10-b4af5f0585ef"
      },
      "source": [
        "offset = 300\n",
        "plt.figure(figsize=(10, 7))\n",
        "\n",
        "# Account for the test_window offset\n",
        "plot_time_series(timesteps=X_test[-len(test_windows):], \n",
        "                 values=test_labels[:, 0], \n",
        "                 start=offset, label=\"test_data\")\n",
        "\n",
        "plot_time_series(timesteps=X_test[-len(test_windows):], \n",
        "                 values=model_2_preds, \n",
        "                 start=offset, format=\"-\", \n",
        "                 label=\"model_2_preds\")"
      ],
      "execution_count": 60,
      "outputs": [
        {
          "output_type": "display_data",
          "data": {
            "image/png": "[encoded data removed]",
            "text/plain": [
              "<Figure size 720x504 with 1 Axes>"
            ]
          },
          "metadata": {
            "tags": [],
            "needs_background": "light"
          }
        }
      ]
    },
    {
      "cell_type": "markdown",
      "metadata": {
        "id": "le5xeYi0uDCJ"
      },
      "source": [
        "## Model 3: Dense (window = 30, horizon = 7)"
      ]
    },
    {
      "cell_type": "code",
      "metadata": {
        "colab": {
          "base_uri": "https://localhost:8080/"
        },
        "id": "2lQ87-8qvXlc",
        "outputId": "27437ca4-341d-4ecb-f1d1-9d8a4df189fe"
      },
      "source": [
        "HORIZON = 7\n",
        "WINDOW_SIZE = 30\n",
        "\n",
        "full_windows, full_labels = make_windows(prices, window_size=WINDOW_SIZE, horizon=HORIZON)\n",
        "len(full_windows), len(full_labels)"
      ],
      "execution_count": 61,
      "outputs": [
        {
          "output_type": "execute_result",
          "data": {
            "text/plain": [
              "(2751, 2751)"
            ]
          },
          "metadata": {
            "tags": []
          },
          "execution_count": 61
        }
      ]
    },
    {
      "cell_type": "code",
      "metadata": {
        "colab": {
          "base_uri": "https://localhost:8080/"
        },
        "id": "d6qoCKLGvuzw",
        "outputId": "c52fef1c-3bbe-4d08-9344-8cb146f72cb6"
      },
      "source": [
        "train_windows, test_windows, train_labels, test_labels = make_train_test_splits(windows=full_windows,\n",
        "                                                                                labels=full_labels)\n",
        "len(train_windows), len(test_windows), len(train_labels), len(test_labels)"
      ],
      "execution_count": 62,
      "outputs": [
        {
          "output_type": "execute_result",
          "data": {
            "text/plain": [
              "(2200, 551, 2200, 551)"
            ]
          },
          "metadata": {
            "tags": []
          },
          "execution_count": 62
        }
      ]
    },
    {
      "cell_type": "code",
      "metadata": {
        "colab": {
          "base_uri": "https://localhost:8080/"
        },
        "id": "UfIuheh_wTKh",
        "outputId": "bc341edc-b2ae-4fd1-df45-c50f01b8fb2c"
      },
      "source": [
        "tf.random.set_seed(42)\n",
        "\n",
        "# Create model (same as model_1 except with different data input size)\n",
        "model_3 = tf.keras.Sequential([\n",
        "  layers.Dense(128, activation=\"relu\"),\n",
        "  layers.Dense(HORIZON)\n",
        "], name=\"model_3_dense\")\n",
        "\n",
        "model_3.compile(loss=\"mae\",\n",
        "                optimizer=tf.keras.optimizers.Adam())\n",
        "\n",
        "model_3.fit(train_windows,\n",
        "           train_labels,\n",
        "           batch_size=128,\n",
        "           epochs=100,\n",
        "           verbose=0,\n",
        "           validation_data=(test_windows, test_labels),\n",
        "           callbacks=[create_model_checkpoint(model_name=model_3.name)])"
      ],
      "execution_count": 63,
      "outputs": [
        {
          "output_type": "stream",
          "text": [
            "INFO:tensorflow:Assets written to: model_experiments/model_3_dense/assets\n",
            "INFO:tensorflow:Assets written to: model_experiments/model_3_dense/assets\n",
            "INFO:tensorflow:Assets written to: model_experiments/model_3_dense/assets\n",
            "INFO:tensorflow:Assets written to: model_experiments/model_3_dense/assets\n",
            "INFO:tensorflow:Assets written to: model_experiments/model_3_dense/assets\n",
            "INFO:tensorflow:Assets written to: model_experiments/model_3_dense/assets\n",
            "INFO:tensorflow:Assets written to: model_experiments/model_3_dense/assets\n",
            "INFO:tensorflow:Assets written to: model_experiments/model_3_dense/assets\n",
            "INFO:tensorflow:Assets written to: model_experiments/model_3_dense/assets\n",
            "INFO:tensorflow:Assets written to: model_experiments/model_3_dense/assets\n",
            "INFO:tensorflow:Assets written to: model_experiments/model_3_dense/assets\n",
            "INFO:tensorflow:Assets written to: model_experiments/model_3_dense/assets\n",
            "INFO:tensorflow:Assets written to: model_experiments/model_3_dense/assets\n",
            "INFO:tensorflow:Assets written to: model_experiments/model_3_dense/assets\n",
            "INFO:tensorflow:Assets written to: model_experiments/model_3_dense/assets\n",
            "INFO:tensorflow:Assets written to: model_experiments/model_3_dense/assets\n",
            "INFO:tensorflow:Assets written to: model_experiments/model_3_dense/assets\n",
            "INFO:tensorflow:Assets written to: model_experiments/model_3_dense/assets\n",
            "INFO:tensorflow:Assets written to: model_experiments/model_3_dense/assets\n",
            "INFO:tensorflow:Assets written to: model_experiments/model_3_dense/assets\n",
            "INFO:tensorflow:Assets written to: model_experiments/model_3_dense/assets\n",
            "INFO:tensorflow:Assets written to: model_experiments/model_3_dense/assets\n"
          ],
          "name": "stdout"
        },
        {
          "output_type": "execute_result",
          "data": {
            "text/plain": [
              "<tensorflow.python.keras.callbacks.History at 0x7f1d721b5fd0>"
            ]
          },
          "metadata": {
            "tags": []
          },
          "execution_count": 63
        }
      ]
    },
    {
      "cell_type": "code",
      "metadata": {
        "colab": {
          "base_uri": "https://localhost:8080/"
        },
        "id": "c_8TJvbIw_oa",
        "outputId": "fbd3b7ae-8ece-493e-93ac-fc069df18730"
      },
      "source": [
        "# How did our model with a larger window size and horizon go?\n",
        "model_3.evaluate(test_windows, test_labels)"
      ],
      "execution_count": 64,
      "outputs": [
        {
          "output_type": "stream",
          "text": [
            "18/18 [==============================] - 0s 1ms/step - loss: 1300.1522\n"
          ],
          "name": "stdout"
        },
        {
          "output_type": "execute_result",
          "data": {
            "text/plain": [
              "1300.1522216796875"
            ]
          },
          "metadata": {
            "tags": []
          },
          "execution_count": 64
        }
      ]
    },
    {
      "cell_type": "code",
      "metadata": {
        "colab": {
          "base_uri": "https://localhost:8080/"
        },
        "id": "J1YiNkg_xJwZ",
        "outputId": "a14e8379-01ee-46b0-9574-34de2a4c97b3"
      },
      "source": [
        "# Load in best version of model_3 and evaluate\n",
        "model_3 = tf.keras.models.load_model(\"model_experiments/model_3_dense/\")\n",
        "model_3.evaluate(test_windows, test_labels)"
      ],
      "execution_count": 65,
      "outputs": [
        {
          "output_type": "stream",
          "text": [
            "18/18 [==============================] - 0s 2ms/step - loss: 1237.5065\n"
          ],
          "name": "stdout"
        },
        {
          "output_type": "execute_result",
          "data": {
            "text/plain": [
              "1237.5064697265625"
            ]
          },
          "metadata": {
            "tags": []
          },
          "execution_count": 65
        }
      ]
    },
    {
      "cell_type": "code",
      "metadata": {
        "colab": {
          "base_uri": "https://localhost:8080/"
        },
        "id": "dJm1Mg3DxMmp",
        "outputId": "7a6fd1f6-f9de-4fb4-be91-11027351cfd2"
      },
      "source": [
        "# The predictions are going to be 7 steps at a time (this is the HORIZON size)\n",
        "model_3_preds = make_preds(model_3,\n",
        "                           input_data=test_windows)\n",
        "model_3_preds[:5]"
      ],
      "execution_count": 66,
      "outputs": [
        {
          "output_type": "execute_result",
          "data": {
            "text/plain": [
              "<tf.Tensor: shape=(5, 7), dtype=float32, numpy=\n",
              "array([[9004.694 , 9048.1   , 9425.09  , 9258.256 , 9495.797 , 9558.453 ,\n",
              "        9357.3545],\n",
              "       [8735.506 , 8840.303 , 9247.793 , 8885.601 , 9097.186 , 9174.327 ,\n",
              "        9156.818 ],\n",
              "       [8672.508 , 8782.387 , 9123.857 , 8770.371 , 9007.13  , 9003.869 ,\n",
              "        9042.725 ],\n",
              "       [8874.399 , 8784.74  , 9043.902 , 8943.052 , 9033.477 , 9176.489 ,\n",
              "        9039.677 ],\n",
              "       [8825.891 , 8777.44  , 8926.78  , 8870.179 , 9213.232 , 9268.156 ,\n",
              "        8942.487 ]], dtype=float32)>"
            ]
          },
          "metadata": {
            "tags": []
          },
          "execution_count": 66
        }
      ]
    },
    {
      "cell_type": "code",
      "metadata": {
        "colab": {
          "base_uri": "https://localhost:8080/"
        },
        "id": "2-a1D_ltyipt",
        "outputId": "e2e114d9-1295-4349-82af-19207a98f755"
      },
      "source": [
        "model_3_preds.shape, model_2_preds.shape"
      ],
      "execution_count": 67,
      "outputs": [
        {
          "output_type": "execute_result",
          "data": {
            "text/plain": [
              "(TensorShape([551, 7]), TensorShape([552]))"
            ]
          },
          "metadata": {
            "tags": []
          },
          "execution_count": 67
        }
      ]
    },
    {
      "cell_type": "code",
      "metadata": {
        "colab": {
          "base_uri": "https://localhost:8080/"
        },
        "id": "Mc3hFjP4xiWq",
        "outputId": "6ca26a10-f8d0-4369-c351-f22f3d56d4bf"
      },
      "source": [
        "# Calculate model_3 results - these are going to be multi-dimensional because\n",
        "# we're trying to predict more than one step at a time.\n",
        "model_3_results = evaluate_preds(y_true=tf.squeeze(test_labels),\n",
        "                                 y_pred=model_3_preds)\n",
        "model_3_results"
      ],
      "execution_count": 68,
      "outputs": [
        {
          "output_type": "execute_result",
          "data": {
            "text/plain": [
              "{'mae': array([ 513.6056  ,  355.08328 ,  327.17075 ,  358.5106  ,  420.53305 ,\n",
              "         537.854   ,  545.6617  ,  485.9228  ,  584.49713 ,  687.38214 ,\n",
              "         836.2264  ,  755.1577  ,  731.4957  ,  775.3399  ,  567.95544 ,\n",
              "         266.80865 ,  188.80217 ,  188.10799 ,  253.095   ,  301.43256 ,\n",
              "         151.10721 ,  196.81473 ,  191.46178 ,  231.65031 ,  143.61125 ,\n",
              "         122.59089 ,  132.78879 ,  190.8118  ,  179.15994 ,  228.26018 ,\n",
              "         314.44022 ,  379.09244 ,  278.32526 ,  295.3471  ,  299.3852  ,\n",
              "         248.64983 ,  299.75662 ,  259.69434 ,  180.30531 ,  206.72922 ,\n",
              "         374.62863 ,  144.85086 ,  142.33635 ,  131.11613 ,   93.9412  ,\n",
              "          54.825542,   73.79548 ,  103.60128 ,  121.333916,  168.67278 ,\n",
              "         183.90945 ,  152.25307 ,  186.57199 ,  146.91267 ,  240.42912 ,\n",
              "         351.00662 ,  540.952   ,  549.1573  ,  521.2411  ,  526.8554  ,\n",
              "         453.36237 ,  257.98102 ,  277.29486 ,  301.8247  ,  455.718   ,\n",
              "         458.96017 ,  503.4438  ,  522.3119  ,  223.07631 ,  250.09529 ,\n",
              "         297.1437  ,  400.571   ,  495.7984  ,  364.33707 ,  283.3662  ,\n",
              "         325.59543 ,  238.21191 ,  318.97754 ,  460.77106 ,  651.0762  ,\n",
              "         835.88    ,  669.96454 ,  319.54507 ,  261.99442 ,  142.3923  ,\n",
              "         136.62863 ,  154.75223 ,  221.32631 ,  290.50418 ,  503.88406 ,\n",
              "         414.2602  ,  434.35742 ,  377.98785 ,  251.78947 ,  204.2832  ,\n",
              "         388.227   ,  360.65793 ,  493.80914 ,  614.8613  ,  754.70245 ,\n",
              "         533.77136 ,  378.98898 ,  280.49496 ,  339.48074 ,  413.1289  ,\n",
              "         452.87875 ,  550.5381  ,  634.5726  ,  935.5726  ,  931.60016 ,\n",
              "         881.2803  ,  426.39996 ,  179.45871 ,  121.66197 ,  160.43889 ,\n",
              "         372.07108 ,  341.85764 ,  476.52408 ,  618.3245  , 1038.8986  ,\n",
              "        1569.5028  , 2157.1199  , 1987.6077  , 2158.6108  , 2303.5608  ,\n",
              "        2662.9429  , 1405.5013  ,  728.30096 ,  351.70062 ,  322.03195 ,\n",
              "         493.94748 ,  435.4843  ,  565.5558  ,  350.11676 ,  289.0198  ,\n",
              "         251.21603 ,  409.05615 ,  342.20996 ,  320.8361  ,  330.88608 ,\n",
              "         357.84613 ,  335.94818 ,  206.10303 ,  544.384   ,  700.00934 ,\n",
              "         468.91992 ,  404.49615 ,  172.80127 ,  308.33685 ,  210.47621 ,\n",
              "         318.9543  ,  486.1326  ,  428.8803  ,  533.91113 ,  433.78152 ,\n",
              "         396.89432 ,  138.40381 ,  189.96658 ,  170.39209 ,  181.54346 ,\n",
              "         282.88992 ,  264.38867 ,  250.6218  ,  240.33762 ,  276.95425 ,\n",
              "         326.0295  ,  489.6155  ,  686.2448  ,  526.9793  ,  603.01135 ,\n",
              "         825.3831  ,  871.04626 ,  990.0688  , 1090.0597  ,  560.2842  ,\n",
              "         310.52246 ,  371.39035 ,  348.45953 ,  355.73438 ,  429.56543 ,\n",
              "         581.2835  ,  550.52203 ,  635.4312  ,  913.404   ,  840.7183  ,\n",
              "         305.0357  ,  493.93332 ,  751.31824 ,  410.63434 ,  220.62459 ,\n",
              "         282.25446 ,  291.8527  ,  422.5039  ,  458.6543  ,  637.2352  ,\n",
              "         647.82336 ,  417.24496 ,  220.23703 ,  246.72209 ,  200.22922 ,\n",
              "         455.1494  ,  719.6059  ,  696.3024  ,  485.0996  ,  294.95285 ,\n",
              "         170.52371 ,  211.82478 ,  270.565   ,  189.89299 ,  171.21736 ,\n",
              "         366.44727 ,  231.96387 ,  318.78738 ,  273.79395 ,  358.55664 ,\n",
              "         412.2281  ,  512.3167  ,  185.43959 ,  196.38225 ,  200.006   ,\n",
              "         224.58664 ,  213.41978 ,  186.23926 ,  113.371376,  172.23228 ,\n",
              "         168.89857 ,  236.0957  ,  307.5971  ,  328.93903 ,  566.59625 ,\n",
              "         285.04395 ,  300.44965 ,  125.45299 ,  168.94322 ,  137.25851 ,\n",
              "         143.5039  ,  145.27776 ,  107.339424,   77.16225 ,  131.8711  ,\n",
              "         134.02023 ,  167.45773 ,  137.9216  ,  148.9135  ,  204.95508 ,\n",
              "         157.89746 ,  196.95256 ,  167.93918 ,  156.45605 ,  188.68094 ,\n",
              "         161.44127 ,   90.99749 ,  136.8411  ,  198.51701 ,  230.1381  ,\n",
              "         294.78336 ,  594.2425  ,  699.6479  ,  815.13574 ,  905.339   ,\n",
              "        1127.2997  , 1342.6945  , 1317.0691  ,  590.1681  ,  296.34515 ,\n",
              "         243.43625 ,  256.3983  ,  222.28459 ,  323.83832 ,   82.513115,\n",
              "         120.14384 ,  249.14914 ,  205.73592 ,  243.4548  ,  250.64803 ,\n",
              "         287.2762  ,  224.38142 ,  266.56    ,  221.51047 ,  218.49637 ,\n",
              "         272.42285 ,  279.59625 ,  252.58846 ,  381.565   ,  417.97086 ,\n",
              "         624.5573  ,  368.03738 ,  327.25488 ,  263.43973 ,  349.95285 ,\n",
              "         398.62527 ,  297.07407 ,  147.04924 ,  164.5431  ,  313.36343 ,\n",
              "         477.7482  ,  675.0409  ,  897.2679  , 1094.7103  , 1460.1776  ,\n",
              "        1398.586   ,  952.7253  ,  645.959   ,  166.17899 ,  144.66895 ,\n",
              "         189.18289 ,  304.8132  ,  435.10602 ,  449.64383 ,  425.2437  ,\n",
              "         441.93597 ,  407.29465 ,  252.40388 ,  248.3697  ,  336.17105 ,\n",
              "         482.8107  ,  437.53098 ,  533.0868  ,  346.9795  ,  127.686806,\n",
              "         110.20829 ,  301.75113 ,  195.50545 ,  174.65164 ,  238.47084 ,\n",
              "         302.3718  ,  313.51758 ,  310.1296  ,  200.29855 ,  172.47307 ,\n",
              "         140.2302  ,  252.48549 ,  289.32437 ,  343.62094 ,  504.1179  ,\n",
              "         635.1342  ,  602.1302  ,  519.06055 ,  214.90276 ,  195.9117  ,\n",
              "         265.0371  ,  198.90123 ,  345.51285 ,  517.2228  ,  631.0296  ,\n",
              "         988.4247  , 1174.214   , 1196.2844  , 1253.9298  ,  526.0653  ,\n",
              "         210.31487 ,  215.27107 ,  169.86008 ,  283.78656 ,  269.76157 ,\n",
              "         228.6349  ,  186.64648 ,  410.54242 ,  601.2651  ,  618.1224  ,\n",
              "         768.7529  , 1158.5457  , 1232.8795  , 1254.4297  ,  423.0244  ,\n",
              "         390.0357  ,  367.2387  ,  209.55775 ,  530.22235 ,  821.38226 ,\n",
              "         812.3729  ,  741.1964  ,  953.4838  , 1258.9902  , 1844.932   ,\n",
              "        1605.2845  , 1112.7659  ,  594.18835 ,  549.7667  ,  632.5435  ,\n",
              "         829.2642  , 1103.2218  , 1130.1029  , 1033.3522  ,  878.5865  ,\n",
              "         595.40875 , 1115.6506  , 1371.1725  , 1385.2509  ,  387.5229  ,\n",
              "         303.7486  ,  495.125   ,  719.5804  ,  648.90265 ,  766.1632  ,\n",
              "         683.23157 ,  596.4121  ,  523.09265 ,  577.3407  , 1337.6208  ,\n",
              "        2454.5964  , 2759.2344  , 3135.8762  , 3407.3806  , 3602.6335  ,\n",
              "        2527.157   , 1158.0999  ,  679.8432  ,  748.5586  , 1073.4869  ,\n",
              "        1217.7327  , 1459.5656  , 2502.731   , 3075.8247  , 3090.2878  ,\n",
              "        2564.758   , 2660.5317  , 2928.934   , 3690.556   , 3525.141   ,\n",
              "        4183.6694  , 5144.068   , 4384.655   , 4164.9604  , 4431.0938  ,\n",
              "        3335.1216  , 3017.6858  , 2589.5396  , 4103.63    , 5582.0933  ,\n",
              "        5108.46    , 1382.9637  ,  953.5419  , 1081.6825  , 2483.1975  ,\n",
              "        2992.0547  , 3127.0942  , 2972.2747  , 3054.65    , 3283.713   ,\n",
              "        3617.3674  , 1170.2589  , 1074.1833  , 1059.317   , 1044.5404  ,\n",
              "        1060.6217  , 2115.719   , 3569.8867  , 3474.3625  , 2448.0156  ,\n",
              "        2641.418   , 3188.602   , 4899.915   , 5516.2876  , 4635.486   ,\n",
              "        4677.034   , 5732.883   , 5866.738   , 8083.3403  , 5049.8286  ,\n",
              "        1476.2288  , 1873.3275  , 1219.0988  , 2324.073   , 2467.009   ,\n",
              "        3005.0898  , 2805.0503  , 3688.254   , 2962.7136  , 3664.2388  ,\n",
              "        5618.684   , 6925.097   , 9751.095   , 8790.821   , 5057.626   ,\n",
              "        2971.6848  , 1715.495   , 1125.7706  , 2201.4246  , 3969.4973  ,\n",
              "        2988.5083  , 2911.9285  , 2796.8672  , 3937.8806  , 5449.5894  ,\n",
              "        6395.021   , 6148.242   , 5437.6987  , 4291.8257  , 2362.3967  ,\n",
              "        1657.3405  , 1426.6367  , 1647.716   , 2730.398   , 1813.7115  ,\n",
              "        2061.1519  , 3095.7227  , 4312.8096  , 5500.727   , 5258.027   ,\n",
              "        5152.0283  , 1331.4062  , 1634.4023  , 2493.4324  , 3957.951   ,\n",
              "        4499.2144  , 2215.846   , 2587.4119  , 1622.4397  ,  591.875   ,\n",
              "        1297.4727  , 1284.5983  ,  915.22766 ,  940.44977 , 1084.6584  ,\n",
              "         875.8979  , 1041.3549  , 2299.2473  , 3152.6003  , 3518.394   ,\n",
              "        2531.523   , 2682.573   , 3094.2917  , 3829.3376  , 5550.616   ,\n",
              "        7159.3477  , 8820.524   , 8587.342   , 6777.815   , 5193.292   ,\n",
              "        4793.3384  , 2605.2556  , 1668.3605  , 2510.7183  , 4105.6826  ,\n",
              "        6278.392   , 4109.7534  , 1711.1172  , 2261.9832  , 2384.7534  ,\n",
              "        1246.6641  , 1672.8483  , 1103.1345  , 1743.3678  , 1608.4564  ,\n",
              "        1933.904   , 2742.3433  , 3945.3645  , 5765.941   , 6955.8433  ,\n",
              "        8107.7095  ], dtype=float32),\n",
              " 'mape': array([ 5.860151  ,  4.087341  ,  3.775816  ,  4.187658  ,  4.9781423 ,\n",
              "         6.448365  ,  6.614463  ,  6.061672  ,  7.5475917 ,  9.095924  ,\n",
              "        11.300206  , 10.396474  , 10.109089  , 10.697326  ,  7.8628473 ,\n",
              "         3.6872826 ,  2.5856361 ,  2.505004  ,  3.350452  ,  4.013581  ,\n",
              "         2.0036225 ,  2.6397398 ,  2.6087885 ,  3.1609263 ,  1.9612128 ,\n",
              "         1.6679873 ,  1.7952291 ,  2.5901227 ,  2.4362576 ,  3.1327405 ,\n",
              "         4.3595424 ,  5.285637  ,  3.940355  ,  4.3142257 ,  4.3733144 ,\n",
              "         3.6376853 ,  4.3629785 ,  3.7757437 ,  2.6192946 ,  2.900764  ,\n",
              "         5.1501083 ,  2.0147362 ,  1.9706653 ,  1.8104146 ,  1.3007253 ,\n",
              "         0.7535146 ,  1.0192333 ,  1.4282739 ,  1.6741855 ,  2.3589702 ,\n",
              "         2.563099  ,  2.1327195 ,  2.597486  ,  2.0173264 ,  3.1387615 ,\n",
              "         4.502132  ,  6.95963   ,  6.9602227 ,  6.5331383 ,  6.5757856 ,\n",
              "         5.610285  ,  3.064202  ,  3.2474003 ,  3.484728  ,  5.2227206 ,\n",
              "         5.2294765 ,  5.727937  ,  5.927383  ,  2.5284474 ,  2.8664036 ,\n",
              "         3.4308906 ,  4.68742   ,  5.841512  ,  4.309815  ,  3.3552845 ,\n",
              "         3.8162112 ,  2.7363598 ,  3.462369  ,  4.9716797 ,  7.0261016 ,\n",
              "         8.974979  ,  7.1678147 ,  3.4013336 ,  2.7761197 ,  1.5223246 ,\n",
              "         1.4535493 ,  1.6354663 ,  2.252781  ,  2.947562  ,  5.0738955 ,\n",
              "         4.103283  ,  4.2952995 ,  3.7052817 ,  2.4620771 ,  2.0132227 ,\n",
              "         3.84283   ,  3.6306522 ,  5.016277  ,  6.2794776 ,  7.757472  ,\n",
              "         5.4956765 ,  3.8907118 ,  2.854692  ,  3.5311143 ,  4.464893  ,\n",
              "         5.0162416 ,  6.125715  ,  7.129436  , 10.711449  , 10.664078  ,\n",
              "        10.087246  ,  4.893631  ,  2.0717275 ,  1.3628381 ,  1.8011156 ,\n",
              "         4.219881  ,  4.0556946 ,  5.744895  ,  7.49288   , 15.03298   ,\n",
              "        24.38847   , 35.428123  , 34.702423  , 39.8611    , 42.836586  ,\n",
              "        49.60461   , 26.081121  , 13.669951  ,  6.3608704 ,  5.4986424 ,\n",
              "         7.9925127 ,  6.8575373 ,  8.820604  ,  5.3112006 ,  4.5279126 ,\n",
              "         3.8704064 ,  6.2283874 ,  5.2470303 ,  5.1045504 ,  5.329427  ,\n",
              "         5.778973  ,  5.358489  ,  3.2211251 ,  8.1184435 , 10.231979  ,\n",
              "         6.726865  ,  5.757307  ,  2.404117  ,  4.2864566 ,  2.9776995 ,\n",
              "         4.4548492 ,  6.9262066 ,  6.1590796 ,  7.763828  ,  6.308203  ,\n",
              "         5.7371473 ,  1.9719498 ,  2.7191217 ,  2.399884  ,  2.5685852 ,\n",
              "         3.9529998 ,  3.6584747 ,  3.4535587 ,  3.301876  ,  3.794225  ,\n",
              "         4.310309  ,  6.4319797 ,  8.567103  ,  6.293656  ,  7.023875  ,\n",
              "         9.469172  ,  9.915057  , 11.217033  , 12.2806635 ,  6.209284  ,\n",
              "         3.2802799 ,  3.8508568 ,  3.6124706 ,  3.7172365 ,  4.6127863 ,\n",
              "         6.233847  ,  6.0376983 ,  7.135962  , 10.132261  ,  9.337389  ,\n",
              "         3.379456  ,  5.190334  ,  7.8229246 ,  4.2644997 ,  2.3285031 ,\n",
              "         3.0320892 ,  3.1225471 ,  4.572195  ,  5.01346   ,  7.059326  ,\n",
              "         7.1808734 ,  4.628824  ,  2.4294448 ,  2.6893463 ,  2.1346915 ,\n",
              "         4.670391  ,  7.4296794 ,  7.17774   ,  4.927452  ,  2.9697573 ,\n",
              "         1.7036037 ,  2.102083  ,  2.790086  ,  1.9540966 ,  1.7562671 ,\n",
              "         3.8170424 ,  2.455728  ,  3.3356586 ,  2.8912692 ,  3.8006883 ,\n",
              "         4.3685207 ,  5.4371586 ,  1.969062  ,  2.0868657 ,  2.132989  ,\n",
              "         2.4014468 ,  2.2829754 ,  1.9878384 ,  1.212721  ,  1.8306261 ,\n",
              "         1.815668  ,  2.5207548 ,  3.292389  ,  3.5837185 ,  6.187771  ,\n",
              "         3.1184072 ,  3.2884552 ,  1.3740312 ,  1.8472781 ,  1.5017242 ,\n",
              "         1.56714   ,  1.5889224 ,  1.1630667 ,  0.83712757,  1.4223033 ,\n",
              "         1.4407552 ,  1.8029895 ,  1.4796977 ,  1.5990864 ,  2.2175858 ,\n",
              "         1.7130921 ,  2.1422663 ,  1.8232723 ,  1.7015604 ,  2.0563033 ,\n",
              "         1.7596658 ,  0.98229516,  1.4560665 ,  2.1070144 ,  2.4114134 ,\n",
              "         3.049994  ,  5.77384   ,  6.6185617 ,  7.4951463 ,  8.227665  ,\n",
              "        10.186892  , 11.928123  , 11.676128  ,  5.199712  ,  2.592971  ,\n",
              "         2.1249874 ,  2.23352   ,  1.9233074 ,  2.8466196 ,  0.7076641 ,\n",
              "         1.0350558 ,  2.1322331 ,  1.7789838 ,  2.1161134 ,  2.1635559 ,\n",
              "         2.4792883 ,  1.9270623 ,  2.2551286 ,  1.845723  ,  1.8112669 ,\n",
              "         2.2626755 ,  2.3515134 ,  2.1173391 ,  3.2111607 ,  3.5736072 ,\n",
              "         5.371579  ,  3.1869485 ,  2.8585389 ,  2.2958062 ,  3.0580983 ,\n",
              "         3.4806094 ,  2.5900195 ,  1.2625039 ,  1.405033  ,  2.7622344 ,\n",
              "         4.3049507 ,  6.2830634 ,  8.513557  , 10.517092  , 14.161083  ,\n",
              "        13.64061   ,  9.320252  ,  6.3080707 ,  1.6300529 ,  1.3983192 ,\n",
              "         1.819187  ,  2.8875935 ,  4.0688186 ,  4.173644  ,  3.9228578 ,\n",
              "         4.0472693 ,  3.7387352 ,  2.3069754 ,  2.3063276 ,  3.194118  ,\n",
              "         4.589591  ,  4.1579466 ,  5.0558167 ,  3.300565  ,  1.2102807 ,\n",
              "         1.0371065 ,  2.8088493 ,  1.8151473 ,  1.6353133 ,  2.2353556 ,\n",
              "         2.8412106 ,  2.9520082 ,  2.918753  ,  1.8913219 ,  1.6178724 ,\n",
              "         1.2982846 ,  2.3039372 ,  2.6034815 ,  3.0176406 ,  4.4442587 ,\n",
              "         5.598941  ,  5.266943  ,  4.535595  ,  1.8671705 ,  1.7055051 ,\n",
              "         2.3196983 ,  1.7318262 ,  2.7897274 ,  4.062607  ,  4.8944464 ,\n",
              "         7.6816387 ,  9.1078005 ,  9.207178  ,  9.502261  ,  3.9754753 ,\n",
              "         1.5744725 ,  1.5996995 ,  1.242373  ,  2.077033  ,  1.9747171 ,\n",
              "         1.6764205 ,  1.3502657 ,  2.785834  ,  3.9915614 ,  4.0835905 ,\n",
              "         5.016293  ,  7.6388426 ,  8.078354  ,  8.109142  ,  2.6612601 ,\n",
              "         2.4994817 ,  2.296389  ,  1.3040293 ,  3.2585542 ,  4.9145126 ,\n",
              "         4.7377963 ,  4.2538853 ,  5.3531504 ,  6.9800653 , 10.170471  ,\n",
              "         8.772198  ,  6.0037904 ,  3.184009  ,  3.0089974 ,  3.6370165 ,\n",
              "         4.774086  ,  6.289237  ,  6.4191914 ,  5.904084  ,  4.996318  ,\n",
              "         3.190599  ,  5.85623   ,  7.181029  ,  7.211656  ,  2.0219858 ,\n",
              "         1.5912374 ,  2.6243296 ,  3.8534112 ,  3.5140622 ,  4.1405344 ,\n",
              "         3.6843975 ,  3.215591  ,  2.8228238 ,  2.88985   ,  6.2848916 ,\n",
              "        11.458008  , 12.342679  , 13.76467   , 14.824157  , 15.566195  ,\n",
              "        10.829551  ,  4.9278164 ,  2.8345594 ,  3.0226746 ,  4.31179   ,\n",
              "         4.720057  ,  5.5167937 ,  9.303037  , 11.212705  , 11.037068  ,\n",
              "         8.631594  ,  8.57773   ,  9.389047  , 11.49777   , 10.463529  ,\n",
              "        11.683611  , 13.823773  , 11.273861  , 10.805959  , 11.400708  ,\n",
              "         8.496614  ,  7.8893795 ,  7.1694746 , 11.423845  , 15.540586  ,\n",
              "        14.24639   ,  3.8430889 ,  2.5450244 ,  2.926231  ,  7.2883105 ,\n",
              "         8.999361  ,  9.586315  ,  9.271845  ,  9.42326   , 10.242951  ,\n",
              "        11.39661   ,  3.655802  ,  3.3454576 ,  3.2290843 ,  3.1591043 ,\n",
              "         3.1852615 ,  6.141231  , 10.163144  ,  9.67394   ,  6.657334  ,\n",
              "         6.975822  ,  8.377455  , 12.244591  , 13.002366  , 10.547288  ,\n",
              "        10.269909  , 12.405405  , 12.598534  , 17.187767  , 10.616799  ,\n",
              "         3.0717638 ,  3.766271  ,  2.3915288 ,  4.426362  ,  4.6217613 ,\n",
              "         5.4785867 ,  5.115232  ,  6.8264303 ,  5.6151514 ,  7.090962  ,\n",
              "        11.599259  , 14.5101595 , 20.67855   , 18.67078   , 10.813845  ,\n",
              "         6.3959217 ,  3.68131   ,  2.3239684 ,  4.4593644 ,  8.030945  ,\n",
              "         5.953289  ,  5.6428604 ,  5.137942  ,  7.162542  ,  9.831411  ,\n",
              "        11.2098    , 10.556693  ,  9.350714  ,  7.3507614 ,  3.9944015 ,\n",
              "         2.82334   ,  2.3929412 ,  2.8540525 ,  4.729089  ,  3.2363744 ,\n",
              "         3.681079  ,  5.66858   ,  8.005048  , 10.247124  ,  9.747851  ,\n",
              "         9.54604   ,  2.477174  ,  2.9854128 ,  4.34938   ,  6.88064   ,\n",
              "         7.7586837 ,  3.8011284 ,  4.4251747 ,  2.761091  ,  1.0093703 ,\n",
              "         2.242207  ,  2.2289233 ,  1.5868819 ,  1.6239101 ,  1.8814805 ,\n",
              "         1.5162615 ,  1.7166462 ,  3.7594323 ,  5.0977936 ,  5.66472   ,\n",
              "         4.075431  ,  4.348674  ,  5.1419644 ,  6.6189823 ,  9.824003  ,\n",
              "        12.98138   , 16.388014  , 16.260683  , 13.2497835 , 10.180601  ,\n",
              "         9.383696  ,  5.121853  ,  3.2893925 ,  4.634882  ,  7.40683   ,\n",
              "        11.284326  ,  7.2873406 ,  3.019626  ,  4.0061307 ,  4.1726418 ,\n",
              "         2.2337658 ,  3.0054157 ,  1.9702908 ,  3.1211088 ,  2.7774823 ,\n",
              "         3.492497  ,  5.1419334 ,  7.6572046 , 11.470653  , 14.311554  ,\n",
              "        17.280174  ], dtype=float32),\n",
              " 'mase': 2.2020733,\n",
              " 'mse': array([3.15562562e+05, 1.69165047e+05, 1.44132125e+05, 1.76003203e+05,\n",
              "        2.63520375e+05, 3.91517562e+05, 3.99526312e+05, 3.44422156e+05,\n",
              "        4.93892469e+05, 6.88786438e+05, 9.18702875e+05, 8.00988875e+05,\n",
              "        6.35508625e+05, 6.45535812e+05, 3.57740594e+05, 1.03007414e+05,\n",
              "        5.33133125e+04, 4.65832188e+04, 1.10349016e+05, 1.11646961e+05,\n",
              "        4.35359453e+04, 5.45390977e+04, 4.55849648e+04, 7.64883672e+04,\n",
              "        4.03074453e+04, 2.71076816e+04, 1.90270059e+04, 4.55626055e+04,\n",
              "        4.25344805e+04, 6.63250547e+04, 1.16741703e+05, 1.69440500e+05,\n",
              "        1.10487078e+05, 1.59708281e+05, 1.61630891e+05, 1.23861797e+05,\n",
              "        1.50757391e+05, 1.31196844e+05, 5.50280977e+04, 6.28156445e+04,\n",
              "        1.77474219e+05, 2.68842363e+04, 2.53034434e+04, 2.58045059e+04,\n",
              "        1.34594688e+04, 3.88201562e+03, 9.22790430e+03, 1.22403281e+04,\n",
              "        2.20870137e+04, 3.60827500e+04, 4.87961602e+04, 3.74652578e+04,\n",
              "        4.10563711e+04, 4.17418945e+04, 1.10490461e+05, 2.00761469e+05,\n",
              "        3.48149906e+05, 3.58061312e+05, 3.28374031e+05, 2.96505938e+05,\n",
              "        2.33353781e+05, 1.54046703e+05, 1.43171672e+05, 1.62586703e+05,\n",
              "        2.96452750e+05, 2.66880812e+05, 2.94188594e+05, 3.10067562e+05,\n",
              "        6.27178242e+04, 8.63872109e+04, 9.69540391e+04, 2.01815250e+05,\n",
              "        2.97054594e+05, 2.00675078e+05, 1.27305445e+05, 1.32510266e+05,\n",
              "        8.46021953e+04, 1.74816797e+05, 2.95114281e+05, 4.75889719e+05,\n",
              "        7.21893438e+05, 4.62710188e+05, 1.33154703e+05, 8.13637656e+04,\n",
              "        3.43107852e+04, 3.45205547e+04, 5.36855352e+04, 7.42412266e+04,\n",
              "        1.09339273e+05, 2.79682500e+05, 2.19119391e+05, 1.99934375e+05,\n",
              "        1.65902453e+05, 8.16736484e+04, 4.82389180e+04, 1.65301344e+05,\n",
              "        1.81698328e+05, 3.30645000e+05, 4.63627250e+05, 6.75045625e+05,\n",
              "        3.34911969e+05, 1.69344000e+05, 1.03219461e+05, 1.48348172e+05,\n",
              "        2.98685688e+05, 3.71952438e+05, 4.43305844e+05, 5.27905000e+05,\n",
              "        1.12945238e+06, 1.00652912e+06, 8.03246812e+05, 2.21277719e+05,\n",
              "        6.64889375e+04, 2.66179375e+04, 3.29691523e+04, 1.68663719e+05,\n",
              "        1.76257344e+05, 2.99364906e+05, 4.31794719e+05, 1.91346938e+06,\n",
              "        3.90354125e+06, 6.29502550e+06, 5.49042500e+06, 6.25677100e+06,\n",
              "        6.28618500e+06, 7.23876700e+06, 2.08143475e+06, 6.66785812e+05,\n",
              "        1.44640328e+05, 1.83413734e+05, 3.41025938e+05, 3.02068688e+05,\n",
              "        3.71339250e+05, 2.02418469e+05, 1.36150797e+05, 8.24756250e+04,\n",
              "        1.96007016e+05, 1.61595531e+05, 1.71401094e+05, 2.00606781e+05,\n",
              "        2.37199359e+05, 1.58720219e+05, 6.36029766e+04, 3.38904781e+05,\n",
              "        5.23524188e+05, 2.86211969e+05, 1.92325922e+05, 3.73764375e+04,\n",
              "        1.31962375e+05, 9.33164844e+04, 1.18443625e+05, 3.00599344e+05,\n",
              "        2.28997641e+05, 3.57954812e+05, 2.36219250e+05, 1.71530031e+05,\n",
              "        2.68483613e+04, 4.79165352e+04, 4.00421953e+04, 5.41032422e+04,\n",
              "        1.07641438e+05, 9.80018828e+04, 7.08349922e+04, 6.55987812e+04,\n",
              "        8.53739609e+04, 1.33836594e+05, 2.72516031e+05, 6.54133000e+05,\n",
              "        4.97211812e+05, 6.11189312e+05, 9.92908312e+05, 9.56690875e+05,\n",
              "        1.09541325e+06, 1.19283175e+06, 3.75002188e+05, 2.22053828e+05,\n",
              "        2.60620156e+05, 1.88108875e+05, 1.87927750e+05, 2.49059219e+05,\n",
              "        3.79191938e+05, 4.07706812e+05, 6.24782625e+05, 9.62080500e+05,\n",
              "        7.95344312e+05, 1.40557766e+05, 2.65226344e+05, 6.26270438e+05,\n",
              "        2.05804469e+05, 6.53086562e+04, 1.33562875e+05, 1.14691547e+05,\n",
              "        2.26913922e+05, 2.61227344e+05, 5.08516812e+05, 4.90744344e+05,\n",
              "        2.38722219e+05, 6.85554844e+04, 7.30579844e+04, 5.36114375e+04,\n",
              "        3.28222750e+05, 6.26447562e+05, 5.17733938e+05, 3.32536906e+05,\n",
              "        1.72656594e+05, 8.28139297e+04, 1.43392859e+05, 8.83170859e+04,\n",
              "        5.15845234e+04, 4.20796602e+04, 1.78049500e+05, 1.17352047e+05,\n",
              "        1.16870359e+05, 1.02416914e+05, 1.67489453e+05, 2.05509422e+05,\n",
              "        2.73222562e+05, 4.73887266e+04, 4.60582461e+04, 5.33724297e+04,\n",
              "        7.87067422e+04, 7.06484219e+04, 5.23134414e+04, 2.50282949e+04,\n",
              "        4.52028984e+04, 4.14731211e+04, 7.00108125e+04, 1.24132516e+05,\n",
              "        1.34167734e+05, 3.38401844e+05, 9.75608906e+04, 1.10023234e+05,\n",
              "        1.99198105e+04, 3.32736992e+04, 2.43713613e+04, 2.76616055e+04,\n",
              "        2.70385918e+04, 1.58114443e+04, 1.16168496e+04, 2.74853652e+04,\n",
              "        2.95268613e+04, 3.95873516e+04, 2.81845449e+04, 3.19157871e+04,\n",
              "        5.60373164e+04, 3.98339648e+04, 5.02201758e+04, 3.19762402e+04,\n",
              "        2.96142949e+04, 4.48334258e+04, 4.32264375e+04, 1.52424697e+04,\n",
              "        2.86075918e+04, 4.23484023e+04, 7.25031172e+04, 1.21924180e+05,\n",
              "        6.41490500e+05, 8.50461375e+05, 1.11135250e+06, 1.22003288e+06,\n",
              "        1.54110100e+06, 2.03451888e+06, 1.76440675e+06, 4.22098719e+05,\n",
              "        1.30513617e+05, 7.30579375e+04, 8.56106875e+04, 7.42399219e+04,\n",
              "        1.49466484e+05, 1.25624111e+04, 2.13100684e+04, 9.81801094e+04,\n",
              "        7.28017891e+04, 1.26064570e+05, 1.01337180e+05, 1.24553578e+05,\n",
              "        7.13406719e+04, 8.41950703e+04, 6.25290625e+04, 8.18796016e+04,\n",
              "        1.27303258e+05, 8.94660547e+04, 1.04101039e+05, 1.66147531e+05,\n",
              "        2.32076047e+05, 4.41966531e+05, 1.75839109e+05, 1.76445078e+05,\n",
              "        9.12171094e+04, 1.67975469e+05, 1.87876500e+05, 1.07636641e+05,\n",
              "        3.26579023e+04, 5.35408945e+04, 1.38144203e+05, 3.28639000e+05,\n",
              "        6.38893000e+05, 1.08279062e+06, 1.55802688e+06, 2.42137025e+06,\n",
              "        2.08980188e+06, 9.83022500e+05, 4.27435062e+05, 5.84014375e+04,\n",
              "        4.02858125e+04, 5.27582695e+04, 1.33694031e+05, 2.41685969e+05,\n",
              "        2.54569906e+05, 2.18475656e+05, 2.39844203e+05, 1.72919391e+05,\n",
              "        9.46134297e+04, 8.14814844e+04, 1.83792781e+05, 3.41631688e+05,\n",
              "        2.67091656e+05, 3.54821562e+05, 1.69607219e+05, 2.63052539e+04,\n",
              "        2.11336035e+04, 1.11685516e+05, 6.08848320e+04, 4.64013945e+04,\n",
              "        6.97663359e+04, 1.16935750e+05, 1.44631531e+05, 1.14627359e+05,\n",
              "        7.92805703e+04, 5.69165547e+04, 3.03999824e+04, 9.47754453e+04,\n",
              "        1.19674555e+05, 2.15399078e+05, 3.15528062e+05, 4.17612281e+05,\n",
              "        3.91753062e+05, 2.83128781e+05, 8.15815625e+04, 5.00838711e+04,\n",
              "        1.01595758e+05, 6.17700664e+04, 3.16725938e+05, 5.76747812e+05,\n",
              "        7.41102938e+05, 1.33218062e+06, 1.56516288e+06, 1.55553262e+06,\n",
              "        1.68517775e+06, 3.21848812e+05, 6.30699648e+04, 7.78368047e+04,\n",
              "        5.12543789e+04, 1.14444672e+05, 1.13520664e+05, 7.03018281e+04,\n",
              "        4.71100312e+04, 4.52434969e+05, 7.79104812e+05, 7.32536562e+05,\n",
              "        1.03909069e+06, 1.56208825e+06, 1.63956625e+06, 1.72790112e+06,\n",
              "        4.00524938e+05, 2.34607969e+05, 1.76724578e+05, 6.78014375e+04,\n",
              "        3.90380906e+05, 9.80138500e+05, 1.03536912e+06, 8.44671688e+05,\n",
              "        1.38894325e+06, 1.98340425e+06, 3.62835000e+06, 2.66920550e+06,\n",
              "        1.42116625e+06, 4.54600656e+05, 3.65966188e+05, 9.46591875e+05,\n",
              "        1.45184338e+06, 1.85899962e+06, 1.89930900e+06, 1.82373088e+06,\n",
              "        1.21286275e+06, 4.94639688e+05, 1.49650112e+06, 2.03091888e+06,\n",
              "        2.25657475e+06, 2.11181391e+05, 1.21395414e+05, 3.04311312e+05,\n",
              "        7.11903125e+05, 6.20310625e+05, 8.05388000e+05, 6.26904125e+05,\n",
              "        5.66389625e+05, 4.27519062e+05, 7.83490438e+05, 3.63024550e+06,\n",
              "        8.18037250e+06, 1.07676110e+07, 1.26563590e+07, 1.33500370e+07,\n",
              "        1.33957210e+07, 6.52510050e+06, 1.60696225e+06, 8.56755125e+05,\n",
              "        1.15616888e+06, 1.69268338e+06, 2.17123725e+06, 3.34217825e+06,\n",
              "        7.84993050e+06, 1.08378820e+07, 1.05727040e+07, 1.01602580e+07,\n",
              "        1.14205950e+07, 1.16179760e+07, 1.73510000e+07, 1.79301580e+07,\n",
              "        2.70626400e+07, 3.72665360e+07, 2.97687480e+07, 2.14580120e+07,\n",
              "        2.44065800e+07, 1.56006630e+07, 1.03771430e+07, 9.93532300e+06,\n",
              "        2.18889420e+07, 3.45002520e+07, 2.72495560e+07, 2.51544575e+06,\n",
              "        2.11410050e+06, 1.65101438e+06, 8.78065100e+06, 1.42263850e+07,\n",
              "        1.50277490e+07, 1.42628870e+07, 1.11521150e+07, 1.31385830e+07,\n",
              "        1.44270310e+07, 2.10808025e+06, 2.37276825e+06, 2.06520375e+06,\n",
              "        1.51271862e+06, 1.63592488e+06, 6.01036300e+06, 1.48181510e+07,\n",
              "        1.51462640e+07, 8.88826800e+06, 1.03656160e+07, 1.24236460e+07,\n",
              "        3.12300380e+07, 4.44121680e+07, 3.35616920e+07, 3.37025520e+07,\n",
              "        4.33024880e+07, 4.04648120e+07, 6.68120760e+07, 2.68143000e+07,\n",
              "        3.37227625e+06, 6.18198100e+06, 3.33603000e+06, 9.76003500e+06,\n",
              "        9.50540800e+06, 1.48300480e+07, 1.08089090e+07, 1.52812330e+07,\n",
              "        1.21298720e+07, 1.47111110e+07, 4.46197040e+07, 6.19226600e+07,\n",
              "        1.05739152e+08, 8.06071200e+07, 3.00356780e+07, 1.30779050e+07,\n",
              "        4.55989850e+06, 1.67929975e+06, 6.99428700e+06, 1.63486830e+07,\n",
              "        1.21498720e+07, 1.21798100e+07, 1.68979380e+07, 2.39387620e+07,\n",
              "        3.73065320e+07, 5.09610680e+07, 4.59522000e+07, 3.20003060e+07,\n",
              "        2.06371620e+07, 8.14506450e+06, 4.14795200e+06, 4.23500700e+06,\n",
              "        3.09785600e+06, 8.37916900e+06, 7.36109850e+06, 7.06096250e+06,\n",
              "        1.57310800e+07, 2.78767000e+07, 4.07340160e+07, 3.28521320e+07,\n",
              "        2.89016620e+07, 3.40229975e+06, 3.84223750e+06, 8.10805100e+06,\n",
              "        1.74778500e+07, 2.13824540e+07, 5.77503650e+06, 7.30699550e+06,\n",
              "        3.70580475e+06, 6.14523812e+05, 1.92766775e+06, 2.29575125e+06,\n",
              "        1.09031838e+06, 1.19422538e+06, 2.01535212e+06, 1.38584200e+06,\n",
              "        2.60915475e+06, 7.48125100e+06, 1.25728590e+07, 1.49188430e+07,\n",
              "        7.64712450e+06, 9.50859000e+06, 1.16537280e+07, 2.15389180e+07,\n",
              "        4.32745680e+07, 6.52255360e+07, 9.30124960e+07, 8.49971200e+07,\n",
              "        5.87007160e+07, 3.43533080e+07, 2.82686400e+07, 9.30443000e+06,\n",
              "        4.66935400e+06, 8.00185900e+06, 2.05975080e+07, 4.07234280e+07,\n",
              "        1.93118500e+07, 4.04351800e+06, 5.92505450e+06, 7.37347950e+06,\n",
              "        2.68488600e+06, 5.27761950e+06, 1.84824825e+06, 4.87236000e+06,\n",
              "        4.87888300e+06, 5.77537050e+06, 1.21702160e+07, 2.70199620e+07,\n",
              "        4.94704520e+07, 6.90301360e+07, 8.50554960e+07], dtype=float32),\n",
              " 'rmse': array([  561.7496  ,   411.29678 ,   379.64737 ,   419.52734 ,\n",
              "          513.34235 ,   625.7136  ,   632.08093 ,   586.8749  ,\n",
              "          702.77484 ,   829.9316  ,   958.48987 ,   894.9798  ,\n",
              "          797.1879  ,   803.45245 ,   598.1142  ,   320.9477  ,\n",
              "          230.89676 ,   215.83147 ,   332.18823 ,   334.13614 ,\n",
              "          208.6527  ,   233.53607 ,   213.50636 ,   276.5653  ,\n",
              "          200.76714 ,   164.6441  ,   137.93842 ,   213.454   ,\n",
              "          206.23889 ,   257.5365  ,   341.67484 ,   411.6315  ,\n",
              "          332.39597 ,   399.6352  ,   402.03345 ,   351.94003 ,\n",
              "          388.2749  ,   362.21106 ,   234.58069 ,   250.6305  ,\n",
              "          421.2769  ,   163.96413 ,   159.07056 ,   160.6378  ,\n",
              "          116.01495 ,    62.305824,    96.06198 ,   110.63602 ,\n",
              "          148.617   ,   189.9546  ,   220.89853 ,   193.55945 ,\n",
              "          202.62372 ,   204.30833 ,   332.40106 ,   448.06415 ,\n",
              "          590.0423  ,   598.38226 ,   573.0393  ,   544.52356 ,\n",
              "          483.06705 ,   392.48782 ,   378.38034 ,   403.22043 ,\n",
              "          544.47473 ,   516.6051  ,   542.39154 ,   556.8371  ,\n",
              "          250.43527 ,   293.91702 ,   311.37445 ,   449.23853 ,\n",
              "          545.02716 ,   447.9677  ,   356.7989  ,   364.0196  ,\n",
              "          290.86456 ,   418.111   ,   543.2442  ,   689.8476  ,\n",
              "          849.6431  ,   680.228   ,   364.9037  ,   285.24335 ,\n",
              "          185.2317  ,   185.79707 ,   231.70139 ,   272.47244 ,\n",
              "          330.6649  ,   528.85016 ,   468.1019  ,   447.14023 ,\n",
              "          407.31125 ,   285.786   ,   219.6336  ,   406.5727  ,\n",
              "          426.26086 ,   575.0174  ,   680.9018  ,   821.6116  ,\n",
              "          578.7158  ,   411.51428 ,   321.27786 ,   385.15994 ,\n",
              "          546.5214  ,   609.879   ,   665.8122  ,   726.57074 ,\n",
              "         1062.757   ,  1003.2593  ,   896.24036 ,   470.40164 ,\n",
              "          257.8545  ,   163.15004 ,   181.5741  ,   410.6869  ,\n",
              "          419.83014 ,   547.1425  ,   657.1109  ,  1383.2821  ,\n",
              "         1975.7382  ,  2508.989   ,  2343.1655  ,  2501.3538  ,\n",
              "         2507.2266  ,  2690.4956  ,  1442.7179  ,   816.5695  ,\n",
              "          380.3161  ,   428.2683  ,   583.97424 ,   549.6078  ,\n",
              "          609.3761  ,   449.9094  ,   368.98618 ,   287.1857  ,\n",
              "          442.7268  ,   401.98947 ,   414.00616 ,   447.89148 ,\n",
              "          487.03116 ,   398.39706 ,   252.1963  ,   582.1553  ,\n",
              "          723.54974 ,   534.9878  ,   438.5498  ,   193.32986 ,\n",
              "          363.26627 ,   305.47748 ,   344.1564  ,   548.2694  ,\n",
              "          478.537   ,   598.2933  ,   486.02393 ,   414.16183 ,\n",
              "          163.85469 ,   218.89845 ,   200.10545 ,   232.60104 ,\n",
              "          328.08755 ,   313.05252 ,   266.14844 ,   256.1226  ,\n",
              "          292.18823 ,   365.83685 ,   522.0307  ,   808.7849  ,\n",
              "          705.1325  ,   781.78595 ,   996.4479  ,   978.1058  ,\n",
              "         1046.6199  ,  1092.1683  ,   612.3742  ,   471.2259  ,\n",
              "          510.5097  ,   433.7152  ,   433.50635 ,   499.05832 ,\n",
              "          615.78564 ,   638.5192  ,   790.43195 ,   980.857   ,\n",
              "          891.8208  ,   374.91034 ,   515.0013  ,   791.3725  ,\n",
              "          453.65677 ,   255.55559 ,   365.46255 ,   338.6614  ,\n",
              "          476.35483 ,   511.10403 ,   713.10364 ,   700.5315  ,\n",
              "          488.59207 ,   261.83102 ,   270.29242 ,   231.54144 ,\n",
              "          572.9073  ,   791.4844  ,   719.5373  ,   576.66016 ,\n",
              "          415.51965 ,   287.7741  ,   378.6725  ,   297.18192 ,\n",
              "          227.12227 ,   205.13327 ,   421.9591  ,   342.56686 ,\n",
              "          341.86307 ,   320.02643 ,   409.25476 ,   453.33148 ,\n",
              "          522.707   ,   217.68951 ,   214.61185 ,   231.02473 ,\n",
              "          280.5472  ,   265.7977  ,   228.72131 ,   158.20334 ,\n",
              "          212.60973 ,   203.6495  ,   264.59555 ,   352.32443 ,\n",
              "          366.28915 ,   581.72314 ,   312.34738 ,   331.6975  ,\n",
              "          141.13756 ,   182.4108  ,   156.1133  ,   166.31778 ,\n",
              "          164.43416 ,   125.74357 ,   107.78149 ,   165.78711 ,\n",
              "          171.83382 ,   198.9657  ,   167.88254 ,   178.6499  ,\n",
              "          236.72203 ,   199.58449 ,   224.09859 ,   178.81902 ,\n",
              "          172.08804 ,   211.73904 ,   207.90968 ,   123.460396,\n",
              "          169.13779 ,   205.78728 ,   269.26404 ,   349.17642 ,\n",
              "          800.931   ,   922.20465 ,  1054.207   ,  1104.551   ,\n",
              "         1241.4109  ,  1426.3656  ,  1328.3097  ,   649.6912  ,\n",
              "          361.2667  ,   270.29233 ,   292.59305 ,   272.47003 ,\n",
              "          386.60895 ,   112.08216 ,   145.97969 ,   313.33707 ,\n",
              "          269.81805 ,   355.05573 ,   318.33502 ,   352.92148 ,\n",
              "          267.09674 ,   290.16388 ,   250.05812 ,   286.14612 ,\n",
              "          356.7958  ,   299.10876 ,   322.6469  ,   407.612   ,\n",
              "          481.7427  ,   664.80566 ,   419.33176 ,   420.05365 ,\n",
              "          302.0217  ,   409.8481  ,   433.44724 ,   328.08023 ,\n",
              "          180.71498 ,   231.38905 ,   371.67755 ,   573.27045 ,\n",
              "          799.3078  ,  1040.5723  ,  1248.2095  ,  1556.0753  ,\n",
              "         1445.6147  ,   991.4749  ,   653.78516 ,   241.6639  ,\n",
              "          200.71326 ,   229.69168 ,   365.64194 ,   491.61566 ,\n",
              "          504.54922 ,   467.4138  ,   489.73892 ,   415.8358  ,\n",
              "          307.59296 ,   285.44962 ,   428.7106  ,   584.4927  ,\n",
              "          516.8091  ,   595.669   ,   411.83398 ,   162.18895 ,\n",
              "          145.37401 ,   334.19382 ,   246.74852 ,   215.40984 ,\n",
              "          264.13318 ,   341.9587  ,   380.30453 ,   338.56662 ,\n",
              "          281.56805 ,   238.5719  ,   174.35591 ,   307.8562  ,\n",
              "          345.9401  ,   464.11105 ,   561.7189  ,   646.2293  ,\n",
              "          625.9018  ,   532.09845 ,   285.62488 ,   223.79427 ,\n",
              "          318.7409  ,   248.53584 ,   562.7841  ,   759.43915 ,\n",
              "          860.87335 ,  1154.2013  ,  1251.0647  ,  1247.21    ,\n",
              "         1298.1439  ,   567.3172  ,   251.13734 ,   278.9925  ,\n",
              "          226.3943  ,   338.29672 ,   336.92828 ,   265.14493 ,\n",
              "          217.04845 ,   672.6329  ,   882.6691  ,   855.8835  ,\n",
              "         1019.358   ,  1249.8353  ,  1280.4554  ,  1314.4966  ,\n",
              "          632.8704  ,   484.36346 ,   420.38623 ,   260.3871  ,\n",
              "          624.8047  ,   990.0195  ,  1017.5309  ,   919.06024 ,\n",
              "         1178.5344  ,  1408.3339  ,  1904.8229  ,  1633.7704  ,\n",
              "         1192.1268  ,   674.2408  ,   604.9514  ,   972.9295  ,\n",
              "         1204.9247  ,  1363.4514  ,  1378.1542  ,  1350.4558  ,\n",
              "         1101.3005  ,   703.3063  ,  1223.3157  ,  1425.1031  ,\n",
              "         1502.19    ,   459.54477 ,   348.41846 ,   551.64417 ,\n",
              "          843.7435  ,   787.598   ,   897.43414 ,   791.77277 ,\n",
              "          752.5886  ,   653.8494  ,   885.14996 ,  1905.3203  ,\n",
              "         2860.135   ,  3281.4038  ,  3557.5776  ,  3653.7703  ,\n",
              "         3660.0166  ,  2554.4277  ,  1267.6602  ,   925.61066 ,\n",
              "         1075.2529  ,  1301.0316  ,  1473.5118  ,  1828.1625  ,\n",
              "         2801.7727  ,  3292.0938  ,  3251.5696  ,  3187.5159  ,\n",
              "         3379.437   ,  3408.5151  ,  4165.453   ,  4234.402   ,\n",
              "         5202.1763  ,  6104.6323  ,  5456.074   ,  4632.2793  ,\n",
              "         4940.302   ,  3949.7676  ,  3221.3574  ,  3152.0347  ,\n",
              "         4678.562   ,  5873.6914  ,  5220.111   ,  1586.0156  ,\n",
              "         1453.9946  ,  1284.9181  ,  2963.2163  ,  3771.788   ,\n",
              "         3876.564   ,  3776.6238  ,  3339.4783  ,  3624.7183  ,\n",
              "         3798.2932  ,  1451.923   ,  1540.3793  ,  1437.0817  ,\n",
              "         1229.9263  ,  1279.0328  ,  2451.6042  ,  3849.435   ,\n",
              "         3891.82    ,  2981.3198  ,  3219.5676  ,  3524.7192  ,\n",
              "         5588.3843  ,  6664.2456  ,  5793.2456  ,  5805.39    ,\n",
              "         6580.4624  ,  6361.196   ,  8173.865   ,  5178.2524  ,\n",
              "         1836.3759  ,  2486.359   ,  1826.4802  ,  3124.1055  ,\n",
              "         3083.0842  ,  3850.9802  ,  3287.6904  ,  3909.1218  ,\n",
              "         3482.7966  ,  3835.5066  ,  6679.7983  ,  7869.095   ,\n",
              "        10282.954   ,  8978.146   ,  5480.4814  ,  3616.3386  ,\n",
              "         2135.3918  ,  1295.8779  ,  2644.6714  ,  4043.3506  ,\n",
              "         3485.6667  ,  3489.9585  ,  4110.71    ,  4892.7256  ,\n",
              "         6107.907   ,  7138.702   ,  6778.805   ,  5656.8813  ,\n",
              "         4542.8145  ,  2853.956   ,  2036.6521  ,  2057.9133  ,\n",
              "         1760.0728  ,  2894.6794  ,  2713.1345  ,  2657.247   ,\n",
              "         3966.2427  ,  5279.839   ,  6382.321   ,  5731.6777  ,\n",
              "         5376.0264  ,  1844.5323  ,  1960.1626  ,  2847.4639  ,\n",
              "         4180.652   ,  4624.1167  ,  2403.1306  ,  2703.1455  ,\n",
              "         1925.0466  ,   783.9157  ,  1388.4048  ,  1515.1737  ,\n",
              "         1044.1831  ,  1092.8062  ,  1419.631   ,  1177.2179  ,\n",
              "         1615.2878  ,  2735.1875  ,  3545.8228  ,  3862.4917  ,\n",
              "         2765.3435  ,  3083.6     ,  3413.7556  ,  4641.004   ,\n",
              "         6578.341   ,  8076.233   ,  9644.299   ,  9219.389   ,\n",
              "         7661.639   ,  5861.1694  ,  5316.826   ,  3050.3164  ,\n",
              "         2160.869   ,  2828.7556  ,  4538.4478  ,  6381.491   ,\n",
              "         4394.525   ,  2010.8501  ,  2434.1436  ,  2715.4153  ,\n",
              "         1638.5621  ,  2297.3071  ,  1359.5029  ,  2207.3423  ,\n",
              "         2208.8193  ,  2403.2     ,  3488.5837  ,  5198.0728  ,\n",
              "         7033.5234  ,  8308.4375  ,  9222.554   ], dtype=float32)}"
            ]
          },
          "metadata": {
            "tags": []
          },
          "execution_count": 68
        }
      ]
    },
    {
      "cell_type": "markdown",
      "metadata": {
        "id": "pT8x4sbRxs_E"
      },
      "source": [
        "## Make our evaluation function work for larger horizons\n",
        "You'll notice the outputs for model_3_results are multi-dimensional.\n",
        "\n",
        "This is because the predictions are getting evaluated across the HORIZON timesteps (7 predictions at a time).\n",
        "\n",
        "To fix this, let's adjust our evaluate_preds() function to work with multiple shapes of data."
      ]
    },
    {
      "cell_type": "code",
      "metadata": {
        "id": "afgAWsT_zHkh"
      },
      "source": [
        "def evaluate_preds(y_true, y_pred):\n",
        "  # Make sure float32 (for metric calculations)\n",
        "  y_true = tf.cast(y_true, dtype=tf.float32)\n",
        "  y_pred = tf.cast(y_pred, dtype=tf.float32)\n",
        "\n",
        "  # Calculate various metrics\n",
        "  mae = tf.keras.metrics.mean_absolute_error(y_true, y_pred)\n",
        "  mse = tf.keras.metrics.mean_squared_error(y_true, y_pred)\n",
        "  rmse = tf.sqrt(mse)\n",
        "  mape = tf.keras.metrics.mean_absolute_percentage_error(y_true, y_pred)\n",
        "  mase = mean_absolute_scaled_error(y_true, y_pred)\n",
        "\n",
        "  # Account for different sized metrics (for longer horizons, reduce to single number)\n",
        "  if mae.ndim > 0: # if mae isn't already a scalar, reduce it to one by aggregating tensors to mean\n",
        "    mae = tf.reduce_mean(mae)\n",
        "    mse = tf.reduce_mean(mse)\n",
        "    rmse = tf.reduce_mean(rmse)\n",
        "    mape = tf.reduce_mean(mape)\n",
        "    mase = tf.reduce_mean(mase)\n",
        "\n",
        "  return {\"mae\": mae.numpy(),\n",
        "          \"mse\": mse.numpy(),\n",
        "          \"rmse\": rmse.numpy(),\n",
        "          \"mape\": mape.numpy(),\n",
        "          \"mase\": mase.numpy()}"
      ],
      "execution_count": 69,
      "outputs": []
    },
    {
      "cell_type": "code",
      "metadata": {
        "colab": {
          "base_uri": "https://localhost:8080/"
        },
        "id": "YJmxC_W00s8r",
        "outputId": "361c5bfd-19cd-4d70-fb35-7e55e812ad68"
      },
      "source": [
        "# Get model_3 results aggragated to single values\n",
        "model_3_results = evaluate_preds(y_true=tf.squeeze(test_labels), \n",
        "                                 y_pred=model_3_preds)\n",
        "model_3_results"
      ],
      "execution_count": 70,
      "outputs": [
        {
          "output_type": "execute_result",
          "data": {
            "text/plain": [
              "{'mae': 1237.5063,\n",
              " 'mape': 5.5588784,\n",
              " 'mase': 2.2020733,\n",
              " 'mse': 5405198.5,\n",
              " 'rmse': 1425.7478}"
            ]
          },
          "metadata": {
            "tags": []
          },
          "execution_count": 70
        }
      ]
    },
    {
      "cell_type": "markdown",
      "metadata": {
        "id": "yyJ1K-4uAGfL"
      },
      "source": [
        "We've made an evaluated predicitons with `model_3`, let's visualize, visualize, visualize!"
      ]
    },
    {
      "cell_type": "code",
      "metadata": {
        "colab": {
          "base_uri": "https://localhost:8080/",
          "height": 442
        },
        "id": "tAmybaHM1W8i",
        "outputId": "b45d2323-5e10-4ab4-f930-bee758897862"
      },
      "source": [
        "offset = 300\n",
        "plt.figure(figsize=(10, 7))\n",
        "plot_time_series(timesteps=X_test[-len(test_windows):], \n",
        "                 values=test_labels[:, 0], \n",
        "                 start=offset, \n",
        "                 label=\"Test_data\")\n",
        "# Checking the shape of model_3_preds results in [n_test_samples, HORIZON] (this will screw up the plot)\n",
        "plot_time_series(timesteps=X_test[-len(test_windows):], \n",
        "                 values=model_3_preds, \n",
        "                 start=offset, \n",
        "                 label=\"model_3_preds\")"
      ],
      "execution_count": 71,
      "outputs": [
        {
          "output_type": "display_data",
          "data": {
            "image/png": "[encoded data removed]",
            "text/plain": [
              "<Figure size 720x504 with 1 Axes>"
            ]
          },
          "metadata": {
            "tags": [],
            "needs_background": "light"
          }
        }
      ]
    },
    {
      "cell_type": "code",
      "metadata": {
        "colab": {
          "base_uri": "https://localhost:8080/",
          "height": 442
        },
        "id": "SKXB3ZHOCgCS",
        "outputId": "11f358ab-f6e3-4841-b724-4b8dece25f60"
      },
      "source": [
        "offset = 300\n",
        "plt.figure(figsize=(10, 7))\n",
        "# Plot model_3_preds by aggregating them (note: this condenses information so the preds will look fruther ahead than the test data)\n",
        "plot_time_series(timesteps=X_test[-len(test_windows):], \n",
        "                 values=test_labels[:, 0], \n",
        "                 start=offset, \n",
        "                 label=\"Test_data\")\n",
        "plot_time_series(timesteps=X_test[-len(test_windows):], \n",
        "                 values=tf.reduce_mean(model_3_preds, axis=1), \n",
        "                 format=\"-\",\n",
        "                 start=offset, \n",
        "                 label=\"model_3_preds\")"
      ],
      "execution_count": 72,
      "outputs": [
        {
          "output_type": "display_data",
          "data": {
            "image/png": "[encoded data removed]",
            "text/plain": [
              "<Figure size 720x504 with 1 Axes>"
            ]
          },
          "metadata": {
            "tags": [],
            "needs_background": "light"
          }
        }
      ]
    },
    {
      "cell_type": "markdown",
      "metadata": {
        "id": "VupxLJzwCjdG"
      },
      "source": [
        "## Which of our models are preforming best so far?\n",
        "\n",
        "Sow we've trained a few models, now let's compare them and see how they've gone..."
      ]
    },
    {
      "cell_type": "code",
      "metadata": {
        "colab": {
          "base_uri": "https://localhost:8080/",
          "height": 440
        },
        "id": "ni2ySCp5Dryr",
        "outputId": "c19e306b-13dc-4b91-ed37-2ca4e1e92331"
      },
      "source": [
        "pd.DataFrame({\"naive\": naive_results[\"mae\"], \n",
        "              \"horizon_1_window_7\": model_1_results[\"mae\"], \n",
        "              \"horizon_1_window_30\": model_2_results[\"mae\"], \n",
        "              \"horizon_7_window_30\": model_3_results[\"mae\"]}, index=[\"mae\"]).plot(figsize=(10, 7), kind=\"bar\");"
      ],
      "execution_count": 73,
      "outputs": [
        {
          "output_type": "display_data",
          "data": {
            "image/png": "[encoded data removed]",
            "text/plain": [
              "<Figure size 720x504 with 1 Axes>"
            ]
          },
          "metadata": {
            "tags": [],
            "needs_background": "light"
          }
        }
      ]
    },
    {
      "cell_type": "markdown",
      "metadata": {
        "id": "v4YPC4a5Dwv-"
      },
      "source": [
        "> 🔑 **Note:** You might be wondering, why are the naïve results so good? One of the reasons could be due the presence of autocorrelation in the data. If a time series has autocorrelation it means the value at t+1 (the next timestep) is typically close to the value at t (the current timestep). In other words, today's value is probably pretty close to yesterday's value. Of course, this isn't always the case but when it is, a naïve model will often get fairly good results.\n",
        "\n",
        "> 📖 **Resource:** For more on how autocorrelation influences a model's predictions, see the article How (not) to use Machine Learning for time series forecasting: [Avoiding the pitfalls by Vegard Flovik](https://towardsdatascience.com/how-not-to-use-machine-learning-for-time-series-forecasting-avoiding-the-pitfalls-19f9d7adf424)"
      ]
    },
    {
      "cell_type": "markdown",
      "metadata": {
        "id": "p-7MjzSqEsfo"
      },
      "source": [
        "## Model 4: Conv 1D"
      ]
    },
    {
      "cell_type": "code",
      "metadata": {
        "id": "5iDBfGAaHCRt"
      },
      "source": [
        "HORIZON = 1 # predict next day of Bitcoin prices\n",
        "WINDOW_SIZE = 7 # use previous week worth data"
      ],
      "execution_count": 74,
      "outputs": []
    },
    {
      "cell_type": "code",
      "metadata": {
        "colab": {
          "base_uri": "https://localhost:8080/"
        },
        "id": "uHjl0e9cHXLm",
        "outputId": "b8b0d057-db38-401d-f347-8386158a048d"
      },
      "source": [
        "# Create windowed data\n",
        "full_windows, full_labels = make_windows(prices, window_size=WINDOW_SIZE, horizon=HORIZON)\n",
        "len(full_windows), len(full_labels)\n"
      ],
      "execution_count": 75,
      "outputs": [
        {
          "output_type": "execute_result",
          "data": {
            "text/plain": [
              "(2780, 2780)"
            ]
          },
          "metadata": {
            "tags": []
          },
          "execution_count": 75
        }
      ]
    },
    {
      "cell_type": "code",
      "metadata": {
        "colab": {
          "base_uri": "https://localhost:8080/"
        },
        "id": "X-WAqoQ7Hpjw",
        "outputId": "136c8481-3d2c-45bd-cad6-7872df39ec47"
      },
      "source": [
        "# Create train/test sets\n",
        "train_windows, test_windows, train_labels, test_labels = make_train_test_splits(full_windows, full_labels)\n",
        "len(train_windows), len(test_windows), len(train_labels), len(test_labels)"
      ],
      "execution_count": 76,
      "outputs": [
        {
          "output_type": "execute_result",
          "data": {
            "text/plain": [
              "(2224, 556, 2224, 556)"
            ]
          },
          "metadata": {
            "tags": []
          },
          "execution_count": 76
        }
      ]
    },
    {
      "cell_type": "markdown",
      "metadata": {
        "id": "-iTKwxSRIHxO"
      },
      "source": [
        "We need an input shape of: `(batch_size, timesteps, input_dim)`... \n",
        "\n",
        "However our data isn't in the shape yet..."
      ]
    },
    {
      "cell_type": "code",
      "metadata": {
        "colab": {
          "base_uri": "https://localhost:8080/"
        },
        "id": "RoCrdjEVJfPk",
        "outputId": "66f39a36-c169-47a8-9672-96872883ed84"
      },
      "source": [
        "# Check data sample shapes\n",
        "train_windows[0].shape # returns (WINDOW_SIZE, )"
      ],
      "execution_count": 77,
      "outputs": [
        {
          "output_type": "execute_result",
          "data": {
            "text/plain": [
              "(7,)"
            ]
          },
          "metadata": {
            "tags": []
          },
          "execution_count": 77
        }
      ]
    },
    {
      "cell_type": "code",
      "metadata": {
        "colab": {
          "base_uri": "https://localhost:8080/"
        },
        "id": "Hep5l2TUItwp",
        "outputId": "e1a604b2-9726-4d86-95df-c863e0f2e7b0"
      },
      "source": [
        "# Before we pass our data to the Conv1D layer, we have to reshape it in order to make sure it works\n",
        "x = tf.constant(train_windows[0])\n",
        "x\n"
      ],
      "execution_count": 78,
      "outputs": [
        {
          "output_type": "execute_result",
          "data": {
            "text/plain": [
              "<tf.Tensor: shape=(7,), dtype=float64, numpy=\n",
              "array([123.65499, 125.455  , 108.58483, 118.67466, 121.33866, 120.65533,\n",
              "       121.795  ])>"
            ]
          },
          "metadata": {
            "tags": []
          },
          "execution_count": 78
        }
      ]
    },
    {
      "cell_type": "code",
      "metadata": {
        "id": "v9AFiheoJsbB"
      },
      "source": [
        "expand_dims_layer = layers.Lambda(lambda x: tf.expand_dims(x, axis=1)) # add an extra dimension for timesteps"
      ],
      "execution_count": 79,
      "outputs": []
    },
    {
      "cell_type": "code",
      "metadata": {
        "colab": {
          "base_uri": "https://localhost:8080/"
        },
        "id": "klyruE5CJuBA",
        "outputId": "924951b5-96bd-41c2-e29e-a18df0cd721a"
      },
      "source": [
        "# Test out our lambda layer\n",
        "print(f\"Original shape: {x.shape}\") # (WINDOW_SIZE)\n",
        "print(f\"Expanded shape: {expand_dims_layer(x).shape}\") # output = ...?\n",
        "print(f\"Original values with expanded shape:\\n {expand_dims_layer(x)}\")"
      ],
      "execution_count": 80,
      "outputs": [
        {
          "output_type": "stream",
          "text": [
            "Original shape: (7,)\n",
            "Expanded shape: (7, 1)\n",
            "Original values with expanded shape:\n",
            " [[123.65499]\n",
            " [125.455  ]\n",
            " [108.58483]\n",
            " [118.67466]\n",
            " [121.33866]\n",
            " [120.65533]\n",
            " [121.795  ]]\n"
          ],
          "name": "stdout"
        }
      ]
    },
    {
      "cell_type": "code",
      "metadata": {
        "id": "eyswNuNpKOoh",
        "colab": {
          "base_uri": "https://localhost:8080/"
        },
        "outputId": "04b654fe-c42b-4993-efae-88d5bee71adb"
      },
      "source": [
        "tf.random.set_seed(42)\n",
        "\n",
        "# Create model\n",
        "model_4 = tf.keras.Sequential([\n",
        "  # Create Lambda layer to reshape inputs, without this layer, the model will error\n",
        "  # resize the inputs to adjust for window size / Conv1D 3D input requirements\n",
        "  layers.Lambda(lambda x: tf.expand_dims(x, axis=1)), \n",
        "  layers.Conv1D(filters=128, kernel_size=5, strides=1 , padding=\"causal\", activation=\"relu\"),\n",
        "  layers.Dense(HORIZON)\n",
        "], name=\"model_4_conv1D\")\n",
        "\n",
        "# Compile model\n",
        "model_4.compile(loss=\"mae\",\n",
        "                optimizer=tf.keras.optimizers.Adam())\n",
        "\n",
        "# Fit model\n",
        "model_4.fit(train_windows,\n",
        "           train_labels,\n",
        "           batch_size=128, \n",
        "           epochs=100,\n",
        "           verbose=0,\n",
        "           validation_data=(test_windows, test_labels),\n",
        "           callbacks=[create_model_checkpoint(model_name=model_4.name)])"
      ],
      "execution_count": 81,
      "outputs": [
        {
          "output_type": "stream",
          "text": [
            "INFO:tensorflow:Assets written to: model_experiments/model_4_conv1D/assets\n",
            "INFO:tensorflow:Assets written to: model_experiments/model_4_conv1D/assets\n",
            "INFO:tensorflow:Assets written to: model_experiments/model_4_conv1D/assets\n",
            "INFO:tensorflow:Assets written to: model_experiments/model_4_conv1D/assets\n",
            "INFO:tensorflow:Assets written to: model_experiments/model_4_conv1D/assets\n",
            "INFO:tensorflow:Assets written to: model_experiments/model_4_conv1D/assets\n",
            "INFO:tensorflow:Assets written to: model_experiments/model_4_conv1D/assets\n",
            "INFO:tensorflow:Assets written to: model_experiments/model_4_conv1D/assets\n",
            "INFO:tensorflow:Assets written to: model_experiments/model_4_conv1D/assets\n",
            "INFO:tensorflow:Assets written to: model_experiments/model_4_conv1D/assets\n",
            "INFO:tensorflow:Assets written to: model_experiments/model_4_conv1D/assets\n",
            "INFO:tensorflow:Assets written to: model_experiments/model_4_conv1D/assets\n",
            "INFO:tensorflow:Assets written to: model_experiments/model_4_conv1D/assets\n",
            "INFO:tensorflow:Assets written to: model_experiments/model_4_conv1D/assets\n",
            "INFO:tensorflow:Assets written to: model_experiments/model_4_conv1D/assets\n",
            "INFO:tensorflow:Assets written to: model_experiments/model_4_conv1D/assets\n",
            "INFO:tensorflow:Assets written to: model_experiments/model_4_conv1D/assets\n",
            "INFO:tensorflow:Assets written to: model_experiments/model_4_conv1D/assets\n",
            "INFO:tensorflow:Assets written to: model_experiments/model_4_conv1D/assets\n",
            "INFO:tensorflow:Assets written to: model_experiments/model_4_conv1D/assets\n",
            "INFO:tensorflow:Assets written to: model_experiments/model_4_conv1D/assets\n",
            "INFO:tensorflow:Assets written to: model_experiments/model_4_conv1D/assets\n",
            "INFO:tensorflow:Assets written to: model_experiments/model_4_conv1D/assets\n",
            "INFO:tensorflow:Assets written to: model_experiments/model_4_conv1D/assets\n",
            "INFO:tensorflow:Assets written to: model_experiments/model_4_conv1D/assets\n",
            "INFO:tensorflow:Assets written to: model_experiments/model_4_conv1D/assets\n",
            "INFO:tensorflow:Assets written to: model_experiments/model_4_conv1D/assets\n",
            "INFO:tensorflow:Assets written to: model_experiments/model_4_conv1D/assets\n",
            "INFO:tensorflow:Assets written to: model_experiments/model_4_conv1D/assets\n",
            "INFO:tensorflow:Assets written to: model_experiments/model_4_conv1D/assets\n",
            "INFO:tensorflow:Assets written to: model_experiments/model_4_conv1D/assets\n",
            "INFO:tensorflow:Assets written to: model_experiments/model_4_conv1D/assets\n",
            "INFO:tensorflow:Assets written to: model_experiments/model_4_conv1D/assets\n",
            "INFO:tensorflow:Assets written to: model_experiments/model_4_conv1D/assets\n",
            "INFO:tensorflow:Assets written to: model_experiments/model_4_conv1D/assets\n",
            "INFO:tensorflow:Assets written to: model_experiments/model_4_conv1D/assets\n",
            "INFO:tensorflow:Assets written to: model_experiments/model_4_conv1D/assets\n",
            "INFO:tensorflow:Assets written to: model_experiments/model_4_conv1D/assets\n",
            "INFO:tensorflow:Assets written to: model_experiments/model_4_conv1D/assets\n"
          ],
          "name": "stdout"
        },
        {
          "output_type": "execute_result",
          "data": {
            "text/plain": [
              "<tensorflow.python.keras.callbacks.History at 0x7f1d66dcbed0>"
            ]
          },
          "metadata": {
            "tags": []
          },
          "execution_count": 81
        }
      ]
    },
    {
      "cell_type": "code",
      "metadata": {
        "colab": {
          "base_uri": "https://localhost:8080/"
        },
        "id": "szXluyD8e-tX",
        "outputId": "96127bff-9370-44d2-fde1-6c4e311de6fc"
      },
      "source": [
        "model_4.summary()"
      ],
      "execution_count": 82,
      "outputs": [
        {
          "output_type": "stream",
          "text": [
            "Model: \"model_4_conv1D\"\n",
            "_________________________________________________________________\n",
            "Layer (type)                 Output Shape              Param #   \n",
            "=================================================================\n",
            "lambda_1 (Lambda)            (None, 1, 7)              0         \n",
            "_________________________________________________________________\n",
            "conv1d (Conv1D)              (None, 1, 128)            4608      \n",
            "_________________________________________________________________\n",
            "dense_6 (Dense)              (None, 1, 1)              129       \n",
            "=================================================================\n",
            "Total params: 4,737\n",
            "Trainable params: 4,737\n",
            "Non-trainable params: 0\n",
            "_________________________________________________________________\n"
          ],
          "name": "stdout"
        }
      ]
    },
    {
      "cell_type": "code",
      "metadata": {
        "colab": {
          "base_uri": "https://localhost:8080/"
        },
        "id": "sDuTBwj1fNVM",
        "outputId": "07f063e3-ab84-4fd6-cfd0-bacaff69793e"
      },
      "source": [
        "# Evaluate model...\n",
        "model_4.evaluate(test_windows, test_labels)"
      ],
      "execution_count": 83,
      "outputs": [
        {
          "output_type": "stream",
          "text": [
            "18/18 [==============================] - 0s 7ms/step - loss: 610.1542\n"
          ],
          "name": "stdout"
        },
        {
          "output_type": "execute_result",
          "data": {
            "text/plain": [
              "610.1541748046875"
            ]
          },
          "metadata": {
            "tags": []
          },
          "execution_count": 83
        }
      ]
    },
    {
      "cell_type": "code",
      "metadata": {
        "colab": {
          "base_uri": "https://localhost:8080/"
        },
        "id": "AsE4w1rcfQM_",
        "outputId": "eea7494d-6fd9-41fa-c867-0074aa318aee"
      },
      "source": [
        "# Load back in the best performing Cov1D and re-evaluate\n",
        "model_4 = tf.keras.models.load_model(\"model_experiments/model_4_conv1D\")\n",
        "model_4.evaluate(test_windows, test_labels)"
      ],
      "execution_count": 84,
      "outputs": [
        {
          "output_type": "stream",
          "text": [
            "18/18 [==============================] - 0s 2ms/step - loss: 570.8285\n"
          ],
          "name": "stdout"
        },
        {
          "output_type": "execute_result",
          "data": {
            "text/plain": [
              "570.8284912109375"
            ]
          },
          "metadata": {
            "tags": []
          },
          "execution_count": 84
        }
      ]
    },
    {
      "cell_type": "code",
      "metadata": {
        "colab": {
          "base_uri": "https://localhost:8080/"
        },
        "id": "J40wnNN5gKM5",
        "outputId": "73473b5a-8954-4a63-a1ab-3034240cd560"
      },
      "source": [
        "# Make predictions\n",
        "model_4_preds = make_preds(model_4, test_windows)\n",
        "model_4_preds[:10]"
      ],
      "execution_count": 85,
      "outputs": [
        {
          "output_type": "execute_result",
          "data": {
            "text/plain": [
              "<tf.Tensor: shape=(10,), dtype=float32, numpy=\n",
              "array([8851.463, 8754.47 , 8983.928, 8759.671, 8703.627, 8708.294,\n",
              "       8661.667, 8494.839, 8435.316, 8492.114], dtype=float32)>"
            ]
          },
          "metadata": {
            "tags": []
          },
          "execution_count": 85
        }
      ]
    },
    {
      "cell_type": "code",
      "metadata": {
        "colab": {
          "base_uri": "https://localhost:8080/"
        },
        "id": "QNON2B1-gbF9",
        "outputId": "c80d9b2e-f87f-4338-d61f-4374d03a14ea"
      },
      "source": [
        "# Evaluate predictions\n",
        "model_4_results = evaluate_preds(y_true=tf.squeeze(test_labels),\n",
        "                                 y_pred=model_4_preds)\n",
        "model_4_results"
      ],
      "execution_count": 86,
      "outputs": [
        {
          "output_type": "execute_result",
          "data": {
            "text/plain": [
              "{'mae': 570.8285,\n",
              " 'mape': 2.5593362,\n",
              " 'mase': 1.0027876,\n",
              " 'mse': 1176671.2,\n",
              " 'rmse': 1084.7448}"
            ]
          },
          "metadata": {
            "tags": []
          },
          "execution_count": 86
        }
      ]
    },
    {
      "cell_type": "markdown",
      "metadata": {
        "id": "mC5eYhHZhUo0"
      },
      "source": [
        "## Model 5: RNN (LSTM)\n",
        "\n",
        "Let's build an RNN model for out time seriews data.\n",
        "\n",
        "We'll ue the same data we created previously. "
      ]
    },
    {
      "cell_type": "code",
      "metadata": {
        "colab": {
          "base_uri": "https://localhost:8080/"
        },
        "id": "3GaK9Zdzg0EA",
        "outputId": "f98b56a3-f795-4481-bc15-32288d141fb5"
      },
      "source": [
        "tf.random.set_seed(42)\n",
        "\n",
        "# Let's build an LSTM model with the Functional API\n",
        "inputs = layers.Input(shape=(WINDOW_SIZE))\n",
        "# expand input dimension to be compatible with LSTM\n",
        "x = layers.Lambda(lambda x: tf.expand_dims(x, axis=1))(inputs) \n",
        "# x = layers.LSTM(128, return_sequences=True)(x)\n",
        "x = layers.LSTM(128, activation=\"relu\")(x)\n",
        "# x = layers.Dense(32, activation=\"relu\")(x)\n",
        "output = layers.Dense(HORIZON)(x) \n",
        "model_5 = tf.keras.Model(inputs=inputs, outputs=output, name=\"model_5_LSTM\")\n",
        "\n",
        "# Compile\n",
        "model_5.compile(loss=\"mae\",\n",
        "                optimizer=tf.keras.optimizers.Adam())\n",
        "\n",
        "# Fit\n",
        "model_5.fit(train_windows,\n",
        "           train_labels,\n",
        "           epochs=100,\n",
        "           verbose=1,\n",
        "           batch_size=128,\n",
        "           validation_data=(test_windows, test_labels),\n",
        "           callbacks=[create_model_checkpoint(model_name=model_5.name)])"
      ],
      "execution_count": 87,
      "outputs": [
        {
          "output_type": "stream",
          "text": [
            "WARNING:tensorflow:Layer lstm will not use cuDNN kernels since it doesn't meet the criteria. It will use a generic GPU kernel as fallback when running on GPU.\n",
            "Epoch 1/100\n",
            "18/18 [==============================] - 1s 17ms/step - loss: 2323.6082 - val_loss: 9222.6523\n",
            "INFO:tensorflow:Assets written to: model_experiments/model_5_LSTM/assets\n",
            "Epoch 2/100\n",
            "18/18 [==============================] - 0s 6ms/step - loss: 695.4739 - val_loss: 1486.0555\n",
            "INFO:tensorflow:Assets written to: model_experiments/model_5_LSTM/assets\n",
            "Epoch 3/100\n",
            "18/18 [==============================] - 0s 6ms/step - loss: 237.3967 - val_loss: 1298.9084\n",
            "INFO:tensorflow:Assets written to: model_experiments/model_5_LSTM/assets\n",
            "Epoch 4/100\n",
            "18/18 [==============================] - 0s 6ms/step - loss: 181.9180 - val_loss: 966.6431\n",
            "INFO:tensorflow:Assets written to: model_experiments/model_5_LSTM/assets\n",
            "Epoch 5/100\n",
            "18/18 [==============================] - 0s 6ms/step - loss: 173.4022 - val_loss: 970.9295\n",
            "Epoch 6/100\n",
            "18/18 [==============================] - 0s 6ms/step - loss: 173.5414 - val_loss: 941.4746\n",
            "INFO:tensorflow:Assets written to: model_experiments/model_5_LSTM/assets\n",
            "Epoch 7/100\n",
            "18/18 [==============================] - 0s 6ms/step - loss: 170.3566 - val_loss: 898.5215\n",
            "INFO:tensorflow:Assets written to: model_experiments/model_5_LSTM/assets\n",
            "Epoch 8/100\n",
            "18/18 [==============================] - 0s 6ms/step - loss: 157.6371 - val_loss: 887.1069\n",
            "INFO:tensorflow:Assets written to: model_experiments/model_5_LSTM/assets\n",
            "Epoch 9/100\n",
            "18/18 [==============================] - 0s 6ms/step - loss: 157.1502 - val_loss: 848.8892\n",
            "INFO:tensorflow:Assets written to: model_experiments/model_5_LSTM/assets\n",
            "Epoch 10/100\n",
            "18/18 [==============================] - 0s 6ms/step - loss: 159.0658 - val_loss: 857.3829\n",
            "Epoch 11/100\n",
            "18/18 [==============================] - 0s 5ms/step - loss: 162.9999 - val_loss: 950.2138\n",
            "Epoch 12/100\n",
            "18/18 [==============================] - 0s 5ms/step - loss: 169.1442 - val_loss: 961.6539\n",
            "Epoch 13/100\n",
            "18/18 [==============================] - 0s 5ms/step - loss: 167.0647 - val_loss: 956.2810\n",
            "Epoch 14/100\n",
            "18/18 [==============================] - 0s 5ms/step - loss: 164.2794 - val_loss: 947.5704\n",
            "Epoch 15/100\n",
            "18/18 [==============================] - 0s 6ms/step - loss: 165.5254 - val_loss: 1023.2164\n",
            "Epoch 16/100\n",
            "18/18 [==============================] - 0s 6ms/step - loss: 166.1993 - val_loss: 920.1107\n",
            "Epoch 17/100\n",
            "18/18 [==============================] - 0s 5ms/step - loss: 163.2893 - val_loss: 1003.6521\n",
            "Epoch 18/100\n",
            "18/18 [==============================] - 0s 6ms/step - loss: 163.6284 - val_loss: 980.6243\n",
            "Epoch 19/100\n",
            "18/18 [==============================] - 0s 6ms/step - loss: 160.0774 - val_loss: 946.3519\n",
            "Epoch 20/100\n",
            "18/18 [==============================] - 0s 5ms/step - loss: 159.2344 - val_loss: 884.8268\n",
            "Epoch 21/100\n",
            "18/18 [==============================] - 0s 6ms/step - loss: 156.2739 - val_loss: 890.6190\n",
            "Epoch 22/100\n",
            "18/18 [==============================] - 0s 6ms/step - loss: 154.4303 - val_loss: 890.3891\n",
            "Epoch 23/100\n",
            "18/18 [==============================] - 0s 5ms/step - loss: 152.9747 - val_loss: 896.6879\n",
            "Epoch 24/100\n",
            "18/18 [==============================] - 0s 6ms/step - loss: 150.9306 - val_loss: 870.6966\n",
            "Epoch 25/100\n",
            "18/18 [==============================] - 0s 6ms/step - loss: 149.2075 - val_loss: 857.7123\n",
            "Epoch 26/100\n",
            "18/18 [==============================] - 0s 6ms/step - loss: 148.6015 - val_loss: 829.1193\n",
            "INFO:tensorflow:Assets written to: model_experiments/model_5_LSTM/assets\n",
            "Epoch 27/100\n",
            "18/18 [==============================] - 0s 5ms/step - loss: 147.0742 - val_loss: 813.6544\n",
            "INFO:tensorflow:Assets written to: model_experiments/model_5_LSTM/assets\n",
            "Epoch 28/100\n",
            "18/18 [==============================] - 0s 6ms/step - loss: 144.7066 - val_loss: 798.5468\n",
            "INFO:tensorflow:Assets written to: model_experiments/model_5_LSTM/assets\n",
            "Epoch 29/100\n",
            "18/18 [==============================] - 0s 6ms/step - loss: 143.2764 - val_loss: 807.4732\n",
            "Epoch 30/100\n",
            "18/18 [==============================] - 0s 5ms/step - loss: 143.0271 - val_loss: 814.4464\n",
            "Epoch 31/100\n",
            "18/18 [==============================] - 0s 6ms/step - loss: 140.1020 - val_loss: 777.9955\n",
            "INFO:tensorflow:Assets written to: model_experiments/model_5_LSTM/assets\n",
            "Epoch 32/100\n",
            "18/18 [==============================] - 0s 6ms/step - loss: 139.6241 - val_loss: 774.3853\n",
            "INFO:tensorflow:Assets written to: model_experiments/model_5_LSTM/assets\n",
            "Epoch 33/100\n",
            "18/18 [==============================] - 0s 5ms/step - loss: 136.4604 - val_loss: 805.7180\n",
            "Epoch 34/100\n",
            "18/18 [==============================] - 0s 5ms/step - loss: 137.1380 - val_loss: 754.2089\n",
            "INFO:tensorflow:Assets written to: model_experiments/model_5_LSTM/assets\n",
            "Epoch 35/100\n",
            "18/18 [==============================] - 0s 5ms/step - loss: 135.0244 - val_loss: 784.2366\n",
            "Epoch 36/100\n",
            "18/18 [==============================] - 0s 6ms/step - loss: 136.2746 - val_loss: 746.2809\n",
            "INFO:tensorflow:Assets written to: model_experiments/model_5_LSTM/assets\n",
            "Epoch 37/100\n",
            "18/18 [==============================] - 0s 6ms/step - loss: 132.2207 - val_loss: 753.0200\n",
            "Epoch 38/100\n",
            "18/18 [==============================] - 0s 5ms/step - loss: 130.5465 - val_loss: 722.2042\n",
            "INFO:tensorflow:Assets written to: model_experiments/model_5_LSTM/assets\n",
            "Epoch 39/100\n",
            "18/18 [==============================] - 0s 6ms/step - loss: 130.5997 - val_loss: 721.2485\n",
            "INFO:tensorflow:Assets written to: model_experiments/model_5_LSTM/assets\n",
            "Epoch 40/100\n",
            "18/18 [==============================] - 0s 6ms/step - loss: 131.9765 - val_loss: 733.5381\n",
            "Epoch 41/100\n",
            "18/18 [==============================] - 0s 5ms/step - loss: 128.3803 - val_loss: 703.9107\n",
            "INFO:tensorflow:Assets written to: model_experiments/model_5_LSTM/assets\n",
            "Epoch 42/100\n",
            "18/18 [==============================] - 0s 6ms/step - loss: 126.6102 - val_loss: 709.4847\n",
            "Epoch 43/100\n",
            "18/18 [==============================] - 0s 5ms/step - loss: 126.0350 - val_loss: 694.8233\n",
            "INFO:tensorflow:Assets written to: model_experiments/model_5_LSTM/assets\n",
            "Epoch 44/100\n",
            "18/18 [==============================] - 0s 5ms/step - loss: 126.5529 - val_loss: 697.0679\n",
            "Epoch 45/100\n",
            "18/18 [==============================] - 0s 6ms/step - loss: 123.2085 - val_loss: 684.3336\n",
            "INFO:tensorflow:Assets written to: model_experiments/model_5_LSTM/assets\n",
            "Epoch 46/100\n",
            "18/18 [==============================] - 0s 6ms/step - loss: 124.4008 - val_loss: 679.8807\n",
            "INFO:tensorflow:Assets written to: model_experiments/model_5_LSTM/assets\n",
            "Epoch 47/100\n",
            "18/18 [==============================] - 0s 6ms/step - loss: 122.8643 - val_loss: 694.0805\n",
            "Epoch 48/100\n",
            "18/18 [==============================] - 0s 6ms/step - loss: 121.9208 - val_loss: 675.3732\n",
            "INFO:tensorflow:Assets written to: model_experiments/model_5_LSTM/assets\n",
            "Epoch 49/100\n",
            "18/18 [==============================] - 0s 6ms/step - loss: 121.1833 - val_loss: 679.0468\n",
            "Epoch 50/100\n",
            "18/18 [==============================] - 0s 5ms/step - loss: 123.3085 - val_loss: 697.9174\n",
            "Epoch 51/100\n",
            "18/18 [==============================] - 0s 6ms/step - loss: 122.6582 - val_loss: 744.3931\n",
            "Epoch 52/100\n",
            "18/18 [==============================] - 0s 5ms/step - loss: 121.0811 - val_loss: 655.8250\n",
            "INFO:tensorflow:Assets written to: model_experiments/model_5_LSTM/assets\n",
            "Epoch 53/100\n",
            "18/18 [==============================] - 0s 5ms/step - loss: 119.3825 - val_loss: 652.8936\n",
            "INFO:tensorflow:Assets written to: model_experiments/model_5_LSTM/assets\n",
            "Epoch 54/100\n",
            "18/18 [==============================] - 0s 6ms/step - loss: 120.0796 - val_loss: 655.6714\n",
            "Epoch 55/100\n",
            "18/18 [==============================] - 0s 6ms/step - loss: 118.4825 - val_loss: 647.0193\n",
            "INFO:tensorflow:Assets written to: model_experiments/model_5_LSTM/assets\n",
            "Epoch 56/100\n",
            "18/18 [==============================] - 0s 6ms/step - loss: 119.8215 - val_loss: 645.6154\n",
            "INFO:tensorflow:Assets written to: model_experiments/model_5_LSTM/assets\n",
            "Epoch 57/100\n",
            "18/18 [==============================] - 0s 6ms/step - loss: 123.5242 - val_loss: 682.6373\n",
            "Epoch 58/100\n",
            "18/18 [==============================] - 0s 6ms/step - loss: 118.6764 - val_loss: 639.7096\n",
            "INFO:tensorflow:Assets written to: model_experiments/model_5_LSTM/assets\n",
            "Epoch 59/100\n",
            "18/18 [==============================] - 0s 6ms/step - loss: 117.8774 - val_loss: 644.7277\n",
            "Epoch 60/100\n",
            "18/18 [==============================] - 0s 6ms/step - loss: 118.7183 - val_loss: 641.6612\n",
            "Epoch 61/100\n",
            "18/18 [==============================] - 0s 6ms/step - loss: 119.2832 - val_loss: 697.3875\n",
            "Epoch 62/100\n",
            "18/18 [==============================] - 0s 5ms/step - loss: 121.7331 - val_loss: 744.5426\n",
            "Epoch 63/100\n",
            "18/18 [==============================] - 0s 6ms/step - loss: 122.3805 - val_loss: 641.3343\n",
            "Epoch 64/100\n",
            "18/18 [==============================] - 0s 6ms/step - loss: 115.5046 - val_loss: 667.3853\n",
            "Epoch 65/100\n",
            "18/18 [==============================] - 0s 5ms/step - loss: 118.4173 - val_loss: 629.9260\n",
            "INFO:tensorflow:Assets written to: model_experiments/model_5_LSTM/assets\n",
            "Epoch 66/100\n",
            "18/18 [==============================] - 0s 6ms/step - loss: 115.9941 - val_loss: 631.9056\n",
            "Epoch 67/100\n",
            "18/18 [==============================] - 0s 6ms/step - loss: 116.2318 - val_loss: 622.8132\n",
            "INFO:tensorflow:Assets written to: model_experiments/model_5_LSTM/assets\n",
            "Epoch 68/100\n",
            "18/18 [==============================] - 0s 6ms/step - loss: 116.4340 - val_loss: 622.2269\n",
            "INFO:tensorflow:Assets written to: model_experiments/model_5_LSTM/assets\n",
            "Epoch 69/100\n",
            "18/18 [==============================] - 0s 6ms/step - loss: 119.0946 - val_loss: 624.6354\n",
            "Epoch 70/100\n",
            "18/18 [==============================] - 0s 6ms/step - loss: 114.7407 - val_loss: 620.3711\n",
            "INFO:tensorflow:Assets written to: model_experiments/model_5_LSTM/assets\n",
            "Epoch 71/100\n",
            "18/18 [==============================] - 0s 6ms/step - loss: 114.3943 - val_loss: 640.0394\n",
            "Epoch 72/100\n",
            "18/18 [==============================] - 0s 6ms/step - loss: 117.1268 - val_loss: 624.5032\n",
            "Epoch 73/100\n",
            "18/18 [==============================] - 0s 6ms/step - loss: 114.2946 - val_loss: 616.6388\n",
            "INFO:tensorflow:Assets written to: model_experiments/model_5_LSTM/assets\n",
            "Epoch 74/100\n",
            "18/18 [==============================] - 0s 6ms/step - loss: 114.8115 - val_loss: 616.6390\n",
            "Epoch 75/100\n",
            "18/18 [==============================] - 0s 7ms/step - loss: 115.2088 - val_loss: 656.0807\n",
            "Epoch 76/100\n",
            "18/18 [==============================] - 0s 6ms/step - loss: 114.8125 - val_loss: 626.0286\n",
            "Epoch 77/100\n",
            "18/18 [==============================] - 0s 7ms/step - loss: 118.8880 - val_loss: 676.3541\n",
            "Epoch 78/100\n",
            "18/18 [==============================] - 0s 6ms/step - loss: 117.2278 - val_loss: 630.2184\n",
            "Epoch 79/100\n",
            "18/18 [==============================] - 0s 6ms/step - loss: 113.5383 - val_loss: 608.7994\n",
            "INFO:tensorflow:Assets written to: model_experiments/model_5_LSTM/assets\n",
            "Epoch 80/100\n",
            "18/18 [==============================] - 0s 12ms/step - loss: 112.8833 - val_loss: 631.2430\n",
            "Epoch 81/100\n",
            "18/18 [==============================] - 0s 7ms/step - loss: 113.1664 - val_loss: 633.0059\n",
            "Epoch 82/100\n",
            "18/18 [==============================] - 0s 6ms/step - loss: 115.9915 - val_loss: 617.0806\n",
            "Epoch 83/100\n",
            "18/18 [==============================] - 0s 6ms/step - loss: 112.6716 - val_loss: 630.9914\n",
            "Epoch 84/100\n",
            "18/18 [==============================] - 0s 6ms/step - loss: 114.5912 - val_loss: 619.4427\n",
            "Epoch 85/100\n",
            "18/18 [==============================] - 0s 7ms/step - loss: 114.9323 - val_loss: 626.7424\n",
            "Epoch 86/100\n",
            "18/18 [==============================] - 0s 7ms/step - loss: 115.3904 - val_loss: 610.2418\n",
            "Epoch 87/100\n",
            "18/18 [==============================] - 0s 6ms/step - loss: 111.9569 - val_loss: 606.6938\n",
            "INFO:tensorflow:Assets written to: model_experiments/model_5_LSTM/assets\n",
            "Epoch 88/100\n",
            "18/18 [==============================] - 0s 6ms/step - loss: 111.6636 - val_loss: 599.6751\n",
            "INFO:tensorflow:Assets written to: model_experiments/model_5_LSTM/assets\n",
            "Epoch 89/100\n",
            "18/18 [==============================] - 0s 6ms/step - loss: 111.3733 - val_loss: 623.5218\n",
            "Epoch 90/100\n",
            "18/18 [==============================] - 0s 6ms/step - loss: 115.1056 - val_loss: 673.6369\n",
            "Epoch 91/100\n",
            "18/18 [==============================] - 0s 6ms/step - loss: 116.1100 - val_loss: 628.5643\n",
            "Epoch 92/100\n",
            "18/18 [==============================] - 0s 6ms/step - loss: 112.9901 - val_loss: 602.0494\n",
            "Epoch 93/100\n",
            "18/18 [==============================] - 0s 6ms/step - loss: 112.4506 - val_loss: 599.2847\n",
            "INFO:tensorflow:Assets written to: model_experiments/model_5_LSTM/assets\n",
            "Epoch 94/100\n",
            "18/18 [==============================] - 0s 6ms/step - loss: 111.1618 - val_loss: 599.1225\n",
            "INFO:tensorflow:Assets written to: model_experiments/model_5_LSTM/assets\n",
            "Epoch 95/100\n",
            "18/18 [==============================] - 0s 6ms/step - loss: 110.9361 - val_loss: 594.6389\n",
            "INFO:tensorflow:Assets written to: model_experiments/model_5_LSTM/assets\n",
            "Epoch 96/100\n",
            "18/18 [==============================] - 0s 6ms/step - loss: 112.4874 - val_loss: 608.6896\n",
            "Epoch 97/100\n",
            "18/18 [==============================] - 0s 6ms/step - loss: 111.5433 - val_loss: 605.8245\n",
            "Epoch 98/100\n",
            "18/18 [==============================] - 0s 7ms/step - loss: 111.2717 - val_loss: 594.4554\n",
            "INFO:tensorflow:Assets written to: model_experiments/model_5_LSTM/assets\n",
            "Epoch 99/100\n",
            "18/18 [==============================] - 0s 6ms/step - loss: 110.6500 - val_loss: 594.1927\n",
            "INFO:tensorflow:Assets written to: model_experiments/model_5_LSTM/assets\n",
            "Epoch 100/100\n",
            "18/18 [==============================] - 0s 6ms/step - loss: 114.2319 - val_loss: 601.0387\n"
          ],
          "name": "stdout"
        },
        {
          "output_type": "execute_result",
          "data": {
            "text/plain": [
              "<tensorflow.python.keras.callbacks.History at 0x7f1d720d3990>"
            ]
          },
          "metadata": {
            "tags": []
          },
          "execution_count": 87
        }
      ]
    },
    {
      "cell_type": "code",
      "metadata": {
        "colab": {
          "base_uri": "https://localhost:8080/"
        },
        "id": "Irx-Im-8j0_6",
        "outputId": "2d959349-d8e7-449e-f137-3f14dc41e5cc"
      },
      "source": [
        "# Load in best version of model 5 and evaluated on the test data\n",
        "model_5 = tf.keras.models.load_model(\"model_experiments/model_5_LSTM\")\n",
        "model_5.evaluate(test_windows, test_labels)"
      ],
      "execution_count": 88,
      "outputs": [
        {
          "output_type": "stream",
          "text": [
            "WARNING:tensorflow:Layer lstm will not use cuDNN kernels since it doesn't meet the criteria. It will use a generic GPU kernel as fallback when running on GPU.\n",
            "18/18 [==============================] - 0s 2ms/step - loss: 594.1927\n"
          ],
          "name": "stdout"
        },
        {
          "output_type": "execute_result",
          "data": {
            "text/plain": [
              "594.1926879882812"
            ]
          },
          "metadata": {
            "tags": []
          },
          "execution_count": 88
        }
      ]
    },
    {
      "cell_type": "code",
      "metadata": {
        "colab": {
          "base_uri": "https://localhost:8080/"
        },
        "id": "-UD9ep-FlcDD",
        "outputId": "f4d688f3-b069-418a-861b-397f27ddd432"
      },
      "source": [
        "# Make prediction with our LSTM model\n",
        "model_5_preds = make_preds(model_5, test_windows)\n",
        "model_5_preds[:5]"
      ],
      "execution_count": 89,
      "outputs": [
        {
          "output_type": "execute_result",
          "data": {
            "text/plain": [
              "<tf.Tensor: shape=(5,), dtype=float32, numpy=array([8987.231, 8821.434, 9006.976, 8849.666, 8743.151], dtype=float32)>"
            ]
          },
          "metadata": {
            "tags": []
          },
          "execution_count": 89
        }
      ]
    },
    {
      "cell_type": "code",
      "metadata": {
        "colab": {
          "base_uri": "https://localhost:8080/"
        },
        "id": "jFv043xhlu7R",
        "outputId": "018a9ab3-80cd-4d8f-c63f-f1d8d18ea2d2"
      },
      "source": [
        "# Evaluate model 5 predictions\n",
        "model_5_results = evaluate_preds(y_true=tf.squeeze(test_labels),\n",
        "                                 y_pred=model_5_preds)\n",
        "model_5_results"
      ],
      "execution_count": 90,
      "outputs": [
        {
          "output_type": "execute_result",
          "data": {
            "text/plain": [
              "{'mae': 594.1927,\n",
              " 'mape': 2.6740193,\n",
              " 'mase': 1.043832,\n",
              " 'mse': 1267489.9,\n",
              " 'rmse': 1125.8285}"
            ]
          },
          "metadata": {
            "tags": []
          },
          "execution_count": 90
        }
      ]
    },
    {
      "cell_type": "markdown",
      "metadata": {
        "id": "nxgo6b_GouDs"
      },
      "source": [
        "> 🔑 **Note:** I'm putting this here again as a reminder that because neural networks are such powerful algorithms, they can be used for almost any problem, however, that doesn't mean they'll achieve performant or usable results. You're probably starting to clue onto this now. For the steps to improving a model: https://dev.mrdbourke.com/tensorflow-deep-learning/02_neural_network_classification_in_tensorflow/#Improving-a-model"
      ]
    },
    {
      "cell_type": "markdown",
      "metadata": {
        "id": "lUQaJVY-pzdX"
      },
      "source": [
        "## Make a multivariate time series\n",
        "\n",
        "Before we add a feature to our time series, what is a feature we can use?\n",
        "\n",
        "One feature we could add is whether or not Daniel Bourke tweeted on that day...\n",
        "* day 1 - 0 \n",
        "* day 2 - 1\n",
        "* day 3 - 0\n",
        "\n",
        "What's a better featuer to use?\n",
        "\n",
        "How about the bitcoin halving events?\n",
        "\n",
        "https://www.cmcmarkets.com/en/learn-cryptocurrencies/bitcoin-halving"
      ]
    },
    {
      "cell_type": "code",
      "metadata": {
        "colab": {
          "base_uri": "https://localhost:8080/",
          "height": 235
        },
        "id": "ks3yUz74mA1d",
        "outputId": "8e1b6bc2-4ee6-4033-af90-b86161cffcc1"
      },
      "source": [
        "# Let's make a multivariate time series\n",
        "bitcoin_prices.head()"
      ],
      "execution_count": 91,
      "outputs": [
        {
          "output_type": "execute_result",
          "data": {
            "text/html": [
              "<div>\n",
              "<style scoped>\n",
              "    .dataframe tbody tr th:only-of-type {\n",
              "        vertical-align: middle;\n",
              "    }\n",
              "\n",
              "    .dataframe tbody tr th {\n",
              "        vertical-align: top;\n",
              "    }\n",
              "\n",
              "    .dataframe thead th {\n",
              "        text-align: right;\n",
              "    }\n",
              "</style>\n",
              "<table border=\"1\" class=\"dataframe\">\n",
              "  <thead>\n",
              "    <tr style=\"text-align: right;\">\n",
              "      <th></th>\n",
              "      <th>Price</th>\n",
              "    </tr>\n",
              "    <tr>\n",
              "      <th>Date</th>\n",
              "      <th></th>\n",
              "    </tr>\n",
              "  </thead>\n",
              "  <tbody>\n",
              "    <tr>\n",
              "      <th>2013-10-01</th>\n",
              "      <td>123.65499</td>\n",
              "    </tr>\n",
              "    <tr>\n",
              "      <th>2013-10-02</th>\n",
              "      <td>125.45500</td>\n",
              "    </tr>\n",
              "    <tr>\n",
              "      <th>2013-10-03</th>\n",
              "      <td>108.58483</td>\n",
              "    </tr>\n",
              "    <tr>\n",
              "      <th>2013-10-04</th>\n",
              "      <td>118.67466</td>\n",
              "    </tr>\n",
              "    <tr>\n",
              "      <th>2013-10-05</th>\n",
              "      <td>121.33866</td>\n",
              "    </tr>\n",
              "  </tbody>\n",
              "</table>\n",
              "</div>"
            ],
            "text/plain": [
              "                Price\n",
              "Date                 \n",
              "2013-10-01  123.65499\n",
              "2013-10-02  125.45500\n",
              "2013-10-03  108.58483\n",
              "2013-10-04  118.67466\n",
              "2013-10-05  121.33866"
            ]
          },
          "metadata": {
            "tags": []
          },
          "execution_count": 91
        }
      ]
    },
    {
      "cell_type": "code",
      "metadata": {
        "id": "_Fkib9HbsuMp"
      },
      "source": [
        "# Let's add the bitcoin halving events to our dataset\n",
        "block_reward_1 = 50 # 01/03/2009 - Not in our dataset our data starts 10/01/13\n",
        "block_reward_2 = 25 # 11/08/2012\n",
        "block_reward_3 = 12.5 # 07/09/2016\n",
        "block_reward_4 = 6.25 # 05/18/2020\n",
        "\n",
        "# Block reward dates\n",
        "block_reward_2_datetime = np.datetime64(\"2012-11-28\")\n",
        "block_reward_3_datetime = np.datetime64(\"2016-07-09\")\n",
        "block_reward_4_datetime = np.datetime64(\"2020-05-18\")"
      ],
      "execution_count": 92,
      "outputs": []
    },
    {
      "cell_type": "code",
      "metadata": {
        "colab": {
          "base_uri": "https://localhost:8080/"
        },
        "id": "paVg76nUuy9H",
        "outputId": "d6c17b3c-896e-497b-d212-971201891e88"
      },
      "source": [
        "# Create date ranges of wher specific block_reward values should be\n",
        "block_reward_2_days = (block_reward_3_datetime - bitcoin_prices.index[0]).days\n",
        "block_reward_3_days = (block_reward_4_datetime - bitcoin_prices.index[0]).days\n",
        "block_reward_2_days, block_reward_3_days"
      ],
      "execution_count": 93,
      "outputs": [
        {
          "output_type": "execute_result",
          "data": {
            "text/plain": [
              "(1012, 2421)"
            ]
          },
          "metadata": {
            "tags": []
          },
          "execution_count": 93
        }
      ]
    },
    {
      "cell_type": "code",
      "metadata": {
        "colab": {
          "base_uri": "https://localhost:8080/",
          "height": 235
        },
        "id": "rpb2YY9Ju1Rv",
        "outputId": "07502716-e24e-4db2-8aea-63bfb4c8cc45"
      },
      "source": [
        "# Add block_reward column\n",
        "bitcoin_prices_block = bitcoin_prices.copy()\n",
        "bitcoin_prices_block[\"block_reward\"] = None\n",
        "\n",
        "# Set values of block_reward column (it's the last column hence -1 indexing on iloc)\n",
        "bitcoin_prices_block.iloc[:block_reward_2_days, -1] = block_reward_2\n",
        "bitcoin_prices_block.iloc[block_reward_2_days:block_reward_3_days, -1] = block_reward_3\n",
        "bitcoin_prices_block.iloc[block_reward_3_days:, -1] = block_reward_4\n",
        "bitcoin_prices_block.head()"
      ],
      "execution_count": 94,
      "outputs": [
        {
          "output_type": "execute_result",
          "data": {
            "text/html": [
              "<div>\n",
              "<style scoped>\n",
              "    .dataframe tbody tr th:only-of-type {\n",
              "        vertical-align: middle;\n",
              "    }\n",
              "\n",
              "    .dataframe tbody tr th {\n",
              "        vertical-align: top;\n",
              "    }\n",
              "\n",
              "    .dataframe thead th {\n",
              "        text-align: right;\n",
              "    }\n",
              "</style>\n",
              "<table border=\"1\" class=\"dataframe\">\n",
              "  <thead>\n",
              "    <tr style=\"text-align: right;\">\n",
              "      <th></th>\n",
              "      <th>Price</th>\n",
              "      <th>block_reward</th>\n",
              "    </tr>\n",
              "    <tr>\n",
              "      <th>Date</th>\n",
              "      <th></th>\n",
              "      <th></th>\n",
              "    </tr>\n",
              "  </thead>\n",
              "  <tbody>\n",
              "    <tr>\n",
              "      <th>2013-10-01</th>\n",
              "      <td>123.65499</td>\n",
              "      <td>25</td>\n",
              "    </tr>\n",
              "    <tr>\n",
              "      <th>2013-10-02</th>\n",
              "      <td>125.45500</td>\n",
              "      <td>25</td>\n",
              "    </tr>\n",
              "    <tr>\n",
              "      <th>2013-10-03</th>\n",
              "      <td>108.58483</td>\n",
              "      <td>25</td>\n",
              "    </tr>\n",
              "    <tr>\n",
              "      <th>2013-10-04</th>\n",
              "      <td>118.67466</td>\n",
              "      <td>25</td>\n",
              "    </tr>\n",
              "    <tr>\n",
              "      <th>2013-10-05</th>\n",
              "      <td>121.33866</td>\n",
              "      <td>25</td>\n",
              "    </tr>\n",
              "  </tbody>\n",
              "</table>\n",
              "</div>"
            ],
            "text/plain": [
              "                Price block_reward\n",
              "Date                              \n",
              "2013-10-01  123.65499           25\n",
              "2013-10-02  125.45500           25\n",
              "2013-10-03  108.58483           25\n",
              "2013-10-04  118.67466           25\n",
              "2013-10-05  121.33866           25"
            ]
          },
          "metadata": {
            "tags": []
          },
          "execution_count": 94
        }
      ]
    },
    {
      "cell_type": "code",
      "metadata": {
        "id": "LJBX76jcv9dS",
        "colab": {
          "base_uri": "https://localhost:8080/",
          "height": 442
        },
        "outputId": "7d0a2252-8c60-4eb1-d20b-301ac9442b21"
      },
      "source": [
        "# Plot the block reward vs price over time\n",
        "from sklearn.preprocessing import minmax_scale\n",
        "scaled_price_block_df = pd.DataFrame(minmax_scale(bitcoin_prices_block[[\"Price\", \"block_reward\"]]),\n",
        "                                                                       columns=bitcoin_prices_block.columns,\n",
        "                                                                       index=bitcoin_prices_block.index)\n",
        "scaled_price_block_df.plot(figsize=(10, 7));"
      ],
      "execution_count": 95,
      "outputs": [
        {
          "output_type": "display_data",
          "data": {
            "image/png": "[encoded data removed]",
            "text/plain": [
              "<Figure size 720x504 with 1 Axes>"
            ]
          },
          "metadata": {
            "tags": [],
            "needs_background": "light"
          }
        }
      ]
    },
    {
      "cell_type": "markdown",
      "metadata": {
        "id": "H8jIkBkTiBWQ"
      },
      "source": [
        "## Making a windowed dataset with pandas\n",
        "\n",
        "Previously, we've turned our univeriate time series into window dataset using the helper functions above.\n",
        "\n",
        "However, since we've got multivariate data, these functions won't work.\n",
        "\n",
        "Not to worry, we can use the pandas.DataFrame.shift() mehtod to window our multivariate data.\n",
        "\n",
        "https://pandas.pydata.org/pandas-docs/stable/reference/api/pandas.DataFrame.shift.html"
      ]
    },
    {
      "cell_type": "code",
      "metadata": {
        "id": "tJLJEx-ultPR"
      },
      "source": [
        "# Setup dataset hyperparameters\n",
        "HORIZON = 1\n",
        "WINDOW_SIZE = 7"
      ],
      "execution_count": 96,
      "outputs": []
    },
    {
      "cell_type": "code",
      "metadata": {
        "colab": {
          "base_uri": "https://localhost:8080/",
          "height": 390
        },
        "id": "6m1Bwnsol5h4",
        "outputId": "fc74ebc4-e59c-42b5-e095-30303ae63fdd"
      },
      "source": [
        "# Make a copy of the Bitcoin historical data with block reward feature\n",
        "bitcoin_prices_windowed = bitcoin_prices_block.copy()\n",
        "\n",
        "# Add windowed columns\n",
        "for i in range(WINDOW_SIZE): # shift values for each step in WINDOW_SIZE\n",
        "  bitcoin_prices_windowed[f\"Price+{i+1}\"] = bitcoin_prices_windowed[\"Price\"].shift(periods=i+1)\n",
        "bitcoin_prices_windowed.head(10)"
      ],
      "execution_count": 97,
      "outputs": [
        {
          "output_type": "execute_result",
          "data": {
            "text/html": [
              "<div>\n",
              "<style scoped>\n",
              "    .dataframe tbody tr th:only-of-type {\n",
              "        vertical-align: middle;\n",
              "    }\n",
              "\n",
              "    .dataframe tbody tr th {\n",
              "        vertical-align: top;\n",
              "    }\n",
              "\n",
              "    .dataframe thead th {\n",
              "        text-align: right;\n",
              "    }\n",
              "</style>\n",
              "<table border=\"1\" class=\"dataframe\">\n",
              "  <thead>\n",
              "    <tr style=\"text-align: right;\">\n",
              "      <th></th>\n",
              "      <th>Price</th>\n",
              "      <th>block_reward</th>\n",
              "      <th>Price+1</th>\n",
              "      <th>Price+2</th>\n",
              "      <th>Price+3</th>\n",
              "      <th>Price+4</th>\n",
              "      <th>Price+5</th>\n",
              "      <th>Price+6</th>\n",
              "      <th>Price+7</th>\n",
              "    </tr>\n",
              "    <tr>\n",
              "      <th>Date</th>\n",
              "      <th></th>\n",
              "      <th></th>\n",
              "      <th></th>\n",
              "      <th></th>\n",
              "      <th></th>\n",
              "      <th></th>\n",
              "      <th></th>\n",
              "      <th></th>\n",
              "      <th></th>\n",
              "    </tr>\n",
              "  </thead>\n",
              "  <tbody>\n",
              "    <tr>\n",
              "      <th>2013-10-01</th>\n",
              "      <td>123.65499</td>\n",
              "      <td>25</td>\n",
              "      <td>NaN</td>\n",
              "      <td>NaN</td>\n",
              "      <td>NaN</td>\n",
              "      <td>NaN</td>\n",
              "      <td>NaN</td>\n",
              "      <td>NaN</td>\n",
              "      <td>NaN</td>\n",
              "    </tr>\n",
              "    <tr>\n",
              "      <th>2013-10-02</th>\n",
              "      <td>125.45500</td>\n",
              "      <td>25</td>\n",
              "      <td>123.65499</td>\n",
              "      <td>NaN</td>\n",
              "      <td>NaN</td>\n",
              "      <td>NaN</td>\n",
              "      <td>NaN</td>\n",
              "      <td>NaN</td>\n",
              "      <td>NaN</td>\n",
              "    </tr>\n",
              "    <tr>\n",
              "      <th>2013-10-03</th>\n",
              "      <td>108.58483</td>\n",
              "      <td>25</td>\n",
              "      <td>125.45500</td>\n",
              "      <td>123.65499</td>\n",
              "      <td>NaN</td>\n",
              "      <td>NaN</td>\n",
              "      <td>NaN</td>\n",
              "      <td>NaN</td>\n",
              "      <td>NaN</td>\n",
              "    </tr>\n",
              "    <tr>\n",
              "      <th>2013-10-04</th>\n",
              "      <td>118.67466</td>\n",
              "      <td>25</td>\n",
              "      <td>108.58483</td>\n",
              "      <td>125.45500</td>\n",
              "      <td>123.65499</td>\n",
              "      <td>NaN</td>\n",
              "      <td>NaN</td>\n",
              "      <td>NaN</td>\n",
              "      <td>NaN</td>\n",
              "    </tr>\n",
              "    <tr>\n",
              "      <th>2013-10-05</th>\n",
              "      <td>121.33866</td>\n",
              "      <td>25</td>\n",
              "      <td>118.67466</td>\n",
              "      <td>108.58483</td>\n",
              "      <td>125.45500</td>\n",
              "      <td>123.65499</td>\n",
              "      <td>NaN</td>\n",
              "      <td>NaN</td>\n",
              "      <td>NaN</td>\n",
              "    </tr>\n",
              "    <tr>\n",
              "      <th>2013-10-06</th>\n",
              "      <td>120.65533</td>\n",
              "      <td>25</td>\n",
              "      <td>121.33866</td>\n",
              "      <td>118.67466</td>\n",
              "      <td>108.58483</td>\n",
              "      <td>125.45500</td>\n",
              "      <td>123.65499</td>\n",
              "      <td>NaN</td>\n",
              "      <td>NaN</td>\n",
              "    </tr>\n",
              "    <tr>\n",
              "      <th>2013-10-07</th>\n",
              "      <td>121.79500</td>\n",
              "      <td>25</td>\n",
              "      <td>120.65533</td>\n",
              "      <td>121.33866</td>\n",
              "      <td>118.67466</td>\n",
              "      <td>108.58483</td>\n",
              "      <td>125.45500</td>\n",
              "      <td>123.65499</td>\n",
              "      <td>NaN</td>\n",
              "    </tr>\n",
              "    <tr>\n",
              "      <th>2013-10-08</th>\n",
              "      <td>123.03300</td>\n",
              "      <td>25</td>\n",
              "      <td>121.79500</td>\n",
              "      <td>120.65533</td>\n",
              "      <td>121.33866</td>\n",
              "      <td>118.67466</td>\n",
              "      <td>108.58483</td>\n",
              "      <td>125.45500</td>\n",
              "      <td>123.65499</td>\n",
              "    </tr>\n",
              "    <tr>\n",
              "      <th>2013-10-09</th>\n",
              "      <td>124.04900</td>\n",
              "      <td>25</td>\n",
              "      <td>123.03300</td>\n",
              "      <td>121.79500</td>\n",
              "      <td>120.65533</td>\n",
              "      <td>121.33866</td>\n",
              "      <td>118.67466</td>\n",
              "      <td>108.58483</td>\n",
              "      <td>125.45500</td>\n",
              "    </tr>\n",
              "    <tr>\n",
              "      <th>2013-10-10</th>\n",
              "      <td>125.96116</td>\n",
              "      <td>25</td>\n",
              "      <td>124.04900</td>\n",
              "      <td>123.03300</td>\n",
              "      <td>121.79500</td>\n",
              "      <td>120.65533</td>\n",
              "      <td>121.33866</td>\n",
              "      <td>118.67466</td>\n",
              "      <td>108.58483</td>\n",
              "    </tr>\n",
              "  </tbody>\n",
              "</table>\n",
              "</div>"
            ],
            "text/plain": [
              "                Price block_reward    Price+1  ...    Price+5    Price+6    Price+7\n",
              "Date                                           ...                                 \n",
              "2013-10-01  123.65499           25        NaN  ...        NaN        NaN        NaN\n",
              "2013-10-02  125.45500           25  123.65499  ...        NaN        NaN        NaN\n",
              "2013-10-03  108.58483           25  125.45500  ...        NaN        NaN        NaN\n",
              "2013-10-04  118.67466           25  108.58483  ...        NaN        NaN        NaN\n",
              "2013-10-05  121.33866           25  118.67466  ...        NaN        NaN        NaN\n",
              "2013-10-06  120.65533           25  121.33866  ...  123.65499        NaN        NaN\n",
              "2013-10-07  121.79500           25  120.65533  ...  125.45500  123.65499        NaN\n",
              "2013-10-08  123.03300           25  121.79500  ...  108.58483  125.45500  123.65499\n",
              "2013-10-09  124.04900           25  123.03300  ...  118.67466  108.58483  125.45500\n",
              "2013-10-10  125.96116           25  124.04900  ...  121.33866  118.67466  108.58483\n",
              "\n",
              "[10 rows x 9 columns]"
            ]
          },
          "metadata": {
            "tags": []
          },
          "execution_count": 97
        }
      ]
    },
    {
      "cell_type": "markdown",
      "metadata": {
        "id": "3V-RPaeJnb8n"
      },
      "source": [
        "What we've done is created a way to window our dataset directly from a pandas dataframe.\n",
        "\n",
        "```\n",
        "[0, 1, 2, 3, 4, 5, 6, block_reward] -> [7]\n",
        "[1, 2, 3, 4, 5, 6, 7, block_reward] -> [8]\n",
        "[2, 3, 4, 5, 6, 7, 8, block_reward] -> [9]\n",
        "```"
      ]
    },
    {
      "cell_type": "code",
      "metadata": {
        "colab": {
          "base_uri": "https://localhost:8080/",
          "height": 235
        },
        "id": "odLBc1AnnUXa",
        "outputId": "8b49908f-ba15-479a-bd2e-70aa079ce8ec"
      },
      "source": [
        "# Create X (windows) and y (horizon) features\n",
        "X = bitcoin_prices_windowed.dropna().drop(\"Price\", axis=1).astype(np.float32)\n",
        "y = bitcoin_prices_windowed.dropna()[\"Price\"].astype(np.float32)\n",
        "X.head()"
      ],
      "execution_count": 98,
      "outputs": [
        {
          "output_type": "execute_result",
          "data": {
            "text/html": [
              "<div>\n",
              "<style scoped>\n",
              "    .dataframe tbody tr th:only-of-type {\n",
              "        vertical-align: middle;\n",
              "    }\n",
              "\n",
              "    .dataframe tbody tr th {\n",
              "        vertical-align: top;\n",
              "    }\n",
              "\n",
              "    .dataframe thead th {\n",
              "        text-align: right;\n",
              "    }\n",
              "</style>\n",
              "<table border=\"1\" class=\"dataframe\">\n",
              "  <thead>\n",
              "    <tr style=\"text-align: right;\">\n",
              "      <th></th>\n",
              "      <th>block_reward</th>\n",
              "      <th>Price+1</th>\n",
              "      <th>Price+2</th>\n",
              "      <th>Price+3</th>\n",
              "      <th>Price+4</th>\n",
              "      <th>Price+5</th>\n",
              "      <th>Price+6</th>\n",
              "      <th>Price+7</th>\n",
              "    </tr>\n",
              "    <tr>\n",
              "      <th>Date</th>\n",
              "      <th></th>\n",
              "      <th></th>\n",
              "      <th></th>\n",
              "      <th></th>\n",
              "      <th></th>\n",
              "      <th></th>\n",
              "      <th></th>\n",
              "      <th></th>\n",
              "    </tr>\n",
              "  </thead>\n",
              "  <tbody>\n",
              "    <tr>\n",
              "      <th>2013-10-08</th>\n",
              "      <td>25.0</td>\n",
              "      <td>121.794998</td>\n",
              "      <td>120.655327</td>\n",
              "      <td>121.338661</td>\n",
              "      <td>118.674660</td>\n",
              "      <td>108.584831</td>\n",
              "      <td>125.455002</td>\n",
              "      <td>123.654991</td>\n",
              "    </tr>\n",
              "    <tr>\n",
              "      <th>2013-10-09</th>\n",
              "      <td>25.0</td>\n",
              "      <td>123.032997</td>\n",
              "      <td>121.794998</td>\n",
              "      <td>120.655327</td>\n",
              "      <td>121.338661</td>\n",
              "      <td>118.674660</td>\n",
              "      <td>108.584831</td>\n",
              "      <td>125.455002</td>\n",
              "    </tr>\n",
              "    <tr>\n",
              "      <th>2013-10-10</th>\n",
              "      <td>25.0</td>\n",
              "      <td>124.049004</td>\n",
              "      <td>123.032997</td>\n",
              "      <td>121.794998</td>\n",
              "      <td>120.655327</td>\n",
              "      <td>121.338661</td>\n",
              "      <td>118.674660</td>\n",
              "      <td>108.584831</td>\n",
              "    </tr>\n",
              "    <tr>\n",
              "      <th>2013-10-11</th>\n",
              "      <td>25.0</td>\n",
              "      <td>125.961159</td>\n",
              "      <td>124.049004</td>\n",
              "      <td>123.032997</td>\n",
              "      <td>121.794998</td>\n",
              "      <td>120.655327</td>\n",
              "      <td>121.338661</td>\n",
              "      <td>118.674660</td>\n",
              "    </tr>\n",
              "    <tr>\n",
              "      <th>2013-10-12</th>\n",
              "      <td>25.0</td>\n",
              "      <td>125.279663</td>\n",
              "      <td>125.961159</td>\n",
              "      <td>124.049004</td>\n",
              "      <td>123.032997</td>\n",
              "      <td>121.794998</td>\n",
              "      <td>120.655327</td>\n",
              "      <td>121.338661</td>\n",
              "    </tr>\n",
              "  </tbody>\n",
              "</table>\n",
              "</div>"
            ],
            "text/plain": [
              "            block_reward     Price+1  ...     Price+6     Price+7\n",
              "Date                                  ...                        \n",
              "2013-10-08          25.0  121.794998  ...  125.455002  123.654991\n",
              "2013-10-09          25.0  123.032997  ...  108.584831  125.455002\n",
              "2013-10-10          25.0  124.049004  ...  118.674660  108.584831\n",
              "2013-10-11          25.0  125.961159  ...  121.338661  118.674660\n",
              "2013-10-12          25.0  125.279663  ...  120.655327  121.338661\n",
              "\n",
              "[5 rows x 8 columns]"
            ]
          },
          "metadata": {
            "tags": []
          },
          "execution_count": 98
        }
      ]
    },
    {
      "cell_type": "code",
      "metadata": {
        "colab": {
          "base_uri": "https://localhost:8080/"
        },
        "id": "wkENyEMeoWUV",
        "outputId": "01e56163-8b9f-45a9-d0bd-6d15ce410fde"
      },
      "source": [
        "y.head()"
      ],
      "execution_count": 99,
      "outputs": [
        {
          "output_type": "execute_result",
          "data": {
            "text/plain": [
              "Date\n",
              "2013-10-08    123.032997\n",
              "2013-10-09    124.049004\n",
              "2013-10-10    125.961159\n",
              "2013-10-11    125.279663\n",
              "2013-10-12    125.927498\n",
              "Name: Price, dtype: float32"
            ]
          },
          "metadata": {
            "tags": []
          },
          "execution_count": 99
        }
      ]
    },
    {
      "cell_type": "code",
      "metadata": {
        "colab": {
          "base_uri": "https://localhost:8080/"
        },
        "id": "qOx4fscaox05",
        "outputId": "eaeda16d-7b51-427c-abc2-57545511937a"
      },
      "source": [
        "# Make train and test sets\n",
        "split_size = int(len(X) * 0.8)\n",
        "X_train, y_train = X[:split_size], y[:split_size]\n",
        "X_test, y_test = X[split_size:], y[split_size:]\n",
        "len(X_train), len(y_train), len(X_test), len(y_test)"
      ],
      "execution_count": 100,
      "outputs": [
        {
          "output_type": "execute_result",
          "data": {
            "text/plain": [
              "(2224, 2224, 556, 556)"
            ]
          },
          "metadata": {
            "tags": []
          },
          "execution_count": 100
        }
      ]
    },
    {
      "cell_type": "markdown",
      "metadata": {
        "id": "1jWdWQK-pLlQ"
      },
      "source": [
        "## Model 6: Dense(multivariate times series)"
      ]
    },
    {
      "cell_type": "code",
      "metadata": {
        "colab": {
          "base_uri": "https://localhost:8080/"
        },
        "id": "RW4d7xCLpthg",
        "outputId": "befad194-1291-4838-f581-d20d03f8620b"
      },
      "source": [
        "tf.random.set_seed(42)\n",
        "\n",
        "# Make multivariate time series model\n",
        "model_6 = tf.keras.Sequential([\n",
        "  layers.Dense(128, activation=\"relu\"),\n",
        "  # layers.Dense(128, activation=\"relu\"),\n",
        "  layers.Dense(HORIZON)\n",
        "], name=\"model_6_dense_multivariate\")\n",
        "\n",
        "# Compile \n",
        "model_6.compile(loss=\"mae\",\n",
        "                optimizer=tf.keras.optimizers.Adam())\n",
        "\n",
        "# Fit\n",
        "model_6.fit(X_train, y_train,\n",
        "           epochs=100,\n",
        "           batch_size=128,\n",
        "           verbose=0, # only print 1 line per epoch\n",
        "           validation_data=(X_test, y_test),\n",
        "           callbacks=[create_model_checkpoint(model_name=model_6.name)])"
      ],
      "execution_count": 101,
      "outputs": [
        {
          "output_type": "stream",
          "text": [
            "INFO:tensorflow:Assets written to: model_experiments/model_6_dense_multivariate/assets\n",
            "INFO:tensorflow:Assets written to: model_experiments/model_6_dense_multivariate/assets\n",
            "INFO:tensorflow:Assets written to: model_experiments/model_6_dense_multivariate/assets\n",
            "INFO:tensorflow:Assets written to: model_experiments/model_6_dense_multivariate/assets\n",
            "INFO:tensorflow:Assets written to: model_experiments/model_6_dense_multivariate/assets\n",
            "INFO:tensorflow:Assets written to: model_experiments/model_6_dense_multivariate/assets\n",
            "INFO:tensorflow:Assets written to: model_experiments/model_6_dense_multivariate/assets\n",
            "INFO:tensorflow:Assets written to: model_experiments/model_6_dense_multivariate/assets\n",
            "INFO:tensorflow:Assets written to: model_experiments/model_6_dense_multivariate/assets\n",
            "INFO:tensorflow:Assets written to: model_experiments/model_6_dense_multivariate/assets\n",
            "INFO:tensorflow:Assets written to: model_experiments/model_6_dense_multivariate/assets\n",
            "INFO:tensorflow:Assets written to: model_experiments/model_6_dense_multivariate/assets\n",
            "INFO:tensorflow:Assets written to: model_experiments/model_6_dense_multivariate/assets\n",
            "INFO:tensorflow:Assets written to: model_experiments/model_6_dense_multivariate/assets\n",
            "INFO:tensorflow:Assets written to: model_experiments/model_6_dense_multivariate/assets\n",
            "INFO:tensorflow:Assets written to: model_experiments/model_6_dense_multivariate/assets\n",
            "INFO:tensorflow:Assets written to: model_experiments/model_6_dense_multivariate/assets\n",
            "INFO:tensorflow:Assets written to: model_experiments/model_6_dense_multivariate/assets\n",
            "INFO:tensorflow:Assets written to: model_experiments/model_6_dense_multivariate/assets\n",
            "INFO:tensorflow:Assets written to: model_experiments/model_6_dense_multivariate/assets\n",
            "INFO:tensorflow:Assets written to: model_experiments/model_6_dense_multivariate/assets\n",
            "INFO:tensorflow:Assets written to: model_experiments/model_6_dense_multivariate/assets\n",
            "INFO:tensorflow:Assets written to: model_experiments/model_6_dense_multivariate/assets\n",
            "INFO:tensorflow:Assets written to: model_experiments/model_6_dense_multivariate/assets\n",
            "INFO:tensorflow:Assets written to: model_experiments/model_6_dense_multivariate/assets\n",
            "INFO:tensorflow:Assets written to: model_experiments/model_6_dense_multivariate/assets\n",
            "INFO:tensorflow:Assets written to: model_experiments/model_6_dense_multivariate/assets\n",
            "INFO:tensorflow:Assets written to: model_experiments/model_6_dense_multivariate/assets\n",
            "INFO:tensorflow:Assets written to: model_experiments/model_6_dense_multivariate/assets\n",
            "INFO:tensorflow:Assets written to: model_experiments/model_6_dense_multivariate/assets\n",
            "INFO:tensorflow:Assets written to: model_experiments/model_6_dense_multivariate/assets\n",
            "INFO:tensorflow:Assets written to: model_experiments/model_6_dense_multivariate/assets\n",
            "INFO:tensorflow:Assets written to: model_experiments/model_6_dense_multivariate/assets\n",
            "INFO:tensorflow:Assets written to: model_experiments/model_6_dense_multivariate/assets\n",
            "INFO:tensorflow:Assets written to: model_experiments/model_6_dense_multivariate/assets\n",
            "INFO:tensorflow:Assets written to: model_experiments/model_6_dense_multivariate/assets\n",
            "INFO:tensorflow:Assets written to: model_experiments/model_6_dense_multivariate/assets\n"
          ],
          "name": "stdout"
        },
        {
          "output_type": "execute_result",
          "data": {
            "text/plain": [
              "<tensorflow.python.keras.callbacks.History at 0x7f1cee0a02d0>"
            ]
          },
          "metadata": {
            "tags": []
          },
          "execution_count": 101
        }
      ]
    },
    {
      "cell_type": "code",
      "metadata": {
        "colab": {
          "base_uri": "https://localhost:8080/"
        },
        "id": "NEdaa-vgrL32",
        "outputId": "325c089e-fc2d-4911-ba77-3b62e0d6b0e6"
      },
      "source": [
        "model_6.evaluate(X_test, y_test)"
      ],
      "execution_count": 102,
      "outputs": [
        {
          "output_type": "stream",
          "text": [
            "18/18 [==============================] - 0s 1ms/step - loss: 626.7440\n"
          ],
          "name": "stdout"
        },
        {
          "output_type": "execute_result",
          "data": {
            "text/plain": [
              "626.7440185546875"
            ]
          },
          "metadata": {
            "tags": []
          },
          "execution_count": 102
        }
      ]
    },
    {
      "cell_type": "code",
      "metadata": {
        "colab": {
          "base_uri": "https://localhost:8080/"
        },
        "id": "2d3EetffrW4A",
        "outputId": "3eec672e-ace5-4d84-d2ce-b42bb5e439da"
      },
      "source": [
        "# Load in and evaluate best performing model\n",
        "model_6 = tf.keras.models.load_model(\"model_experiments/model_6_dense_multivariate\")\n",
        "model_6.evaluate(X_test, y_test)"
      ],
      "execution_count": 103,
      "outputs": [
        {
          "output_type": "stream",
          "text": [
            "18/18 [==============================] - 0s 1ms/step - loss: 567.8899\n"
          ],
          "name": "stdout"
        },
        {
          "output_type": "execute_result",
          "data": {
            "text/plain": [
              "567.889892578125"
            ]
          },
          "metadata": {
            "tags": []
          },
          "execution_count": 103
        }
      ]
    },
    {
      "cell_type": "code",
      "metadata": {
        "colab": {
          "base_uri": "https://localhost:8080/"
        },
        "id": "V8mZPd4mrpPh",
        "outputId": "4f73e316-f0ed-46c7-c959-8c2a95c895bf"
      },
      "source": [
        "# Make predictions with multivariate model\n",
        "model_6_preds = tf.squeeze(model_6.predict(X_test))\n",
        "model_6_preds[:10]"
      ],
      "execution_count": 104,
      "outputs": [
        {
          "output_type": "execute_result",
          "data": {
            "text/plain": [
              "<tf.Tensor: shape=(10,), dtype=float32, numpy=\n",
              "array([8844.684, 8769.905, 9045.17 , 8747.686, 8728.429, 8772.757,\n",
              "       8667.292, 8503.437, 8470.313, 8527.244], dtype=float32)>"
            ]
          },
          "metadata": {
            "tags": []
          },
          "execution_count": 104
        }
      ]
    },
    {
      "cell_type": "code",
      "metadata": {
        "colab": {
          "base_uri": "https://localhost:8080/"
        },
        "id": "7BsGLNV2r70J",
        "outputId": "58ab75bb-4042-45b0-ecc4-03fd06688746"
      },
      "source": [
        "# Evaluate predictions to get eval metrics\n",
        "model_6_results = evaluate_preds(y_true=y_test,\n",
        "                                 y_pred=model_6_preds)\n",
        "model_6_results"
      ],
      "execution_count": 105,
      "outputs": [
        {
          "output_type": "execute_result",
          "data": {
            "text/plain": [
              "{'mae': 567.8899,\n",
              " 'mape': 2.5460758,\n",
              " 'mase': 0.99762523,\n",
              " 'mse': 1164816.4,\n",
              " 'rmse': 1079.2666}"
            ]
          },
          "metadata": {
            "tags": []
          },
          "execution_count": 105
        }
      ]
    },
    {
      "cell_type": "code",
      "metadata": {
        "colab": {
          "base_uri": "https://localhost:8080/"
        },
        "id": "zrz2Pv6NsYxL",
        "outputId": "2aeceb59-9906-4437-d2b9-6d14b33c2557"
      },
      "source": [
        "model_1_results"
      ],
      "execution_count": 106,
      "outputs": [
        {
          "output_type": "execute_result",
          "data": {
            "text/plain": [
              "{'mae': 568.9511,\n",
              " 'mape': 2.5448983,\n",
              " 'mase': 0.99948955,\n",
              " 'mse': 1171743.8,\n",
              " 'rmse': 1082.4712}"
            ]
          },
          "metadata": {
            "tags": []
          },
          "execution_count": 106
        }
      ]
    },
    {
      "cell_type": "markdown",
      "metadata": {
        "id": "1TmHYQxAse4S"
      },
      "source": [
        "For a challenge on different ways to potential improve the multivariate time series model, see the reference here: https://dev.mrdbourke.com/tensorflow-deep-learning/10_time_series_forecasting_in_tensorflow/#Model-6:-Dense-(multivariate-time-series)\n",
        "\n",
        "<img src=\"https://raw.githubusercontent.com/mrdbourke/tensorflow-deep-learning/main/images/02-improving-a-model-from-model-perspective.png\" alt=\"various options you can use to improve a neural network model\">"
      ]
    },
    {
      "cell_type": "markdown",
      "metadata": {
        "id": "KA-xJRycfUUX"
      },
      "source": [
        "## Model 7: N-BEATS algorithm\n",
        "\n",
        "Let's now try to build the biggest daddest (though maybe not the baddest, as in, it perform really well...) time series forcasting model we've built so far.\n",
        "\n",
        "More specifically, we're going to be replicating the algorithm in figure 1 in the following paper: https://arxiv.org/pdf/1905.10437.pdf\n",
        "\n",
        "Why?\n",
        "\n",
        "* This will allow us to practice replicating a paper with TensorFlow code\n",
        "* We will see how to use TensorFlow layer subclassing (to make our own custom layers)\n",
        "* Get experience using the Functional API to create a custom architecture\n",
        "* Potentially get stat of the art answers to our problem"
      ]
    },
    {
      "cell_type": "markdown",
      "metadata": {
        "id": "YpMc7pP8jGmf"
      },
      "source": [
        "### Building and testing the N-BEATS block layer\n",
        "\n",
        "Because the N-BEATS block layer doesn't exist in TensorFlow, we've got to create it.\n",
        "\n",
        "To create custom layers and models in TensorFlow we can use subclassing: https://www.tensorflow.org/guide/keras/custom_layers_and_models"
      ]
    },
    {
      "cell_type": "markdown",
      "metadata": {
        "id": "2ymDENYHrmYu"
      },
      "source": [
        "<img src=\"https://raw.githubusercontent.com/mrdbourke/tensorflow-deep-learning/main/images/10-figure-1-nbeats-paper-annotated.png\" alt=\"figure 1 from N-BBEATS paper, the algorithm we're going to build\">"
      ]
    },
    {
      "cell_type": "code",
      "metadata": {
        "id": "bx-Wgac6jskX"
      },
      "source": [
        "# Create NBeatBlock custom layer\n",
        "class NBeatsBlock(tf.keras.layers.Layer):\n",
        "  def __init__(self,\n",
        "               input_size: int,\n",
        "               theta_size: int,\n",
        "               horizon: int,\n",
        "               n_neurons: int,\n",
        "               n_layers: int,\n",
        "               **kwargs): # the **kwargs argument takes care of all of the arguments for the parent class (input_shape, trainable, name)\n",
        "    super().__init__(**kwargs)\n",
        "    self.input_size = input_size\n",
        "    self.theta_size = theta_size\n",
        "    self.horizon = horizon\n",
        "    self.n_neurons = n_neurons\n",
        "    self.n_layers = n_layers\n",
        "\n",
        "    # Block contains stack of 4 fully connected layers each has ReLU activation\n",
        "    self.hidden = [tf.keras.layers.Dense(n_neurons, activation=\"relu\") for _ in range(n_layers)]\n",
        "    \n",
        "    # Output of block is a theta layer with linear activation\n",
        "    self.theta_layer = tf.keras.layers.Dense(theta_size, activation=\"linear\", name=\"theta\")\n",
        "\n",
        "  def call (self, inputs):\n",
        "    x = inputs\n",
        "    for layer in self.hidden:\n",
        "      x = layer(x)\n",
        "    theta = self.theta_layer(x)\n",
        "\n",
        "    # Output the backcast and the forecast from the theta\n",
        "    backcast, forecast = theta[:, :self.input_size], theta[:, -self.horizon:]\n",
        "\n",
        "    return backcast, forecast"
      ],
      "execution_count": 107,
      "outputs": []
    },
    {
      "cell_type": "markdown",
      "metadata": {
        "id": "USsbgfnXpKw3"
      },
      "source": [
        "<img src=\"https://raw.githubusercontent.com/mrdbourke/tensorflow-deep-learning/main/images/10-nbeats-basic-block-replication-with-tensorflow-layer-subclassing.png\" alt=\"code mapping to image of N-BEATS basic block\">\n",
        "\n",
        "Let's test our NBeatsBlock class.\n",
        "\n",
        "To do we'll make some dummy inputs and outputs"
      ]
    },
    {
      "cell_type": "code",
      "metadata": {
        "id": "1LYpZsDgpOMI"
      },
      "source": [
        "# Set up dummy NBeatsBlock layer to represent inputs and outputs\n",
        "dummy_nbeats_block_layer = NBeatsBlock(input_size=WINDOW_SIZE, \n",
        "                                       theta_size=WINDOW_SIZE+HORIZON, # backcast + forecast \n",
        "                                       horizon=HORIZON,\n",
        "                                       n_neurons=128,\n",
        "                                       n_layers=4)"
      ],
      "execution_count": 108,
      "outputs": []
    },
    {
      "cell_type": "code",
      "metadata": {
        "colab": {
          "base_uri": "https://localhost:8080/"
        },
        "id": "MT0zVhgOs3iR",
        "outputId": "09df1d03-7bc2-46ad-dcba-c04ec92c2785"
      },
      "source": [
        "# Creat dummy inputs (have to be same size as input_size)\n",
        "dummy_inputs = tf.expand_dims(tf.range(WINDOW_SIZE) + 1, axis=0) # input shape to the model has to reflect dense layers into requirement (ndim=2\n",
        "dummy_inputs"
      ],
      "execution_count": 109,
      "outputs": [
        {
          "output_type": "execute_result",
          "data": {
            "text/plain": [
              "<tf.Tensor: shape=(1, 7), dtype=int32, numpy=array([[1, 2, 3, 4, 5, 6, 7]], dtype=int32)>"
            ]
          },
          "metadata": {
            "tags": []
          },
          "execution_count": 109
        }
      ]
    },
    {
      "cell_type": "code",
      "metadata": {
        "colab": {
          "base_uri": "https://localhost:8080/"
        },
        "id": "Ly5o9-ArtnHx",
        "outputId": "ab1423b9-5fb0-40e6-8293-0b49781c6c7d"
      },
      "source": [
        "# Pass dummy inputs to dummy NBeatsBlock layer\n",
        "backcast, forecast = dummy_nbeats_block_layer(dummy_inputs)\n",
        "# These are the activation outputs of the theta layer (they'll be random due to no training of the model)\n",
        "print(f\"Backcast: {tf.squeeze(backcast.numpy())}\")\n",
        "print(f\"Forecast: {tf.squeeze(forecast.numpy())}\")"
      ],
      "execution_count": 110,
      "outputs": [
        {
          "output_type": "stream",
          "text": [
            "Backcast: [ 0.19014993  0.83798355 -0.3287001   0.2515993  -0.47540283 -0.7783665\n",
            " -0.5299447 ]\n",
            "Forecast: -0.7554212808609009\n"
          ],
          "name": "stdout"
        }
      ]
    },
    {
      "cell_type": "markdown",
      "metadata": {
        "id": "OLb6QvXMunTX"
      },
      "source": [
        "### Setting up hyperparameters for N-BEATS algorithm\n",
        "\n",
        "The N-BEATS algorithm has a fair few number of parameters, many of them can be found in Table 18: https://arxiv.org/pdf/1905.10437.pdf"
      ]
    },
    {
      "cell_type": "code",
      "metadata": {
        "colab": {
          "base_uri": "https://localhost:8080/"
        },
        "id": "iI41mHPqvZBq",
        "outputId": "5d466750-ed70-47db-ba4f-30d958794742"
      },
      "source": [
        "# Values from N-BEATS paper\n",
        "N_EPOCHS = 5000\n",
        "N_NEURONS = 512\n",
        "N_LAYERS = 4\n",
        "N_STACKS = 30\n",
        "\n",
        "INPUT_SIZE = WINDOW_SIZE * HORIZON\n",
        "THETA_SIZE = INPUT_SIZE + HORIZON\n",
        "\n",
        "INPUT_SIZE, THETA_SIZE"
      ],
      "execution_count": 112,
      "outputs": [
        {
          "output_type": "execute_result",
          "data": {
            "text/plain": [
              "(7, 8)"
            ]
          },
          "metadata": {
            "tags": []
          },
          "execution_count": 112
        }
      ]
    },
    {
      "cell_type": "code",
      "metadata": {
        "id": "tT-6WOuBxmnL"
      },
      "source": [
        ""
      ],
      "execution_count": null,
      "outputs": []
    }
  ]
}