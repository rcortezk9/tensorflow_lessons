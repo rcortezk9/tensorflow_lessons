{
  "nbformat": 4,
  "nbformat_minor": 0,
  "metadata": {
    "colab": {
      "name": "01_neural_network_regression_with_tensorflow.ipynb",
      "provenance": [],
      "collapsed_sections": [],
      "toc_visible": true,
      "mount_file_id": "16hOs9Ka_hko689kbcbZ4Lm4NNZCfLsx4",
      "authorship_tag": "ABX9TyPzgHSoCtm3XnW8+EqkteZy",
      "include_colab_link": true
    },
    "kernelspec": {
      "name": "python3",
      "display_name": "Python 3"
    },
    "language_info": {
      "name": "python"
    }
  },
  "cells": [
    {
      "cell_type": "markdown",
      "metadata": {
        "id": "view-in-github",
        "colab_type": "text"
      },
      "source": [
        "<a href=\"https://colab.research.google.com/github/rcortezk9/tensorflow_lessons/blob/main/01_neural_network_regression_with_tensorflow.ipynb\" target=\"_parent\"><img src=\"https://colab.research.google.com/assets/colab-badge.svg\" alt=\"Open In Colab\"/></a>"
      ]
    },
    {
      "cell_type": "markdown",
      "metadata": {
        "id": "OvJywoLF9c0L"
      },
      "source": [
        "# Introduction to Regression with Neural Networks in TensorFlow\n",
        "\n",
        "There are many definitions for a regression problem but in our case, we're going to simplify it: predicting a numberical varialbe based on some other combination of  vvariables, even shorter... predictin a number."
      ]
    },
    {
      "cell_type": "code",
      "metadata": {
        "colab": {
          "base_uri": "https://localhost:8080/"
        },
        "id": "JeHXGCpa-NPW",
        "outputId": "18023f23-fe56-4d58-c24b-16ccb60496b9"
      },
      "source": [
        "# Import TensorFlow\n",
        "import tensorflow as tf\n",
        "print(tf.__version__) # print out the version of TensorFlow"
      ],
      "execution_count": null,
      "outputs": [
        {
          "output_type": "stream",
          "text": [
            "2.4.1\n"
          ],
          "name": "stdout"
        }
      ]
    },
    {
      "cell_type": "markdown",
      "metadata": {
        "id": "FERBdt5w-UTS"
      },
      "source": [
        "## Creating data to view and fit"
      ]
    },
    {
      "cell_type": "code",
      "metadata": {
        "id": "opRpLKqkBQf2",
        "colab": {
          "base_uri": "https://localhost:8080/",
          "height": 268
        },
        "outputId": "05727119-19ae-425e-e8f3-c0680a77dca2"
      },
      "source": [
        "import numpy as np\n",
        "import matplotlib.pyplot as plt\n",
        "\n",
        "# Create features\n",
        "X = np.array([-7.0, -4.0, -1.0, 2.0, 5.0, 8.0, 11.0, 14.0])\n",
        "\n",
        "# Create labels\n",
        "y = np.array([3.0, 6.0, 9.0, 12.0, 15.0, 18.0, 21.0, 24.0])\n",
        "\n",
        "# Visualize it\n",
        "plt.scatter(X, y);"
      ],
      "execution_count": null,
      "outputs": [
        {
          "output_type": "display_data",
          "data": {
            "image/png": "[encoded data removed]",
            "text/plain": [
              "<Figure size 432x288 with 1 Axes>"
            ]
          },
          "metadata": {
            "tags": [],
            "needs_background": "light"
          }
        }
      ]
    },
    {
      "cell_type": "code",
      "metadata": {
        "colab": {
          "base_uri": "https://localhost:8080/"
        },
        "id": "d1TJNLk45Ssd",
        "outputId": "8708ed5d-ca04-4940-ba77-25791f81a01c"
      },
      "source": [
        "y == X + 10"
      ],
      "execution_count": null,
      "outputs": [
        {
          "output_type": "execute_result",
          "data": {
            "text/plain": [
              "array([ True,  True,  True,  True,  True,  True,  True,  True])"
            ]
          },
          "metadata": {
            "tags": []
          },
          "execution_count": 3
        }
      ]
    },
    {
      "cell_type": "markdown",
      "metadata": {
        "id": "u_plcFv850sC"
      },
      "source": [
        "## Input and output shapes "
      ]
    },
    {
      "cell_type": "code",
      "metadata": {
        "colab": {
          "base_uri": "https://localhost:8080/"
        },
        "id": "Rx4h93UO58Uw",
        "outputId": "9df87c5d-14b4-4662-84f9-3bbf74588273"
      },
      "source": [
        "# Create a demo tensor for our housing price prediction problem\n",
        "\n",
        "house_info = tf.constant(['bedroom', 'bathroom', 'garage'])\n",
        "house_price = tf.constant([939700])\n",
        "house_info, house_price"
      ],
      "execution_count": null,
      "outputs": [
        {
          "output_type": "execute_result",
          "data": {
            "text/plain": [
              "(<tf.Tensor: shape=(3,), dtype=string, numpy=array([b'bedroom', b'bathroom', b'garage'], dtype=object)>,\n",
              " <tf.Tensor: shape=(1,), dtype=int32, numpy=array([939700], dtype=int32)>)"
            ]
          },
          "metadata": {
            "tags": []
          },
          "execution_count": 4
        }
      ]
    },
    {
      "cell_type": "code",
      "metadata": {
        "colab": {
          "base_uri": "https://localhost:8080/"
        },
        "id": "WVBWAlWt7kzY",
        "outputId": "a11a0e9a-54d9-4579-f612-49a73979b816"
      },
      "source": [
        "input_shape = X.shape\n",
        "output_shape = y.shape\n",
        "input_shape, output_shape"
      ],
      "execution_count": null,
      "outputs": [
        {
          "output_type": "execute_result",
          "data": {
            "text/plain": [
              "((8,), (8,))"
            ]
          },
          "metadata": {
            "tags": []
          },
          "execution_count": 5
        }
      ]
    },
    {
      "cell_type": "code",
      "metadata": {
        "id": "610h-iom8Dig",
        "colab": {
          "base_uri": "https://localhost:8080/"
        },
        "outputId": "99001a10-f4d9-44d3-a51c-a3d62bc1de8b"
      },
      "source": [
        "# Turn our NumPy arrays into tensors\n",
        "X = tf.constant(X)\n",
        "y = tf.constant(y)\n",
        "\n",
        "X, y"
      ],
      "execution_count": null,
      "outputs": [
        {
          "output_type": "execute_result",
          "data": {
            "text/plain": [
              "(<tf.Tensor: shape=(8,), dtype=float64, numpy=array([-7., -4., -1.,  2.,  5.,  8., 11., 14.])>,\n",
              " <tf.Tensor: shape=(8,), dtype=float64, numpy=array([ 3.,  6.,  9., 12., 15., 18., 21., 24.])>)"
            ]
          },
          "metadata": {
            "tags": []
          },
          "execution_count": 6
        }
      ]
    },
    {
      "cell_type": "code",
      "metadata": {
        "id": "AlU5fAPo9Whu",
        "colab": {
          "base_uri": "https://localhost:8080/"
        },
        "outputId": "f3b464bf-b462-404b-a75c-6a22fa9d604a"
      },
      "source": [
        "input_shape = X[0].shape \n",
        "output_shape = y[0].shape \n",
        "input_shape, output_shape"
      ],
      "execution_count": null,
      "outputs": [
        {
          "output_type": "execute_result",
          "data": {
            "text/plain": [
              "(TensorShape([]), TensorShape([]))"
            ]
          },
          "metadata": {
            "tags": []
          },
          "execution_count": 7
        }
      ]
    },
    {
      "cell_type": "code",
      "metadata": {
        "colab": {
          "base_uri": "https://localhost:8080/",
          "height": 286
        },
        "id": "OO0GhXjb9vWp",
        "outputId": "f624a31e-069b-4f68-b34e-459fd6a171bb"
      },
      "source": [
        "plt.scatter(X,y)"
      ],
      "execution_count": null,
      "outputs": [
        {
          "output_type": "execute_result",
          "data": {
            "text/plain": [
              "<matplotlib.collections.PathCollection at 0x7fe72b49a250>"
            ]
          },
          "metadata": {
            "tags": []
          },
          "execution_count": 8
        },
        {
          "output_type": "display_data",
          "data": {
            "image/png": "[encoded data removed]",
            "text/plain": [
              "<Figure size 432x288 with 1 Axes>"
            ]
          },
          "metadata": {
            "tags": [],
            "needs_background": "light"
          }
        }
      ]
    },
    {
      "cell_type": "markdown",
      "metadata": {
        "id": "m6IXbm1S95wz"
      },
      "source": [
        "## Steps in modelling with TensorFlow\n",
        "\n",
        "1. **Creating a model** - define the input and output layers, as well as the hidden layers of a deep learning model.\n",
        "2. **Compilling a model** - define the loss function (in other words, the function which tells our model how wron it is) and the optimizer (tells our model how to improve the patterns its learning) and evaluation metrics (what we can use to interpret the performace of our model).\n",
        "3. **Fitting a model** - letting the model try to fiind patterns between X and y (features and labels)."
      ]
    },
    {
      "cell_type": "markdown",
      "metadata": {
        "id": "ZT2Z-37d-9X0"
      },
      "source": [
        "![TensorFlow Model.png](data:image/png;base64,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)"
      ]
    },
    {
      "cell_type": "code",
      "metadata": {
        "colab": {
          "base_uri": "https://localhost:8080/"
        },
        "id": "ZM8du-HR_3TF",
        "outputId": "dd2a23c2-31ef-4b9f-ed28-d5e6cb913a6b"
      },
      "source": [
        "# Set random seed\n",
        "tf.random.set_seed(42)\n",
        "\n",
        "#1. Create a model using the Sequential API\n",
        "model = tf.keras.Sequential([\n",
        "    tf.keras.layers.Dense(1)\n",
        "])\n",
        "\n",
        "#2. Compile the model\n",
        "model.compile(loss=tf.keras.losses.mae, # mean absolute error\n",
        "              optimizer=tf.keras.optimizers.SGD(), # stochasitc gradient descent\n",
        "              metrics=['mae'])\n",
        "\n",
        "#3. Fit the model\n",
        "model.fit(X, y, epochs=5)"
      ],
      "execution_count": null,
      "outputs": [
        {
          "output_type": "stream",
          "text": [
            "Epoch 1/5\n",
            "1/1 [==============================] - 0s 485ms/step - loss: 11.5048 - mae: 11.5048\n",
            "Epoch 2/5\n",
            "1/1 [==============================] - 0s 10ms/step - loss: 11.3723 - mae: 11.3723\n",
            "Epoch 3/5\n",
            "1/1 [==============================] - 0s 7ms/step - loss: 11.2398 - mae: 11.2398\n",
            "Epoch 4/5\n",
            "1/1 [==============================] - 0s 6ms/step - loss: 11.1073 - mae: 11.1073\n",
            "Epoch 5/5\n",
            "1/1 [==============================] - 0s 5ms/step - loss: 10.9748 - mae: 10.9748\n"
          ],
          "name": "stdout"
        },
        {
          "output_type": "execute_result",
          "data": {
            "text/plain": [
              "<tensorflow.python.keras.callbacks.History at 0x7fe72bcef8d0>"
            ]
          },
          "metadata": {
            "tags": []
          },
          "execution_count": 9
        }
      ]
    },
    {
      "cell_type": "code",
      "metadata": {
        "colab": {
          "base_uri": "https://localhost:8080/"
        },
        "id": "cBvGHItaDd8j",
        "outputId": "502cab0a-80b4-4625-c313-0b309ffb0f9f"
      },
      "source": [
        "# Check out X and y\n",
        "X, y"
      ],
      "execution_count": null,
      "outputs": [
        {
          "output_type": "execute_result",
          "data": {
            "text/plain": [
              "(<tf.Tensor: shape=(8,), dtype=float64, numpy=array([-7., -4., -1.,  2.,  5.,  8., 11., 14.])>,\n",
              " <tf.Tensor: shape=(8,), dtype=float64, numpy=array([ 3.,  6.,  9., 12., 15., 18., 21., 24.])>)"
            ]
          },
          "metadata": {
            "tags": []
          },
          "execution_count": 10
        }
      ]
    },
    {
      "cell_type": "code",
      "metadata": {
        "colab": {
          "base_uri": "https://localhost:8080/"
        },
        "id": "zmCSlUJuEwpP",
        "outputId": "cb08a94f-56e5-4d8f-922c-9e4ecb2d1c9f"
      },
      "source": [
        "# Try and make a prediction with our trained model\n",
        "y_pred = model.predict([17.0])\n",
        "y_pred"
      ],
      "execution_count": null,
      "outputs": [
        {
          "output_type": "execute_result",
          "data": {
            "text/plain": [
              "array([[12.716021]], dtype=float32)"
            ]
          },
          "metadata": {
            "tags": []
          },
          "execution_count": 11
        }
      ]
    },
    {
      "cell_type": "code",
      "metadata": {
        "colab": {
          "base_uri": "https://localhost:8080/"
        },
        "id": "tt1TdzHxE6VC",
        "outputId": "39ab020f-4227-4746-ea95-10b510daf944"
      },
      "source": [
        "y_pred + 11"
      ],
      "execution_count": null,
      "outputs": [
        {
          "output_type": "execute_result",
          "data": {
            "text/plain": [
              "array([[23.71602]], dtype=float32)"
            ]
          },
          "metadata": {
            "tags": []
          },
          "execution_count": 12
        }
      ]
    },
    {
      "cell_type": "markdown",
      "metadata": {
        "id": "xaH-cdwYFQAG"
      },
      "source": [
        "## Improving our model\n",
        "\n",
        "We can improve our model, by altering the steps we took to create a model.\n",
        "\n",
        "1. **Creating a model** - here we might add more layers, increase the number fo hidden units (all called neurons) within each or the hiden layers, change the activation function of each layer.\n",
        "2. **Compiling a model** = here we might change the optimization function or perhaps the l**earning rate** of the optimization function\n",
        "3. **Fitting a model** - here we might fit a model for more epochs (leave it training for longer) or on more data (give the model more examples to learn from). "
      ]
    },
    {
      "cell_type": "code",
      "metadata": {
        "colab": {
          "base_uri": "https://localhost:8080/"
        },
        "id": "n791hi6xLyoz",
        "outputId": "a9a44106-07f6-4322-e926-48e980c33b3b"
      },
      "source": [
        "# Let's rebuild our model\n",
        "\n",
        "#1. Create the model\n",
        "model = tf.keras.Sequential([tf.keras.layers.Dense(1)])\n",
        "\n",
        "# 2. Compile the model\n",
        "model.compile(loss=tf.keras.losses.mae,\n",
        "              optimizer=tf.keras.optimizers.SGD(),\n",
        "              metrics=['mae'])\n",
        "\n",
        "# 3. Fit the model (this time we'll train for the longer)\n",
        "model.fit(X, y, epochs=100)"
      ],
      "execution_count": null,
      "outputs": [
        {
          "output_type": "stream",
          "text": [
            "Epoch 1/100\n",
            "1/1 [==============================] - 0s 329ms/step - loss: 11.2219 - mae: 11.2219\n",
            "Epoch 2/100\n",
            "1/1 [==============================] - 0s 6ms/step - loss: 11.0894 - mae: 11.0894\n",
            "Epoch 3/100\n",
            "1/1 [==============================] - 0s 4ms/step - loss: 10.9569 - mae: 10.9569\n",
            "Epoch 4/100\n",
            "1/1 [==============================] - 0s 5ms/step - loss: 10.8244 - mae: 10.8244\n",
            "Epoch 5/100\n",
            "1/1 [==============================] - 0s 3ms/step - loss: 10.6919 - mae: 10.6919\n",
            "Epoch 6/100\n",
            "1/1 [==============================] - 0s 7ms/step - loss: 10.5594 - mae: 10.5594\n",
            "Epoch 7/100\n",
            "1/1 [==============================] - 0s 6ms/step - loss: 10.4269 - mae: 10.4269\n",
            "Epoch 8/100\n",
            "1/1 [==============================] - 0s 7ms/step - loss: 10.2944 - mae: 10.2944\n",
            "Epoch 9/100\n",
            "1/1 [==============================] - 0s 7ms/step - loss: 10.1619 - mae: 10.1619\n",
            "Epoch 10/100\n",
            "1/1 [==============================] - 0s 6ms/step - loss: 10.0294 - mae: 10.0294\n",
            "Epoch 11/100\n",
            "1/1 [==============================] - 0s 6ms/step - loss: 9.8969 - mae: 9.8969\n",
            "Epoch 12/100\n",
            "1/1 [==============================] - 0s 7ms/step - loss: 9.7644 - mae: 9.7644\n",
            "Epoch 13/100\n",
            "1/1 [==============================] - 0s 12ms/step - loss: 9.6319 - mae: 9.6319\n",
            "Epoch 14/100\n",
            "1/1 [==============================] - 0s 4ms/step - loss: 9.4994 - mae: 9.4994\n",
            "Epoch 15/100\n",
            "1/1 [==============================] - 0s 7ms/step - loss: 9.3669 - mae: 9.3669\n",
            "Epoch 16/100\n",
            "1/1 [==============================] - 0s 6ms/step - loss: 9.2344 - mae: 9.2344\n",
            "Epoch 17/100\n",
            "1/1 [==============================] - 0s 5ms/step - loss: 9.1019 - mae: 9.1019\n",
            "Epoch 18/100\n",
            "1/1 [==============================] - 0s 7ms/step - loss: 8.9694 - mae: 8.9694\n",
            "Epoch 19/100\n",
            "1/1 [==============================] - 0s 5ms/step - loss: 8.8369 - mae: 8.8369\n",
            "Epoch 20/100\n",
            "1/1 [==============================] - 0s 4ms/step - loss: 8.7044 - mae: 8.7044\n",
            "Epoch 21/100\n",
            "1/1 [==============================] - 0s 4ms/step - loss: 8.5719 - mae: 8.5719\n",
            "Epoch 22/100\n",
            "1/1 [==============================] - 0s 8ms/step - loss: 8.4394 - mae: 8.4394\n",
            "Epoch 23/100\n",
            "1/1 [==============================] - 0s 4ms/step - loss: 8.3069 - mae: 8.3069\n",
            "Epoch 24/100\n",
            "1/1 [==============================] - 0s 4ms/step - loss: 8.1744 - mae: 8.1744\n",
            "Epoch 25/100\n",
            "1/1 [==============================] - 0s 5ms/step - loss: 8.0419 - mae: 8.0419\n",
            "Epoch 26/100\n",
            "1/1 [==============================] - 0s 9ms/step - loss: 7.9094 - mae: 7.9094\n",
            "Epoch 27/100\n",
            "1/1 [==============================] - 0s 6ms/step - loss: 7.7769 - mae: 7.7769\n",
            "Epoch 28/100\n",
            "1/1 [==============================] - 0s 14ms/step - loss: 7.6444 - mae: 7.6444\n",
            "Epoch 29/100\n",
            "1/1 [==============================] - 0s 7ms/step - loss: 7.5119 - mae: 7.5119\n",
            "Epoch 30/100\n",
            "1/1 [==============================] - 0s 4ms/step - loss: 7.3794 - mae: 7.3794\n",
            "Epoch 31/100\n",
            "1/1 [==============================] - 0s 5ms/step - loss: 7.2750 - mae: 7.2750\n",
            "Epoch 32/100\n",
            "1/1 [==============================] - 0s 5ms/step - loss: 7.2694 - mae: 7.2694\n",
            "Epoch 33/100\n",
            "1/1 [==============================] - 0s 5ms/step - loss: 7.2638 - mae: 7.2638\n",
            "Epoch 34/100\n",
            "1/1 [==============================] - 0s 5ms/step - loss: 7.2581 - mae: 7.2581\n",
            "Epoch 35/100\n",
            "1/1 [==============================] - 0s 6ms/step - loss: 7.2525 - mae: 7.2525\n",
            "Epoch 36/100\n",
            "1/1 [==============================] - 0s 8ms/step - loss: 7.2469 - mae: 7.2469\n",
            "Epoch 37/100\n",
            "1/1 [==============================] - 0s 4ms/step - loss: 7.2412 - mae: 7.2412\n",
            "Epoch 38/100\n",
            "1/1 [==============================] - 0s 6ms/step - loss: 7.2356 - mae: 7.2356\n",
            "Epoch 39/100\n",
            "1/1 [==============================] - 0s 3ms/step - loss: 7.2300 - mae: 7.2300\n",
            "Epoch 40/100\n",
            "1/1 [==============================] - 0s 7ms/step - loss: 7.2244 - mae: 7.2244\n",
            "Epoch 41/100\n",
            "1/1 [==============================] - 0s 4ms/step - loss: 7.2188 - mae: 7.2188\n",
            "Epoch 42/100\n",
            "1/1 [==============================] - 0s 5ms/step - loss: 7.2131 - mae: 7.2131\n",
            "Epoch 43/100\n",
            "1/1 [==============================] - 0s 4ms/step - loss: 7.2075 - mae: 7.2075\n",
            "Epoch 44/100\n",
            "1/1 [==============================] - 0s 6ms/step - loss: 7.2019 - mae: 7.2019\n",
            "Epoch 45/100\n",
            "1/1 [==============================] - 0s 3ms/step - loss: 7.1962 - mae: 7.1962\n",
            "Epoch 46/100\n",
            "1/1 [==============================] - 0s 4ms/step - loss: 7.1906 - mae: 7.1906\n",
            "Epoch 47/100\n",
            "1/1 [==============================] - 0s 6ms/step - loss: 7.1850 - mae: 7.1850\n",
            "Epoch 48/100\n",
            "1/1 [==============================] - 0s 13ms/step - loss: 7.1794 - mae: 7.1794\n",
            "Epoch 49/100\n",
            "1/1 [==============================] - 0s 7ms/step - loss: 7.1737 - mae: 7.1737\n",
            "Epoch 50/100\n",
            "1/1 [==============================] - 0s 7ms/step - loss: 7.1681 - mae: 7.1681\n",
            "Epoch 51/100\n",
            "1/1 [==============================] - 0s 5ms/step - loss: 7.1625 - mae: 7.1625\n",
            "Epoch 52/100\n",
            "1/1 [==============================] - 0s 6ms/step - loss: 7.1569 - mae: 7.1569\n",
            "Epoch 53/100\n",
            "1/1 [==============================] - 0s 4ms/step - loss: 7.1512 - mae: 7.1512\n",
            "Epoch 54/100\n",
            "1/1 [==============================] - 0s 4ms/step - loss: 7.1456 - mae: 7.1456\n",
            "Epoch 55/100\n",
            "1/1 [==============================] - 0s 6ms/step - loss: 7.1400 - mae: 7.1400\n",
            "Epoch 56/100\n",
            "1/1 [==============================] - 0s 6ms/step - loss: 7.1344 - mae: 7.1344\n",
            "Epoch 57/100\n",
            "1/1 [==============================] - 0s 3ms/step - loss: 7.1287 - mae: 7.1287\n",
            "Epoch 58/100\n",
            "1/1 [==============================] - 0s 6ms/step - loss: 7.1231 - mae: 7.1231\n",
            "Epoch 59/100\n",
            "1/1 [==============================] - 0s 6ms/step - loss: 7.1175 - mae: 7.1175\n",
            "Epoch 60/100\n",
            "1/1 [==============================] - 0s 4ms/step - loss: 7.1119 - mae: 7.1119\n",
            "Epoch 61/100\n",
            "1/1 [==============================] - 0s 6ms/step - loss: 7.1062 - mae: 7.1062\n",
            "Epoch 62/100\n",
            "1/1 [==============================] - 0s 5ms/step - loss: 7.1006 - mae: 7.1006\n",
            "Epoch 63/100\n",
            "1/1 [==============================] - 0s 5ms/step - loss: 7.0950 - mae: 7.0950\n",
            "Epoch 64/100\n",
            "1/1 [==============================] - 0s 6ms/step - loss: 7.0894 - mae: 7.0894\n",
            "Epoch 65/100\n",
            "1/1 [==============================] - 0s 5ms/step - loss: 7.0838 - mae: 7.0838\n",
            "Epoch 66/100\n",
            "1/1 [==============================] - 0s 8ms/step - loss: 7.0781 - mae: 7.0781\n",
            "Epoch 67/100\n",
            "1/1 [==============================] - 0s 5ms/step - loss: 7.0725 - mae: 7.0725\n",
            "Epoch 68/100\n",
            "1/1 [==============================] - 0s 8ms/step - loss: 7.0669 - mae: 7.0669\n",
            "Epoch 69/100\n",
            "1/1 [==============================] - 0s 4ms/step - loss: 7.0613 - mae: 7.0613\n",
            "Epoch 70/100\n",
            "1/1 [==============================] - 0s 4ms/step - loss: 7.0556 - mae: 7.0556\n",
            "Epoch 71/100\n",
            "1/1 [==============================] - 0s 5ms/step - loss: 7.0500 - mae: 7.0500\n",
            "Epoch 72/100\n",
            "1/1 [==============================] - 0s 6ms/step - loss: 7.0444 - mae: 7.0444\n",
            "Epoch 73/100\n",
            "1/1 [==============================] - 0s 5ms/step - loss: 7.0388 - mae: 7.0388\n",
            "Epoch 74/100\n",
            "1/1 [==============================] - 0s 5ms/step - loss: 7.0331 - mae: 7.0331\n",
            "Epoch 75/100\n",
            "1/1 [==============================] - 0s 5ms/step - loss: 7.0275 - mae: 7.0275\n",
            "Epoch 76/100\n",
            "1/1 [==============================] - 0s 5ms/step - loss: 7.0219 - mae: 7.0219\n",
            "Epoch 77/100\n",
            "1/1 [==============================] - 0s 6ms/step - loss: 7.0163 - mae: 7.0163\n",
            "Epoch 78/100\n",
            "1/1 [==============================] - 0s 4ms/step - loss: 7.0106 - mae: 7.0106\n",
            "Epoch 79/100\n",
            "1/1 [==============================] - 0s 7ms/step - loss: 7.0050 - mae: 7.0050\n",
            "Epoch 80/100\n",
            "1/1 [==============================] - 0s 4ms/step - loss: 6.9994 - mae: 6.9994\n",
            "Epoch 81/100\n",
            "1/1 [==============================] - 0s 4ms/step - loss: 6.9938 - mae: 6.9938\n",
            "Epoch 82/100\n",
            "1/1 [==============================] - 0s 7ms/step - loss: 6.9881 - mae: 6.9881\n",
            "Epoch 83/100\n",
            "1/1 [==============================] - 0s 4ms/step - loss: 6.9825 - mae: 6.9825\n",
            "Epoch 84/100\n",
            "1/1 [==============================] - 0s 4ms/step - loss: 6.9769 - mae: 6.9769\n",
            "Epoch 85/100\n",
            "1/1 [==============================] - 0s 6ms/step - loss: 6.9713 - mae: 6.9713\n",
            "Epoch 86/100\n",
            "1/1 [==============================] - 0s 9ms/step - loss: 6.9656 - mae: 6.9656\n",
            "Epoch 87/100\n",
            "1/1 [==============================] - 0s 5ms/step - loss: 6.9600 - mae: 6.9600\n",
            "Epoch 88/100\n",
            "1/1 [==============================] - 0s 7ms/step - loss: 6.9544 - mae: 6.9544\n",
            "Epoch 89/100\n",
            "1/1 [==============================] - 0s 9ms/step - loss: 6.9488 - mae: 6.9488\n",
            "Epoch 90/100\n",
            "1/1 [==============================] - 0s 4ms/step - loss: 6.9431 - mae: 6.9431\n",
            "Epoch 91/100\n",
            "1/1 [==============================] - 0s 8ms/step - loss: 6.9375 - mae: 6.9375\n",
            "Epoch 92/100\n",
            "1/1 [==============================] - 0s 4ms/step - loss: 6.9319 - mae: 6.9319\n",
            "Epoch 93/100\n",
            "1/1 [==============================] - 0s 8ms/step - loss: 6.9263 - mae: 6.9263\n",
            "Epoch 94/100\n",
            "1/1 [==============================] - 0s 6ms/step - loss: 6.9206 - mae: 6.9206\n",
            "Epoch 95/100\n",
            "1/1 [==============================] - 0s 5ms/step - loss: 6.9150 - mae: 6.9150\n",
            "Epoch 96/100\n",
            "1/1 [==============================] - 0s 6ms/step - loss: 6.9094 - mae: 6.9094\n",
            "Epoch 97/100\n",
            "1/1 [==============================] - 0s 5ms/step - loss: 6.9038 - mae: 6.9038\n",
            "Epoch 98/100\n",
            "1/1 [==============================] - 0s 7ms/step - loss: 6.8981 - mae: 6.8981\n",
            "Epoch 99/100\n",
            "1/1 [==============================] - 0s 5ms/step - loss: 6.8925 - mae: 6.8925\n",
            "Epoch 100/100\n",
            "1/1 [==============================] - 0s 13ms/step - loss: 6.8869 - mae: 6.8869\n"
          ],
          "name": "stdout"
        },
        {
          "output_type": "execute_result",
          "data": {
            "text/plain": [
              "<tensorflow.python.keras.callbacks.History at 0x7fe72486a750>"
            ]
          },
          "metadata": {
            "tags": []
          },
          "execution_count": 13
        }
      ]
    },
    {
      "cell_type": "code",
      "metadata": {
        "colab": {
          "base_uri": "https://localhost:8080/"
        },
        "id": "2HGpLHDsPBv4",
        "outputId": "d34b6f97-c875-4aec-d73c-2c29333a014a"
      },
      "source": [
        "# Remind ourselves of the data\n",
        "X, y"
      ],
      "execution_count": null,
      "outputs": [
        {
          "output_type": "execute_result",
          "data": {
            "text/plain": [
              "(<tf.Tensor: shape=(8,), dtype=float64, numpy=array([-7., -4., -1.,  2.,  5.,  8., 11., 14.])>,\n",
              " <tf.Tensor: shape=(8,), dtype=float64, numpy=array([ 3.,  6.,  9., 12., 15., 18., 21., 24.])>)"
            ]
          },
          "metadata": {
            "tags": []
          },
          "execution_count": 14
        }
      ]
    },
    {
      "cell_type": "code",
      "metadata": {
        "colab": {
          "base_uri": "https://localhost:8080/"
        },
        "id": "Vxl_Afo4PFpo",
        "outputId": "43ab4fa7-033f-4c22-9d1b-7e55f8e3aa90"
      },
      "source": [
        "# Let's see if our model's predictions has improved...\n",
        "model.predict([17.0])"
      ],
      "execution_count": null,
      "outputs": [
        {
          "output_type": "execute_result",
          "data": {
            "text/plain": [
              "array([[29.739855]], dtype=float32)"
            ]
          },
          "metadata": {
            "tags": []
          },
          "execution_count": 15
        }
      ]
    },
    {
      "cell_type": "code",
      "metadata": {
        "colab": {
          "base_uri": "https://localhost:8080/"
        },
        "id": "p_3LfGmRQDps",
        "outputId": "eaabb1c4-c7b4-4f00-fd06-735710d3502e"
      },
      "source": [
        "# Let's see what we can do to make our model better\n",
        "\n",
        "#1. Create the model (this time with an extra model hidden layer with 100 hidden units)\n",
        "model = tf.keras.Sequential([\n",
        "  tf.keras.layers.Dense(100, activation='relu'),\n",
        "  tf.keras.layers.Dense(1)\n",
        "])\n",
        "\n",
        "# 2. Compile the model\n",
        "model.compile(loss='mae', # To make it shorter\n",
        "              optimizer=tf.keras.optimizers.SGD(),\n",
        "              metrics=['mae'])\n",
        "\n",
        "# 3. Fit the model (this time we'll train for the longer)\n",
        "model.fit(X, y, epochs=100)"
      ],
      "execution_count": null,
      "outputs": [
        {
          "output_type": "stream",
          "text": [
            "Epoch 1/100\n",
            "1/1 [==============================] - 0s 305ms/step - loss: 12.3193 - mae: 12.3193\n",
            "Epoch 2/100\n",
            "1/1 [==============================] - 0s 7ms/step - loss: 11.7804 - mae: 11.7804\n",
            "Epoch 3/100\n",
            "1/1 [==============================] - 0s 5ms/step - loss: 11.2324 - mae: 11.2324\n",
            "Epoch 4/100\n",
            "1/1 [==============================] - 0s 4ms/step - loss: 10.6601 - mae: 10.6601\n",
            "Epoch 5/100\n",
            "1/1 [==============================] - 0s 7ms/step - loss: 10.0632 - mae: 10.0632\n",
            "Epoch 6/100\n",
            "1/1 [==============================] - 0s 5ms/step - loss: 9.4503 - mae: 9.4503\n",
            "Epoch 7/100\n",
            "1/1 [==============================] - 0s 8ms/step - loss: 8.7991 - mae: 8.7991\n",
            "Epoch 8/100\n",
            "1/1 [==============================] - 0s 4ms/step - loss: 8.1072 - mae: 8.1072\n",
            "Epoch 9/100\n",
            "1/1 [==============================] - 0s 4ms/step - loss: 7.3691 - mae: 7.3691\n",
            "Epoch 10/100\n",
            "1/1 [==============================] - 0s 4ms/step - loss: 6.5758 - mae: 6.5758\n",
            "Epoch 11/100\n",
            "1/1 [==============================] - 0s 5ms/step - loss: 5.7205 - mae: 5.7205\n",
            "Epoch 12/100\n",
            "1/1 [==============================] - 0s 4ms/step - loss: 4.7947 - mae: 4.7947\n",
            "Epoch 13/100\n",
            "1/1 [==============================] - 0s 4ms/step - loss: 4.3581 - mae: 4.3581\n",
            "Epoch 14/100\n",
            "1/1 [==============================] - 0s 6ms/step - loss: 4.3134 - mae: 4.3134\n",
            "Epoch 15/100\n",
            "1/1 [==============================] - 0s 4ms/step - loss: 4.2550 - mae: 4.2550\n",
            "Epoch 16/100\n",
            "1/1 [==============================] - 0s 5ms/step - loss: 4.2442 - mae: 4.2442\n",
            "Epoch 17/100\n",
            "1/1 [==============================] - 0s 5ms/step - loss: 4.1520 - mae: 4.1520\n",
            "Epoch 18/100\n",
            "1/1 [==============================] - 0s 6ms/step - loss: 4.1739 - mae: 4.1739\n",
            "Epoch 19/100\n",
            "1/1 [==============================] - 0s 8ms/step - loss: 4.0681 - mae: 4.0681\n",
            "Epoch 20/100\n",
            "1/1 [==============================] - 0s 7ms/step - loss: 4.0807 - mae: 4.0807\n",
            "Epoch 21/100\n",
            "1/1 [==============================] - 0s 4ms/step - loss: 3.9954 - mae: 3.9954\n",
            "Epoch 22/100\n",
            "1/1 [==============================] - 0s 8ms/step - loss: 3.9739 - mae: 3.9739\n",
            "Epoch 23/100\n",
            "1/1 [==============================] - 0s 12ms/step - loss: 3.9208 - mae: 3.9208\n",
            "Epoch 24/100\n",
            "1/1 [==============================] - 0s 7ms/step - loss: 3.9047 - mae: 3.9047\n",
            "Epoch 25/100\n",
            "1/1 [==============================] - 0s 9ms/step - loss: 3.9267 - mae: 3.9267\n",
            "Epoch 26/100\n",
            "1/1 [==============================] - 0s 9ms/step - loss: 3.8797 - mae: 3.8797\n",
            "Epoch 27/100\n",
            "1/1 [==============================] - 0s 7ms/step - loss: 3.9341 - mae: 3.9341\n",
            "Epoch 28/100\n",
            "1/1 [==============================] - 0s 6ms/step - loss: 3.8678 - mae: 3.8678\n",
            "Epoch 29/100\n",
            "1/1 [==============================] - 0s 8ms/step - loss: 3.9274 - mae: 3.9274\n",
            "Epoch 30/100\n",
            "1/1 [==============================] - 0s 4ms/step - loss: 3.8751 - mae: 3.8751\n",
            "Epoch 31/100\n",
            "1/1 [==============================] - 0s 8ms/step - loss: 3.9080 - mae: 3.9080\n",
            "Epoch 32/100\n",
            "1/1 [==============================] - 0s 4ms/step - loss: 3.8893 - mae: 3.8893\n",
            "Epoch 33/100\n",
            "1/1 [==============================] - 0s 4ms/step - loss: 3.8834 - mae: 3.8834\n",
            "Epoch 34/100\n",
            "1/1 [==============================] - 0s 7ms/step - loss: 3.8969 - mae: 3.8969\n",
            "Epoch 35/100\n",
            "1/1 [==============================] - 0s 8ms/step - loss: 3.8581 - mae: 3.8581\n",
            "Epoch 36/100\n",
            "1/1 [==============================] - 0s 4ms/step - loss: 3.9046 - mae: 3.9046\n",
            "Epoch 37/100\n",
            "1/1 [==============================] - 0s 7ms/step - loss: 3.8386 - mae: 3.8386\n",
            "Epoch 38/100\n",
            "1/1 [==============================] - 0s 5ms/step - loss: 3.9054 - mae: 3.9054\n",
            "Epoch 39/100\n",
            "1/1 [==============================] - 0s 7ms/step - loss: 3.8482 - mae: 3.8482\n",
            "Epoch 40/100\n",
            "1/1 [==============================] - 0s 7ms/step - loss: 3.8862 - mae: 3.8862\n",
            "Epoch 41/100\n",
            "1/1 [==============================] - 0s 7ms/step - loss: 3.8605 - mae: 3.8605\n",
            "Epoch 42/100\n",
            "1/1 [==============================] - 0s 5ms/step - loss: 3.8608 - mae: 3.8608\n",
            "Epoch 43/100\n",
            "1/1 [==============================] - 0s 5ms/step - loss: 3.8683 - mae: 3.8683\n",
            "Epoch 44/100\n",
            "1/1 [==============================] - 0s 7ms/step - loss: 3.8352 - mae: 3.8352\n",
            "Epoch 45/100\n",
            "1/1 [==============================] - 0s 5ms/step - loss: 3.8762 - mae: 3.8762\n",
            "Epoch 46/100\n",
            "1/1 [==============================] - 0s 9ms/step - loss: 3.8106 - mae: 3.8106\n",
            "Epoch 47/100\n",
            "1/1 [==============================] - 0s 9ms/step - loss: 3.8821 - mae: 3.8821\n",
            "Epoch 48/100\n",
            "1/1 [==============================] - 0s 5ms/step - loss: 3.8234 - mae: 3.8234\n",
            "Epoch 49/100\n",
            "1/1 [==============================] - 0s 7ms/step - loss: 3.8626 - mae: 3.8626\n",
            "Epoch 50/100\n",
            "1/1 [==============================] - 0s 7ms/step - loss: 3.8328 - mae: 3.8328\n",
            "Epoch 51/100\n",
            "1/1 [==============================] - 0s 5ms/step - loss: 3.8369 - mae: 3.8369\n",
            "Epoch 52/100\n",
            "1/1 [==============================] - 0s 4ms/step - loss: 3.8408 - mae: 3.8408\n",
            "Epoch 53/100\n",
            "1/1 [==============================] - 0s 7ms/step - loss: 3.8111 - mae: 3.8111\n",
            "Epoch 54/100\n",
            "1/1 [==============================] - 0s 5ms/step - loss: 3.8489 - mae: 3.8489\n",
            "Epoch 55/100\n",
            "1/1 [==============================] - 0s 7ms/step - loss: 3.7850 - mae: 3.7850\n",
            "Epoch 56/100\n",
            "1/1 [==============================] - 0s 5ms/step - loss: 3.8585 - mae: 3.8585\n",
            "Epoch 57/100\n",
            "1/1 [==============================] - 0s 8ms/step - loss: 3.7982 - mae: 3.7982\n",
            "Epoch 58/100\n",
            "1/1 [==============================] - 0s 4ms/step - loss: 3.8377 - mae: 3.8377\n",
            "Epoch 59/100\n",
            "1/1 [==============================] - 0s 8ms/step - loss: 3.8062 - mae: 3.8062\n",
            "Epoch 60/100\n",
            "1/1 [==============================] - 0s 5ms/step - loss: 3.8117 - mae: 3.8117\n",
            "Epoch 61/100\n",
            "1/1 [==============================] - 0s 16ms/step - loss: 3.8144 - mae: 3.8144\n",
            "Epoch 62/100\n",
            "1/1 [==============================] - 0s 5ms/step - loss: 3.7856 - mae: 3.7856\n",
            "Epoch 63/100\n",
            "1/1 [==============================] - 0s 8ms/step - loss: 3.8227 - mae: 3.8227\n",
            "Epoch 64/100\n",
            "1/1 [==============================] - 0s 4ms/step - loss: 3.7593 - mae: 3.7593\n",
            "Epoch 65/100\n",
            "1/1 [==============================] - 0s 5ms/step - loss: 3.8352 - mae: 3.8352\n",
            "Epoch 66/100\n",
            "1/1 [==============================] - 0s 8ms/step - loss: 3.7725 - mae: 3.7725\n",
            "Epoch 67/100\n",
            "1/1 [==============================] - 0s 5ms/step - loss: 3.8115 - mae: 3.8115\n",
            "Epoch 68/100\n",
            "1/1 [==============================] - 0s 7ms/step - loss: 3.7807 - mae: 3.7807\n",
            "Epoch 69/100\n",
            "1/1 [==============================] - 0s 4ms/step - loss: 3.7853 - mae: 3.7853\n",
            "Epoch 70/100\n",
            "1/1 [==============================] - 0s 4ms/step - loss: 3.7891 - mae: 3.7891\n",
            "Epoch 71/100\n",
            "1/1 [==============================] - 0s 7ms/step - loss: 3.7588 - mae: 3.7588\n",
            "Epoch 72/100\n",
            "1/1 [==============================] - 0s 4ms/step - loss: 3.7975 - mae: 3.7975\n",
            "Epoch 73/100\n",
            "1/1 [==============================] - 0s 8ms/step - loss: 3.7337 - mae: 3.7337\n",
            "Epoch 74/100\n",
            "1/1 [==============================] - 0s 4ms/step - loss: 3.8105 - mae: 3.8105\n",
            "Epoch 75/100\n",
            "1/1 [==============================] - 0s 4ms/step - loss: 3.7478 - mae: 3.7478\n",
            "Epoch 76/100\n",
            "1/1 [==============================] - 0s 11ms/step - loss: 3.7840 - mae: 3.7840\n",
            "Epoch 77/100\n",
            "1/1 [==============================] - 0s 18ms/step - loss: 3.7563 - mae: 3.7563\n",
            "Epoch 78/100\n",
            "1/1 [==============================] - 0s 10ms/step - loss: 3.7575 - mae: 3.7575\n",
            "Epoch 79/100\n",
            "1/1 [==============================] - 0s 6ms/step - loss: 3.7648 - mae: 3.7648\n",
            "Epoch 80/100\n",
            "1/1 [==============================] - 0s 5ms/step - loss: 3.7307 - mae: 3.7307\n",
            "Epoch 81/100\n",
            "1/1 [==============================] - 0s 9ms/step - loss: 3.7735 - mae: 3.7735\n",
            "Epoch 82/100\n",
            "1/1 [==============================] - 0s 6ms/step - loss: 3.7125 - mae: 3.7125\n",
            "Epoch 83/100\n",
            "1/1 [==============================] - 0s 5ms/step - loss: 3.7820 - mae: 3.7820\n",
            "Epoch 84/100\n",
            "1/1 [==============================] - 0s 11ms/step - loss: 3.7242 - mae: 3.7242\n",
            "Epoch 85/100\n",
            "1/1 [==============================] - 0s 6ms/step - loss: 3.7552 - mae: 3.7552\n",
            "Epoch 86/100\n",
            "1/1 [==============================] - 0s 7ms/step - loss: 3.7329 - mae: 3.7329\n",
            "Epoch 87/100\n",
            "1/1 [==============================] - 0s 9ms/step - loss: 3.7284 - mae: 3.7284\n",
            "Epoch 88/100\n",
            "1/1 [==============================] - 0s 11ms/step - loss: 3.7416 - mae: 3.7416\n",
            "Epoch 89/100\n",
            "1/1 [==============================] - 0s 7ms/step - loss: 3.7013 - mae: 3.7013\n",
            "Epoch 90/100\n",
            "1/1 [==============================] - 0s 5ms/step - loss: 3.7505 - mae: 3.7505\n",
            "Epoch 91/100\n",
            "1/1 [==============================] - 0s 11ms/step - loss: 3.6921 - mae: 3.6921\n",
            "Epoch 92/100\n",
            "1/1 [==============================] - 0s 8ms/step - loss: 3.7522 - mae: 3.7522\n",
            "Epoch 93/100\n",
            "1/1 [==============================] - 0s 5ms/step - loss: 3.7016 - mae: 3.7016\n",
            "Epoch 94/100\n",
            "1/1 [==============================] - 0s 9ms/step - loss: 3.7251 - mae: 3.7251\n",
            "Epoch 95/100\n",
            "1/1 [==============================] - 0s 9ms/step - loss: 3.7105 - mae: 3.7105\n",
            "Epoch 96/100\n",
            "1/1 [==============================] - 0s 7ms/step - loss: 3.6979 - mae: 3.6979\n",
            "Epoch 97/100\n",
            "1/1 [==============================] - 0s 14ms/step - loss: 3.7194 - mae: 3.7194\n",
            "Epoch 98/100\n",
            "1/1 [==============================] - 0s 4ms/step - loss: 3.6705 - mae: 3.6705\n",
            "Epoch 99/100\n",
            "1/1 [==============================] - 0s 6ms/step - loss: 3.7299 - mae: 3.7299\n",
            "Epoch 100/100\n",
            "1/1 [==============================] - 0s 4ms/step - loss: 3.6711 - mae: 3.6711\n"
          ],
          "name": "stdout"
        },
        {
          "output_type": "execute_result",
          "data": {
            "text/plain": [
              "<tensorflow.python.keras.callbacks.History at 0x7fe7237dfc90>"
            ]
          },
          "metadata": {
            "tags": []
          },
          "execution_count": 16
        }
      ]
    },
    {
      "cell_type": "code",
      "metadata": {
        "colab": {
          "base_uri": "https://localhost:8080/"
        },
        "id": "ld1U03mVUxLW",
        "outputId": "10ed6d40-c183-4553-8691-8e29397c8031"
      },
      "source": [
        "# Let's remind ourselves of the data\n",
        "X, y"
      ],
      "execution_count": null,
      "outputs": [
        {
          "output_type": "execute_result",
          "data": {
            "text/plain": [
              "(<tf.Tensor: shape=(8,), dtype=float64, numpy=array([-7., -4., -1.,  2.,  5.,  8., 11., 14.])>,\n",
              " <tf.Tensor: shape=(8,), dtype=float64, numpy=array([ 3.,  6.,  9., 12., 15., 18., 21., 24.])>)"
            ]
          },
          "metadata": {
            "tags": []
          },
          "execution_count": 17
        }
      ]
    },
    {
      "cell_type": "code",
      "metadata": {
        "colab": {
          "base_uri": "https://localhost:8080/"
        },
        "id": "j3ZHvfsrVEur",
        "outputId": "adf0beb4-7421-4d3c-b785-a14ff663ee0e"
      },
      "source": [
        "# Let's try to make a prediction\n",
        "model.predict([17.0]) # outcome is 31.7 and the model might be over fitting now."
      ],
      "execution_count": null,
      "outputs": [
        {
          "output_type": "execute_result",
          "data": {
            "text/plain": [
              "array([[31.223137]], dtype=float32)"
            ]
          },
          "metadata": {
            "tags": []
          },
          "execution_count": 18
        }
      ]
    },
    {
      "cell_type": "code",
      "metadata": {
        "id": "4WpKmDBrVKW1"
      },
      "source": [
        ""
      ],
      "execution_count": null,
      "outputs": []
    },
    {
      "cell_type": "code",
      "metadata": {
        "colab": {
          "base_uri": "https://localhost:8080/"
        },
        "id": "CXTvGC0mWnN0",
        "outputId": "14021404-eeb1-4fbc-a703-8535a4f10506"
      },
      "source": [
        "# Let's see what we can do to make our model better\n",
        "\n",
        "#1. Create the model (this time with an extra model hidden layer with 100 hidden units)\n",
        "model = tf.keras.Sequential([\n",
        "  tf.keras.layers.Dense(50, activation=None),\n",
        "  tf.keras.layers.Dense(1)\n",
        "])\n",
        "\n",
        "# 2. Compile the model\n",
        "model.compile(loss='mae', # To make it shorter\n",
        "              optimizer=tf.keras.optimizers.Adam(lr=0.01), # LR the best hyper parameter\n",
        "              metrics=['mae'])\n",
        "\n",
        "# 3. Fit the model (this time we'll train for the longer)\n",
        "model.fit(X, y, epochs=100)"
      ],
      "execution_count": null,
      "outputs": [
        {
          "output_type": "stream",
          "text": [
            "Epoch 1/100\n",
            "1/1 [==============================] - 0s 372ms/step - loss: 12.2895 - mae: 12.2895\n",
            "Epoch 2/100\n",
            "1/1 [==============================] - 0s 7ms/step - loss: 11.5828 - mae: 11.5828\n",
            "Epoch 3/100\n",
            "1/1 [==============================] - 0s 5ms/step - loss: 10.8658 - mae: 10.8658\n",
            "Epoch 4/100\n",
            "1/1 [==============================] - 0s 6ms/step - loss: 10.1378 - mae: 10.1378\n",
            "Epoch 5/100\n",
            "1/1 [==============================] - 0s 6ms/step - loss: 9.3973 - mae: 9.3973\n",
            "Epoch 6/100\n",
            "1/1 [==============================] - 0s 5ms/step - loss: 8.6426 - mae: 8.6426\n",
            "Epoch 7/100\n",
            "1/1 [==============================] - 0s 10ms/step - loss: 7.8717 - mae: 7.8717\n",
            "Epoch 8/100\n",
            "1/1 [==============================] - 0s 4ms/step - loss: 7.0828 - mae: 7.0828\n",
            "Epoch 9/100\n",
            "1/1 [==============================] - 0s 4ms/step - loss: 6.8696 - mae: 6.8696\n",
            "Epoch 10/100\n",
            "1/1 [==============================] - 0s 6ms/step - loss: 7.2795 - mae: 7.2795\n",
            "Epoch 11/100\n",
            "1/1 [==============================] - 0s 5ms/step - loss: 7.5933 - mae: 7.5933\n",
            "Epoch 12/100\n",
            "1/1 [==============================] - 0s 6ms/step - loss: 7.8205 - mae: 7.8205\n",
            "Epoch 13/100\n",
            "1/1 [==============================] - 0s 4ms/step - loss: 7.8052 - mae: 7.8052\n",
            "Epoch 14/100\n",
            "1/1 [==============================] - 0s 6ms/step - loss: 7.6123 - mae: 7.6123\n",
            "Epoch 15/100\n",
            "1/1 [==============================] - 0s 4ms/step - loss: 7.2873 - mae: 7.2873\n",
            "Epoch 16/100\n",
            "1/1 [==============================] - 0s 5ms/step - loss: 6.9999 - mae: 6.9999\n",
            "Epoch 17/100\n",
            "1/1 [==============================] - 0s 6ms/step - loss: 6.7162 - mae: 6.7162\n",
            "Epoch 18/100\n",
            "1/1 [==============================] - 0s 5ms/step - loss: 6.4202 - mae: 6.4202\n",
            "Epoch 19/100\n",
            "1/1 [==============================] - 0s 5ms/step - loss: 6.2556 - mae: 6.2556\n",
            "Epoch 20/100\n",
            "1/1 [==============================] - 0s 6ms/step - loss: 6.2091 - mae: 6.2091\n",
            "Epoch 21/100\n",
            "1/1 [==============================] - 0s 5ms/step - loss: 6.3211 - mae: 6.3211\n",
            "Epoch 22/100\n",
            "1/1 [==============================] - 0s 6ms/step - loss: 6.4110 - mae: 6.4110\n",
            "Epoch 23/100\n",
            "1/1 [==============================] - 0s 5ms/step - loss: 6.4007 - mae: 6.4007\n",
            "Epoch 24/100\n",
            "1/1 [==============================] - 0s 5ms/step - loss: 6.3029 - mae: 6.3029\n",
            "Epoch 25/100\n",
            "1/1 [==============================] - 0s 4ms/step - loss: 6.1267 - mae: 6.1267\n",
            "Epoch 26/100\n",
            "1/1 [==============================] - 0s 5ms/step - loss: 5.8791 - mae: 5.8791\n",
            "Epoch 27/100\n",
            "1/1 [==============================] - 0s 5ms/step - loss: 5.6786 - mae: 5.6786\n",
            "Epoch 28/100\n",
            "1/1 [==============================] - 0s 5ms/step - loss: 5.5757 - mae: 5.5757\n",
            "Epoch 29/100\n",
            "1/1 [==============================] - 0s 6ms/step - loss: 5.4829 - mae: 5.4829\n",
            "Epoch 30/100\n",
            "1/1 [==============================] - 0s 6ms/step - loss: 5.4905 - mae: 5.4905\n",
            "Epoch 31/100\n",
            "1/1 [==============================] - 0s 5ms/step - loss: 5.4533 - mae: 5.4533\n",
            "Epoch 32/100\n",
            "1/1 [==============================] - 0s 5ms/step - loss: 5.3748 - mae: 5.3748\n",
            "Epoch 33/100\n",
            "1/1 [==============================] - 0s 5ms/step - loss: 5.2585 - mae: 5.2585\n",
            "Epoch 34/100\n",
            "1/1 [==============================] - 0s 5ms/step - loss: 5.1075 - mae: 5.1075\n",
            "Epoch 35/100\n",
            "1/1 [==============================] - 0s 9ms/step - loss: 4.9247 - mae: 4.9247\n",
            "Epoch 36/100\n",
            "1/1 [==============================] - 0s 5ms/step - loss: 4.8326 - mae: 4.8326\n",
            "Epoch 37/100\n",
            "1/1 [==============================] - 0s 5ms/step - loss: 4.7434 - mae: 4.7434\n",
            "Epoch 38/100\n",
            "1/1 [==============================] - 0s 5ms/step - loss: 4.6473 - mae: 4.6473\n",
            "Epoch 39/100\n",
            "1/1 [==============================] - 0s 7ms/step - loss: 4.6407 - mae: 4.6407\n",
            "Epoch 40/100\n",
            "1/1 [==============================] - 0s 5ms/step - loss: 4.5264 - mae: 4.5264\n",
            "Epoch 41/100\n",
            "1/1 [==============================] - 0s 7ms/step - loss: 4.3044 - mae: 4.3044\n",
            "Epoch 42/100\n",
            "1/1 [==============================] - 0s 4ms/step - loss: 4.1423 - mae: 4.1423\n",
            "Epoch 43/100\n",
            "1/1 [==============================] - 0s 4ms/step - loss: 3.9877 - mae: 3.9877\n",
            "Epoch 44/100\n",
            "1/1 [==============================] - 0s 4ms/step - loss: 3.9463 - mae: 3.9463\n",
            "Epoch 45/100\n",
            "1/1 [==============================] - 0s 4ms/step - loss: 3.8751 - mae: 3.8751\n",
            "Epoch 46/100\n",
            "1/1 [==============================] - 0s 6ms/step - loss: 3.7518 - mae: 3.7518\n",
            "Epoch 47/100\n",
            "1/1 [==============================] - 0s 8ms/step - loss: 3.5792 - mae: 3.5792\n",
            "Epoch 48/100\n",
            "1/1 [==============================] - 0s 8ms/step - loss: 3.3603 - mae: 3.3603\n",
            "Epoch 49/100\n",
            "1/1 [==============================] - 0s 10ms/step - loss: 3.0974 - mae: 3.0974\n",
            "Epoch 50/100\n",
            "1/1 [==============================] - 0s 4ms/step - loss: 2.9258 - mae: 2.9258\n",
            "Epoch 51/100\n",
            "1/1 [==============================] - 0s 5ms/step - loss: 2.8596 - mae: 2.8596\n",
            "Epoch 52/100\n",
            "1/1 [==============================] - 0s 6ms/step - loss: 2.7330 - mae: 2.7330\n",
            "Epoch 53/100\n",
            "1/1 [==============================] - 0s 6ms/step - loss: 2.4630 - mae: 2.4630\n",
            "Epoch 54/100\n",
            "1/1 [==============================] - 0s 9ms/step - loss: 2.1637 - mae: 2.1637\n",
            "Epoch 55/100\n",
            "1/1 [==============================] - 0s 5ms/step - loss: 2.0178 - mae: 2.0178\n",
            "Epoch 56/100\n",
            "1/1 [==============================] - 0s 14ms/step - loss: 1.8761 - mae: 1.8761\n",
            "Epoch 57/100\n",
            "1/1 [==============================] - 0s 7ms/step - loss: 1.6739 - mae: 1.6739\n",
            "Epoch 58/100\n",
            "1/1 [==============================] - 0s 6ms/step - loss: 1.3610 - mae: 1.3610\n",
            "Epoch 59/100\n",
            "1/1 [==============================] - 0s 6ms/step - loss: 1.0521 - mae: 1.0521\n",
            "Epoch 60/100\n",
            "1/1 [==============================] - 0s 5ms/step - loss: 0.9785 - mae: 0.9785\n",
            "Epoch 61/100\n",
            "1/1 [==============================] - 0s 5ms/step - loss: 0.7530 - mae: 0.7530\n",
            "Epoch 62/100\n",
            "1/1 [==============================] - 0s 9ms/step - loss: 0.3616 - mae: 0.3616\n",
            "Epoch 63/100\n",
            "1/1 [==============================] - 0s 5ms/step - loss: 0.3183 - mae: 0.3183\n",
            "Epoch 64/100\n",
            "1/1 [==============================] - 0s 13ms/step - loss: 0.4345 - mae: 0.4345\n",
            "Epoch 65/100\n",
            "1/1 [==============================] - 0s 6ms/step - loss: 0.4634 - mae: 0.4634\n",
            "Epoch 66/100\n",
            "1/1 [==============================] - 0s 5ms/step - loss: 0.7942 - mae: 0.7942\n",
            "Epoch 67/100\n",
            "1/1 [==============================] - 0s 9ms/step - loss: 0.9794 - mae: 0.9794\n",
            "Epoch 68/100\n",
            "1/1 [==============================] - 0s 6ms/step - loss: 0.9275 - mae: 0.9275\n",
            "Epoch 69/100\n",
            "1/1 [==============================] - 0s 5ms/step - loss: 0.7528 - mae: 0.7528\n",
            "Epoch 70/100\n",
            "1/1 [==============================] - 0s 9ms/step - loss: 0.8762 - mae: 0.8762\n",
            "Epoch 71/100\n",
            "1/1 [==============================] - 0s 4ms/step - loss: 0.8515 - mae: 0.8515\n",
            "Epoch 72/100\n",
            "1/1 [==============================] - 0s 5ms/step - loss: 0.6467 - mae: 0.6467\n",
            "Epoch 73/100\n",
            "1/1 [==============================] - 0s 6ms/step - loss: 0.6094 - mae: 0.6094\n",
            "Epoch 74/100\n",
            "1/1 [==============================] - 0s 4ms/step - loss: 0.5948 - mae: 0.5948\n",
            "Epoch 75/100\n",
            "1/1 [==============================] - 0s 6ms/step - loss: 0.3295 - mae: 0.3295\n",
            "Epoch 76/100\n",
            "1/1 [==============================] - 0s 4ms/step - loss: 0.2278 - mae: 0.2278\n",
            "Epoch 77/100\n",
            "1/1 [==============================] - 0s 10ms/step - loss: 0.3053 - mae: 0.3053\n",
            "Epoch 78/100\n",
            "1/1 [==============================] - 0s 5ms/step - loss: 0.1724 - mae: 0.1724\n",
            "Epoch 79/100\n",
            "1/1 [==============================] - 0s 5ms/step - loss: 0.4260 - mae: 0.4260\n",
            "Epoch 80/100\n",
            "1/1 [==============================] - 0s 5ms/step - loss: 0.5282 - mae: 0.5282\n",
            "Epoch 81/100\n",
            "1/1 [==============================] - 0s 6ms/step - loss: 0.4697 - mae: 0.4697\n",
            "Epoch 82/100\n",
            "1/1 [==============================] - 0s 5ms/step - loss: 0.2679 - mae: 0.2679\n",
            "Epoch 83/100\n",
            "1/1 [==============================] - 0s 6ms/step - loss: 0.5169 - mae: 0.5169\n",
            "Epoch 84/100\n",
            "1/1 [==============================] - 0s 15ms/step - loss: 0.6089 - mae: 0.6089\n",
            "Epoch 85/100\n",
            "1/1 [==============================] - 0s 7ms/step - loss: 0.4048 - mae: 0.4048\n",
            "Epoch 86/100\n",
            "1/1 [==============================] - 0s 6ms/step - loss: 0.0787 - mae: 0.0787\n",
            "Epoch 87/100\n",
            "1/1 [==============================] - 0s 5ms/step - loss: 0.2098 - mae: 0.2098\n",
            "Epoch 88/100\n",
            "1/1 [==============================] - 0s 6ms/step - loss: 0.0880 - mae: 0.0880\n",
            "Epoch 89/100\n",
            "1/1 [==============================] - 0s 6ms/step - loss: 0.2642 - mae: 0.2642\n",
            "Epoch 90/100\n",
            "1/1 [==============================] - 0s 5ms/step - loss: 0.2510 - mae: 0.2510\n",
            "Epoch 91/100\n",
            "1/1 [==============================] - 0s 6ms/step - loss: 0.0822 - mae: 0.0822\n",
            "Epoch 92/100\n",
            "1/1 [==============================] - 0s 6ms/step - loss: 0.1671 - mae: 0.1671\n",
            "Epoch 93/100\n",
            "1/1 [==============================] - 0s 5ms/step - loss: 0.0152 - mae: 0.0152\n",
            "Epoch 94/100\n",
            "1/1 [==============================] - 0s 10ms/step - loss: 0.1764 - mae: 0.1764\n",
            "Epoch 95/100\n",
            "1/1 [==============================] - 0s 6ms/step - loss: 0.0582 - mae: 0.0582\n",
            "Epoch 96/100\n",
            "1/1 [==============================] - 0s 5ms/step - loss: 0.3080 - mae: 0.3080\n",
            "Epoch 97/100\n",
            "1/1 [==============================] - 0s 5ms/step - loss: 0.3563 - mae: 0.3563\n",
            "Epoch 98/100\n",
            "1/1 [==============================] - 0s 7ms/step - loss: 0.1435 - mae: 0.1435\n",
            "Epoch 99/100\n",
            "1/1 [==============================] - 0s 9ms/step - loss: 0.3117 - mae: 0.3117\n",
            "Epoch 100/100\n",
            "1/1 [==============================] - 0s 7ms/step - loss: 0.4584 - mae: 0.4584\n"
          ],
          "name": "stdout"
        },
        {
          "output_type": "execute_result",
          "data": {
            "text/plain": [
              "<tensorflow.python.keras.callbacks.History at 0x7fe7226b7ed0>"
            ]
          },
          "metadata": {
            "tags": []
          },
          "execution_count": 19
        }
      ]
    },
    {
      "cell_type": "code",
      "metadata": {
        "colab": {
          "base_uri": "https://localhost:8080/"
        },
        "id": "1S-UT1ZjWxJT",
        "outputId": "5cee8090-9d11-484a-9dda-1808c1ef3df2"
      },
      "source": [
        "# Let's remind ourselves of the data\n",
        "X, y"
      ],
      "execution_count": null,
      "outputs": [
        {
          "output_type": "execute_result",
          "data": {
            "text/plain": [
              "(<tf.Tensor: shape=(8,), dtype=float64, numpy=array([-7., -4., -1.,  2.,  5.,  8., 11., 14.])>,\n",
              " <tf.Tensor: shape=(8,), dtype=float64, numpy=array([ 3.,  6.,  9., 12., 15., 18., 21., 24.])>)"
            ]
          },
          "metadata": {
            "tags": []
          },
          "execution_count": 20
        }
      ]
    },
    {
      "cell_type": "code",
      "metadata": {
        "colab": {
          "base_uri": "https://localhost:8080/"
        },
        "id": "zzqh37CmW-IZ",
        "outputId": "fe61c776-46d1-4160-f59a-2975c0502fda"
      },
      "source": [
        "# Let's try to make a prediction \n",
        "model.predict([17.0])"
      ],
      "execution_count": null,
      "outputs": [
        {
          "output_type": "execute_result",
          "data": {
            "text/plain": [
              "array([[27.890127]], dtype=float32)"
            ]
          },
          "metadata": {
            "tags": []
          },
          "execution_count": 21
        }
      ]
    },
    {
      "cell_type": "markdown",
      "metadata": {
        "id": "XYkMzm5gXDph"
      },
      "source": [
        "## Evaluting a model\n",
        "\n",
        "In practice, a typical workflow you'll go through when building nueural networks is:\n",
        "\n",
        "```\n",
        "Build a model -> fit it -> evaluate it -> tweak a model -> fit it -> evaluate it -> tweak a model -> fit it -> evaluate it -> tweak a model -> ...\n",
        "```"
      ]
    },
    {
      "cell_type": "markdown",
      "metadata": {
        "id": "AJU4RCtegBus"
      },
      "source": [
        "When it comes to evaluation... there are 3 words you should memorize:\n",
        "\n",
        "> \"Visualize, visualize, visualize\"\n",
        "\n",
        "It's a good idea to visualize:\n",
        "* The data - what data are we working with? What does it look like?\n",
        "* The model itself - what does our model look like?\n",
        "* The training of a model - how does a model perform while it learns?\n",
        "* The predictions of the modle - how do the predictions of a model line up against the ground truth (the original labels)?"
      ]
    },
    {
      "cell_type": "code",
      "metadata": {
        "colab": {
          "base_uri": "https://localhost:8080/"
        },
        "id": "DeDVccq-hRMg",
        "outputId": "7052da5d-0810-4bc0-dfee-d61c5100c4ca"
      },
      "source": [
        "# Make a bigger dataset\n",
        "\n",
        "X = tf.range(-100, 100, 4)\n",
        "X"
      ],
      "execution_count": null,
      "outputs": [
        {
          "output_type": "execute_result",
          "data": {
            "text/plain": [
              "<tf.Tensor: shape=(50,), dtype=int32, numpy=\n",
              "array([-100,  -96,  -92,  -88,  -84,  -80,  -76,  -72,  -68,  -64,  -60,\n",
              "        -56,  -52,  -48,  -44,  -40,  -36,  -32,  -28,  -24,  -20,  -16,\n",
              "        -12,   -8,   -4,    0,    4,    8,   12,   16,   20,   24,   28,\n",
              "         32,   36,   40,   44,   48,   52,   56,   60,   64,   68,   72,\n",
              "         76,   80,   84,   88,   92,   96], dtype=int32)>"
            ]
          },
          "metadata": {
            "tags": []
          },
          "execution_count": 22
        }
      ]
    },
    {
      "cell_type": "code",
      "metadata": {
        "colab": {
          "base_uri": "https://localhost:8080/"
        },
        "id": "-BZTdywYiG_z",
        "outputId": "fa9f4d2b-83d9-45e5-8a7b-dfe3957dae31"
      },
      "source": [
        "# Make labels for the dataset\n",
        "y = X + 10\n",
        "y"
      ],
      "execution_count": null,
      "outputs": [
        {
          "output_type": "execute_result",
          "data": {
            "text/plain": [
              "<tf.Tensor: shape=(50,), dtype=int32, numpy=\n",
              "array([-90, -86, -82, -78, -74, -70, -66, -62, -58, -54, -50, -46, -42,\n",
              "       -38, -34, -30, -26, -22, -18, -14, -10,  -6,  -2,   2,   6,  10,\n",
              "        14,  18,  22,  26,  30,  34,  38,  42,  46,  50,  54,  58,  62,\n",
              "        66,  70,  74,  78,  82,  86,  90,  94,  98, 102, 106], dtype=int32)>"
            ]
          },
          "metadata": {
            "tags": []
          },
          "execution_count": 23
        }
      ]
    },
    {
      "cell_type": "code",
      "metadata": {
        "colab": {
          "base_uri": "https://localhost:8080/",
          "height": 282
        },
        "id": "qS_uQPYciSM9",
        "outputId": "a85a8aa9-4bfd-4373-c56f-453056f33314"
      },
      "source": [
        "# Visualize the data\n",
        "import matplotlib.pyplot as plt\n",
        "plt.scatter(X, y)"
      ],
      "execution_count": null,
      "outputs": [
        {
          "output_type": "execute_result",
          "data": {
            "text/plain": [
              "<matplotlib.collections.PathCollection at 0x7fe7226a4690>"
            ]
          },
          "metadata": {
            "tags": []
          },
          "execution_count": 24
        },
        {
          "output_type": "display_data",
          "data": {
            "image/png": "[encoded data removed]",
            "text/plain": [
              "<Figure size 432x288 with 1 Axes>"
            ]
          },
          "metadata": {
            "tags": [],
            "needs_background": "light"
          }
        }
      ]
    },
    {
      "cell_type": "markdown",
      "metadata": {
        "id": "GPD1b8Quidlk"
      },
      "source": [
        "### The  3 sets...\n",
        "\n",
        "* **Training set** - the model learns from this data, which is typically 70-80% of the total data you have available.\n",
        "* **Validation set** - the model gets tuned on this data, which is typically 10-15% of the data available.\n",
        "* Test set - the model gets evaluated on this data to test what it has learned, this set is typically 10-15% of the total data available. \n",
        "\n",
        "**Generalization** - The ability for a machine learning model to perform well on data it hasn't seen before."
      ]
    },
    {
      "cell_type": "code",
      "metadata": {
        "colab": {
          "base_uri": "https://localhost:8080/"
        },
        "id": "4XM0fypDjrwg",
        "outputId": "b953ccc9-14c7-4c7e-ec7e-ff55a16cc169"
      },
      "source": [
        "# Check the lenght of how many samples we have\n",
        "len(X)"
      ],
      "execution_count": null,
      "outputs": [
        {
          "output_type": "execute_result",
          "data": {
            "text/plain": [
              "50"
            ]
          },
          "metadata": {
            "tags": []
          },
          "execution_count": 25
        }
      ]
    },
    {
      "cell_type": "code",
      "metadata": {
        "colab": {
          "base_uri": "https://localhost:8080/"
        },
        "id": "1zh9G6JKkMLO",
        "outputId": "16129c7c-b732-48a1-8ea4-f6725b6fe9de"
      },
      "source": [
        "# Split the data into train and test sets\n",
        "X_train = X[:40] # first 40 are training samples (80% of the data)\n",
        "y_train = y[:40]\n",
        "\n",
        "X_test = X[40:] # last 10 are testing samples (20% of the data)\n",
        "y_test = y[40:]\n",
        "\n",
        "len(X_train), len(X_test), len(y_train), len(y_test)"
      ],
      "execution_count": null,
      "outputs": [
        {
          "output_type": "execute_result",
          "data": {
            "text/plain": [
              "(40, 10, 40, 10)"
            ]
          },
          "metadata": {
            "tags": []
          },
          "execution_count": 26
        }
      ]
    },
    {
      "cell_type": "markdown",
      "metadata": {
        "id": "z6BfycfllJAS"
      },
      "source": [
        "### Visualizing the data\n",
        "\n",
        "Now we've got our data in training and test sets... let's visualize it again!"
      ]
    },
    {
      "cell_type": "code",
      "metadata": {
        "colab": {
          "base_uri": "https://localhost:8080/",
          "height": 427
        },
        "id": "WD8aSqr7l0e8",
        "outputId": "260130a9-5bd9-41ae-92f6-516a426f7f3d"
      },
      "source": [
        "plt.figure(figsize=(10, 7))\n",
        "# plot training data in blue\n",
        "plt.scatter(X_train, y_train, c='b', label=\"Training data\")\n",
        "# Plot test data in green\n",
        "plt.scatter(X_test, y_test, c='g', label=\"Testing data\")\n",
        "# Show a legend\n",
        "plt.legend();"
      ],
      "execution_count": null,
      "outputs": [
        {
          "output_type": "display_data",
          "data": {
            "image/png": "[encoded data removed]",
            "text/plain": [
              "<Figure size 720x504 with 1 Axes>"
            ]
          },
          "metadata": {
            "tags": [],
            "needs_background": "light"
          }
        }
      ]
    },
    {
      "cell_type": "code",
      "metadata": {
        "id": "oJVflh12mbyZ"
      },
      "source": [
        "# Let's have a look at how to build a neural network for our data.\n",
        "\n",
        "# 1. Create the model\n",
        "model = tf.keras.Sequential([\n",
        "  tf.keras.layers.Dense(1)\n",
        "])\n",
        "\n",
        "# 2. Compile the model\n",
        "model.compile(loss=tf.keras.losses.mae,\n",
        "              optimizer=tf.keras.optimizers.SGD(),\n",
        "              metrics=['mae'])\n",
        "\n",
        "# 3. Fit the model\n",
        "# model.fit(X_train, y_train, epochs=100) # done on purpose.\n",
        "\n"
      ],
      "execution_count": null,
      "outputs": []
    },
    {
      "cell_type": "code",
      "metadata": {
        "id": "-GcQSydVs8i5"
      },
      "source": [
        "# model.summary() gave us a value error we would need to use input_shape"
      ],
      "execution_count": null,
      "outputs": []
    },
    {
      "cell_type": "code",
      "metadata": {
        "id": "2flqjBAjsGuH"
      },
      "source": [
        "# Let's creat a model which builds autoomatically by defining the input_shapte argument in the first layer\n",
        "tf.random.set_seed(42)\n",
        "\n",
        "# 1. Create a model \n",
        "model = tf.keras.Sequential([\n",
        "  tf.keras.layers.Dense(10, input_shape=[1], name=\"input_layer\"),\n",
        "  tf.keras.layers.Dense(1, name='output_layer')\n",
        "], name=\"model_1\")\n",
        "\n",
        "# 2. compile the model \n",
        "model.compile(loss=tf.keras.losses.mae,\n",
        "              optimizer=tf.keras.optimizers.SGD(),\n",
        "              metrics=['mae'])"
      ],
      "execution_count": null,
      "outputs": []
    },
    {
      "cell_type": "code",
      "metadata": {
        "colab": {
          "base_uri": "https://localhost:8080/"
        },
        "id": "bcFGSsDVt773",
        "outputId": "a61eb215-52da-473f-8077-f7a83c6be323"
      },
      "source": [
        "model.summary()"
      ],
      "execution_count": null,
      "outputs": [
        {
          "output_type": "stream",
          "text": [
            "Model: \"model_1\"\n",
            "_________________________________________________________________\n",
            "Layer (type)                 Output Shape              Param #   \n",
            "=================================================================\n",
            "input_layer (Dense)          (None, 10)                20        \n",
            "_________________________________________________________________\n",
            "output_layer (Dense)         (None, 1)                 11        \n",
            "=================================================================\n",
            "Total params: 31\n",
            "Trainable params: 31\n",
            "Non-trainable params: 0\n",
            "_________________________________________________________________\n"
          ],
          "name": "stdout"
        }
      ]
    },
    {
      "cell_type": "markdown",
      "metadata": {
        "id": "xwNTpOULuGnF"
      },
      "source": [
        "* Total params - total number of parameters in the model.\n",
        "* Trainable params - these are the parameters (patterns) the model can update as it trains.\n",
        "* Non-trainable params - these parameters aren't updated during training (this is typical when your parameters from other models dureing **transfer learning**).\n",
        "\n",
        "📖 **Resource:** For a more in-depth overview of the trainable parameters with in a layer, check out MIT's introduction to deep learning video.\n",
        "\n",
        "🛠 **Exercise:** Try playing around with the number of hidden units in the dense layer, see how that effects the number of parameters (total and trainable) by calling `model.summary()`"
      ]
    },
    {
      "cell_type": "code",
      "metadata": {
        "colab": {
          "base_uri": "https://localhost:8080/"
        },
        "id": "85dfQ074xw9A",
        "outputId": "03171496-5b26-4d24-db6a-d1a0d1671b78"
      },
      "source": [
        "# Let's fit our model to the training data\n",
        "model.fit(X_train, y_train, epochs=100, verbose=0)"
      ],
      "execution_count": null,
      "outputs": [
        {
          "output_type": "execute_result",
          "data": {
            "text/plain": [
              "<tensorflow.python.keras.callbacks.History at 0x7fe720c92bd0>"
            ]
          },
          "metadata": {
            "tags": []
          },
          "execution_count": 32
        }
      ]
    },
    {
      "cell_type": "code",
      "metadata": {
        "id": "l2Q-pGMCyC09",
        "colab": {
          "base_uri": "https://localhost:8080/"
        },
        "outputId": "57ca4544-8480-4f19-eeea-f3b0f1b199f6"
      },
      "source": [
        " # Get a summary of our model \n",
        " model.summary()"
      ],
      "execution_count": null,
      "outputs": [
        {
          "output_type": "stream",
          "text": [
            "Model: \"model_1\"\n",
            "_________________________________________________________________\n",
            "Layer (type)                 Output Shape              Param #   \n",
            "=================================================================\n",
            "input_layer (Dense)          (None, 10)                20        \n",
            "_________________________________________________________________\n",
            "output_layer (Dense)         (None, 1)                 11        \n",
            "=================================================================\n",
            "Total params: 31\n",
            "Trainable params: 31\n",
            "Non-trainable params: 0\n",
            "_________________________________________________________________\n"
          ],
          "name": "stdout"
        }
      ]
    },
    {
      "cell_type": "code",
      "metadata": {
        "colab": {
          "base_uri": "https://localhost:8080/",
          "height": 312
        },
        "id": "d2fyQyrnXBPw",
        "outputId": "e38c8588-6664-4c8f-904a-640bbcd27c21"
      },
      "source": [
        "from tensorflow.keras.utils import plot_model\n",
        "\n",
        "plot_model(model=model, show_shapes=True)"
      ],
      "execution_count": null,
      "outputs": [
        {
          "output_type": "execute_result",
          "data": {
            "image/png": "[encoded data removed]",
            "text/plain": [
              "<IPython.core.display.Image object>"
            ]
          },
          "metadata": {
            "tags": []
          },
          "execution_count": 34
        }
      ]
    },
    {
      "cell_type": "markdown",
      "metadata": {
        "id": "dW8XUl3-YEHp"
      },
      "source": [
        "### Visualizing our model's predictions\n",
        "\n",
        "To visualize predictions, it's a good idea to plot them against the ground truth labels.\n",
        "\n",
        "Oftena you'll see this in the form of `y_test` or `y_true` versus `y_pred` (ground truth versus your model's predictions)."
      ]
    },
    {
      "cell_type": "code",
      "metadata": {
        "colab": {
          "base_uri": "https://localhost:8080/"
        },
        "id": "q0ZPtEhzaM8n",
        "outputId": "a312dbb6-da06-4f1e-c1fb-bb52894b3566"
      },
      "source": [
        "# Make some predictions\n",
        "y_pred = model.predict(X_test)\n",
        "y_pred"
      ],
      "execution_count": null,
      "outputs": [
        {
          "output_type": "stream",
          "text": [
            "WARNING:tensorflow:5 out of the last 5 calls to <function Model.make_predict_function.<locals>.predict_function at 0x7fe726ea3b00> triggered tf.function retracing. Tracing is expensive and the excessive number of tracings could be due to (1) creating @tf.function repeatedly in a loop, (2) passing tensors with different shapes, (3) passing Python objects instead of tensors. For (1), please define your @tf.function outside of the loop. For (2), @tf.function has experimental_relax_shapes=True option that relaxes argument shapes that can avoid unnecessary retracing. For (3), please refer to https://www.tensorflow.org/guide/function#controlling_retracing and https://www.tensorflow.org/api_docs/python/tf/function for  more details.\n"
          ],
          "name": "stdout"
        },
        {
          "output_type": "execute_result",
          "data": {
            "text/plain": [
              "array([[ 70.55218 ],\n",
              "       [ 75.13991 ],\n",
              "       [ 79.72763 ],\n",
              "       [ 84.31535 ],\n",
              "       [ 88.903076],\n",
              "       [ 93.49081 ],\n",
              "       [ 98.07853 ],\n",
              "       [102.66625 ],\n",
              "       [107.253975],\n",
              "       [111.8417  ]], dtype=float32)"
            ]
          },
          "metadata": {
            "tags": []
          },
          "execution_count": 35
        }
      ]
    },
    {
      "cell_type": "code",
      "metadata": {
        "colab": {
          "base_uri": "https://localhost:8080/"
        },
        "id": "3eIVEETdadcO",
        "outputId": "877631f6-7dad-4c8e-cffc-3afdac53d43b"
      },
      "source": [
        "y_test"
      ],
      "execution_count": null,
      "outputs": [
        {
          "output_type": "execute_result",
          "data": {
            "text/plain": [
              "<tf.Tensor: shape=(10,), dtype=int32, numpy=array([ 70,  74,  78,  82,  86,  90,  94,  98, 102, 106], dtype=int32)>"
            ]
          },
          "metadata": {
            "tags": []
          },
          "execution_count": 36
        }
      ]
    },
    {
      "cell_type": "markdown",
      "metadata": {
        "id": "HS13qWoIawL2"
      },
      "source": [
        "🔑 **Note:** if you feel like you're going to reuse some kind of functionality in the future, it's good idea to turn it into a function."
      ]
    },
    {
      "cell_type": "code",
      "metadata": {
        "id": "acW4lhjbaivN"
      },
      "source": [
        "# Let's create a ploting function\n",
        "def plot_predictions(train_data=X_train,\n",
        "                     train_labels=y_train,\n",
        "                     test_data=X_test,\n",
        "                     test_labels=y_test,\n",
        "                     predictions=y_pred):\n",
        "    \"\"\"\n",
        "    Plots training data, test data and compares predictions to ground truth\n",
        "    \"\"\"\n",
        "\n",
        "    plt.figure(figsize=(10, 7))\n",
        "    # plot training data in blue\n",
        "    plt.scatter(train_data, train_labels, c='b', label=\"Training data\")\n",
        "    # Plot test data in green\n",
        "    plt.scatter(test_data, test_labels, c='g', label=\"Testing data\")\n",
        "    # Plot model's precitions in red\n",
        "    plt.scatter(test_data, predictions, c='r', label='Predictions')\n",
        "    # Show a legend\n",
        "    plt.legend();"
      ],
      "execution_count": null,
      "outputs": []
    },
    {
      "cell_type": "code",
      "metadata": {
        "colab": {
          "base_uri": "https://localhost:8080/",
          "height": 427
        },
        "id": "p8nh9Km-cf46",
        "outputId": "41b6d90d-ebc8-4aeb-ff03-71252d75e12e"
      },
      "source": [
        "plot_predictions(train_data=X_train,\n",
        "                     train_labels=y_train,\n",
        "                     test_data=X_test,\n",
        "                     test_labels=y_test,\n",
        "                     predictions=y_pred)"
      ],
      "execution_count": null,
      "outputs": [
        {
          "output_type": "display_data",
          "data": {
            "image/png": "[encoded data removed]",
            "text/plain": [
              "<Figure size 720x504 with 1 Axes>"
            ]
          },
          "metadata": {
            "tags": [],
            "needs_background": "light"
          }
        }
      ]
    },
    {
      "cell_type": "markdown",
      "metadata": {
        "id": "xsLKlTCOclCk"
      },
      "source": [
        "### Evalution our model's prediction with regression evaluation metrics\n",
        "\n",
        "Depending on the problem you are working on, there will be different evaluation metrices to evalutate your model's performance.\n",
        "\n",
        "Since we're working on a regression, two of the main metrics:\n",
        "* MAE - mean absolute error, \"one average, how wrong is each of my model's predictions\"\n",
        "* MSE - mean square error, \"square the average errors\" "
      ]
    },
    {
      "cell_type": "code",
      "metadata": {
        "id": "9m-ZgYj3eSaW",
        "colab": {
          "base_uri": "https://localhost:8080/"
        },
        "outputId": "d940e137-da28-43ad-8e16-2b3fee4b6c87"
      },
      "source": [
        "# Evaluate the model on the test\n",
        "model.evaluate(X_test, y_test)"
      ],
      "execution_count": null,
      "outputs": [
        {
          "output_type": "stream",
          "text": [
            "1/1 [==============================] - 0s 133ms/step - loss: 3.1969 - mae: 3.1969\n"
          ],
          "name": "stdout"
        },
        {
          "output_type": "execute_result",
          "data": {
            "text/plain": [
              "[3.1969451904296875, 3.1969451904296875]"
            ]
          },
          "metadata": {
            "tags": []
          },
          "execution_count": 39
        }
      ]
    },
    {
      "cell_type": "code",
      "metadata": {
        "colab": {
          "base_uri": "https://localhost:8080/"
        },
        "id": "h7Su3t6q9e2K",
        "outputId": "8e19068a-4768-48e2-f091-3a2e3d66495b"
      },
      "source": [
        "# calculate the mean absolute error\n",
        "mae = tf.metrics.mean_absolute_error(y_true = y_test,\n",
        "                                     y_pred = tf.constant(y_pred))\n",
        "mae"
      ],
      "execution_count": null,
      "outputs": [
        {
          "output_type": "execute_result",
          "data": {
            "text/plain": [
              "<tf.Tensor: shape=(10,), dtype=float32, numpy=\n",
              "array([17.558258 , 14.1160555, 11.708948 , 10.336929 , 10.       ,\n",
              "       10.698161 , 12.447118 , 15.333002 , 19.253975 , 23.841698 ],\n",
              "      dtype=float32)>"
            ]
          },
          "metadata": {
            "tags": []
          },
          "execution_count": 40
        }
      ]
    },
    {
      "cell_type": "code",
      "metadata": {
        "colab": {
          "base_uri": "https://localhost:8080/"
        },
        "id": "GOgrLbgA9RT7",
        "outputId": "65e1b4fa-a514-40ff-9b1f-a213cd6a4c91"
      },
      "source": [
        "tf.constant(y_pred)"
      ],
      "execution_count": null,
      "outputs": [
        {
          "output_type": "execute_result",
          "data": {
            "text/plain": [
              "<tf.Tensor: shape=(10, 1), dtype=float32, numpy=\n",
              "array([[ 70.55218 ],\n",
              "       [ 75.13991 ],\n",
              "       [ 79.72763 ],\n",
              "       [ 84.31535 ],\n",
              "       [ 88.903076],\n",
              "       [ 93.49081 ],\n",
              "       [ 98.07853 ],\n",
              "       [102.66625 ],\n",
              "       [107.253975],\n",
              "       [111.8417  ]], dtype=float32)>"
            ]
          },
          "metadata": {
            "tags": []
          },
          "execution_count": 41
        }
      ]
    },
    {
      "cell_type": "code",
      "metadata": {
        "colab": {
          "base_uri": "https://localhost:8080/"
        },
        "id": "ZDtHjW5u9dfz",
        "outputId": "27fe14f7-163e-4391-b314-f3f59ab32627"
      },
      "source": [
        "y_test"
      ],
      "execution_count": null,
      "outputs": [
        {
          "output_type": "execute_result",
          "data": {
            "text/plain": [
              "<tf.Tensor: shape=(10,), dtype=int32, numpy=array([ 70,  74,  78,  82,  86,  90,  94,  98, 102, 106], dtype=int32)>"
            ]
          },
          "metadata": {
            "tags": []
          },
          "execution_count": 42
        }
      ]
    },
    {
      "cell_type": "code",
      "metadata": {
        "colab": {
          "base_uri": "https://localhost:8080/"
        },
        "id": "XJZMAz3k_fBu",
        "outputId": "550a638f-a462-4bf7-e035-931fecb960bc"
      },
      "source": [
        "tf.squeeze(y_pred)"
      ],
      "execution_count": null,
      "outputs": [
        {
          "output_type": "execute_result",
          "data": {
            "text/plain": [
              "<tf.Tensor: shape=(10,), dtype=float32, numpy=\n",
              "array([ 70.55218 ,  75.13991 ,  79.72763 ,  84.31535 ,  88.903076,\n",
              "        93.49081 ,  98.07853 , 102.66625 , 107.253975, 111.8417  ],\n",
              "      dtype=float32)>"
            ]
          },
          "metadata": {
            "tags": []
          },
          "execution_count": 43
        }
      ]
    },
    {
      "cell_type": "code",
      "metadata": {
        "colab": {
          "base_uri": "https://localhost:8080/"
        },
        "id": "yqSht5PS_iZA",
        "outputId": "4b49af0c-120d-4fe9-ae40-a673f368a3dc"
      },
      "source": [
        "# Calculate the mean absolute error\n",
        "mae = tf.metrics.mean_absolute_error(y_true = y_test,\n",
        "                                     y_pred = tf.squeeze(y_pred))\n",
        "mae"
      ],
      "execution_count": null,
      "outputs": [
        {
          "output_type": "execute_result",
          "data": {
            "text/plain": [
              "<tf.Tensor: shape=(), dtype=float32, numpy=3.1969407>"
            ]
          },
          "metadata": {
            "tags": []
          },
          "execution_count": 44
        }
      ]
    },
    {
      "cell_type": "code",
      "metadata": {
        "colab": {
          "base_uri": "https://localhost:8080/"
        },
        "id": "22rnlrkq_vu-",
        "outputId": "9b9e0946-5bc8-4820-fd49-3fecb3e9f938"
      },
      "source": [
        "# Calculate the mean square error\n",
        "mse = tf.metrics.mean_squared_error(y_true=y_test,\n",
        "                                    y_pred=tf.squeeze(y_pred))\n",
        "mse"
      ],
      "execution_count": null,
      "outputs": [
        {
          "output_type": "execute_result",
          "data": {
            "text/plain": [
              "<tf.Tensor: shape=(), dtype=float32, numpy=13.070143>"
            ]
          },
          "metadata": {
            "tags": []
          },
          "execution_count": 45
        }
      ]
    },
    {
      "cell_type": "code",
      "metadata": {
        "id": "0nTvCDefA15F"
      },
      "source": [
        "# Make some functions to reuse MAE and MSE\n",
        "def mae(y_true, y_pred):\n",
        "    return tf.metrics.mean_absolute_error(y_true=y_test,\n",
        "                                          y_pred=tf.squeeze(y_pred))\n",
        "    \n",
        "def mse(y_true, y_pred):\n",
        "    return tf.metrics.mean_squared_error(y_true=y_test,\n",
        "                                         y_pred=tf.squeeze(y_pred))"
      ],
      "execution_count": null,
      "outputs": []
    },
    {
      "cell_type": "markdown",
      "metadata": {
        "id": "sgTZGQyRYBlP"
      },
      "source": [
        "### Running Experiments to imporve our model\n",
        "\n",
        "```\n",
        "Build a model -> fit it-> evaluate it -> tweak it -> fit it-> evaluate it -> tweak it -> etc..\n",
        "```\n",
        "\n",
        "1. Get more data - get more examples for your model to train on (more opportunities to learn patterns or relations ships beetween featuers and labels).\n",
        "2. Make your model larger (useing a more complex model) - this might come in the form of more layers or more hidden units in each layer. \n",
        "3. Train for longer - give your model more of a chace find pat terns in the data\n",
        "\n",
        "Let's do 3 modelling experiments:\n",
        "\n",
        "1. `model_1` - same as them original model, 1 layer, trained for 100 epochs.\n",
        "2. `model_2 ` - 2 layers, trained for 100 epochs\n",
        "3. `model_3` - 2 layers, trained for 500 epochs\n",
        "\n",
        "**Build `model_1`**\n"
      ]
    },
    {
      "cell_type": "code",
      "metadata": {
        "colab": {
          "base_uri": "https://localhost:8080/"
        },
        "id": "v6H1E68MYma9",
        "outputId": "a7a015f2-9f6d-4367-8a90-27468153a290"
      },
      "source": [
        "# Set random seed\n",
        "tf.random.set_seed(42)\n",
        "\n",
        "#1. crate the model\n",
        "model_1 = tf.keras.Sequential([\n",
        "   tf.keras.layers.Dense(1)                            \n",
        "])\n",
        "\n",
        "#2. Compile the model\n",
        "model_1.compile(loss=tf.keras.losses.mae,\n",
        "                optimizer=tf.keras.optimizers.SGD(),\n",
        "                metrics=['mae'])\n",
        "\n",
        "# 3. Fit the model \n",
        "model_1.fit(X_train, y_train, epochs=100)"
      ],
      "execution_count": null,
      "outputs": [
        {
          "output_type": "stream",
          "text": [
            "Epoch 1/100\n",
            "2/2 [==============================] - 0s 5ms/step - loss: 16.4124 - mae: 16.4124\n",
            "Epoch 2/100\n",
            "2/2 [==============================] - 0s 7ms/step - loss: 11.0829 - mae: 11.0829\n",
            "Epoch 3/100\n",
            "2/2 [==============================] - 0s 4ms/step - loss: 11.1242 - mae: 11.1242\n",
            "Epoch 4/100\n",
            "2/2 [==============================] - 0s 3ms/step - loss: 8.6945 - mae: 8.6945\n",
            "Epoch 5/100\n",
            "2/2 [==============================] - 0s 7ms/step - loss: 9.8003 - mae: 9.8003\n",
            "Epoch 6/100\n",
            "2/2 [==============================] - 0s 3ms/step - loss: 9.5263 - mae: 9.5263\n",
            "Epoch 7/100\n",
            "2/2 [==============================] - 0s 7ms/step - loss: 8.4102 - mae: 8.4102\n",
            "Epoch 8/100\n",
            "2/2 [==============================] - 0s 6ms/step - loss: 9.1449 - mae: 9.1449\n",
            "Epoch 9/100\n",
            "2/2 [==============================] - 0s 3ms/step - loss: 19.4932 - mae: 19.4932\n",
            "Epoch 10/100\n",
            "2/2 [==============================] - 0s 4ms/step - loss: 9.6061 - mae: 9.6061\n",
            "Epoch 11/100\n",
            "2/2 [==============================] - 0s 5ms/step - loss: 8.5992 - mae: 8.5992\n",
            "Epoch 12/100\n",
            "2/2 [==============================] - 0s 4ms/step - loss: 10.9324 - mae: 10.9324\n",
            "Epoch 13/100\n",
            "2/2 [==============================] - 0s 7ms/step - loss: 10.0574 - mae: 10.0574\n",
            "Epoch 14/100\n",
            "2/2 [==============================] - 0s 7ms/step - loss: 16.5679 - mae: 16.5679\n",
            "Epoch 15/100\n",
            "2/2 [==============================] - 0s 3ms/step - loss: 11.4537 - mae: 11.4537\n",
            "Epoch 16/100\n",
            "2/2 [==============================] - 0s 6ms/step - loss: 8.4056 - mae: 8.4056\n",
            "Epoch 17/100\n",
            "2/2 [==============================] - 0s 6ms/step - loss: 13.8417 - mae: 13.8417\n",
            "Epoch 18/100\n",
            "2/2 [==============================] - 0s 10ms/step - loss: 11.6621 - mae: 11.6621\n",
            "Epoch 19/100\n",
            "2/2 [==============================] - 0s 3ms/step - loss: 18.7623 - mae: 18.7623\n",
            "Epoch 20/100\n",
            "2/2 [==============================] - 0s 3ms/step - loss: 15.5702 - mae: 15.5702\n",
            "Epoch 21/100\n",
            "2/2 [==============================] - 0s 7ms/step - loss: 10.9959 - mae: 10.9959\n",
            "Epoch 22/100\n",
            "2/2 [==============================] - 0s 6ms/step - loss: 8.0023 - mae: 8.0023\n",
            "Epoch 23/100\n",
            "2/2 [==============================] - 0s 13ms/step - loss: 9.8593 - mae: 9.8593\n",
            "Epoch 24/100\n",
            "2/2 [==============================] - 0s 5ms/step - loss: 7.5796 - mae: 7.5796\n",
            "Epoch 25/100\n",
            "2/2 [==============================] - 0s 4ms/step - loss: 13.7226 - mae: 13.7226\n",
            "Epoch 26/100\n",
            "2/2 [==============================] - 0s 12ms/step - loss: 17.1740 - mae: 17.1740\n",
            "Epoch 27/100\n",
            "2/2 [==============================] - 0s 3ms/step - loss: 13.4233 - mae: 13.4233\n",
            "Epoch 28/100\n",
            "2/2 [==============================] - 0s 8ms/step - loss: 14.5473 - mae: 14.5473\n",
            "Epoch 29/100\n",
            "2/2 [==============================] - 0s 4ms/step - loss: 9.8753 - mae: 9.8753\n",
            "Epoch 30/100\n",
            "2/2 [==============================] - 0s 7ms/step - loss: 17.1187 - mae: 17.1187\n",
            "Epoch 31/100\n",
            "2/2 [==============================] - 0s 4ms/step - loss: 24.5949 - mae: 24.5949\n",
            "Epoch 32/100\n",
            "2/2 [==============================] - 0s 4ms/step - loss: 7.6765 - mae: 7.6765\n",
            "Epoch 33/100\n",
            "2/2 [==============================] - 0s 5ms/step - loss: 9.2971 - mae: 9.2971\n",
            "Epoch 34/100\n",
            "2/2 [==============================] - 0s 4ms/step - loss: 14.1703 - mae: 14.1703\n",
            "Epoch 35/100\n",
            "2/2 [==============================] - 0s 6ms/step - loss: 10.8635 - mae: 10.8635\n",
            "Epoch 36/100\n",
            "2/2 [==============================] - 0s 5ms/step - loss: 13.5689 - mae: 13.5689\n",
            "Epoch 37/100\n",
            "2/2 [==============================] - 0s 7ms/step - loss: 9.3448 - mae: 9.3448\n",
            "Epoch 38/100\n",
            "2/2 [==============================] - 0s 4ms/step - loss: 10.4804 - mae: 10.4804\n",
            "Epoch 39/100\n",
            "2/2 [==============================] - 0s 7ms/step - loss: 10.0178 - mae: 10.0178\n",
            "Epoch 40/100\n",
            "2/2 [==============================] - 0s 4ms/step - loss: 10.8005 - mae: 10.8005\n",
            "Epoch 41/100\n",
            "2/2 [==============================] - 0s 4ms/step - loss: 7.7789 - mae: 7.7789\n",
            "Epoch 42/100\n",
            "2/2 [==============================] - 0s 4ms/step - loss: 10.2844 - mae: 10.2844\n",
            "Epoch 43/100\n",
            "2/2 [==============================] - 0s 9ms/step - loss: 8.9628 - mae: 8.9628\n",
            "Epoch 44/100\n",
            "2/2 [==============================] - 0s 4ms/step - loss: 12.6243 - mae: 12.6243\n",
            "Epoch 45/100\n",
            "2/2 [==============================] - 0s 6ms/step - loss: 14.1236 - mae: 14.1236\n",
            "Epoch 46/100\n",
            "2/2 [==============================] - 0s 6ms/step - loss: 8.2681 - mae: 8.2681\n",
            "Epoch 47/100\n",
            "2/2 [==============================] - 0s 4ms/step - loss: 9.0126 - mae: 9.0126\n",
            "Epoch 48/100\n",
            "2/2 [==============================] - 0s 4ms/step - loss: 10.6882 - mae: 10.6882\n",
            "Epoch 49/100\n",
            "2/2 [==============================] - 0s 13ms/step - loss: 7.7431 - mae: 7.7431\n",
            "Epoch 50/100\n",
            "2/2 [==============================] - 0s 7ms/step - loss: 9.3950 - mae: 9.3950\n",
            "Epoch 51/100\n",
            "2/2 [==============================] - 0s 4ms/step - loss: 8.9267 - mae: 8.9267\n",
            "Epoch 52/100\n",
            "2/2 [==============================] - 0s 4ms/step - loss: 16.9818 - mae: 16.9818\n",
            "Epoch 53/100\n",
            "2/2 [==============================] - 0s 8ms/step - loss: 14.8677 - mae: 14.8677\n",
            "Epoch 54/100\n",
            "2/2 [==============================] - 0s 3ms/step - loss: 22.0413 - mae: 22.0413\n",
            "Epoch 55/100\n",
            "2/2 [==============================] - 0s 4ms/step - loss: 17.0640 - mae: 17.0640\n",
            "Epoch 56/100\n",
            "2/2 [==============================] - 0s 6ms/step - loss: 9.9520 - mae: 9.9520\n",
            "Epoch 57/100\n",
            "2/2 [==============================] - 0s 3ms/step - loss: 9.7522 - mae: 9.7522\n",
            "Epoch 58/100\n",
            "2/2 [==============================] - 0s 3ms/step - loss: 9.4378 - mae: 9.4378\n",
            "Epoch 59/100\n",
            "2/2 [==============================] - 0s 8ms/step - loss: 8.3373 - mae: 8.3373\n",
            "Epoch 60/100\n",
            "2/2 [==============================] - 0s 7ms/step - loss: 9.6425 - mae: 9.6425\n",
            "Epoch 61/100\n",
            "2/2 [==============================] - 0s 12ms/step - loss: 11.7590 - mae: 11.7590\n",
            "Epoch 62/100\n",
            "2/2 [==============================] - 0s 9ms/step - loss: 11.7187 - mae: 11.7187\n",
            "Epoch 63/100\n",
            "2/2 [==============================] - 0s 10ms/step - loss: 7.2316 - mae: 7.2316\n",
            "Epoch 64/100\n",
            "2/2 [==============================] - 0s 7ms/step - loss: 17.7848 - mae: 17.7848\n",
            "Epoch 65/100\n",
            "2/2 [==============================] - 0s 6ms/step - loss: 12.6255 - mae: 12.6255\n",
            "Epoch 66/100\n",
            "2/2 [==============================] - 0s 5ms/step - loss: 13.2840 - mae: 13.2840\n",
            "Epoch 67/100\n",
            "2/2 [==============================] - 0s 6ms/step - loss: 7.8471 - mae: 7.8471\n",
            "Epoch 68/100\n",
            "2/2 [==============================] - 0s 6ms/step - loss: 9.9708 - mae: 9.9708\n",
            "Epoch 69/100\n",
            "2/2 [==============================] - 0s 8ms/step - loss: 12.4903 - mae: 12.4903\n",
            "Epoch 70/100\n",
            "2/2 [==============================] - 0s 6ms/step - loss: 8.5001 - mae: 8.5001\n",
            "Epoch 71/100\n",
            "2/2 [==============================] - 0s 4ms/step - loss: 9.9996 - mae: 9.9996\n",
            "Epoch 72/100\n",
            "2/2 [==============================] - 0s 8ms/step - loss: 10.1797 - mae: 10.1797\n",
            "Epoch 73/100\n",
            "2/2 [==============================] - 0s 7ms/step - loss: 13.0024 - mae: 13.0024\n",
            "Epoch 74/100\n",
            "2/2 [==============================] - 0s 7ms/step - loss: 10.3812 - mae: 10.3812\n",
            "Epoch 75/100\n",
            "2/2 [==============================] - 0s 8ms/step - loss: 9.7621 - mae: 9.7621\n",
            "Epoch 76/100\n",
            "2/2 [==============================] - 0s 6ms/step - loss: 11.5186 - mae: 11.5186\n",
            "Epoch 77/100\n",
            "2/2 [==============================] - 0s 6ms/step - loss: 8.3070 - mae: 8.3070\n",
            "Epoch 78/100\n",
            "2/2 [==============================] - 0s 7ms/step - loss: 9.4436 - mae: 9.4436\n",
            "Epoch 79/100\n",
            "2/2 [==============================] - 0s 5ms/step - loss: 20.3897 - mae: 20.3897\n",
            "Epoch 80/100\n",
            "2/2 [==============================] - 0s 9ms/step - loss: 15.4751 - mae: 15.4751\n",
            "Epoch 81/100\n",
            "2/2 [==============================] - 0s 5ms/step - loss: 9.0208 - mae: 9.0208\n",
            "Epoch 82/100\n",
            "2/2 [==============================] - 0s 7ms/step - loss: 13.3869 - mae: 13.3869\n",
            "Epoch 83/100\n",
            "2/2 [==============================] - 0s 3ms/step - loss: 7.9649 - mae: 7.9649\n",
            "Epoch 84/100\n",
            "2/2 [==============================] - 0s 3ms/step - loss: 7.5702 - mae: 7.5702\n",
            "Epoch 85/100\n",
            "2/2 [==============================] - 0s 5ms/step - loss: 9.9706 - mae: 9.9706\n",
            "Epoch 86/100\n",
            "2/2 [==============================] - 0s 3ms/step - loss: 9.0533 - mae: 9.0533\n",
            "Epoch 87/100\n",
            "2/2 [==============================] - 0s 3ms/step - loss: 12.2670 - mae: 12.2670\n",
            "Epoch 88/100\n",
            "2/2 [==============================] - 0s 11ms/step - loss: 10.6052 - mae: 10.6052\n",
            "Epoch 89/100\n",
            "2/2 [==============================] - 0s 3ms/step - loss: 7.1986 - mae: 7.1986\n",
            "Epoch 90/100\n",
            "2/2 [==============================] - 0s 3ms/step - loss: 13.0379 - mae: 13.0379\n",
            "Epoch 91/100\n",
            "2/2 [==============================] - 0s 4ms/step - loss: 7.1968 - mae: 7.1968\n",
            "Epoch 92/100\n",
            "2/2 [==============================] - 0s 8ms/step - loss: 7.5386 - mae: 7.5386\n",
            "Epoch 93/100\n",
            "2/2 [==============================] - 0s 8ms/step - loss: 7.0932 - mae: 7.0932\n",
            "Epoch 94/100\n",
            "2/2 [==============================] - 0s 3ms/step - loss: 12.8860 - mae: 12.8860\n",
            "Epoch 95/100\n",
            "2/2 [==============================] - 0s 5ms/step - loss: 9.9620 - mae: 9.9620\n",
            "Epoch 96/100\n",
            "2/2 [==============================] - 0s 4ms/step - loss: 8.7739 - mae: 8.7739\n",
            "Epoch 97/100\n",
            "2/2 [==============================] - 0s 3ms/step - loss: 13.0861 - mae: 13.0861\n",
            "Epoch 98/100\n",
            "2/2 [==============================] - 0s 9ms/step - loss: 8.3848 - mae: 8.3848\n",
            "Epoch 99/100\n",
            "2/2 [==============================] - 0s 3ms/step - loss: 9.7828 - mae: 9.7828\n",
            "Epoch 100/100\n",
            "2/2 [==============================] - 0s 3ms/step - loss: 8.5252 - mae: 8.5252\n"
          ],
          "name": "stdout"
        },
        {
          "output_type": "execute_result",
          "data": {
            "text/plain": [
              "<tensorflow.python.keras.callbacks.History at 0x7fe726d5ca90>"
            ]
          },
          "metadata": {
            "tags": []
          },
          "execution_count": 47
        }
      ]
    },
    {
      "cell_type": "code",
      "metadata": {
        "colab": {
          "base_uri": "https://localhost:8080/",
          "height": 465
        },
        "id": "By7drmftZeKI",
        "outputId": "a562b399-f76a-4fb6-ac2f-7a835ed316ef"
      },
      "source": [
        "# Make and plot predictions for model_1\n",
        "y_preds_1 = model_1.predict(X_test)\n",
        "plot_predictions(predictions=y_preds_1)"
      ],
      "execution_count": null,
      "outputs": [
        {
          "output_type": "stream",
          "text": [
            "WARNING:tensorflow:6 out of the last 6 calls to <function Model.make_predict_function.<locals>.predict_function at 0x7fe726c7eb90> triggered tf.function retracing. Tracing is expensive and the excessive number of tracings could be due to (1) creating @tf.function repeatedly in a loop, (2) passing tensors with different shapes, (3) passing Python objects instead of tensors. For (1), please define your @tf.function outside of the loop. For (2), @tf.function has experimental_relax_shapes=True option that relaxes argument shapes that can avoid unnecessary retracing. For (3), please refer to https://www.tensorflow.org/guide/function#controlling_retracing and https://www.tensorflow.org/api_docs/python/tf/function for  more details.\n"
          ],
          "name": "stdout"
        },
        {
          "output_type": "display_data",
          "data": {
            "image/png": "[encoded data removed]",
            "text/plain": [
              "<Figure size 720x504 with 1 Axes>"
            ]
          },
          "metadata": {
            "tags": [],
            "needs_background": "light"
          }
        }
      ]
    },
    {
      "cell_type": "code",
      "metadata": {
        "colab": {
          "base_uri": "https://localhost:8080/"
        },
        "id": "MIelk-s9cEwx",
        "outputId": "6844437a-32b9-479b-8ed2-4d0816982926"
      },
      "source": [
        "# Calculate model_1 evaluation metrics\n",
        "mae_1 = mae(y_test, y_preds_1)\n",
        "mse_1 = mse(y_test, y_preds_1)\n",
        "mae_1, mse_1"
      ],
      "execution_count": null,
      "outputs": [
        {
          "output_type": "execute_result",
          "data": {
            "text/plain": [
              "(<tf.Tensor: shape=(), dtype=float32, numpy=18.745327>,\n",
              " <tf.Tensor: shape=(), dtype=float32, numpy=353.57336>)"
            ]
          },
          "metadata": {
            "tags": []
          },
          "execution_count": 49
        }
      ]
    },
    {
      "cell_type": "markdown",
      "metadata": {
        "id": "-DnA3lxCde19"
      },
      "source": [
        "**Build `model_2`**\n",
        "\n",
        "* 2 dense layers, trained for 100 epochs"
      ]
    },
    {
      "cell_type": "code",
      "metadata": {
        "colab": {
          "base_uri": "https://localhost:8080/"
        },
        "id": "_kRq_xzEeX_6",
        "outputId": "4c535e16-34db-413e-ac85-06bce44718b4"
      },
      "source": [
        "# Set the random seed\n",
        "tf.random.set_seed\n",
        "\n",
        "# 1. create the model\n",
        "model_2 = tf.keras.Sequential([\n",
        "    tf.keras.layers.Dense(10),\n",
        "    tf.keras.layers.Dense(1)\n",
        "])\n",
        "\n",
        "# 2. Compile model\n",
        "model_2.compile(loss=tf.keras.losses.mae,\n",
        "               optimizer=tf.keras.optimizers.SGD(),\n",
        "               metrics=['mse'])\n",
        "\n",
        "# 3. Fit the model\n",
        "model_2.fit(X_train, y_train, epochs=100)"
      ],
      "execution_count": null,
      "outputs": [
        {
          "output_type": "stream",
          "text": [
            "Epoch 1/100\n",
            "2/2 [==============================] - 0s 9ms/step - loss: 77.0856 - mse: 8550.2907\n",
            "Epoch 2/100\n",
            "2/2 [==============================] - 0s 3ms/step - loss: 17.0775 - mse: 458.0873\n",
            "Epoch 3/100\n",
            "2/2 [==============================] - 0s 4ms/step - loss: 20.1814 - mse: 597.2403\n",
            "Epoch 4/100\n",
            "2/2 [==============================] - 0s 7ms/step - loss: 12.5192 - mse: 196.8840\n",
            "Epoch 5/100\n",
            "2/2 [==============================] - 0s 6ms/step - loss: 14.1468 - mse: 243.6305\n",
            "Epoch 6/100\n",
            "2/2 [==============================] - 0s 6ms/step - loss: 11.6317 - mse: 154.1265\n",
            "Epoch 7/100\n",
            "2/2 [==============================] - 0s 6ms/step - loss: 12.8263 - mse: 216.9939\n",
            "Epoch 8/100\n",
            "2/2 [==============================] - 0s 6ms/step - loss: 11.2822 - mse: 156.1549\n",
            "Epoch 9/100\n",
            "2/2 [==============================] - 0s 6ms/step - loss: 41.5593 - mse: 2650.8285\n",
            "Epoch 10/100\n",
            "2/2 [==============================] - 0s 7ms/step - loss: 27.6300 - mse: 1072.2356\n",
            "Epoch 11/100\n",
            "2/2 [==============================] - 0s 17ms/step - loss: 10.2494 - mse: 156.8378\n",
            "Epoch 12/100\n",
            "2/2 [==============================] - 0s 4ms/step - loss: 25.0770 - mse: 880.9307\n",
            "Epoch 13/100\n",
            "2/2 [==============================] - 0s 3ms/step - loss: 19.1028 - mse: 525.4263\n",
            "Epoch 14/100\n",
            "2/2 [==============================] - 0s 8ms/step - loss: 23.8938 - mse: 878.6292\n",
            "Epoch 15/100\n",
            "2/2 [==============================] - 0s 10ms/step - loss: 15.1235 - mse: 311.3550\n",
            "Epoch 16/100\n",
            "2/2 [==============================] - 0s 10ms/step - loss: 11.3656 - mse: 147.6967\n",
            "Epoch 17/100\n",
            "2/2 [==============================] - 0s 5ms/step - loss: 23.1687 - mse: 762.9237\n",
            "Epoch 18/100\n",
            "2/2 [==============================] - 0s 9ms/step - loss: 12.1538 - mse: 224.6829\n",
            "Epoch 19/100\n",
            "2/2 [==============================] - 0s 7ms/step - loss: 16.7245 - mse: 444.3988\n",
            "Epoch 20/100\n",
            "2/2 [==============================] - 0s 4ms/step - loss: 8.0070 - mse: 90.2489\n",
            "Epoch 21/100\n",
            "2/2 [==============================] - 0s 5ms/step - loss: 14.4158 - mse: 288.1830\n",
            "Epoch 22/100\n",
            "2/2 [==============================] - 0s 8ms/step - loss: 12.7941 - mse: 236.5913\n",
            "Epoch 23/100\n",
            "2/2 [==============================] - 0s 9ms/step - loss: 15.0232 - mse: 297.5724\n",
            "Epoch 24/100\n",
            "2/2 [==============================] - 0s 5ms/step - loss: 15.4158 - mse: 321.6330\n",
            "Epoch 25/100\n",
            "2/2 [==============================] - 0s 3ms/step - loss: 14.0049 - mse: 261.0065\n",
            "Epoch 26/100\n",
            "2/2 [==============================] - 0s 3ms/step - loss: 20.3367 - mse: 606.9999\n",
            "Epoch 27/100\n",
            "2/2 [==============================] - 0s 8ms/step - loss: 11.6472 - mse: 173.7375\n",
            "Epoch 28/100\n",
            "2/2 [==============================] - 0s 4ms/step - loss: 30.4176 - mse: 1471.9413\n",
            "Epoch 29/100\n",
            "2/2 [==============================] - 0s 6ms/step - loss: 9.1966 - mse: 91.2107\n",
            "Epoch 30/100\n",
            "2/2 [==============================] - 0s 20ms/step - loss: 31.9349 - mse: 1751.0163\n",
            "Epoch 31/100\n",
            "2/2 [==============================] - 0s 12ms/step - loss: 58.1652 - mse: 5705.2536\n",
            "Epoch 32/100\n",
            "2/2 [==============================] - 0s 4ms/step - loss: 9.5376 - mse: 97.2989\n",
            "Epoch 33/100\n",
            "2/2 [==============================] - 0s 4ms/step - loss: 12.1845 - mse: 183.4251\n",
            "Epoch 34/100\n",
            "2/2 [==============================] - 0s 6ms/step - loss: 24.5685 - mse: 909.3696\n",
            "Epoch 35/100\n",
            "2/2 [==============================] - 0s 4ms/step - loss: 11.5548 - mse: 202.3292\n",
            "Epoch 36/100\n",
            "2/2 [==============================] - 0s 5ms/step - loss: 22.6218 - mse: 707.7555\n",
            "Epoch 37/100\n",
            "2/2 [==============================] - 0s 6ms/step - loss: 11.0027 - mse: 135.9207\n",
            "Epoch 38/100\n",
            "2/2 [==============================] - 0s 6ms/step - loss: 13.5250 - mse: 271.1888\n",
            "Epoch 39/100\n",
            "2/2 [==============================] - 0s 4ms/step - loss: 10.9190 - mse: 140.9140\n",
            "Epoch 40/100\n",
            "2/2 [==============================] - 0s 5ms/step - loss: 16.3505 - mse: 390.1535\n",
            "Epoch 41/100\n",
            "2/2 [==============================] - 0s 3ms/step - loss: 9.9779 - mse: 142.8123\n",
            "Epoch 42/100\n",
            "2/2 [==============================] - 0s 3ms/step - loss: 8.7666 - mse: 100.5631\n",
            "Epoch 43/100\n",
            "2/2 [==============================] - 0s 7ms/step - loss: 9.2370 - mse: 99.8101\n",
            "Epoch 44/100\n",
            "2/2 [==============================] - 0s 3ms/step - loss: 29.1019 - mse: 1338.2508\n",
            "Epoch 45/100\n",
            "2/2 [==============================] - 0s 3ms/step - loss: 11.0540 - mse: 137.7350\n",
            "Epoch 46/100\n",
            "2/2 [==============================] - 0s 3ms/step - loss: 14.2725 - mse: 298.0078\n",
            "Epoch 47/100\n",
            "2/2 [==============================] - 0s 3ms/step - loss: 13.2563 - mse: 245.0740\n",
            "Epoch 48/100\n",
            "2/2 [==============================] - 0s 4ms/step - loss: 17.9832 - mse: 433.0757\n",
            "Epoch 49/100\n",
            "2/2 [==============================] - 0s 4ms/step - loss: 9.4848 - mse: 95.4112\n",
            "Epoch 50/100\n",
            "2/2 [==============================] - 0s 3ms/step - loss: 13.6692 - mse: 249.4649\n",
            "Epoch 51/100\n",
            "2/2 [==============================] - 0s 4ms/step - loss: 11.2446 - mse: 143.0014\n",
            "Epoch 52/100\n",
            "2/2 [==============================] - 0s 3ms/step - loss: 31.8073 - mse: 1691.8682\n",
            "Epoch 53/100\n",
            "2/2 [==============================] - 0s 3ms/step - loss: 13.6397 - mse: 281.5475\n",
            "Epoch 54/100\n",
            "2/2 [==============================] - 0s 7ms/step - loss: 27.2443 - mse: 1134.9309\n",
            "Epoch 55/100\n",
            "2/2 [==============================] - 0s 4ms/step - loss: 26.7138 - mse: 1078.3850\n",
            "Epoch 56/100\n",
            "2/2 [==============================] - 0s 4ms/step - loss: 10.4464 - mse: 140.5566\n",
            "Epoch 57/100\n",
            "2/2 [==============================] - 0s 3ms/step - loss: 12.9866 - mse: 209.5003\n",
            "Epoch 58/100\n",
            "2/2 [==============================] - 0s 4ms/step - loss: 9.7887 - mse: 103.1090\n",
            "Epoch 59/100\n",
            "2/2 [==============================] - 0s 5ms/step - loss: 13.4902 - mse: 257.1111\n",
            "Epoch 60/100\n",
            "2/2 [==============================] - 0s 7ms/step - loss: 10.8523 - mse: 136.9984\n",
            "Epoch 61/100\n",
            "2/2 [==============================] - 0s 20ms/step - loss: 13.4220 - mse: 244.1272\n",
            "Epoch 62/100\n",
            "2/2 [==============================] - 0s 9ms/step - loss: 17.8431 - mse: 486.0764\n",
            "Epoch 63/100\n",
            "2/2 [==============================] - 0s 5ms/step - loss: 8.4303 - mse: 85.3819\n",
            "Epoch 64/100\n",
            "2/2 [==============================] - 0s 3ms/step - loss: 15.8669 - mse: 362.3839\n",
            "Epoch 65/100\n",
            "2/2 [==============================] - 0s 3ms/step - loss: 10.8842 - mse: 149.8814\n",
            "Epoch 66/100\n",
            "2/2 [==============================] - 0s 4ms/step - loss: 22.4017 - mse: 748.6935\n",
            "Epoch 67/100\n",
            "2/2 [==============================] - 0s 4ms/step - loss: 10.0991 - mse: 113.7232\n",
            "Epoch 68/100\n",
            "2/2 [==============================] - 0s 13ms/step - loss: 13.3646 - mse: 266.9549\n",
            "Epoch 69/100\n",
            "2/2 [==============================] - 0s 4ms/step - loss: 11.4516 - mse: 162.4540\n",
            "Epoch 70/100\n",
            "2/2 [==============================] - 0s 3ms/step - loss: 13.4045 - mse: 237.9818\n",
            "Epoch 71/100\n",
            "2/2 [==============================] - 0s 5ms/step - loss: 15.2406 - mse: 329.4047\n",
            "Epoch 72/100\n",
            "2/2 [==============================] - 0s 3ms/step - loss: 11.6152 - mse: 160.9967\n",
            "Epoch 73/100\n",
            "2/2 [==============================] - 0s 3ms/step - loss: 16.0014 - mse: 351.6747\n",
            "Epoch 74/100\n",
            "2/2 [==============================] - 0s 4ms/step - loss: 24.7200 - mse: 956.7674\n",
            "Epoch 75/100\n",
            "2/2 [==============================] - 0s 7ms/step - loss: 8.8088 - mse: 119.8574\n",
            "Epoch 76/100\n",
            "2/2 [==============================] - 0s 7ms/step - loss: 12.0321 - mse: 174.1861\n",
            "Epoch 77/100\n",
            "2/2 [==============================] - 0s 6ms/step - loss: 16.7166 - mse: 436.1377\n",
            "Epoch 78/100\n",
            "2/2 [==============================] - 0s 3ms/step - loss: 9.3104 - mse: 99.6774\n",
            "Epoch 79/100\n",
            "2/2 [==============================] - 0s 3ms/step - loss: 24.5281 - mse: 907.5588\n",
            "Epoch 80/100\n",
            "2/2 [==============================] - 0s 3ms/step - loss: 27.5199 - mse: 1165.7617\n",
            "Epoch 81/100\n",
            "2/2 [==============================] - 0s 5ms/step - loss: 11.7673 - mse: 172.3191\n",
            "Epoch 82/100\n",
            "2/2 [==============================] - 0s 3ms/step - loss: 11.6598 - mse: 195.8545\n",
            "Epoch 83/100\n",
            "2/2 [==============================] - 0s 3ms/step - loss: 17.8867 - mse: 413.4755\n",
            "Epoch 84/100\n",
            "2/2 [==============================] - 0s 4ms/step - loss: 7.0490 - mse: 70.2924\n",
            "Epoch 85/100\n",
            "2/2 [==============================] - 0s 3ms/step - loss: 15.1471 - mse: 320.7408\n",
            "Epoch 86/100\n",
            "2/2 [==============================] - 0s 6ms/step - loss: 15.1523 - mse: 311.3766\n",
            "Epoch 87/100\n",
            "2/2 [==============================] - 0s 6ms/step - loss: 19.8577 - mse: 553.9326\n",
            "Epoch 88/100\n",
            "2/2 [==============================] - 0s 5ms/step - loss: 30.8033 - mse: 1361.0479\n",
            "Epoch 89/100\n",
            "2/2 [==============================] - 0s 4ms/step - loss: 9.7309 - mse: 108.9138\n",
            "Epoch 90/100\n",
            "2/2 [==============================] - 0s 5ms/step - loss: 21.5771 - mse: 675.8902\n",
            "Epoch 91/100\n",
            "2/2 [==============================] - 0s 4ms/step - loss: 9.6058 - mse: 128.3650\n",
            "Epoch 92/100\n",
            "2/2 [==============================] - 0s 5ms/step - loss: 18.2329 - mse: 464.6347\n",
            "Epoch 93/100\n",
            "2/2 [==============================] - 0s 5ms/step - loss: 7.2112 - mse: 75.7694\n",
            "Epoch 94/100\n",
            "2/2 [==============================] - 0s 5ms/step - loss: 17.4360 - mse: 438.6095\n",
            "Epoch 95/100\n",
            "2/2 [==============================] - 0s 5ms/step - loss: 11.1896 - mse: 164.6897\n",
            "Epoch 96/100\n",
            "2/2 [==============================] - 0s 5ms/step - loss: 18.9276 - mse: 491.9708\n",
            "Epoch 97/100\n",
            "2/2 [==============================] - 0s 4ms/step - loss: 12.2155 - mse: 209.1454\n",
            "Epoch 98/100\n",
            "2/2 [==============================] - 0s 3ms/step - loss: 11.3058 - mse: 158.7311\n",
            "Epoch 99/100\n",
            "2/2 [==============================] - 0s 7ms/step - loss: 13.4578 - mse: 254.3972\n",
            "Epoch 100/100\n",
            "2/2 [==============================] - 0s 4ms/step - loss: 20.1603 - mse: 611.1929\n"
          ],
          "name": "stdout"
        },
        {
          "output_type": "execute_result",
          "data": {
            "text/plain": [
              "<tensorflow.python.keras.callbacks.History at 0x7fe726c23090>"
            ]
          },
          "metadata": {
            "tags": []
          },
          "execution_count": 50
        }
      ]
    },
    {
      "cell_type": "code",
      "metadata": {
        "colab": {
          "base_uri": "https://localhost:8080/",
          "height": 465
        },
        "id": "Tctk-_tclK7j",
        "outputId": "d3002417-f873-4d6a-bde9-7682482a1b30"
      },
      "source": [
        "# make and plot predictions of model_2\n",
        "y_preds_2 = model_2.predict(X_test)\n",
        "plot_predictions(predictions=y_preds_2)"
      ],
      "execution_count": null,
      "outputs": [
        {
          "output_type": "stream",
          "text": [
            "WARNING:tensorflow:7 out of the last 7 calls to <function Model.make_predict_function.<locals>.predict_function at 0x7fe726d95050> triggered tf.function retracing. Tracing is expensive and the excessive number of tracings could be due to (1) creating @tf.function repeatedly in a loop, (2) passing tensors with different shapes, (3) passing Python objects instead of tensors. For (1), please define your @tf.function outside of the loop. For (2), @tf.function has experimental_relax_shapes=True option that relaxes argument shapes that can avoid unnecessary retracing. For (3), please refer to https://www.tensorflow.org/guide/function#controlling_retracing and https://www.tensorflow.org/api_docs/python/tf/function for  more details.\n"
          ],
          "name": "stdout"
        },
        {
          "output_type": "display_data",
          "data": {
            "image/png": "[encoded data removed]",
            "text/plain": [
              "<Figure size 720x504 with 1 Axes>"
            ]
          },
          "metadata": {
            "tags": [],
            "needs_background": "light"
          }
        }
      ]
    },
    {
      "cell_type": "code",
      "metadata": {
        "colab": {
          "base_uri": "https://localhost:8080/"
        },
        "id": "LZgdGvF6lqoP",
        "outputId": "98a17842-5298-485f-83dd-2125f0b0c1df"
      },
      "source": [
        "# Calculate model_2 evalutaion metrics \n",
        "mae_2 = mae(y_test, y_preds_2)\n",
        "mse_2 = mse(y_test, y_preds_2)\n",
        "mae_2, mse_2"
      ],
      "execution_count": null,
      "outputs": [
        {
          "output_type": "execute_result",
          "data": {
            "text/plain": [
              "(<tf.Tensor: shape=(), dtype=float32, numpy=3.1109948>,\n",
              " <tf.Tensor: shape=(), dtype=float32, numpy=12.497052>)"
            ]
          },
          "metadata": {
            "tags": []
          },
          "execution_count": 52
        }
      ]
    },
    {
      "cell_type": "markdown",
      "metadata": {
        "id": "5uRxx5VjmBCJ"
      },
      "source": [
        "**Build `model_2`**\n",
        "\n",
        "*2 layers, trained for 500 epochs"
      ]
    },
    {
      "cell_type": "code",
      "metadata": {
        "id": "lZq0Yj5YmNT7",
        "colab": {
          "base_uri": "https://localhost:8080/"
        },
        "outputId": "910c7214-2a5d-4115-fad3-f26eee4b34ac"
      },
      "source": [
        "# Set the random seed\n",
        "tf.random.set_seed\n",
        "\n",
        "# 1. create the model\n",
        "model_3 = tf.keras.Sequential([\n",
        "    tf.keras.layers.Dense(10),\n",
        "    tf.keras.layers.Dense(1)\n",
        "])\n",
        "\n",
        "# 2. Compile model\n",
        "model_3.compile(loss=tf.keras.losses.mae,\n",
        "               optimizer=tf.keras.optimizers.SGD(),\n",
        "               metrics=['mae'])\n",
        "\n",
        "# 3. Fit the model\n",
        "model_3.fit(X_train, y_train, epochs=500)"
      ],
      "execution_count": null,
      "outputs": [
        {
          "output_type": "stream",
          "text": [
            "Epoch 1/500\n",
            "2/2 [==============================] - 0s 8ms/step - loss: 21.2489 - mae: 21.2489\n",
            "Epoch 2/500\n",
            "2/2 [==============================] - 0s 4ms/step - loss: 22.0002 - mae: 22.0002\n",
            "Epoch 3/500\n",
            "2/2 [==============================] - 0s 4ms/step - loss: 29.6942 - mae: 29.6942\n",
            "Epoch 4/500\n",
            "2/2 [==============================] - 0s 6ms/step - loss: 23.1934 - mae: 23.1934\n",
            "Epoch 5/500\n",
            "2/2 [==============================] - 0s 6ms/step - loss: 13.3640 - mae: 13.3640\n",
            "Epoch 6/500\n",
            "2/2 [==============================] - 0s 8ms/step - loss: 11.0209 - mae: 11.0209\n",
            "Epoch 7/500\n",
            "2/2 [==============================] - 0s 5ms/step - loss: 12.1214 - mae: 12.1214\n",
            "Epoch 8/500\n",
            "2/2 [==============================] - 0s 13ms/step - loss: 10.9356 - mae: 10.9356\n",
            "Epoch 9/500\n",
            "2/2 [==============================] - 0s 6ms/step - loss: 38.9254 - mae: 38.9254\n",
            "Epoch 10/500\n",
            "2/2 [==============================] - 0s 14ms/step - loss: 25.3178 - mae: 25.3178\n",
            "Epoch 11/500\n",
            "2/2 [==============================] - 0s 13ms/step - loss: 9.6961 - mae: 9.6961\n",
            "Epoch 12/500\n",
            "2/2 [==============================] - 0s 5ms/step - loss: 26.0037 - mae: 26.0037\n",
            "Epoch 13/500\n",
            "2/2 [==============================] - 0s 5ms/step - loss: 16.4806 - mae: 16.4806\n",
            "Epoch 14/500\n",
            "2/2 [==============================] - 0s 7ms/step - loss: 26.1150 - mae: 26.1150\n",
            "Epoch 15/500\n",
            "2/2 [==============================] - 0s 12ms/step - loss: 17.1917 - mae: 17.1917\n",
            "Epoch 16/500\n",
            "2/2 [==============================] - 0s 9ms/step - loss: 9.5645 - mae: 9.5645\n",
            "Epoch 17/500\n",
            "2/2 [==============================] - 0s 8ms/step - loss: 17.9332 - mae: 17.9332\n",
            "Epoch 18/500\n",
            "2/2 [==============================] - 0s 6ms/step - loss: 11.7483 - mae: 11.7483\n",
            "Epoch 19/500\n",
            "2/2 [==============================] - 0s 3ms/step - loss: 14.0284 - mae: 14.0284\n",
            "Epoch 20/500\n",
            "2/2 [==============================] - 0s 6ms/step - loss: 10.6357 - mae: 10.6357\n",
            "Epoch 21/500\n",
            "2/2 [==============================] - 0s 7ms/step - loss: 17.0303 - mae: 17.0303\n",
            "Epoch 22/500\n",
            "2/2 [==============================] - 0s 4ms/step - loss: 15.2327 - mae: 15.2327\n",
            "Epoch 23/500\n",
            "2/2 [==============================] - 0s 7ms/step - loss: 8.8307 - mae: 8.8307\n",
            "Epoch 24/500\n",
            "2/2 [==============================] - 0s 4ms/step - loss: 17.9306 - mae: 17.9306\n",
            "Epoch 25/500\n",
            "2/2 [==============================] - 0s 4ms/step - loss: 16.1291 - mae: 16.1291\n",
            "Epoch 26/500\n",
            "2/2 [==============================] - 0s 4ms/step - loss: 21.9511 - mae: 21.9511\n",
            "Epoch 27/500\n",
            "2/2 [==============================] - 0s 8ms/step - loss: 26.6083 - mae: 26.6083\n",
            "Epoch 28/500\n",
            "2/2 [==============================] - 0s 5ms/step - loss: 18.5642 - mae: 18.5642\n",
            "Epoch 29/500\n",
            "2/2 [==============================] - 0s 6ms/step - loss: 9.0864 - mae: 9.0864\n",
            "Epoch 30/500\n",
            "2/2 [==============================] - 0s 7ms/step - loss: 30.8395 - mae: 30.8395\n",
            "Epoch 31/500\n",
            "2/2 [==============================] - 0s 5ms/step - loss: 56.2198 - mae: 56.2198\n",
            "Epoch 32/500\n",
            "2/2 [==============================] - 0s 4ms/step - loss: 12.1515 - mae: 12.1515\n",
            "Epoch 33/500\n",
            "2/2 [==============================] - 0s 6ms/step - loss: 15.1121 - mae: 15.1121\n",
            "Epoch 34/500\n",
            "2/2 [==============================] - 0s 7ms/step - loss: 12.6595 - mae: 12.6595\n",
            "Epoch 35/500\n",
            "2/2 [==============================] - 0s 6ms/step - loss: 9.3902 - mae: 9.3902\n",
            "Epoch 36/500\n",
            "2/2 [==============================] - 0s 11ms/step - loss: 16.4001 - mae: 16.4001\n",
            "Epoch 37/500\n",
            "2/2 [==============================] - 0s 6ms/step - loss: 10.5509 - mae: 10.5509\n",
            "Epoch 38/500\n",
            "2/2 [==============================] - 0s 3ms/step - loss: 18.8615 - mae: 18.8615\n",
            "Epoch 39/500\n",
            "2/2 [==============================] - 0s 12ms/step - loss: 20.1940 - mae: 20.1940\n",
            "Epoch 40/500\n",
            "2/2 [==============================] - 0s 4ms/step - loss: 21.5949 - mae: 21.5949\n",
            "Epoch 41/500\n",
            "2/2 [==============================] - 0s 4ms/step - loss: 14.4089 - mae: 14.4089\n",
            "Epoch 42/500\n",
            "2/2 [==============================] - 0s 4ms/step - loss: 12.1786 - mae: 12.1786\n",
            "Epoch 43/500\n",
            "2/2 [==============================] - 0s 3ms/step - loss: 11.0377 - mae: 11.0377\n",
            "Epoch 44/500\n",
            "2/2 [==============================] - 0s 4ms/step - loss: 33.8091 - mae: 33.8091\n",
            "Epoch 45/500\n",
            "2/2 [==============================] - 0s 4ms/step - loss: 12.4668 - mae: 12.4668\n",
            "Epoch 46/500\n",
            "2/2 [==============================] - 0s 3ms/step - loss: 17.8527 - mae: 17.8527\n",
            "Epoch 47/500\n",
            "2/2 [==============================] - 0s 4ms/step - loss: 16.0398 - mae: 16.0398\n",
            "Epoch 48/500\n",
            "2/2 [==============================] - 0s 4ms/step - loss: 8.0537 - mae: 8.0537\n",
            "Epoch 49/500\n",
            "2/2 [==============================] - 0s 5ms/step - loss: 13.5569 - mae: 13.5569\n",
            "Epoch 50/500\n",
            "2/2 [==============================] - 0s 4ms/step - loss: 12.7040 - mae: 12.7040\n",
            "Epoch 51/500\n",
            "2/2 [==============================] - 0s 5ms/step - loss: 15.2576 - mae: 15.2576\n",
            "Epoch 52/500\n",
            "2/2 [==============================] - 0s 5ms/step - loss: 19.8358 - mae: 19.8358\n",
            "Epoch 53/500\n",
            "2/2 [==============================] - 0s 8ms/step - loss: 24.7205 - mae: 24.7205\n",
            "Epoch 54/500\n",
            "2/2 [==============================] - 0s 9ms/step - loss: 23.5664 - mae: 23.5664\n",
            "Epoch 55/500\n",
            "2/2 [==============================] - 0s 8ms/step - loss: 24.5095 - mae: 24.5095\n",
            "Epoch 56/500\n",
            "2/2 [==============================] - 0s 5ms/step - loss: 10.3288 - mae: 10.3288\n",
            "Epoch 57/500\n",
            "2/2 [==============================] - 0s 4ms/step - loss: 12.8449 - mae: 12.8449\n",
            "Epoch 58/500\n",
            "2/2 [==============================] - 0s 4ms/step - loss: 9.6977 - mae: 9.6977\n",
            "Epoch 59/500\n",
            "2/2 [==============================] - 0s 4ms/step - loss: 13.3485 - mae: 13.3485\n",
            "Epoch 60/500\n",
            "2/2 [==============================] - 0s 4ms/step - loss: 10.7561 - mae: 10.7561\n",
            "Epoch 61/500\n",
            "2/2 [==============================] - 0s 9ms/step - loss: 13.3018 - mae: 13.3018\n",
            "Epoch 62/500\n",
            "2/2 [==============================] - 0s 4ms/step - loss: 17.5109 - mae: 17.5109\n",
            "Epoch 63/500\n",
            "2/2 [==============================] - 0s 3ms/step - loss: 8.9912 - mae: 8.9912\n",
            "Epoch 64/500\n",
            "2/2 [==============================] - 0s 3ms/step - loss: 18.1579 - mae: 18.1579\n",
            "Epoch 65/500\n",
            "2/2 [==============================] - 0s 3ms/step - loss: 10.0357 - mae: 10.0357\n",
            "Epoch 66/500\n",
            "2/2 [==============================] - 0s 6ms/step - loss: 24.7084 - mae: 24.7084\n",
            "Epoch 67/500\n",
            "2/2 [==============================] - 0s 6ms/step - loss: 10.8435 - mae: 10.8435\n",
            "Epoch 68/500\n",
            "2/2 [==============================] - 0s 6ms/step - loss: 11.0011 - mae: 11.0011\n",
            "Epoch 69/500\n",
            "2/2 [==============================] - 0s 5ms/step - loss: 23.6879 - mae: 23.6879\n",
            "Epoch 70/500\n",
            "2/2 [==============================] - 0s 8ms/step - loss: 8.3177 - mae: 8.3177\n",
            "Epoch 71/500\n",
            "2/2 [==============================] - 0s 3ms/step - loss: 16.5239 - mae: 16.5239\n",
            "Epoch 72/500\n",
            "2/2 [==============================] - 0s 5ms/step - loss: 7.7650 - mae: 7.7650\n",
            "Epoch 73/500\n",
            "2/2 [==============================] - 0s 6ms/step - loss: 8.9471 - mae: 8.9471\n",
            "Epoch 74/500\n",
            "2/2 [==============================] - 0s 11ms/step - loss: 29.1443 - mae: 29.1443\n",
            "Epoch 75/500\n",
            "2/2 [==============================] - 0s 6ms/step - loss: 9.4890 - mae: 9.4890\n",
            "Epoch 76/500\n",
            "2/2 [==============================] - 0s 8ms/step - loss: 12.8339 - mae: 12.8339\n",
            "Epoch 77/500\n",
            "2/2 [==============================] - 0s 3ms/step - loss: 18.4976 - mae: 18.4976\n",
            "Epoch 78/500\n",
            "2/2 [==============================] - 0s 7ms/step - loss: 9.1824 - mae: 9.1824\n",
            "Epoch 79/500\n",
            "2/2 [==============================] - 0s 9ms/step - loss: 23.8383 - mae: 23.8383\n",
            "Epoch 80/500\n",
            "2/2 [==============================] - 0s 4ms/step - loss: 26.7146 - mae: 26.7146\n",
            "Epoch 81/500\n",
            "2/2 [==============================] - 0s 4ms/step - loss: 11.3862 - mae: 11.3862\n",
            "Epoch 82/500\n",
            "2/2 [==============================] - 0s 4ms/step - loss: 12.1260 - mae: 12.1260\n",
            "Epoch 83/500\n",
            "2/2 [==============================] - 0s 6ms/step - loss: 17.6197 - mae: 17.6197\n",
            "Epoch 84/500\n",
            "2/2 [==============================] - 0s 13ms/step - loss: 6.5711 - mae: 6.5711\n",
            "Epoch 85/500\n",
            "2/2 [==============================] - 0s 17ms/step - loss: 20.1621 - mae: 20.1621\n",
            "Epoch 86/500\n",
            "2/2 [==============================] - 0s 3ms/step - loss: 10.0979 - mae: 10.0979\n",
            "Epoch 87/500\n",
            "2/2 [==============================] - 0s 4ms/step - loss: 24.4732 - mae: 24.4732\n",
            "Epoch 88/500\n",
            "2/2 [==============================] - 0s 3ms/step - loss: 18.8223 - mae: 18.8223\n",
            "Epoch 89/500\n",
            "2/2 [==============================] - 0s 6ms/step - loss: 7.0309 - mae: 7.0309\n",
            "Epoch 90/500\n",
            "2/2 [==============================] - 0s 5ms/step - loss: 19.1463 - mae: 19.1463\n",
            "Epoch 91/500\n",
            "2/2 [==============================] - 0s 3ms/step - loss: 13.4700 - mae: 13.4700\n",
            "Epoch 92/500\n",
            "2/2 [==============================] - 0s 7ms/step - loss: 15.0725 - mae: 15.0725\n",
            "Epoch 93/500\n",
            "2/2 [==============================] - 0s 8ms/step - loss: 10.5222 - mae: 10.5222\n",
            "Epoch 94/500\n",
            "2/2 [==============================] - 0s 3ms/step - loss: 16.7342 - mae: 16.7342\n",
            "Epoch 95/500\n",
            "2/2 [==============================] - 0s 4ms/step - loss: 15.7890 - mae: 15.7890\n",
            "Epoch 96/500\n",
            "2/2 [==============================] - 0s 5ms/step - loss: 15.5634 - mae: 15.5634\n",
            "Epoch 97/500\n",
            "2/2 [==============================] - 0s 6ms/step - loss: 10.2204 - mae: 10.2204\n",
            "Epoch 98/500\n",
            "2/2 [==============================] - 0s 6ms/step - loss: 14.6003 - mae: 14.6003\n",
            "Epoch 99/500\n",
            "2/2 [==============================] - 0s 3ms/step - loss: 13.2212 - mae: 13.2212\n",
            "Epoch 100/500\n",
            "2/2 [==============================] - 0s 8ms/step - loss: 20.9720 - mae: 20.9720\n",
            "Epoch 101/500\n",
            "2/2 [==============================] - 0s 10ms/step - loss: 22.8675 - mae: 22.8675\n",
            "Epoch 102/500\n",
            "2/2 [==============================] - 0s 7ms/step - loss: 10.5549 - mae: 10.5549\n",
            "Epoch 103/500\n",
            "2/2 [==============================] - 0s 4ms/step - loss: 9.0928 - mae: 9.0928\n",
            "Epoch 104/500\n",
            "2/2 [==============================] - 0s 10ms/step - loss: 25.6408 - mae: 25.6408\n",
            "Epoch 105/500\n",
            "2/2 [==============================] - 0s 7ms/step - loss: 12.2484 - mae: 12.2484\n",
            "Epoch 106/500\n",
            "2/2 [==============================] - 0s 7ms/step - loss: 9.0316 - mae: 9.0316\n",
            "Epoch 107/500\n",
            "2/2 [==============================] - 0s 7ms/step - loss: 23.7068 - mae: 23.7068\n",
            "Epoch 108/500\n",
            "2/2 [==============================] - 0s 3ms/step - loss: 7.9177 - mae: 7.9177\n",
            "Epoch 109/500\n",
            "2/2 [==============================] - 0s 10ms/step - loss: 13.7255 - mae: 13.7255\n",
            "Epoch 110/500\n",
            "2/2 [==============================] - 0s 9ms/step - loss: 9.9058 - mae: 9.9058\n",
            "Epoch 111/500\n",
            "2/2 [==============================] - 0s 5ms/step - loss: 17.6933 - mae: 17.6933\n",
            "Epoch 112/500\n",
            "2/2 [==============================] - 0s 7ms/step - loss: 7.9217 - mae: 7.9217\n",
            "Epoch 113/500\n",
            "2/2 [==============================] - 0s 7ms/step - loss: 19.5155 - mae: 19.5155\n",
            "Epoch 114/500\n",
            "2/2 [==============================] - 0s 3ms/step - loss: 17.2286 - mae: 17.2286\n",
            "Epoch 115/500\n",
            "2/2 [==============================] - 0s 8ms/step - loss: 11.0381 - mae: 11.0381\n",
            "Epoch 116/500\n",
            "2/2 [==============================] - 0s 4ms/step - loss: 23.7690 - mae: 23.7690\n",
            "Epoch 117/500\n",
            "2/2 [==============================] - 0s 3ms/step - loss: 8.9449 - mae: 8.9449\n",
            "Epoch 118/500\n",
            "2/2 [==============================] - 0s 4ms/step - loss: 10.4099 - mae: 10.4099\n",
            "Epoch 119/500\n",
            "2/2 [==============================] - 0s 3ms/step - loss: 8.3825 - mae: 8.3825\n",
            "Epoch 120/500\n",
            "2/2 [==============================] - 0s 4ms/step - loss: 30.9020 - mae: 30.9020\n",
            "Epoch 121/500\n",
            "2/2 [==============================] - 0s 3ms/step - loss: 8.2018 - mae: 8.2018\n",
            "Epoch 122/500\n",
            "2/2 [==============================] - 0s 5ms/step - loss: 29.5616 - mae: 29.5616\n",
            "Epoch 123/500\n",
            "2/2 [==============================] - 0s 5ms/step - loss: 34.3676 - mae: 34.3676\n",
            "Epoch 124/500\n",
            "2/2 [==============================] - 0s 7ms/step - loss: 19.7923 - mae: 19.7923\n",
            "Epoch 125/500\n",
            "2/2 [==============================] - 0s 5ms/step - loss: 6.6396 - mae: 6.6396\n",
            "Epoch 126/500\n",
            "2/2 [==============================] - 0s 4ms/step - loss: 21.9681 - mae: 21.9681\n",
            "Epoch 127/500\n",
            "2/2 [==============================] - 0s 15ms/step - loss: 8.1453 - mae: 8.1453\n",
            "Epoch 128/500\n",
            "2/2 [==============================] - 0s 9ms/step - loss: 21.2100 - mae: 21.2100\n",
            "Epoch 129/500\n",
            "2/2 [==============================] - 0s 4ms/step - loss: 9.4048 - mae: 9.4048\n",
            "Epoch 130/500\n",
            "2/2 [==============================] - 0s 4ms/step - loss: 24.3233 - mae: 24.3233\n",
            "Epoch 131/500\n",
            "2/2 [==============================] - 0s 6ms/step - loss: 9.9858 - mae: 9.9858\n",
            "Epoch 132/500\n",
            "2/2 [==============================] - 0s 8ms/step - loss: 18.4048 - mae: 18.4048\n",
            "Epoch 133/500\n",
            "2/2 [==============================] - 0s 6ms/step - loss: 7.3110 - mae: 7.3110\n",
            "Epoch 134/500\n",
            "2/2 [==============================] - 0s 13ms/step - loss: 18.4438 - mae: 18.4438\n",
            "Epoch 135/500\n",
            "2/2 [==============================] - 0s 4ms/step - loss: 9.7815 - mae: 9.7815\n",
            "Epoch 136/500\n",
            "2/2 [==============================] - 0s 4ms/step - loss: 17.8586 - mae: 17.8586\n",
            "Epoch 137/500\n",
            "2/2 [==============================] - 0s 10ms/step - loss: 22.9898 - mae: 22.9898\n",
            "Epoch 138/500\n",
            "2/2 [==============================] - 0s 6ms/step - loss: 8.2256 - mae: 8.2256\n",
            "Epoch 139/500\n",
            "2/2 [==============================] - 0s 9ms/step - loss: 8.0324 - mae: 8.0324\n",
            "Epoch 140/500\n",
            "2/2 [==============================] - 0s 20ms/step - loss: 15.9309 - mae: 15.9309\n",
            "Epoch 141/500\n",
            "2/2 [==============================] - 0s 6ms/step - loss: 8.6735 - mae: 8.6735\n",
            "Epoch 142/500\n",
            "2/2 [==============================] - 0s 7ms/step - loss: 39.0767 - mae: 39.0767\n",
            "Epoch 143/500\n",
            "2/2 [==============================] - 0s 3ms/step - loss: 25.8738 - mae: 25.8738\n",
            "Epoch 144/500\n",
            "2/2 [==============================] - 0s 3ms/step - loss: 8.6594 - mae: 8.6594\n",
            "Epoch 145/500\n",
            "2/2 [==============================] - 0s 14ms/step - loss: 27.8037 - mae: 27.8037\n",
            "Epoch 146/500\n",
            "2/2 [==============================] - 0s 4ms/step - loss: 8.3241 - mae: 8.3241\n",
            "Epoch 147/500\n",
            "2/2 [==============================] - 0s 3ms/step - loss: 15.1442 - mae: 15.1442\n",
            "Epoch 148/500\n",
            "2/2 [==============================] - 0s 4ms/step - loss: 19.2611 - mae: 19.2611\n",
            "Epoch 149/500\n",
            "2/2 [==============================] - 0s 3ms/step - loss: 7.4748 - mae: 7.4748\n",
            "Epoch 150/500\n",
            "2/2 [==============================] - 0s 4ms/step - loss: 7.4172 - mae: 7.4172\n",
            "Epoch 151/500\n",
            "2/2 [==============================] - 0s 4ms/step - loss: 18.0193 - mae: 18.0193\n",
            "Epoch 152/500\n",
            "2/2 [==============================] - 0s 5ms/step - loss: 9.8879 - mae: 9.8879\n",
            "Epoch 153/500\n",
            "2/2 [==============================] - 0s 4ms/step - loss: 30.4157 - mae: 30.4157\n",
            "Epoch 154/500\n",
            "2/2 [==============================] - 0s 4ms/step - loss: 9.7447 - mae: 9.7447\n",
            "Epoch 155/500\n",
            "2/2 [==============================] - 0s 10ms/step - loss: 16.1643 - mae: 16.1643\n",
            "Epoch 156/500\n",
            "2/2 [==============================] - 0s 4ms/step - loss: 18.1608 - mae: 18.1608\n",
            "Epoch 157/500\n",
            "2/2 [==============================] - 0s 3ms/step - loss: 34.1412 - mae: 34.1412\n",
            "Epoch 158/500\n",
            "2/2 [==============================] - 0s 4ms/step - loss: 10.2294 - mae: 10.2294\n",
            "Epoch 159/500\n",
            "2/2 [==============================] - 0s 4ms/step - loss: 8.5011 - mae: 8.5011\n",
            "Epoch 160/500\n",
            "2/2 [==============================] - 0s 4ms/step - loss: 21.9822 - mae: 21.9822\n",
            "Epoch 161/500\n",
            "2/2 [==============================] - 0s 4ms/step - loss: 10.8556 - mae: 10.8556\n",
            "Epoch 162/500\n",
            "2/2 [==============================] - 0s 10ms/step - loss: 21.3753 - mae: 21.3753\n",
            "Epoch 163/500\n",
            "2/2 [==============================] - 0s 4ms/step - loss: 18.5876 - mae: 18.5876\n",
            "Epoch 164/500\n",
            "2/2 [==============================] - 0s 3ms/step - loss: 12.5904 - mae: 12.5904\n",
            "Epoch 165/500\n",
            "2/2 [==============================] - 0s 11ms/step - loss: 12.3637 - mae: 12.3637\n",
            "Epoch 166/500\n",
            "2/2 [==============================] - 0s 3ms/step - loss: 20.0906 - mae: 20.0906\n",
            "Epoch 167/500\n",
            "2/2 [==============================] - 0s 4ms/step - loss: 27.5984 - mae: 27.5984\n",
            "Epoch 168/500\n",
            "2/2 [==============================] - 0s 10ms/step - loss: 9.4603 - mae: 9.4603\n",
            "Epoch 169/500\n",
            "2/2 [==============================] - 0s 8ms/step - loss: 23.7522 - mae: 23.7522\n",
            "Epoch 170/500\n",
            "2/2 [==============================] - 0s 29ms/step - loss: 9.1836 - mae: 9.1836\n",
            "Epoch 171/500\n",
            "2/2 [==============================] - 0s 3ms/step - loss: 18.7223 - mae: 18.7223\n",
            "Epoch 172/500\n",
            "2/2 [==============================] - 0s 8ms/step - loss: 30.5781 - mae: 30.5781\n",
            "Epoch 173/500\n",
            "2/2 [==============================] - 0s 15ms/step - loss: 16.9642 - mae: 16.9642\n",
            "Epoch 174/500\n",
            "2/2 [==============================] - 0s 13ms/step - loss: 10.1892 - mae: 10.1892\n",
            "Epoch 175/500\n",
            "2/2 [==============================] - 0s 4ms/step - loss: 28.6849 - mae: 28.6849\n",
            "Epoch 176/500\n",
            "2/2 [==============================] - 0s 9ms/step - loss: 8.3154 - mae: 8.3154\n",
            "Epoch 177/500\n",
            "2/2 [==============================] - 0s 11ms/step - loss: 9.0523 - mae: 9.0523\n",
            "Epoch 178/500\n",
            "2/2 [==============================] - 0s 4ms/step - loss: 18.3235 - mae: 18.3235\n",
            "Epoch 179/500\n",
            "2/2 [==============================] - 0s 6ms/step - loss: 10.2311 - mae: 10.2311\n",
            "Epoch 180/500\n",
            "2/2 [==============================] - 0s 7ms/step - loss: 7.4075 - mae: 7.4075\n",
            "Epoch 181/500\n",
            "2/2 [==============================] - 0s 12ms/step - loss: 17.3850 - mae: 17.3850\n",
            "Epoch 182/500\n",
            "2/2 [==============================] - 0s 4ms/step - loss: 10.6049 - mae: 10.6049\n",
            "Epoch 183/500\n",
            "2/2 [==============================] - 0s 20ms/step - loss: 11.7015 - mae: 11.7015\n",
            "Epoch 184/500\n",
            "2/2 [==============================] - 0s 5ms/step - loss: 28.1919 - mae: 28.1919\n",
            "Epoch 185/500\n",
            "2/2 [==============================] - 0s 5ms/step - loss: 7.0426 - mae: 7.0426\n",
            "Epoch 186/500\n",
            "2/2 [==============================] - 0s 4ms/step - loss: 16.6732 - mae: 16.6732\n",
            "Epoch 187/500\n",
            "2/2 [==============================] - 0s 6ms/step - loss: 8.1626 - mae: 8.1626\n",
            "Epoch 188/500\n",
            "2/2 [==============================] - 0s 6ms/step - loss: 29.7253 - mae: 29.7253\n",
            "Epoch 189/500\n",
            "2/2 [==============================] - 0s 10ms/step - loss: 12.3873 - mae: 12.3873\n",
            "Epoch 190/500\n",
            "2/2 [==============================] - 0s 3ms/step - loss: 19.3119 - mae: 19.3119\n",
            "Epoch 191/500\n",
            "2/2 [==============================] - 0s 3ms/step - loss: 13.9188 - mae: 13.9188\n",
            "Epoch 192/500\n",
            "2/2 [==============================] - 0s 6ms/step - loss: 12.9597 - mae: 12.9597\n",
            "Epoch 193/500\n",
            "2/2 [==============================] - 0s 8ms/step - loss: 29.5081 - mae: 29.5081\n",
            "Epoch 194/500\n",
            "2/2 [==============================] - 0s 9ms/step - loss: 6.6754 - mae: 6.6754\n",
            "Epoch 195/500\n",
            "2/2 [==============================] - 0s 6ms/step - loss: 6.7024 - mae: 6.7024\n",
            "Epoch 196/500\n",
            "2/2 [==============================] - 0s 4ms/step - loss: 22.8837 - mae: 22.8837\n",
            "Epoch 197/500\n",
            "2/2 [==============================] - 0s 16ms/step - loss: 20.6752 - mae: 20.6752\n",
            "Epoch 198/500\n",
            "2/2 [==============================] - 0s 8ms/step - loss: 11.8652 - mae: 11.8652\n",
            "Epoch 199/500\n",
            "2/2 [==============================] - 0s 4ms/step - loss: 17.3542 - mae: 17.3542\n",
            "Epoch 200/500\n",
            "2/2 [==============================] - 0s 4ms/step - loss: 13.4283 - mae: 13.4283\n",
            "Epoch 201/500\n",
            "2/2 [==============================] - 0s 12ms/step - loss: 5.6454 - mae: 5.6454\n",
            "Epoch 202/500\n",
            "2/2 [==============================] - 0s 4ms/step - loss: 13.0413 - mae: 13.0413\n",
            "Epoch 203/500\n",
            "2/2 [==============================] - 0s 6ms/step - loss: 8.4039 - mae: 8.4039\n",
            "Epoch 204/500\n",
            "2/2 [==============================] - 0s 12ms/step - loss: 20.8687 - mae: 20.8687\n",
            "Epoch 205/500\n",
            "2/2 [==============================] - 0s 4ms/step - loss: 8.7270 - mae: 8.7270\n",
            "Epoch 206/500\n",
            "2/2 [==============================] - 0s 13ms/step - loss: 10.6727 - mae: 10.6727\n",
            "Epoch 207/500\n",
            "2/2 [==============================] - 0s 5ms/step - loss: 17.4896 - mae: 17.4896\n",
            "Epoch 208/500\n",
            "2/2 [==============================] - 0s 6ms/step - loss: 13.6547 - mae: 13.6547\n",
            "Epoch 209/500\n",
            "2/2 [==============================] - 0s 4ms/step - loss: 16.3609 - mae: 16.3609\n",
            "Epoch 210/500\n",
            "2/2 [==============================] - 0s 5ms/step - loss: 18.0474 - mae: 18.0474\n",
            "Epoch 211/500\n",
            "2/2 [==============================] - 0s 5ms/step - loss: 9.0363 - mae: 9.0363\n",
            "Epoch 212/500\n",
            "2/2 [==============================] - 0s 5ms/step - loss: 19.0824 - mae: 19.0824\n",
            "Epoch 213/500\n",
            "2/2 [==============================] - 0s 3ms/step - loss: 14.9270 - mae: 14.9270\n",
            "Epoch 214/500\n",
            "2/2 [==============================] - 0s 4ms/step - loss: 14.7073 - mae: 14.7073\n",
            "Epoch 215/500\n",
            "2/2 [==============================] - 0s 3ms/step - loss: 24.5376 - mae: 24.5376\n",
            "Epoch 216/500\n",
            "2/2 [==============================] - 0s 4ms/step - loss: 13.0853 - mae: 13.0853\n",
            "Epoch 217/500\n",
            "2/2 [==============================] - 0s 4ms/step - loss: 10.0356 - mae: 10.0356\n",
            "Epoch 218/500\n",
            "2/2 [==============================] - 0s 4ms/step - loss: 12.2402 - mae: 12.2402\n",
            "Epoch 219/500\n",
            "2/2 [==============================] - 0s 4ms/step - loss: 5.6731 - mae: 5.6731\n",
            "Epoch 220/500\n",
            "2/2 [==============================] - 0s 11ms/step - loss: 9.7180 - mae: 9.7180\n",
            "Epoch 221/500\n",
            "2/2 [==============================] - 0s 14ms/step - loss: 29.8347 - mae: 29.8347\n",
            "Epoch 222/500\n",
            "2/2 [==============================] - 0s 4ms/step - loss: 29.3285 - mae: 29.3285\n",
            "Epoch 223/500\n",
            "2/2 [==============================] - 0s 5ms/step - loss: 9.5431 - mae: 9.5431\n",
            "Epoch 224/500\n",
            "2/2 [==============================] - 0s 4ms/step - loss: 15.2594 - mae: 15.2594\n",
            "Epoch 225/500\n",
            "2/2 [==============================] - 0s 4ms/step - loss: 16.8545 - mae: 16.8545\n",
            "Epoch 226/500\n",
            "2/2 [==============================] - 0s 4ms/step - loss: 16.4097 - mae: 16.4097\n",
            "Epoch 227/500\n",
            "2/2 [==============================] - 0s 4ms/step - loss: 16.6953 - mae: 16.6953\n",
            "Epoch 228/500\n",
            "2/2 [==============================] - 0s 4ms/step - loss: 14.2691 - mae: 14.2691\n",
            "Epoch 229/500\n",
            "2/2 [==============================] - 0s 4ms/step - loss: 18.8621 - mae: 18.8621\n",
            "Epoch 230/500\n",
            "2/2 [==============================] - 0s 3ms/step - loss: 15.3070 - mae: 15.3070\n",
            "Epoch 231/500\n",
            "2/2 [==============================] - 0s 6ms/step - loss: 22.1871 - mae: 22.1871\n",
            "Epoch 232/500\n",
            "2/2 [==============================] - 0s 4ms/step - loss: 25.9395 - mae: 25.9395\n",
            "Epoch 233/500\n",
            "2/2 [==============================] - 0s 4ms/step - loss: 16.0587 - mae: 16.0587\n",
            "Epoch 234/500\n",
            "2/2 [==============================] - 0s 8ms/step - loss: 7.2260 - mae: 7.2260\n",
            "Epoch 235/500\n",
            "2/2 [==============================] - 0s 4ms/step - loss: 16.7342 - mae: 16.7342\n",
            "Epoch 236/500\n",
            "2/2 [==============================] - 0s 4ms/step - loss: 6.9533 - mae: 6.9533\n",
            "Epoch 237/500\n",
            "2/2 [==============================] - 0s 4ms/step - loss: 8.6240 - mae: 8.6240\n",
            "Epoch 238/500\n",
            "2/2 [==============================] - 0s 3ms/step - loss: 7.7151 - mae: 7.7151\n",
            "Epoch 239/500\n",
            "2/2 [==============================] - 0s 3ms/step - loss: 16.7946 - mae: 16.7946\n",
            "Epoch 240/500\n",
            "2/2 [==============================] - 0s 4ms/step - loss: 8.2045 - mae: 8.2045\n",
            "Epoch 241/500\n",
            "2/2 [==============================] - 0s 3ms/step - loss: 12.3133 - mae: 12.3133\n",
            "Epoch 242/500\n",
            "2/2 [==============================] - 0s 3ms/step - loss: 8.5064 - mae: 8.5064\n",
            "Epoch 243/500\n",
            "2/2 [==============================] - 0s 3ms/step - loss: 19.1235 - mae: 19.1235\n",
            "Epoch 244/500\n",
            "2/2 [==============================] - 0s 3ms/step - loss: 13.8878 - mae: 13.8878\n",
            "Epoch 245/500\n",
            "2/2 [==============================] - 0s 3ms/step - loss: 14.9739 - mae: 14.9739\n",
            "Epoch 246/500\n",
            "2/2 [==============================] - 0s 4ms/step - loss: 16.5302 - mae: 16.5302\n",
            "Epoch 247/500\n",
            "2/2 [==============================] - 0s 4ms/step - loss: 18.3793 - mae: 18.3793\n",
            "Epoch 248/500\n",
            "2/2 [==============================] - 0s 3ms/step - loss: 12.8150 - mae: 12.8150\n",
            "Epoch 249/500\n",
            "2/2 [==============================] - 0s 3ms/step - loss: 14.6882 - mae: 14.6882\n",
            "Epoch 250/500\n",
            "2/2 [==============================] - 0s 3ms/step - loss: 24.6817 - mae: 24.6817\n",
            "Epoch 251/500\n",
            "2/2 [==============================] - 0s 3ms/step - loss: 8.8609 - mae: 8.8609\n",
            "Epoch 252/500\n",
            "2/2 [==============================] - 0s 7ms/step - loss: 38.4892 - mae: 38.4892\n",
            "Epoch 253/500\n",
            "2/2 [==============================] - 0s 3ms/step - loss: 21.7930 - mae: 21.7930\n",
            "Epoch 254/500\n",
            "2/2 [==============================] - 0s 4ms/step - loss: 6.6854 - mae: 6.6854\n",
            "Epoch 255/500\n",
            "2/2 [==============================] - 0s 4ms/step - loss: 24.9175 - mae: 24.9175\n",
            "Epoch 256/500\n",
            "2/2 [==============================] - 0s 3ms/step - loss: 11.5855 - mae: 11.5855\n",
            "Epoch 257/500\n",
            "2/2 [==============================] - 0s 4ms/step - loss: 10.0593 - mae: 10.0593\n",
            "Epoch 258/500\n",
            "2/2 [==============================] - 0s 4ms/step - loss: 13.5698 - mae: 13.5698\n",
            "Epoch 259/500\n",
            "2/2 [==============================] - 0s 3ms/step - loss: 10.5391 - mae: 10.5391\n",
            "Epoch 260/500\n",
            "2/2 [==============================] - 0s 3ms/step - loss: 32.9193 - mae: 32.9193\n",
            "Epoch 261/500\n",
            "2/2 [==============================] - 0s 3ms/step - loss: 10.5750 - mae: 10.5750\n",
            "Epoch 262/500\n",
            "2/2 [==============================] - 0s 3ms/step - loss: 9.3511 - mae: 9.3511\n",
            "Epoch 263/500\n",
            "2/2 [==============================] - 0s 8ms/step - loss: 8.3781 - mae: 8.3781\n",
            "Epoch 264/500\n",
            "2/2 [==============================] - 0s 4ms/step - loss: 21.6229 - mae: 21.6229\n",
            "Epoch 265/500\n",
            "2/2 [==============================] - 0s 7ms/step - loss: 10.9180 - mae: 10.9180\n",
            "Epoch 266/500\n",
            "2/2 [==============================] - 0s 13ms/step - loss: 13.2499 - mae: 13.2499\n",
            "Epoch 267/500\n",
            "2/2 [==============================] - 0s 4ms/step - loss: 9.9796 - mae: 9.9796\n",
            "Epoch 268/500\n",
            "2/2 [==============================] - 0s 3ms/step - loss: 19.9425 - mae: 19.9425\n",
            "Epoch 269/500\n",
            "2/2 [==============================] - 0s 3ms/step - loss: 43.0165 - mae: 43.0165\n",
            "Epoch 270/500\n",
            "2/2 [==============================] - 0s 9ms/step - loss: 12.4472 - mae: 12.4472\n",
            "Epoch 271/500\n",
            "2/2 [==============================] - 0s 10ms/step - loss: 14.5221 - mae: 14.5221\n",
            "Epoch 272/500\n",
            "2/2 [==============================] - 0s 4ms/step - loss: 29.2484 - mae: 29.2484\n",
            "Epoch 273/500\n",
            "2/2 [==============================] - 0s 4ms/step - loss: 6.7517 - mae: 6.7517\n",
            "Epoch 274/500\n",
            "2/2 [==============================] - 0s 4ms/step - loss: 6.2164 - mae: 6.2164\n",
            "Epoch 275/500\n",
            "2/2 [==============================] - 0s 3ms/step - loss: 38.7539 - mae: 38.7539\n",
            "Epoch 276/500\n",
            "2/2 [==============================] - 0s 3ms/step - loss: 7.4586 - mae: 7.4586\n",
            "Epoch 277/500\n",
            "2/2 [==============================] - 0s 3ms/step - loss: 28.3112 - mae: 28.3112\n",
            "Epoch 278/500\n",
            "2/2 [==============================] - 0s 4ms/step - loss: 9.6373 - mae: 9.6373\n",
            "Epoch 279/500\n",
            "2/2 [==============================] - 0s 3ms/step - loss: 16.9393 - mae: 16.9393\n",
            "Epoch 280/500\n",
            "2/2 [==============================] - 0s 3ms/step - loss: 22.4917 - mae: 22.4917\n",
            "Epoch 281/500\n",
            "2/2 [==============================] - 0s 5ms/step - loss: 24.2981 - mae: 24.2981\n",
            "Epoch 282/500\n",
            "2/2 [==============================] - 0s 4ms/step - loss: 7.8267 - mae: 7.8267\n",
            "Epoch 283/500\n",
            "2/2 [==============================] - 0s 3ms/step - loss: 8.1971 - mae: 8.1971\n",
            "Epoch 284/500\n",
            "2/2 [==============================] - 0s 4ms/step - loss: 27.2916 - mae: 27.2916\n",
            "Epoch 285/500\n",
            "2/2 [==============================] - 0s 4ms/step - loss: 13.9558 - mae: 13.9558\n",
            "Epoch 286/500\n",
            "2/2 [==============================] - 0s 4ms/step - loss: 5.1162 - mae: 5.1162\n",
            "Epoch 287/500\n",
            "2/2 [==============================] - 0s 4ms/step - loss: 21.7561 - mae: 21.7561\n",
            "Epoch 288/500\n",
            "2/2 [==============================] - 0s 4ms/step - loss: 28.7035 - mae: 28.7035\n",
            "Epoch 289/500\n",
            "2/2 [==============================] - 0s 4ms/step - loss: 9.3552 - mae: 9.3552\n",
            "Epoch 290/500\n",
            "2/2 [==============================] - 0s 4ms/step - loss: 16.7028 - mae: 16.7028\n",
            "Epoch 291/500\n",
            "2/2 [==============================] - 0s 5ms/step - loss: 17.3009 - mae: 17.3009\n",
            "Epoch 292/500\n",
            "2/2 [==============================] - 0s 8ms/step - loss: 6.6179 - mae: 6.6179\n",
            "Epoch 293/500\n",
            "2/2 [==============================] - 0s 9ms/step - loss: 17.5682 - mae: 17.5682\n",
            "Epoch 294/500\n",
            "2/2 [==============================] - 0s 5ms/step - loss: 26.5439 - mae: 26.5439\n",
            "Epoch 295/500\n",
            "2/2 [==============================] - 0s 8ms/step - loss: 13.9159 - mae: 13.9159\n",
            "Epoch 296/500\n",
            "2/2 [==============================] - 0s 5ms/step - loss: 4.5312 - mae: 4.5312\n",
            "Epoch 297/500\n",
            "2/2 [==============================] - 0s 7ms/step - loss: 6.3759 - mae: 6.3759\n",
            "Epoch 298/500\n",
            "2/2 [==============================] - 0s 5ms/step - loss: 19.5097 - mae: 19.5097\n",
            "Epoch 299/500\n",
            "2/2 [==============================] - 0s 6ms/step - loss: 6.2382 - mae: 6.2382\n",
            "Epoch 300/500\n",
            "2/2 [==============================] - 0s 11ms/step - loss: 22.3878 - mae: 22.3878\n",
            "Epoch 301/500\n",
            "2/2 [==============================] - 0s 6ms/step - loss: 8.1322 - mae: 8.1322\n",
            "Epoch 302/500\n",
            "2/2 [==============================] - 0s 16ms/step - loss: 10.5761 - mae: 10.5761\n",
            "Epoch 303/500\n",
            "2/2 [==============================] - 0s 5ms/step - loss: 8.8583 - mae: 8.8583\n",
            "Epoch 304/500\n",
            "2/2 [==============================] - 0s 7ms/step - loss: 23.6137 - mae: 23.6137\n",
            "Epoch 305/500\n",
            "2/2 [==============================] - 0s 3ms/step - loss: 7.4758 - mae: 7.4758\n",
            "Epoch 306/500\n",
            "2/2 [==============================] - 0s 9ms/step - loss: 24.0779 - mae: 24.0779\n",
            "Epoch 307/500\n",
            "2/2 [==============================] - 0s 8ms/step - loss: 5.3275 - mae: 5.3275\n",
            "Epoch 308/500\n",
            "2/2 [==============================] - 0s 4ms/step - loss: 22.6070 - mae: 22.6070\n",
            "Epoch 309/500\n",
            "2/2 [==============================] - 0s 6ms/step - loss: 18.1314 - mae: 18.1314\n",
            "Epoch 310/500\n",
            "2/2 [==============================] - 0s 7ms/step - loss: 4.3814 - mae: 4.3814\n",
            "Epoch 311/500\n",
            "2/2 [==============================] - 0s 3ms/step - loss: 6.2907 - mae: 6.2907\n",
            "Epoch 312/500\n",
            "2/2 [==============================] - 0s 4ms/step - loss: 37.2315 - mae: 37.2315\n",
            "Epoch 313/500\n",
            "2/2 [==============================] - 0s 8ms/step - loss: 29.8095 - mae: 29.8095\n",
            "Epoch 314/500\n",
            "2/2 [==============================] - 0s 17ms/step - loss: 9.9000 - mae: 9.9000\n",
            "Epoch 315/500\n",
            "2/2 [==============================] - 0s 7ms/step - loss: 24.6102 - mae: 24.6102\n",
            "Epoch 316/500\n",
            "2/2 [==============================] - 0s 9ms/step - loss: 13.5719 - mae: 13.5719\n",
            "Epoch 317/500\n",
            "2/2 [==============================] - 0s 7ms/step - loss: 19.4682 - mae: 19.4682\n",
            "Epoch 318/500\n",
            "2/2 [==============================] - 0s 4ms/step - loss: 7.7126 - mae: 7.7126\n",
            "Epoch 319/500\n",
            "2/2 [==============================] - 0s 11ms/step - loss: 17.6501 - mae: 17.6501\n",
            "Epoch 320/500\n",
            "2/2 [==============================] - 0s 4ms/step - loss: 9.9476 - mae: 9.9476\n",
            "Epoch 321/500\n",
            "2/2 [==============================] - 0s 9ms/step - loss: 6.1041 - mae: 6.1041\n",
            "Epoch 322/500\n",
            "2/2 [==============================] - 0s 4ms/step - loss: 7.5551 - mae: 7.5551\n",
            "Epoch 323/500\n",
            "2/2 [==============================] - 0s 7ms/step - loss: 19.5209 - mae: 19.5209\n",
            "Epoch 324/500\n",
            "2/2 [==============================] - 0s 7ms/step - loss: 5.9039 - mae: 5.9039\n",
            "Epoch 325/500\n",
            "2/2 [==============================] - 0s 6ms/step - loss: 13.6782 - mae: 13.6782\n",
            "Epoch 326/500\n",
            "2/2 [==============================] - 0s 8ms/step - loss: 6.4077 - mae: 6.4077\n",
            "Epoch 327/500\n",
            "2/2 [==============================] - 0s 4ms/step - loss: 17.5343 - mae: 17.5343\n",
            "Epoch 328/500\n",
            "2/2 [==============================] - 0s 7ms/step - loss: 14.6833 - mae: 14.6833\n",
            "Epoch 329/500\n",
            "2/2 [==============================] - 0s 7ms/step - loss: 18.7053 - mae: 18.7053\n",
            "Epoch 330/500\n",
            "2/2 [==============================] - 0s 9ms/step - loss: 5.9541 - mae: 5.9541\n",
            "Epoch 331/500\n",
            "2/2 [==============================] - 0s 7ms/step - loss: 19.7873 - mae: 19.7873\n",
            "Epoch 332/500\n",
            "2/2 [==============================] - 0s 6ms/step - loss: 9.6079 - mae: 9.6079\n",
            "Epoch 333/500\n",
            "2/2 [==============================] - 0s 6ms/step - loss: 16.0237 - mae: 16.0237\n",
            "Epoch 334/500\n",
            "2/2 [==============================] - 0s 17ms/step - loss: 8.9584 - mae: 8.9584\n",
            "Epoch 335/500\n",
            "2/2 [==============================] - 0s 7ms/step - loss: 12.0172 - mae: 12.0172\n",
            "Epoch 336/500\n",
            "2/2 [==============================] - 0s 7ms/step - loss: 32.4740 - mae: 32.4740\n",
            "Epoch 337/500\n",
            "2/2 [==============================] - 0s 4ms/step - loss: 10.2780 - mae: 10.2780\n",
            "Epoch 338/500\n",
            "2/2 [==============================] - 0s 4ms/step - loss: 20.7055 - mae: 20.7055\n",
            "Epoch 339/500\n",
            "2/2 [==============================] - 0s 3ms/step - loss: 35.7401 - mae: 35.7401\n",
            "Epoch 340/500\n",
            "2/2 [==============================] - 0s 7ms/step - loss: 8.5712 - mae: 8.5712\n",
            "Epoch 341/500\n",
            "2/2 [==============================] - 0s 8ms/step - loss: 17.3066 - mae: 17.3066\n",
            "Epoch 342/500\n",
            "2/2 [==============================] - 0s 5ms/step - loss: 15.4881 - mae: 15.4881\n",
            "Epoch 343/500\n",
            "2/2 [==============================] - 0s 6ms/step - loss: 9.8152 - mae: 9.8152\n",
            "Epoch 344/500\n",
            "2/2 [==============================] - 0s 11ms/step - loss: 8.3051 - mae: 8.3051\n",
            "Epoch 345/500\n",
            "2/2 [==============================] - 0s 18ms/step - loss: 31.5405 - mae: 31.5405\n",
            "Epoch 346/500\n",
            "2/2 [==============================] - 0s 10ms/step - loss: 9.1273 - mae: 9.1273\n",
            "Epoch 347/500\n",
            "2/2 [==============================] - 0s 6ms/step - loss: 26.5015 - mae: 26.5015\n",
            "Epoch 348/500\n",
            "2/2 [==============================] - 0s 5ms/step - loss: 12.9325 - mae: 12.9325\n",
            "Epoch 349/500\n",
            "2/2 [==============================] - 0s 13ms/step - loss: 12.2903 - mae: 12.2903\n",
            "Epoch 350/500\n",
            "2/2 [==============================] - 0s 17ms/step - loss: 16.0490 - mae: 16.0490\n",
            "Epoch 351/500\n",
            "2/2 [==============================] - 0s 4ms/step - loss: 33.9554 - mae: 33.9554\n",
            "Epoch 352/500\n",
            "2/2 [==============================] - 0s 3ms/step - loss: 14.0329 - mae: 14.0329\n",
            "Epoch 353/500\n",
            "2/2 [==============================] - 0s 5ms/step - loss: 18.8104 - mae: 18.8104\n",
            "Epoch 354/500\n",
            "2/2 [==============================] - 0s 5ms/step - loss: 10.2328 - mae: 10.2328\n",
            "Epoch 355/500\n",
            "2/2 [==============================] - 0s 3ms/step - loss: 27.6962 - mae: 27.6962\n",
            "Epoch 356/500\n",
            "2/2 [==============================] - 0s 3ms/step - loss: 9.3838 - mae: 9.3838\n",
            "Epoch 357/500\n",
            "2/2 [==============================] - 0s 3ms/step - loss: 14.0886 - mae: 14.0886\n",
            "Epoch 358/500\n",
            "2/2 [==============================] - 0s 4ms/step - loss: 14.1817 - mae: 14.1817\n",
            "Epoch 359/500\n",
            "2/2 [==============================] - 0s 8ms/step - loss: 10.9574 - mae: 10.9574\n",
            "Epoch 360/500\n",
            "2/2 [==============================] - 0s 14ms/step - loss: 21.5911 - mae: 21.5911\n",
            "Epoch 361/500\n",
            "2/2 [==============================] - 0s 9ms/step - loss: 10.0973 - mae: 10.0973\n",
            "Epoch 362/500\n",
            "2/2 [==============================] - 0s 14ms/step - loss: 6.0635 - mae: 6.0635\n",
            "Epoch 363/500\n",
            "2/2 [==============================] - 0s 15ms/step - loss: 24.1833 - mae: 24.1833\n",
            "Epoch 364/500\n",
            "2/2 [==============================] - 0s 5ms/step - loss: 30.5319 - mae: 30.5319\n",
            "Epoch 365/500\n",
            "2/2 [==============================] - 0s 10ms/step - loss: 7.7323 - mae: 7.7323\n",
            "Epoch 366/500\n",
            "2/2 [==============================] - 0s 13ms/step - loss: 5.7053 - mae: 5.7053\n",
            "Epoch 367/500\n",
            "2/2 [==============================] - 0s 5ms/step - loss: 36.5130 - mae: 36.5130\n",
            "Epoch 368/500\n",
            "2/2 [==============================] - 0s 14ms/step - loss: 6.6049 - mae: 6.6049\n",
            "Epoch 369/500\n",
            "2/2 [==============================] - 0s 5ms/step - loss: 8.4231 - mae: 8.4231\n",
            "Epoch 370/500\n",
            "2/2 [==============================] - 0s 13ms/step - loss: 9.8390 - mae: 9.8390\n",
            "Epoch 371/500\n",
            "2/2 [==============================] - 0s 10ms/step - loss: 8.2014 - mae: 8.2014\n",
            "Epoch 372/500\n",
            "2/2 [==============================] - 0s 17ms/step - loss: 5.6493 - mae: 5.6493\n",
            "Epoch 373/500\n",
            "2/2 [==============================] - 0s 6ms/step - loss: 23.9657 - mae: 23.9657\n",
            "Epoch 374/500\n",
            "2/2 [==============================] - 0s 14ms/step - loss: 9.3769 - mae: 9.3769\n",
            "Epoch 375/500\n",
            "2/2 [==============================] - 0s 16ms/step - loss: 12.8039 - mae: 12.8039\n",
            "Epoch 376/500\n",
            "2/2 [==============================] - 0s 6ms/step - loss: 15.5478 - mae: 15.5478\n",
            "Epoch 377/500\n",
            "2/2 [==============================] - 0s 5ms/step - loss: 14.4239 - mae: 14.4239\n",
            "Epoch 378/500\n",
            "2/2 [==============================] - 0s 7ms/step - loss: 17.3682 - mae: 17.3682\n",
            "Epoch 379/500\n",
            "2/2 [==============================] - 0s 4ms/step - loss: 21.5953 - mae: 21.5953\n",
            "Epoch 380/500\n",
            "2/2 [==============================] - 0s 15ms/step - loss: 34.8999 - mae: 34.8999\n",
            "Epoch 381/500\n",
            "2/2 [==============================] - 0s 9ms/step - loss: 7.6275 - mae: 7.6275\n",
            "Epoch 382/500\n",
            "2/2 [==============================] - 0s 5ms/step - loss: 12.4562 - mae: 12.4562\n",
            "Epoch 383/500\n",
            "2/2 [==============================] - 0s 6ms/step - loss: 7.7614 - mae: 7.7614\n",
            "Epoch 384/500\n",
            "2/2 [==============================] - 0s 10ms/step - loss: 6.5145 - mae: 6.5145\n",
            "Epoch 385/500\n",
            "2/2 [==============================] - 0s 6ms/step - loss: 9.5373 - mae: 9.5373\n",
            "Epoch 386/500\n",
            "2/2 [==============================] - 0s 9ms/step - loss: 21.0595 - mae: 21.0595\n",
            "Epoch 387/500\n",
            "2/2 [==============================] - 0s 3ms/step - loss: 25.2123 - mae: 25.2123\n",
            "Epoch 388/500\n",
            "2/2 [==============================] - 0s 8ms/step - loss: 8.0540 - mae: 8.0540\n",
            "Epoch 389/500\n",
            "2/2 [==============================] - 0s 9ms/step - loss: 5.8884 - mae: 5.8884\n",
            "Epoch 390/500\n",
            "2/2 [==============================] - 0s 10ms/step - loss: 24.8314 - mae: 24.8314\n",
            "Epoch 391/500\n",
            "2/2 [==============================] - 0s 3ms/step - loss: 5.2966 - mae: 5.2966\n",
            "Epoch 392/500\n",
            "2/2 [==============================] - 0s 7ms/step - loss: 15.2902 - mae: 15.2902\n",
            "Epoch 393/500\n",
            "2/2 [==============================] - 0s 5ms/step - loss: 5.7846 - mae: 5.7846\n",
            "Epoch 394/500\n",
            "2/2 [==============================] - 0s 3ms/step - loss: 11.4998 - mae: 11.4998\n",
            "Epoch 395/500\n",
            "2/2 [==============================] - 0s 4ms/step - loss: 11.3952 - mae: 11.3952\n",
            "Epoch 396/500\n",
            "2/2 [==============================] - 0s 4ms/step - loss: 6.4872 - mae: 6.4872\n",
            "Epoch 397/500\n",
            "2/2 [==============================] - 0s 7ms/step - loss: 7.0921 - mae: 7.0921\n",
            "Epoch 398/500\n",
            "2/2 [==============================] - 0s 6ms/step - loss: 20.2485 - mae: 20.2485\n",
            "Epoch 399/500\n",
            "2/2 [==============================] - 0s 4ms/step - loss: 5.1749 - mae: 5.1749\n",
            "Epoch 400/500\n",
            "2/2 [==============================] - 0s 3ms/step - loss: 25.9137 - mae: 25.9137\n",
            "Epoch 401/500\n",
            "2/2 [==============================] - 0s 3ms/step - loss: 12.5886 - mae: 12.5886\n",
            "Epoch 402/500\n",
            "2/2 [==============================] - 0s 2ms/step - loss: 7.5657 - mae: 7.5657\n",
            "Epoch 403/500\n",
            "2/2 [==============================] - 0s 3ms/step - loss: 9.2265 - mae: 9.2265\n",
            "Epoch 404/500\n",
            "2/2 [==============================] - 0s 14ms/step - loss: 9.1550 - mae: 9.1550\n",
            "Epoch 405/500\n",
            "2/2 [==============================] - 0s 5ms/step - loss: 5.7175 - mae: 5.7175\n",
            "Epoch 406/500\n",
            "2/2 [==============================] - 0s 4ms/step - loss: 19.5167 - mae: 19.5167\n",
            "Epoch 407/500\n",
            "2/2 [==============================] - 0s 3ms/step - loss: 8.6530 - mae: 8.6530\n",
            "Epoch 408/500\n",
            "2/2 [==============================] - 0s 18ms/step - loss: 22.0106 - mae: 22.0106\n",
            "Epoch 409/500\n",
            "2/2 [==============================] - 0s 4ms/step - loss: 32.4262 - mae: 32.4262\n",
            "Epoch 410/500\n",
            "2/2 [==============================] - 0s 9ms/step - loss: 8.0971 - mae: 8.0971\n",
            "Epoch 411/500\n",
            "2/2 [==============================] - 0s 5ms/step - loss: 14.8502 - mae: 14.8502\n",
            "Epoch 412/500\n",
            "2/2 [==============================] - 0s 4ms/step - loss: 23.3298 - mae: 23.3298\n",
            "Epoch 413/500\n",
            "2/2 [==============================] - 0s 6ms/step - loss: 11.5851 - mae: 11.5851\n",
            "Epoch 414/500\n",
            "2/2 [==============================] - 0s 4ms/step - loss: 5.7296 - mae: 5.7296\n",
            "Epoch 415/500\n",
            "2/2 [==============================] - 0s 4ms/step - loss: 12.2300 - mae: 12.2300\n",
            "Epoch 416/500\n",
            "2/2 [==============================] - 0s 3ms/step - loss: 27.5187 - mae: 27.5187\n",
            "Epoch 417/500\n",
            "2/2 [==============================] - 0s 4ms/step - loss: 11.5171 - mae: 11.5171\n",
            "Epoch 418/500\n",
            "2/2 [==============================] - 0s 4ms/step - loss: 12.7947 - mae: 12.7947\n",
            "Epoch 419/500\n",
            "2/2 [==============================] - 0s 4ms/step - loss: 16.9980 - mae: 16.9980\n",
            "Epoch 420/500\n",
            "2/2 [==============================] - 0s 4ms/step - loss: 25.9070 - mae: 25.9070\n",
            "Epoch 421/500\n",
            "2/2 [==============================] - 0s 6ms/step - loss: 15.9953 - mae: 15.9953\n",
            "Epoch 422/500\n",
            "2/2 [==============================] - 0s 11ms/step - loss: 7.2348 - mae: 7.2348\n",
            "Epoch 423/500\n",
            "2/2 [==============================] - 0s 5ms/step - loss: 25.7180 - mae: 25.7180\n",
            "Epoch 424/500\n",
            "2/2 [==============================] - 0s 3ms/step - loss: 15.9229 - mae: 15.9229\n",
            "Epoch 425/500\n",
            "2/2 [==============================] - 0s 3ms/step - loss: 6.6324 - mae: 6.6324\n",
            "Epoch 426/500\n",
            "2/2 [==============================] - 0s 4ms/step - loss: 20.3758 - mae: 20.3758\n",
            "Epoch 427/500\n",
            "2/2 [==============================] - 0s 3ms/step - loss: 5.5591 - mae: 5.5591\n",
            "Epoch 428/500\n",
            "2/2 [==============================] - 0s 3ms/step - loss: 12.1533 - mae: 12.1533\n",
            "Epoch 429/500\n",
            "2/2 [==============================] - 0s 3ms/step - loss: 9.9591 - mae: 9.9591\n",
            "Epoch 430/500\n",
            "2/2 [==============================] - 0s 10ms/step - loss: 10.7963 - mae: 10.7963\n",
            "Epoch 431/500\n",
            "2/2 [==============================] - 0s 15ms/step - loss: 7.6270 - mae: 7.6270\n",
            "Epoch 432/500\n",
            "2/2 [==============================] - 0s 11ms/step - loss: 18.1502 - mae: 18.1502\n",
            "Epoch 433/500\n",
            "2/2 [==============================] - 0s 6ms/step - loss: 8.3969 - mae: 8.3969\n",
            "Epoch 434/500\n",
            "2/2 [==============================] - 0s 5ms/step - loss: 31.3239 - mae: 31.3239\n",
            "Epoch 435/500\n",
            "2/2 [==============================] - 0s 13ms/step - loss: 9.3950 - mae: 9.3950\n",
            "Epoch 436/500\n",
            "2/2 [==============================] - 0s 7ms/step - loss: 30.2965 - mae: 30.2965\n",
            "Epoch 437/500\n",
            "2/2 [==============================] - 0s 6ms/step - loss: 6.7802 - mae: 6.7802\n",
            "Epoch 438/500\n",
            "2/2 [==============================] - 0s 8ms/step - loss: 11.8037 - mae: 11.8037\n",
            "Epoch 439/500\n",
            "2/2 [==============================] - 0s 9ms/step - loss: 34.2381 - mae: 34.2381\n",
            "Epoch 440/500\n",
            "2/2 [==============================] - 0s 6ms/step - loss: 15.5087 - mae: 15.5087\n",
            "Epoch 441/500\n",
            "2/2 [==============================] - 0s 7ms/step - loss: 19.0659 - mae: 19.0659\n",
            "Epoch 442/500\n",
            "2/2 [==============================] - 0s 5ms/step - loss: 5.4871 - mae: 5.4871\n",
            "Epoch 443/500\n",
            "2/2 [==============================] - 0s 5ms/step - loss: 11.8322 - mae: 11.8322\n",
            "Epoch 444/500\n",
            "2/2 [==============================] - 0s 9ms/step - loss: 4.9570 - mae: 4.9570\n",
            "Epoch 445/500\n",
            "2/2 [==============================] - 0s 11ms/step - loss: 8.2977 - mae: 8.2977\n",
            "Epoch 446/500\n",
            "2/2 [==============================] - 0s 6ms/step - loss: 15.8530 - mae: 15.8530\n",
            "Epoch 447/500\n",
            "2/2 [==============================] - 0s 12ms/step - loss: 23.8423 - mae: 23.8423\n",
            "Epoch 448/500\n",
            "2/2 [==============================] - 0s 12ms/step - loss: 13.0590 - mae: 13.0590\n",
            "Epoch 449/500\n",
            "2/2 [==============================] - 0s 5ms/step - loss: 10.7036 - mae: 10.7036\n",
            "Epoch 450/500\n",
            "2/2 [==============================] - 0s 12ms/step - loss: 15.6367 - mae: 15.6367\n",
            "Epoch 451/500\n",
            "2/2 [==============================] - 0s 12ms/step - loss: 18.0513 - mae: 18.0513\n",
            "Epoch 452/500\n",
            "2/2 [==============================] - 0s 12ms/step - loss: 48.4352 - mae: 48.4352\n",
            "Epoch 453/500\n",
            "2/2 [==============================] - 0s 15ms/step - loss: 26.6041 - mae: 26.6041\n",
            "Epoch 454/500\n",
            "2/2 [==============================] - 0s 14ms/step - loss: 22.9960 - mae: 22.9960\n",
            "Epoch 455/500\n",
            "2/2 [==============================] - 0s 8ms/step - loss: 7.4147 - mae: 7.4147\n",
            "Epoch 456/500\n",
            "2/2 [==============================] - 0s 9ms/step - loss: 8.8586 - mae: 8.8586\n",
            "Epoch 457/500\n",
            "2/2 [==============================] - 0s 4ms/step - loss: 15.4897 - mae: 15.4897\n",
            "Epoch 458/500\n",
            "2/2 [==============================] - 0s 10ms/step - loss: 17.7291 - mae: 17.7291\n",
            "Epoch 459/500\n",
            "2/2 [==============================] - 0s 9ms/step - loss: 27.5684 - mae: 27.5684\n",
            "Epoch 460/500\n",
            "2/2 [==============================] - 0s 8ms/step - loss: 11.7161 - mae: 11.7161\n",
            "Epoch 461/500\n",
            "2/2 [==============================] - 0s 15ms/step - loss: 11.6139 - mae: 11.6139\n",
            "Epoch 462/500\n",
            "2/2 [==============================] - 0s 14ms/step - loss: 13.2394 - mae: 13.2394\n",
            "Epoch 463/500\n",
            "2/2 [==============================] - 0s 11ms/step - loss: 30.3568 - mae: 30.3568\n",
            "Epoch 464/500\n",
            "2/2 [==============================] - 0s 13ms/step - loss: 3.3403 - mae: 3.3403\n",
            "Epoch 465/500\n",
            "2/2 [==============================] - 0s 7ms/step - loss: 15.9533 - mae: 15.9533\n",
            "Epoch 466/500\n",
            "2/2 [==============================] - 0s 11ms/step - loss: 21.7971 - mae: 21.7971\n",
            "Epoch 467/500\n",
            "2/2 [==============================] - 0s 12ms/step - loss: 31.5991 - mae: 31.5991\n",
            "Epoch 468/500\n",
            "2/2 [==============================] - 0s 9ms/step - loss: 9.5926 - mae: 9.5926\n",
            "Epoch 469/500\n",
            "2/2 [==============================] - 0s 4ms/step - loss: 11.7772 - mae: 11.7772\n",
            "Epoch 470/500\n",
            "2/2 [==============================] - 0s 8ms/step - loss: 3.2162 - mae: 3.2162\n",
            "Epoch 471/500\n",
            "2/2 [==============================] - 0s 10ms/step - loss: 17.3564 - mae: 17.3564\n",
            "Epoch 472/500\n",
            "2/2 [==============================] - 0s 4ms/step - loss: 12.9947 - mae: 12.9947\n",
            "Epoch 473/500\n",
            "2/2 [==============================] - 0s 4ms/step - loss: 16.3651 - mae: 16.3651\n",
            "Epoch 474/500\n",
            "2/2 [==============================] - 0s 9ms/step - loss: 10.4715 - mae: 10.4715\n",
            "Epoch 475/500\n",
            "2/2 [==============================] - 0s 6ms/step - loss: 17.3428 - mae: 17.3428\n",
            "Epoch 476/500\n",
            "2/2 [==============================] - 0s 6ms/step - loss: 14.0360 - mae: 14.0360\n",
            "Epoch 477/500\n",
            "2/2 [==============================] - 0s 8ms/step - loss: 31.4049 - mae: 31.4049\n",
            "Epoch 478/500\n",
            "2/2 [==============================] - 0s 31ms/step - loss: 7.5170 - mae: 7.5170\n",
            "Epoch 479/500\n",
            "2/2 [==============================] - 0s 7ms/step - loss: 9.4022 - mae: 9.4022\n",
            "Epoch 480/500\n",
            "2/2 [==============================] - 0s 5ms/step - loss: 19.0601 - mae: 19.0601\n",
            "Epoch 481/500\n",
            "2/2 [==============================] - 0s 3ms/step - loss: 16.5992 - mae: 16.5992\n",
            "Epoch 482/500\n",
            "2/2 [==============================] - 0s 3ms/step - loss: 22.3416 - mae: 22.3416\n",
            "Epoch 483/500\n",
            "2/2 [==============================] - 0s 6ms/step - loss: 25.7703 - mae: 25.7703\n",
            "Epoch 484/500\n",
            "2/2 [==============================] - 0s 5ms/step - loss: 23.9815 - mae: 23.9815\n",
            "Epoch 485/500\n",
            "2/2 [==============================] - 0s 4ms/step - loss: 5.2766 - mae: 5.2766\n",
            "Epoch 486/500\n",
            "2/2 [==============================] - 0s 8ms/step - loss: 20.2691 - mae: 20.2691\n",
            "Epoch 487/500\n",
            "2/2 [==============================] - 0s 8ms/step - loss: 14.4138 - mae: 14.4138\n",
            "Epoch 488/500\n",
            "2/2 [==============================] - 0s 11ms/step - loss: 32.0488 - mae: 32.0488\n",
            "Epoch 489/500\n",
            "2/2 [==============================] - 0s 9ms/step - loss: 11.2471 - mae: 11.2471\n",
            "Epoch 490/500\n",
            "2/2 [==============================] - 0s 10ms/step - loss: 11.9890 - mae: 11.9890\n",
            "Epoch 491/500\n",
            "2/2 [==============================] - 0s 10ms/step - loss: 24.7321 - mae: 24.7321\n",
            "Epoch 492/500\n",
            "2/2 [==============================] - 0s 13ms/step - loss: 20.2060 - mae: 20.2060\n",
            "Epoch 493/500\n",
            "2/2 [==============================] - 0s 19ms/step - loss: 4.5620 - mae: 4.5620\n",
            "Epoch 494/500\n",
            "2/2 [==============================] - 0s 4ms/step - loss: 12.0744 - mae: 12.0744\n",
            "Epoch 495/500\n",
            "2/2 [==============================] - 0s 5ms/step - loss: 13.4881 - mae: 13.4881\n",
            "Epoch 496/500\n",
            "2/2 [==============================] - 0s 4ms/step - loss: 12.0936 - mae: 12.0936\n",
            "Epoch 497/500\n",
            "2/2 [==============================] - 0s 4ms/step - loss: 18.9511 - mae: 18.9511\n",
            "Epoch 498/500\n",
            "2/2 [==============================] - 0s 9ms/step - loss: 23.6498 - mae: 23.6498\n",
            "Epoch 499/500\n",
            "2/2 [==============================] - 0s 4ms/step - loss: 8.8007 - mae: 8.8007\n",
            "Epoch 500/500\n",
            "2/2 [==============================] - 0s 7ms/step - loss: 14.6015 - mae: 14.6015\n"
          ],
          "name": "stdout"
        },
        {
          "output_type": "execute_result",
          "data": {
            "text/plain": [
              "<tensorflow.python.keras.callbacks.History at 0x7fe726a90290>"
            ]
          },
          "metadata": {
            "tags": []
          },
          "execution_count": 53
        }
      ]
    },
    {
      "cell_type": "code",
      "metadata": {
        "colab": {
          "base_uri": "https://localhost:8080/",
          "height": 465
        },
        "id": "ppkxpnyvmpCT",
        "outputId": "7b396e42-ad63-470b-e367-5f309eb158f5"
      },
      "source": [
        "# make and plot predictions of model_2\n",
        "y_preds_3 = model_3.predict(X_test)\n",
        "plot_predictions(predictions=y_preds_3)"
      ],
      "execution_count": null,
      "outputs": [
        {
          "output_type": "stream",
          "text": [
            "WARNING:tensorflow:8 out of the last 8 calls to <function Model.make_predict_function.<locals>.predict_function at 0x7fe726976290> triggered tf.function retracing. Tracing is expensive and the excessive number of tracings could be due to (1) creating @tf.function repeatedly in a loop, (2) passing tensors with different shapes, (3) passing Python objects instead of tensors. For (1), please define your @tf.function outside of the loop. For (2), @tf.function has experimental_relax_shapes=True option that relaxes argument shapes that can avoid unnecessary retracing. For (3), please refer to https://www.tensorflow.org/guide/function#controlling_retracing and https://www.tensorflow.org/api_docs/python/tf/function for  more details.\n"
          ],
          "name": "stdout"
        },
        {
          "output_type": "display_data",
          "data": {
            "image/png": "[encoded data removed]",
            "text/plain": [
              "<Figure size 720x504 with 1 Axes>"
            ]
          },
          "metadata": {
            "tags": [],
            "needs_background": "light"
          }
        }
      ]
    },
    {
      "cell_type": "code",
      "metadata": {
        "colab": {
          "base_uri": "https://localhost:8080/"
        },
        "id": "tUPH1hsRmzXl",
        "outputId": "d73be606-6a78-4f4c-b029-2ac7b978d3ee"
      },
      "source": [
        "# Calculate model_2 evalutaion metrics \n",
        "mae_3 = mae(y_test, y_preds_3)\n",
        "mse_3 = mse(y_test, y_preds_3)\n",
        "mae_3, mse_3"
      ],
      "execution_count": null,
      "outputs": [
        {
          "output_type": "execute_result",
          "data": {
            "text/plain": [
              "(<tf.Tensor: shape=(), dtype=float32, numpy=67.90955>,\n",
              " <tf.Tensor: shape=(), dtype=float32, numpy=4696.0615>)"
            ]
          },
          "metadata": {
            "tags": []
          },
          "execution_count": 55
        }
      ]
    },
    {
      "cell_type": "markdown",
      "metadata": {
        "id": "ztOnFkT7oFN_"
      },
      "source": [
        "🔑 **Note:** You want to start with small experiments (samll models) and make sure they work an then increase their "
      ]
    },
    {
      "cell_type": "markdown",
      "metadata": {
        "id": "ahO4M2nhnQQw"
      },
      "source": [
        "## Comparing the results of our experiments\n",
        "\n",
        "We've run a few experiments, let's compare our results"
      ]
    },
    {
      "cell_type": "markdown",
      "metadata": {
        "id": "UJzwALKjp_Uk"
      },
      "source": [
        "Looks like `model_2` preformed the best..."
      ]
    },
    {
      "cell_type": "code",
      "metadata": {
        "colab": {
          "base_uri": "https://localhost:8080/",
          "height": 137
        },
        "id": "yuaiafFbn0Ct",
        "outputId": "bc0d2feb-8cba-4008-b63e-81dfe21090f4"
      },
      "source": [
        "# Let's compare our model's results using a pandas DataFrame\n",
        "import pandas as pd\n",
        "\n",
        "model_results = [['model_1', mae_1.numpy(), mse_1.numpy()],\n",
        "                 ['model_2', mae_2.numpy(), mse_2.numpy()],\n",
        "                 ['model_3', mae_3.numpy(), mse_3.numpy()]]\n",
        "\n",
        "all_results = pd.DataFrame(model_results, columns=['model', 'mae', 'mse'])\n",
        "all_results"
      ],
      "execution_count": null,
      "outputs": [
        {
          "output_type": "execute_result",
          "data": {
            "text/html": [
              "<div>\n",
              "<style scoped>\n",
              "    .dataframe tbody tr th:only-of-type {\n",
              "        vertical-align: middle;\n",
              "    }\n",
              "\n",
              "    .dataframe tbody tr th {\n",
              "        vertical-align: top;\n",
              "    }\n",
              "\n",
              "    .dataframe thead th {\n",
              "        text-align: right;\n",
              "    }\n",
              "</style>\n",
              "<table border=\"1\" class=\"dataframe\">\n",
              "  <thead>\n",
              "    <tr style=\"text-align: right;\">\n",
              "      <th></th>\n",
              "      <th>model</th>\n",
              "      <th>mae</th>\n",
              "      <th>mse</th>\n",
              "    </tr>\n",
              "  </thead>\n",
              "  <tbody>\n",
              "    <tr>\n",
              "      <th>0</th>\n",
              "      <td>model_1</td>\n",
              "      <td>18.745327</td>\n",
              "      <td>353.573364</td>\n",
              "    </tr>\n",
              "    <tr>\n",
              "      <th>1</th>\n",
              "      <td>model_2</td>\n",
              "      <td>3.110995</td>\n",
              "      <td>12.497052</td>\n",
              "    </tr>\n",
              "    <tr>\n",
              "      <th>2</th>\n",
              "      <td>model_3</td>\n",
              "      <td>67.909554</td>\n",
              "      <td>4696.061523</td>\n",
              "    </tr>\n",
              "  </tbody>\n",
              "</table>\n",
              "</div>"
            ],
            "text/plain": [
              "     model        mae          mse\n",
              "0  model_1  18.745327   353.573364\n",
              "1  model_2   3.110995    12.497052\n",
              "2  model_3  67.909554  4696.061523"
            ]
          },
          "metadata": {
            "tags": []
          },
          "execution_count": 56
        }
      ]
    },
    {
      "cell_type": "markdown",
      "metadata": {
        "id": "7MbjHcuNpmai"
      },
      "source": [
        "🔑 **Note:** One of your main goals should be to minimize the time between your experiments. The more experiments you do, the more things you'll figure out  which don't work and in turn, get closer to figuring out what does work. Remember the machine learning practioner's moto: \"experiment, experiment, experiment\""
      ]
    },
    {
      "cell_type": "markdown",
      "metadata": {
        "id": "xxfyIFqypx_4"
      },
      "source": [
        "## Tracking your experiments\n",
        "\n",
        "One really good habit in machine learning modelling is to track the results of your experiments.\n",
        "\n",
        "And when doeing so, it can be tedious if you're running lots of experiments.\n",
        "\n",
        " Luckily, ther are tools to help us!\n",
        "\n",
        " 📖  **Resource:** As you build more models, you'll want to look into using:\n",
        "\n",
        " * TesorBoard - a component of the TensorFlow library to help track modelling experiments (we'll see this one later).\n",
        " * Weights & Biases - tool for tracking all of kinds of machine learning experiments (plugs straight into TensorBoard). "
      ]
    },
    {
      "cell_type": "markdown",
      "metadata": {
        "id": "TZlsWbGIryBh"
      },
      "source": [
        "## Saving our models\n",
        "\n",
        "Savin our models allows us to use them outside of Google Colab (or wherever they were trained) such as in a web application or a mobile app.\n",
        "\n",
        "There are two main formats we can save our model's too:\n",
        "\n",
        "1. The SavedModel Format\n",
        "2. The HDF5 format"
      ]
    },
    {
      "cell_type": "code",
      "metadata": {
        "colab": {
          "base_uri": "https://localhost:8080/"
        },
        "id": "YSY9iAPlr_1i",
        "outputId": "9e208f5a-76a6-4d94-e8c6-0085ced3cc0e"
      },
      "source": [
        "# Save model using the save model format\n",
        "model_2.save('best_model_SavedModel_format')"
      ],
      "execution_count": null,
      "outputs": [
        {
          "output_type": "stream",
          "text": [
            "INFO:tensorflow:Assets written to: best_model_SavedModel_format/assets\n"
          ],
          "name": "stdout"
        }
      ]
    },
    {
      "cell_type": "code",
      "metadata": {
        "id": "-L2MOo43tHpO"
      },
      "source": [
        "# Save model using HDF5\n",
        "model_2.save('best_model_HDF5_format.h5')"
      ],
      "execution_count": null,
      "outputs": []
    },
    {
      "cell_type": "markdown",
      "metadata": {
        "id": "y0ZvRGFIt1ap"
      },
      "source": [
        "## Loading in a saved model"
      ]
    },
    {
      "cell_type": "code",
      "metadata": {
        "colab": {
          "base_uri": "https://localhost:8080/"
        },
        "id": "FIHSuocmuY0Z",
        "outputId": "3ce602e2-7c79-4db5-e4f4-0edb55c91966"
      },
      "source": [
        "# Load in the SavedModel format model\n",
        "loaded_SavedModel_format = tf.keras.models.load_model('/content/best_model_SavedModel_format')\n",
        "loaded_SavedModel_format.summary()"
      ],
      "execution_count": null,
      "outputs": [
        {
          "output_type": "stream",
          "text": [
            "Model: \"sequential_6\"\n",
            "_________________________________________________________________\n",
            "Layer (type)                 Output Shape              Param #   \n",
            "=================================================================\n",
            "dense_8 (Dense)              (None, 10)                20        \n",
            "_________________________________________________________________\n",
            "dense_9 (Dense)              (None, 1)                 11        \n",
            "=================================================================\n",
            "Total params: 31\n",
            "Trainable params: 31\n",
            "Non-trainable params: 0\n",
            "_________________________________________________________________\n"
          ],
          "name": "stdout"
        }
      ]
    },
    {
      "cell_type": "code",
      "metadata": {
        "colab": {
          "base_uri": "https://localhost:8080/"
        },
        "id": "SI1RWpY-u1yk",
        "outputId": "d2ac9a94-41ec-4d44-9c2d-917f12bcfd38"
      },
      "source": [
        "# compare model_2 predictions with SavedModel format model predictions\n",
        "model_2_preds = model_2.predict(X_test)\n",
        "loaded_SavedModel_format_preds = loaded_SavedModel_format.predict(X_test)\n",
        "model_2_preds == loaded_SavedModel_format_preds"
      ],
      "execution_count": null,
      "outputs": [
        {
          "output_type": "stream",
          "text": [
            "WARNING:tensorflow:9 out of the last 10 calls to <function Model.make_predict_function.<locals>.predict_function at 0x7fe73a75c4d0> triggered tf.function retracing. Tracing is expensive and the excessive number of tracings could be due to (1) creating @tf.function repeatedly in a loop, (2) passing tensors with different shapes, (3) passing Python objects instead of tensors. For (1), please define your @tf.function outside of the loop. For (2), @tf.function has experimental_relax_shapes=True option that relaxes argument shapes that can avoid unnecessary retracing. For (3), please refer to https://www.tensorflow.org/guide/function#controlling_retracing and https://www.tensorflow.org/api_docs/python/tf/function for  more details.\n"
          ],
          "name": "stdout"
        },
        {
          "output_type": "execute_result",
          "data": {
            "text/plain": [
              "array([[ True],\n",
              "       [ True],\n",
              "       [ True],\n",
              "       [ True],\n",
              "       [ True],\n",
              "       [ True],\n",
              "       [ True],\n",
              "       [ True],\n",
              "       [ True],\n",
              "       [ True]])"
            ]
          },
          "metadata": {
            "tags": []
          },
          "execution_count": 60
        }
      ]
    },
    {
      "cell_type": "code",
      "metadata": {
        "colab": {
          "base_uri": "https://localhost:8080/"
        },
        "id": "SjMXp0GgvB89",
        "outputId": "6a31ee9e-f80f-436a-a92b-5a9e3a0fc0cd"
      },
      "source": [
        "# Load in a model using the .h5 format\n",
        "loaded_h5_model = tf.keras.models.load_model('/content/best_model_HDF5_format.h5')\n",
        "loaded_h5_model.summary()"
      ],
      "execution_count": null,
      "outputs": [
        {
          "output_type": "stream",
          "text": [
            "Model: \"sequential_6\"\n",
            "_________________________________________________________________\n",
            "Layer (type)                 Output Shape              Param #   \n",
            "=================================================================\n",
            "dense_8 (Dense)              (None, 10)                20        \n",
            "_________________________________________________________________\n",
            "dense_9 (Dense)              (None, 1)                 11        \n",
            "=================================================================\n",
            "Total params: 31\n",
            "Trainable params: 31\n",
            "Non-trainable params: 0\n",
            "_________________________________________________________________\n"
          ],
          "name": "stdout"
        }
      ]
    },
    {
      "cell_type": "code",
      "metadata": {
        "colab": {
          "base_uri": "https://localhost:8080/"
        },
        "id": "daFXkipszqhY",
        "outputId": "0e3b67d8-6554-4569-bf8b-68d6e7824afa"
      },
      "source": [
        "# Check to see if loaded .h5 model predictions match model_2\n",
        "model_2_preds = model_2.predict(X_test)\n",
        "loaded_h5_model_preds = loaded_h5_model.predict(X_test)\n",
        "model_2_preds == loaded_h5_model_preds"
      ],
      "execution_count": null,
      "outputs": [
        {
          "output_type": "stream",
          "text": [
            "WARNING:tensorflow:9 out of the last 11 calls to <function Model.make_predict_function.<locals>.predict_function at 0x7fe726e05dd0> triggered tf.function retracing. Tracing is expensive and the excessive number of tracings could be due to (1) creating @tf.function repeatedly in a loop, (2) passing tensors with different shapes, (3) passing Python objects instead of tensors. For (1), please define your @tf.function outside of the loop. For (2), @tf.function has experimental_relax_shapes=True option that relaxes argument shapes that can avoid unnecessary retracing. For (3), please refer to https://www.tensorflow.org/guide/function#controlling_retracing and https://www.tensorflow.org/api_docs/python/tf/function for  more details.\n"
          ],
          "name": "stdout"
        },
        {
          "output_type": "execute_result",
          "data": {
            "text/plain": [
              "array([[ True],\n",
              "       [ True],\n",
              "       [ True],\n",
              "       [ True],\n",
              "       [ True],\n",
              "       [ True],\n",
              "       [ True],\n",
              "       [ True],\n",
              "       [ True],\n",
              "       [ True]])"
            ]
          },
          "metadata": {
            "tags": []
          },
          "execution_count": 62
        }
      ]
    },
    {
      "cell_type": "markdown",
      "metadata": {
        "id": "m1Mvh-7X0Kyv"
      },
      "source": [
        "## Download a model (or any other file) from Google Colab\n",
        "\n",
        "If you want to download your files from Google Colab:\n",
        "\n",
        "1. You can go to the \"files\" tab an right click on the file you're after and click download.\n",
        "2. Use code (see the cell below)\n",
        "3. Save it to Google Drive by connecting Google Drive and copying it there"
      ]
    },
    {
      "cell_type": "code",
      "metadata": {
        "colab": {
          "base_uri": "https://localhost:8080/",
          "height": 16
        },
        "id": "AFPasoJm3TOm",
        "outputId": "bb49ed4f-3875-4cb5-a3d4-8d7eabd32c19"
      },
      "source": [
        "# Dowload a file form Google Colab\n",
        "from google.colab import files\n",
        "files.download('/content/best_model_HDF5_format.h5')\n"
      ],
      "execution_count": null,
      "outputs": [
        {
          "output_type": "display_data",
          "data": {
            "application/javascript": [
              "\n",
              "    async function download(id, filename, size) {\n",
              "      if (!google.colab.kernel.accessAllowed) {\n",
              "        return;\n",
              "      }\n",
              "      const div = document.createElement('div');\n",
              "      const label = document.createElement('label');\n",
              "      label.textContent = `Downloading \"${filename}\": `;\n",
              "      div.appendChild(label);\n",
              "      const progress = document.createElement('progress');\n",
              "      progress.max = size;\n",
              "      div.appendChild(progress);\n",
              "      document.body.appendChild(div);\n",
              "\n",
              "      const buffers = [];\n",
              "      let downloaded = 0;\n",
              "\n",
              "      const channel = await google.colab.kernel.comms.open(id);\n",
              "      // Send a message to notify the kernel that we're ready.\n",
              "      channel.send({})\n",
              "\n",
              "      for await (const message of channel.messages) {\n",
              "        // Send a message to notify the kernel that we're ready.\n",
              "        channel.send({})\n",
              "        if (message.buffers) {\n",
              "          for (const buffer of message.buffers) {\n",
              "            buffers.push(buffer);\n",
              "            downloaded += buffer.byteLength;\n",
              "            progress.value = downloaded;\n",
              "          }\n",
              "        }\n",
              "      }\n",
              "      const blob = new Blob(buffers, {type: 'application/binary'});\n",
              "      const a = document.createElement('a');\n",
              "      a.href = window.URL.createObjectURL(blob);\n",
              "      a.download = filename;\n",
              "      div.appendChild(a);\n",
              "      a.click();\n",
              "      div.remove();\n",
              "    }\n",
              "  "
            ],
            "text/plain": [
              "<IPython.core.display.Javascript object>"
            ]
          },
          "metadata": {
            "tags": []
          }
        },
        {
          "output_type": "display_data",
          "data": {
            "application/javascript": [
              "download(\"download_fe5a33aa-95ee-4b83-bc8d-c5fe7561ff76\", \"best_model_HDF5_format.h5\", 16952)"
            ],
            "text/plain": [
              "<IPython.core.display.Javascript object>"
            ]
          },
          "metadata": {
            "tags": []
          }
        }
      ]
    },
    {
      "cell_type": "code",
      "metadata": {
        "id": "pOJaVP2W3_6G"
      },
      "source": [
        "!cp /content/best_model_HDF5_format.h5 /content/drive/MyDrive/tensorflow_course"
      ],
      "execution_count": null,
      "outputs": []
    },
    {
      "cell_type": "code",
      "metadata": {
        "id": "R-oop9I25Xlh",
        "colab": {
          "base_uri": "https://localhost:8080/"
        },
        "outputId": "ef47146e-bcc2-401e-a54d-72f6d3e84467"
      },
      "source": [
        "!ls /content/drive/MyDrive/tensorflow_course"
      ],
      "execution_count": null,
      "outputs": [
        {
          "output_type": "stream",
          "text": [
            "best_model_HDF5_format.h5\n"
          ],
          "name": "stdout"
        }
      ]
    },
    {
      "cell_type": "markdown",
      "metadata": {
        "id": "4Z0u0pR86gaH"
      },
      "source": [
        "### A larger example"
      ]
    },
    {
      "cell_type": "code",
      "metadata": {
        "colab": {
          "base_uri": "https://localhost:8080/"
        },
        "id": "WzrOY-GW6-g9",
        "outputId": "5d70e84e-02fc-46e4-b968-8f8415705cab"
      },
      "source": [
        "X_train, y_train"
      ],
      "execution_count": null,
      "outputs": [
        {
          "output_type": "execute_result",
          "data": {
            "text/plain": [
              "(<tf.Tensor: shape=(40,), dtype=int32, numpy=\n",
              " array([-100,  -96,  -92,  -88,  -84,  -80,  -76,  -72,  -68,  -64,  -60,\n",
              "         -56,  -52,  -48,  -44,  -40,  -36,  -32,  -28,  -24,  -20,  -16,\n",
              "         -12,   -8,   -4,    0,    4,    8,   12,   16,   20,   24,   28,\n",
              "          32,   36,   40,   44,   48,   52,   56], dtype=int32)>,\n",
              " <tf.Tensor: shape=(40,), dtype=int32, numpy=\n",
              " array([-90, -86, -82, -78, -74, -70, -66, -62, -58, -54, -50, -46, -42,\n",
              "        -38, -34, -30, -26, -22, -18, -14, -10,  -6,  -2,   2,   6,  10,\n",
              "         14,  18,  22,  26,  30,  34,  38,  42,  46,  50,  54,  58,  62,\n",
              "         66], dtype=int32)>)"
            ]
          },
          "metadata": {
            "tags": []
          },
          "execution_count": 66
        }
      ]
    },
    {
      "cell_type": "code",
      "metadata": {
        "id": "0ViKPJhq7ASS"
      },
      "source": [
        "# Import required libraries\n",
        "import tensorflow as tf\n",
        "import pandas as pd\n",
        "import matplotlib.pyplot as plt\n"
      ],
      "execution_count": null,
      "outputs": []
    },
    {
      "cell_type": "code",
      "metadata": {
        "colab": {
          "base_uri": "https://localhost:8080/",
          "height": 197
        },
        "id": "8MWuc-1o7yzB",
        "outputId": "3d1d7454-5925-4429-f875-34526bf8ac3b"
      },
      "source": [
        "# read in the insurance dataset\n",
        "insurance = pd.read_csv('https://raw.githubusercontent.com/stedy/Machine-Learning-with-R-datasets/master/insurance.csv')\n",
        "insurance.head()"
      ],
      "execution_count": null,
      "outputs": [
        {
          "output_type": "execute_result",
          "data": {
            "text/html": [
              "<div>\n",
              "<style scoped>\n",
              "    .dataframe tbody tr th:only-of-type {\n",
              "        vertical-align: middle;\n",
              "    }\n",
              "\n",
              "    .dataframe tbody tr th {\n",
              "        vertical-align: top;\n",
              "    }\n",
              "\n",
              "    .dataframe thead th {\n",
              "        text-align: right;\n",
              "    }\n",
              "</style>\n",
              "<table border=\"1\" class=\"dataframe\">\n",
              "  <thead>\n",
              "    <tr style=\"text-align: right;\">\n",
              "      <th></th>\n",
              "      <th>age</th>\n",
              "      <th>sex</th>\n",
              "      <th>bmi</th>\n",
              "      <th>children</th>\n",
              "      <th>smoker</th>\n",
              "      <th>region</th>\n",
              "      <th>charges</th>\n",
              "    </tr>\n",
              "  </thead>\n",
              "  <tbody>\n",
              "    <tr>\n",
              "      <th>0</th>\n",
              "      <td>19</td>\n",
              "      <td>female</td>\n",
              "      <td>27.900</td>\n",
              "      <td>0</td>\n",
              "      <td>yes</td>\n",
              "      <td>southwest</td>\n",
              "      <td>16884.92400</td>\n",
              "    </tr>\n",
              "    <tr>\n",
              "      <th>1</th>\n",
              "      <td>18</td>\n",
              "      <td>male</td>\n",
              "      <td>33.770</td>\n",
              "      <td>1</td>\n",
              "      <td>no</td>\n",
              "      <td>southeast</td>\n",
              "      <td>1725.55230</td>\n",
              "    </tr>\n",
              "    <tr>\n",
              "      <th>2</th>\n",
              "      <td>28</td>\n",
              "      <td>male</td>\n",
              "      <td>33.000</td>\n",
              "      <td>3</td>\n",
              "      <td>no</td>\n",
              "      <td>southeast</td>\n",
              "      <td>4449.46200</td>\n",
              "    </tr>\n",
              "    <tr>\n",
              "      <th>3</th>\n",
              "      <td>33</td>\n",
              "      <td>male</td>\n",
              "      <td>22.705</td>\n",
              "      <td>0</td>\n",
              "      <td>no</td>\n",
              "      <td>northwest</td>\n",
              "      <td>21984.47061</td>\n",
              "    </tr>\n",
              "    <tr>\n",
              "      <th>4</th>\n",
              "      <td>32</td>\n",
              "      <td>male</td>\n",
              "      <td>28.880</td>\n",
              "      <td>0</td>\n",
              "      <td>no</td>\n",
              "      <td>northwest</td>\n",
              "      <td>3866.85520</td>\n",
              "    </tr>\n",
              "  </tbody>\n",
              "</table>\n",
              "</div>"
            ],
            "text/plain": [
              "   age     sex     bmi  children smoker     region      charges\n",
              "0   19  female  27.900         0    yes  southwest  16884.92400\n",
              "1   18    male  33.770         1     no  southeast   1725.55230\n",
              "2   28    male  33.000         3     no  southeast   4449.46200\n",
              "3   33    male  22.705         0     no  northwest  21984.47061\n",
              "4   32    male  28.880         0     no  northwest   3866.85520"
            ]
          },
          "metadata": {
            "tags": []
          },
          "execution_count": 68
        }
      ]
    },
    {
      "cell_type": "code",
      "metadata": {
        "colab": {
          "base_uri": "https://localhost:8080/",
          "height": 197
        },
        "id": "m_on1CGH8GnP",
        "outputId": "0f4dc6ec-74fd-44cf-f361-5e1791d1ec32"
      },
      "source": [
        "insurance_one_hot = pd.get_dummies(insurance)\n",
        "insurance_one_hot.head()"
      ],
      "execution_count": null,
      "outputs": [
        {
          "output_type": "execute_result",
          "data": {
            "text/html": [
              "<div>\n",
              "<style scoped>\n",
              "    .dataframe tbody tr th:only-of-type {\n",
              "        vertical-align: middle;\n",
              "    }\n",
              "\n",
              "    .dataframe tbody tr th {\n",
              "        vertical-align: top;\n",
              "    }\n",
              "\n",
              "    .dataframe thead th {\n",
              "        text-align: right;\n",
              "    }\n",
              "</style>\n",
              "<table border=\"1\" class=\"dataframe\">\n",
              "  <thead>\n",
              "    <tr style=\"text-align: right;\">\n",
              "      <th></th>\n",
              "      <th>age</th>\n",
              "      <th>bmi</th>\n",
              "      <th>children</th>\n",
              "      <th>charges</th>\n",
              "      <th>sex_female</th>\n",
              "      <th>sex_male</th>\n",
              "      <th>smoker_no</th>\n",
              "      <th>smoker_yes</th>\n",
              "      <th>region_northeast</th>\n",
              "      <th>region_northwest</th>\n",
              "      <th>region_southeast</th>\n",
              "      <th>region_southwest</th>\n",
              "    </tr>\n",
              "  </thead>\n",
              "  <tbody>\n",
              "    <tr>\n",
              "      <th>0</th>\n",
              "      <td>19</td>\n",
              "      <td>27.900</td>\n",
              "      <td>0</td>\n",
              "      <td>16884.92400</td>\n",
              "      <td>1</td>\n",
              "      <td>0</td>\n",
              "      <td>0</td>\n",
              "      <td>1</td>\n",
              "      <td>0</td>\n",
              "      <td>0</td>\n",
              "      <td>0</td>\n",
              "      <td>1</td>\n",
              "    </tr>\n",
              "    <tr>\n",
              "      <th>1</th>\n",
              "      <td>18</td>\n",
              "      <td>33.770</td>\n",
              "      <td>1</td>\n",
              "      <td>1725.55230</td>\n",
              "      <td>0</td>\n",
              "      <td>1</td>\n",
              "      <td>1</td>\n",
              "      <td>0</td>\n",
              "      <td>0</td>\n",
              "      <td>0</td>\n",
              "      <td>1</td>\n",
              "      <td>0</td>\n",
              "    </tr>\n",
              "    <tr>\n",
              "      <th>2</th>\n",
              "      <td>28</td>\n",
              "      <td>33.000</td>\n",
              "      <td>3</td>\n",
              "      <td>4449.46200</td>\n",
              "      <td>0</td>\n",
              "      <td>1</td>\n",
              "      <td>1</td>\n",
              "      <td>0</td>\n",
              "      <td>0</td>\n",
              "      <td>0</td>\n",
              "      <td>1</td>\n",
              "      <td>0</td>\n",
              "    </tr>\n",
              "    <tr>\n",
              "      <th>3</th>\n",
              "      <td>33</td>\n",
              "      <td>22.705</td>\n",
              "      <td>0</td>\n",
              "      <td>21984.47061</td>\n",
              "      <td>0</td>\n",
              "      <td>1</td>\n",
              "      <td>1</td>\n",
              "      <td>0</td>\n",
              "      <td>0</td>\n",
              "      <td>1</td>\n",
              "      <td>0</td>\n",
              "      <td>0</td>\n",
              "    </tr>\n",
              "    <tr>\n",
              "      <th>4</th>\n",
              "      <td>32</td>\n",
              "      <td>28.880</td>\n",
              "      <td>0</td>\n",
              "      <td>3866.85520</td>\n",
              "      <td>0</td>\n",
              "      <td>1</td>\n",
              "      <td>1</td>\n",
              "      <td>0</td>\n",
              "      <td>0</td>\n",
              "      <td>1</td>\n",
              "      <td>0</td>\n",
              "      <td>0</td>\n",
              "    </tr>\n",
              "  </tbody>\n",
              "</table>\n",
              "</div>"
            ],
            "text/plain": [
              "   age     bmi  children  ...  region_northwest  region_southeast  region_southwest\n",
              "0   19  27.900         0  ...                 0                 0                 1\n",
              "1   18  33.770         1  ...                 0                 1                 0\n",
              "2   28  33.000         3  ...                 0                 1                 0\n",
              "3   33  22.705         0  ...                 1                 0                 0\n",
              "4   32  28.880         0  ...                 1                 0                 0\n",
              "\n",
              "[5 rows x 12 columns]"
            ]
          },
          "metadata": {
            "tags": []
          },
          "execution_count": 69
        }
      ]
    },
    {
      "cell_type": "code",
      "metadata": {
        "id": "VK3BRSgZ9btL"
      },
      "source": [
        "# Create X & y values (features and labels)\n",
        "X = insurance_one_hot.drop('charges', axis=1)\n",
        "y = insurance_one_hot['charges']"
      ],
      "execution_count": null,
      "outputs": []
    },
    {
      "cell_type": "code",
      "metadata": {
        "colab": {
          "base_uri": "https://localhost:8080/",
          "height": 197
        },
        "id": "N_prDd3_3aR7",
        "outputId": "9cfadbe0-fe44-4ad9-a240-b67630be0dbf"
      },
      "source": [
        "X.head()"
      ],
      "execution_count": null,
      "outputs": [
        {
          "output_type": "execute_result",
          "data": {
            "text/html": [
              "<div>\n",
              "<style scoped>\n",
              "    .dataframe tbody tr th:only-of-type {\n",
              "        vertical-align: middle;\n",
              "    }\n",
              "\n",
              "    .dataframe tbody tr th {\n",
              "        vertical-align: top;\n",
              "    }\n",
              "\n",
              "    .dataframe thead th {\n",
              "        text-align: right;\n",
              "    }\n",
              "</style>\n",
              "<table border=\"1\" class=\"dataframe\">\n",
              "  <thead>\n",
              "    <tr style=\"text-align: right;\">\n",
              "      <th></th>\n",
              "      <th>age</th>\n",
              "      <th>bmi</th>\n",
              "      <th>children</th>\n",
              "      <th>sex_female</th>\n",
              "      <th>sex_male</th>\n",
              "      <th>smoker_no</th>\n",
              "      <th>smoker_yes</th>\n",
              "      <th>region_northeast</th>\n",
              "      <th>region_northwest</th>\n",
              "      <th>region_southeast</th>\n",
              "      <th>region_southwest</th>\n",
              "    </tr>\n",
              "  </thead>\n",
              "  <tbody>\n",
              "    <tr>\n",
              "      <th>0</th>\n",
              "      <td>19</td>\n",
              "      <td>27.900</td>\n",
              "      <td>0</td>\n",
              "      <td>1</td>\n",
              "      <td>0</td>\n",
              "      <td>0</td>\n",
              "      <td>1</td>\n",
              "      <td>0</td>\n",
              "      <td>0</td>\n",
              "      <td>0</td>\n",
              "      <td>1</td>\n",
              "    </tr>\n",
              "    <tr>\n",
              "      <th>1</th>\n",
              "      <td>18</td>\n",
              "      <td>33.770</td>\n",
              "      <td>1</td>\n",
              "      <td>0</td>\n",
              "      <td>1</td>\n",
              "      <td>1</td>\n",
              "      <td>0</td>\n",
              "      <td>0</td>\n",
              "      <td>0</td>\n",
              "      <td>1</td>\n",
              "      <td>0</td>\n",
              "    </tr>\n",
              "    <tr>\n",
              "      <th>2</th>\n",
              "      <td>28</td>\n",
              "      <td>33.000</td>\n",
              "      <td>3</td>\n",
              "      <td>0</td>\n",
              "      <td>1</td>\n",
              "      <td>1</td>\n",
              "      <td>0</td>\n",
              "      <td>0</td>\n",
              "      <td>0</td>\n",
              "      <td>1</td>\n",
              "      <td>0</td>\n",
              "    </tr>\n",
              "    <tr>\n",
              "      <th>3</th>\n",
              "      <td>33</td>\n",
              "      <td>22.705</td>\n",
              "      <td>0</td>\n",
              "      <td>0</td>\n",
              "      <td>1</td>\n",
              "      <td>1</td>\n",
              "      <td>0</td>\n",
              "      <td>0</td>\n",
              "      <td>1</td>\n",
              "      <td>0</td>\n",
              "      <td>0</td>\n",
              "    </tr>\n",
              "    <tr>\n",
              "      <th>4</th>\n",
              "      <td>32</td>\n",
              "      <td>28.880</td>\n",
              "      <td>0</td>\n",
              "      <td>0</td>\n",
              "      <td>1</td>\n",
              "      <td>1</td>\n",
              "      <td>0</td>\n",
              "      <td>0</td>\n",
              "      <td>1</td>\n",
              "      <td>0</td>\n",
              "      <td>0</td>\n",
              "    </tr>\n",
              "  </tbody>\n",
              "</table>\n",
              "</div>"
            ],
            "text/plain": [
              "   age     bmi  children  ...  region_northwest  region_southeast  region_southwest\n",
              "0   19  27.900         0  ...                 0                 0                 1\n",
              "1   18  33.770         1  ...                 0                 1                 0\n",
              "2   28  33.000         3  ...                 0                 1                 0\n",
              "3   33  22.705         0  ...                 1                 0                 0\n",
              "4   32  28.880         0  ...                 1                 0                 0\n",
              "\n",
              "[5 rows x 11 columns]"
            ]
          },
          "metadata": {
            "tags": []
          },
          "execution_count": 71
        }
      ]
    },
    {
      "cell_type": "code",
      "metadata": {
        "colab": {
          "base_uri": "https://localhost:8080/"
        },
        "id": "b6qLEHdJ3eKv",
        "outputId": "b9b13d5e-0c99-4686-d9b9-67430891f010"
      },
      "source": [
        "y.head()"
      ],
      "execution_count": null,
      "outputs": [
        {
          "output_type": "execute_result",
          "data": {
            "text/plain": [
              "0    16884.92400\n",
              "1     1725.55230\n",
              "2     4449.46200\n",
              "3    21984.47061\n",
              "4     3866.85520\n",
              "Name: charges, dtype: float64"
            ]
          },
          "metadata": {
            "tags": []
          },
          "execution_count": 72
        }
      ]
    },
    {
      "cell_type": "code",
      "metadata": {
        "colab": {
          "base_uri": "https://localhost:8080/"
        },
        "id": "hYrj1rn42tMI",
        "outputId": "0ed04085-16c2-4bde-93a9-5b81abe5f67a"
      },
      "source": [
        "# Create training and test sets\n",
        "from sklearn.model_selection import train_test_split\n",
        "X_train, X_test, y_train,  y_test = train_test_split(X, y, test_size=0.2, random_state=42)\n",
        "len(X), len(X_train), len(X_test)"
      ],
      "execution_count": null,
      "outputs": [
        {
          "output_type": "execute_result",
          "data": {
            "text/plain": [
              "(1338, 1070, 268)"
            ]
          },
          "metadata": {
            "tags": []
          },
          "execution_count": 73
        }
      ]
    },
    {
      "cell_type": "code",
      "metadata": {
        "colab": {
          "base_uri": "https://localhost:8080/"
        },
        "id": "FKY8dWMn2x00",
        "outputId": "4164df2c-b3bc-4f60-9c5e-f67eb44475c1"
      },
      "source": [
        "# Build a neural netwark \n",
        "# Set the random seed\n",
        "tf.random.set_seed\n",
        "\n",
        "# 1. create the model\n",
        "insurance_model = tf.keras.Sequential([\n",
        "    tf.keras.layers.Dense(10),\n",
        "    tf.keras.layers.Dense(1)\n",
        "])\n",
        "\n",
        "# 2. Compile model\n",
        "insurance_model.compile(loss=tf.keras.losses.mae,\n",
        "               optimizer=tf.keras.optimizers.SGD(),\n",
        "               metrics=['mae'])\n",
        "\n",
        "# 3. Fit the model\n",
        "insurance_model.fit(X_train, y_train, epochs=100)"
      ],
      "execution_count": null,
      "outputs": [
        {
          "output_type": "stream",
          "text": [
            "Epoch 1/100\n",
            "34/34 [==============================] - 0s 1ms/step - loss: 10276.3987 - mae: 10276.3987\n",
            "Epoch 2/100\n",
            "34/34 [==============================] - 0s 1ms/step - loss: 7714.0751 - mae: 7714.0751\n",
            "Epoch 3/100\n",
            "34/34 [==============================] - 0s 1ms/step - loss: 7059.8858 - mae: 7059.8858\n",
            "Epoch 4/100\n",
            "34/34 [==============================] - 0s 1ms/step - loss: 7944.1805 - mae: 7944.1805\n",
            "Epoch 5/100\n",
            "34/34 [==============================] - 0s 2ms/step - loss: 7706.9939 - mae: 7706.9939\n",
            "Epoch 6/100\n",
            "34/34 [==============================] - 0s 1ms/step - loss: 7627.9519 - mae: 7627.9519\n",
            "Epoch 7/100\n",
            "34/34 [==============================] - 0s 1ms/step - loss: 7624.1915 - mae: 7624.1915\n",
            "Epoch 8/100\n",
            "34/34 [==============================] - 0s 1ms/step - loss: 7856.2481 - mae: 7856.2481\n",
            "Epoch 9/100\n",
            "34/34 [==============================] - 0s 1ms/step - loss: 7715.5676 - mae: 7715.5676\n",
            "Epoch 10/100\n",
            "34/34 [==============================] - 0s 1ms/step - loss: 8226.8287 - mae: 8226.8287\n",
            "Epoch 11/100\n",
            "34/34 [==============================] - 0s 1ms/step - loss: 7794.1123 - mae: 7794.1123\n",
            "Epoch 12/100\n",
            "34/34 [==============================] - 0s 1ms/step - loss: 7724.4759 - mae: 7724.4759\n",
            "Epoch 13/100\n",
            "34/34 [==============================] - 0s 1ms/step - loss: 8129.3084 - mae: 8129.3084\n",
            "Epoch 14/100\n",
            "34/34 [==============================] - 0s 1ms/step - loss: 7621.7488 - mae: 7621.7488\n",
            "Epoch 15/100\n",
            "34/34 [==============================] - 0s 1ms/step - loss: 7805.2536 - mae: 7805.2536\n",
            "Epoch 16/100\n",
            "34/34 [==============================] - 0s 1ms/step - loss: 8087.5943 - mae: 8087.5943\n",
            "Epoch 17/100\n",
            "34/34 [==============================] - 0s 1ms/step - loss: 7226.9050 - mae: 7226.9050\n",
            "Epoch 18/100\n",
            "34/34 [==============================] - 0s 1ms/step - loss: 8085.0983 - mae: 8085.0983\n",
            "Epoch 19/100\n",
            "34/34 [==============================] - 0s 1ms/step - loss: 7416.6056 - mae: 7416.6056\n",
            "Epoch 20/100\n",
            "34/34 [==============================] - 0s 1ms/step - loss: 7743.8648 - mae: 7743.8648\n",
            "Epoch 21/100\n",
            "34/34 [==============================] - 0s 1ms/step - loss: 6966.1525 - mae: 6966.1525\n",
            "Epoch 22/100\n",
            "34/34 [==============================] - 0s 1ms/step - loss: 7165.2921 - mae: 7165.2921\n",
            "Epoch 23/100\n",
            "34/34 [==============================] - 0s 1ms/step - loss: 7693.4067 - mae: 7693.4067\n",
            "Epoch 24/100\n",
            "34/34 [==============================] - 0s 1ms/step - loss: 7300.0283 - mae: 7300.0283\n",
            "Epoch 25/100\n",
            "34/34 [==============================] - 0s 1ms/step - loss: 8008.0087 - mae: 8008.0087\n",
            "Epoch 26/100\n",
            "34/34 [==============================] - 0s 1ms/step - loss: 7299.7826 - mae: 7299.7826\n",
            "Epoch 27/100\n",
            "34/34 [==============================] - 0s 1ms/step - loss: 7610.7331 - mae: 7610.7331\n",
            "Epoch 28/100\n",
            "34/34 [==============================] - 0s 1ms/step - loss: 7815.4867 - mae: 7815.4867\n",
            "Epoch 29/100\n",
            "34/34 [==============================] - 0s 1ms/step - loss: 7343.4574 - mae: 7343.4574\n",
            "Epoch 30/100\n",
            "34/34 [==============================] - 0s 1ms/step - loss: 7733.3389 - mae: 7733.3389\n",
            "Epoch 31/100\n",
            "34/34 [==============================] - 0s 1ms/step - loss: 8257.8764 - mae: 8257.8764\n",
            "Epoch 32/100\n",
            "34/34 [==============================] - 0s 1ms/step - loss: 7427.8178 - mae: 7427.8178\n",
            "Epoch 33/100\n",
            "34/34 [==============================] - 0s 1ms/step - loss: 7433.0912 - mae: 7433.0912\n",
            "Epoch 34/100\n",
            "34/34 [==============================] - 0s 1ms/step - loss: 7464.6464 - mae: 7464.6464\n",
            "Epoch 35/100\n",
            "34/34 [==============================] - 0s 1ms/step - loss: 7440.7105 - mae: 7440.7105\n",
            "Epoch 36/100\n",
            "34/34 [==============================] - 0s 1ms/step - loss: 7341.7324 - mae: 7341.7324\n",
            "Epoch 37/100\n",
            "34/34 [==============================] - 0s 1ms/step - loss: 7701.8451 - mae: 7701.8451\n",
            "Epoch 38/100\n",
            "34/34 [==============================] - 0s 1ms/step - loss: 6937.0108 - mae: 6937.0108\n",
            "Epoch 39/100\n",
            "34/34 [==============================] - 0s 1ms/step - loss: 7678.7680 - mae: 7678.7680\n",
            "Epoch 40/100\n",
            "34/34 [==============================] - 0s 1ms/step - loss: 7671.9297 - mae: 7671.9297\n",
            "Epoch 41/100\n",
            "34/34 [==============================] - 0s 1ms/step - loss: 7952.4821 - mae: 7952.4821\n",
            "Epoch 42/100\n",
            "34/34 [==============================] - 0s 1ms/step - loss: 7506.6842 - mae: 7506.6842\n",
            "Epoch 43/100\n",
            "34/34 [==============================] - 0s 1ms/step - loss: 7628.4184 - mae: 7628.4184\n",
            "Epoch 44/100\n",
            "34/34 [==============================] - 0s 1ms/step - loss: 7193.0646 - mae: 7193.0646\n",
            "Epoch 45/100\n",
            "34/34 [==============================] - 0s 1ms/step - loss: 7432.5394 - mae: 7432.5394\n",
            "Epoch 46/100\n",
            "34/34 [==============================] - 0s 1ms/step - loss: 7170.1300 - mae: 7170.1300\n",
            "Epoch 47/100\n",
            "34/34 [==============================] - 0s 1ms/step - loss: 7921.5009 - mae: 7921.5009\n",
            "Epoch 48/100\n",
            "34/34 [==============================] - 0s 1ms/step - loss: 7187.0354 - mae: 7187.0354\n",
            "Epoch 49/100\n",
            "34/34 [==============================] - 0s 1ms/step - loss: 7217.9207 - mae: 7217.9207\n",
            "Epoch 50/100\n",
            "34/34 [==============================] - 0s 1ms/step - loss: 7428.3081 - mae: 7428.3081\n",
            "Epoch 51/100\n",
            "34/34 [==============================] - 0s 1ms/step - loss: 7627.6801 - mae: 7627.6801\n",
            "Epoch 52/100\n",
            "34/34 [==============================] - 0s 1ms/step - loss: 7530.5942 - mae: 7530.5942\n",
            "Epoch 53/100\n",
            "34/34 [==============================] - 0s 1ms/step - loss: 7120.5893 - mae: 7120.5893\n",
            "Epoch 54/100\n",
            "34/34 [==============================] - 0s 1ms/step - loss: 7223.7981 - mae: 7223.7981\n",
            "Epoch 55/100\n",
            "34/34 [==============================] - 0s 1ms/step - loss: 6949.0789 - mae: 6949.0789\n",
            "Epoch 56/100\n",
            "34/34 [==============================] - 0s 1ms/step - loss: 7087.0691 - mae: 7087.0691\n",
            "Epoch 57/100\n",
            "34/34 [==============================] - 0s 1ms/step - loss: 7618.7963 - mae: 7618.7963\n",
            "Epoch 58/100\n",
            "34/34 [==============================] - 0s 1ms/step - loss: 7458.3752 - mae: 7458.3752\n",
            "Epoch 59/100\n",
            "34/34 [==============================] - 0s 1ms/step - loss: 7328.9617 - mae: 7328.9617\n",
            "Epoch 60/100\n",
            "34/34 [==============================] - 0s 1ms/step - loss: 7213.8143 - mae: 7213.8143\n",
            "Epoch 61/100\n",
            "34/34 [==============================] - 0s 1ms/step - loss: 7818.4993 - mae: 7818.4993\n",
            "Epoch 62/100\n",
            "34/34 [==============================] - 0s 1ms/step - loss: 7571.0074 - mae: 7571.0074\n",
            "Epoch 63/100\n",
            "34/34 [==============================] - 0s 1ms/step - loss: 7623.8568 - mae: 7623.8568\n",
            "Epoch 64/100\n",
            "34/34 [==============================] - 0s 1ms/step - loss: 6895.3471 - mae: 6895.3471\n",
            "Epoch 65/100\n",
            "34/34 [==============================] - 0s 1ms/step - loss: 7657.1188 - mae: 7657.1188\n",
            "Epoch 66/100\n",
            "34/34 [==============================] - 0s 1ms/step - loss: 6726.5346 - mae: 6726.5346\n",
            "Epoch 67/100\n",
            "34/34 [==============================] - 0s 1ms/step - loss: 7005.2443 - mae: 7005.2443\n",
            "Epoch 68/100\n",
            "34/34 [==============================] - 0s 1ms/step - loss: 7579.7661 - mae: 7579.7661\n",
            "Epoch 69/100\n",
            "34/34 [==============================] - 0s 1ms/step - loss: 7835.9119 - mae: 7835.9119\n",
            "Epoch 70/100\n",
            "34/34 [==============================] - 0s 1ms/step - loss: 7157.1954 - mae: 7157.1954\n",
            "Epoch 71/100\n",
            "34/34 [==============================] - 0s 1ms/step - loss: 7206.8622 - mae: 7206.8622\n",
            "Epoch 72/100\n",
            "34/34 [==============================] - 0s 1ms/step - loss: 7334.1872 - mae: 7334.1872\n",
            "Epoch 73/100\n",
            "34/34 [==============================] - 0s 1ms/step - loss: 7611.6710 - mae: 7611.6710\n",
            "Epoch 74/100\n",
            "34/34 [==============================] - 0s 1ms/step - loss: 7243.8534 - mae: 7243.8534\n",
            "Epoch 75/100\n",
            "34/34 [==============================] - 0s 1ms/step - loss: 7728.3203 - mae: 7728.3203\n",
            "Epoch 76/100\n",
            "34/34 [==============================] - 0s 1ms/step - loss: 6970.0681 - mae: 6970.0681\n",
            "Epoch 77/100\n",
            "34/34 [==============================] - 0s 1ms/step - loss: 7847.1296 - mae: 7847.1296\n",
            "Epoch 78/100\n",
            "34/34 [==============================] - 0s 1ms/step - loss: 7058.4467 - mae: 7058.4467\n",
            "Epoch 79/100\n",
            "34/34 [==============================] - 0s 1ms/step - loss: 6568.7778 - mae: 6568.7778\n",
            "Epoch 80/100\n",
            "34/34 [==============================] - 0s 1ms/step - loss: 6786.0933 - mae: 6786.0933\n",
            "Epoch 81/100\n",
            "34/34 [==============================] - 0s 1ms/step - loss: 7265.4033 - mae: 7265.4033\n",
            "Epoch 82/100\n",
            "34/34 [==============================] - 0s 1ms/step - loss: 7819.8106 - mae: 7819.8106\n",
            "Epoch 83/100\n",
            "34/34 [==============================] - 0s 1ms/step - loss: 7293.2965 - mae: 7293.2965\n",
            "Epoch 84/100\n",
            "34/34 [==============================] - 0s 1ms/step - loss: 7498.0119 - mae: 7498.0119\n",
            "Epoch 85/100\n",
            "34/34 [==============================] - 0s 1ms/step - loss: 6948.7091 - mae: 6948.7091\n",
            "Epoch 86/100\n",
            "34/34 [==============================] - 0s 1ms/step - loss: 7577.8030 - mae: 7577.8030\n",
            "Epoch 87/100\n",
            "34/34 [==============================] - 0s 1ms/step - loss: 7101.5264 - mae: 7101.5264\n",
            "Epoch 88/100\n",
            "34/34 [==============================] - 0s 1ms/step - loss: 7538.5319 - mae: 7538.5319\n",
            "Epoch 89/100\n",
            "34/34 [==============================] - 0s 1ms/step - loss: 7284.3895 - mae: 7284.3895\n",
            "Epoch 90/100\n",
            "34/34 [==============================] - 0s 1ms/step - loss: 7502.1494 - mae: 7502.1494\n",
            "Epoch 91/100\n",
            "34/34 [==============================] - 0s 1ms/step - loss: 7319.9187 - mae: 7319.9187\n",
            "Epoch 92/100\n",
            "34/34 [==============================] - 0s 1ms/step - loss: 7299.9499 - mae: 7299.9499\n",
            "Epoch 93/100\n",
            "34/34 [==============================] - 0s 1ms/step - loss: 7294.3777 - mae: 7294.3777\n",
            "Epoch 94/100\n",
            "34/34 [==============================] - 0s 1ms/step - loss: 6756.8307 - mae: 6756.8307\n",
            "Epoch 95/100\n",
            "34/34 [==============================] - 0s 1ms/step - loss: 7495.5661 - mae: 7495.5661\n",
            "Epoch 96/100\n",
            "34/34 [==============================] - 0s 1ms/step - loss: 7520.7345 - mae: 7520.7345\n",
            "Epoch 97/100\n",
            "34/34 [==============================] - 0s 1ms/step - loss: 6770.7912 - mae: 6770.7912\n",
            "Epoch 98/100\n",
            "34/34 [==============================] - 0s 1ms/step - loss: 7549.1225 - mae: 7549.1225\n",
            "Epoch 99/100\n",
            "34/34 [==============================] - 0s 1ms/step - loss: 6986.2124 - mae: 6986.2124\n",
            "Epoch 100/100\n",
            "34/34 [==============================] - 0s 1ms/step - loss: 7083.8654 - mae: 7083.8654\n"
          ],
          "name": "stdout"
        },
        {
          "output_type": "execute_result",
          "data": {
            "text/plain": [
              "<tensorflow.python.keras.callbacks.History at 0x7fe7188718d0>"
            ]
          },
          "metadata": {
            "tags": []
          },
          "execution_count": 74
        }
      ]
    },
    {
      "cell_type": "code",
      "metadata": {
        "colab": {
          "base_uri": "https://localhost:8080/"
        },
        "id": "pZ1vDlZs42j0",
        "outputId": "d27b91b2-b073-4e31-a49c-f30a72b5c781"
      },
      "source": [
        "# Check the results of the insurance model on the test data\n",
        "insurance_model.evaluate(X_test, y_test)"
      ],
      "execution_count": null,
      "outputs": [
        {
          "output_type": "stream",
          "text": [
            "9/9 [==============================] - 0s 2ms/step - loss: 8962.6367 - mae: 8962.6367\n"
          ],
          "name": "stdout"
        },
        {
          "output_type": "execute_result",
          "data": {
            "text/plain": [
              "[8962.63671875, 8962.63671875]"
            ]
          },
          "metadata": {
            "tags": []
          },
          "execution_count": 75
        }
      ]
    },
    {
      "cell_type": "code",
      "metadata": {
        "colab": {
          "base_uri": "https://localhost:8080/"
        },
        "id": "ll8emDCG8Ank",
        "outputId": "15c7fa82-0872-4031-a92e-a3ccdab2e707"
      },
      "source": [
        "y_train.median(), y_train.mean()"
      ],
      "execution_count": null,
      "outputs": [
        {
          "output_type": "execute_result",
          "data": {
            "text/plain": [
              "(9575.4421, 13346.089736364489)"
            ]
          },
          "metadata": {
            "tags": []
          },
          "execution_count": 76
        }
      ]
    },
    {
      "cell_type": "markdown",
      "metadata": {
        "id": "SrgtsKtz8ZeV"
      },
      "source": [
        "### Right now it looks like our model isn't performing too well... let's try and improve it!\n",
        "\n",
        "To (try) improve our model, we'll run 2 expreiments:\n",
        "1. Add an extra layer with more hidden units and use the Adam optimizer\n",
        "2. Same as above but train for longer (epochs=200)\n",
        "3. (insert your own experiment here)"
      ]
    },
    {
      "cell_type": "code",
      "metadata": {
        "colab": {
          "base_uri": "https://localhost:8080/"
        },
        "id": "PEnvahmj9IDi",
        "outputId": "f8d80766-b0cb-4a89-89f4-07e354f268fb"
      },
      "source": [
        "# Set random seed\n",
        "tf.random.set_seed(42)\n",
        "\n",
        "# 1. Create the model\n",
        "insurance_model_2 = tf.keras.Sequential([\n",
        "    tf.keras.layers.Dense(100),\n",
        "    tf.keras.layers.Dense(10),\n",
        "    tf.keras.layers.Dense(1),\n",
        "])\n",
        "\n",
        "# 2. Compile the model\n",
        "insurance_model_2.compile(loss=tf.keras.losses.mae,\n",
        "                          optimizer=tf.keras.optimizers.Adam(),\n",
        "                          metrics=['mae'])\n",
        "\n",
        "# 3. Fit the model\n",
        "insurance_model_2.fit(X_train, y_train, epochs=100, verbose=1)"
      ],
      "execution_count": null,
      "outputs": [
        {
          "output_type": "stream",
          "text": [
            "Epoch 1/100\n",
            "34/34 [==============================] - 0s 1ms/step - loss: 13251.7400 - mae: 13251.7400\n",
            "Epoch 2/100\n",
            "34/34 [==============================] - 0s 1ms/step - loss: 12768.7726 - mae: 12768.7726\n",
            "Epoch 3/100\n",
            "34/34 [==============================] - 0s 1ms/step - loss: 12248.2855 - mae: 12248.2855\n",
            "Epoch 4/100\n",
            "34/34 [==============================] - 0s 1ms/step - loss: 12353.0242 - mae: 12353.0242\n",
            "Epoch 5/100\n",
            "34/34 [==============================] - 0s 1ms/step - loss: 11243.3972 - mae: 11243.3972\n",
            "Epoch 6/100\n",
            "34/34 [==============================] - 0s 1ms/step - loss: 9718.5255 - mae: 9718.5255\n",
            "Epoch 7/100\n",
            "34/34 [==============================] - 0s 1ms/step - loss: 8354.8474 - mae: 8354.8474\n",
            "Epoch 8/100\n",
            "34/34 [==============================] - 0s 1ms/step - loss: 7732.2964 - mae: 7732.2964\n",
            "Epoch 9/100\n",
            "34/34 [==============================] - 0s 1ms/step - loss: 7537.6737 - mae: 7537.6737\n",
            "Epoch 10/100\n",
            "34/34 [==============================] - 0s 1ms/step - loss: 7652.7184 - mae: 7652.7184\n",
            "Epoch 11/100\n",
            "34/34 [==============================] - 0s 1ms/step - loss: 7802.4481 - mae: 7802.4481\n",
            "Epoch 12/100\n",
            "34/34 [==============================] - 0s 1ms/step - loss: 7370.3458 - mae: 7370.3458\n",
            "Epoch 13/100\n",
            "34/34 [==============================] - 0s 1ms/step - loss: 7651.9583 - mae: 7651.9583\n",
            "Epoch 14/100\n",
            "34/34 [==============================] - 0s 2ms/step - loss: 7404.5587 - mae: 7404.5587\n",
            "Epoch 15/100\n",
            "34/34 [==============================] - 0s 1ms/step - loss: 7639.0614 - mae: 7639.0614\n",
            "Epoch 16/100\n",
            "34/34 [==============================] - 0s 1ms/step - loss: 7569.4714 - mae: 7569.4714\n",
            "Epoch 17/100\n",
            "34/34 [==============================] - 0s 1ms/step - loss: 6946.3936 - mae: 6946.3936\n",
            "Epoch 18/100\n",
            "34/34 [==============================] - 0s 2ms/step - loss: 7137.7241 - mae: 7137.7241\n",
            "Epoch 19/100\n",
            "34/34 [==============================] - 0s 1ms/step - loss: 7165.3119 - mae: 7165.3119\n",
            "Epoch 20/100\n",
            "34/34 [==============================] - 0s 1ms/step - loss: 7063.6223 - mae: 7063.6223\n",
            "Epoch 21/100\n",
            "34/34 [==============================] - 0s 2ms/step - loss: 6472.3189 - mae: 6472.3189\n",
            "Epoch 22/100\n",
            "34/34 [==============================] - 0s 1ms/step - loss: 6674.0546 - mae: 6674.0546\n",
            "Epoch 23/100\n",
            "34/34 [==============================] - 0s 1ms/step - loss: 7112.2982 - mae: 7112.2982\n",
            "Epoch 24/100\n",
            "34/34 [==============================] - 0s 1ms/step - loss: 6838.1526 - mae: 6838.1526\n",
            "Epoch 25/100\n",
            "34/34 [==============================] - 0s 1ms/step - loss: 7496.9558 - mae: 7496.9558\n",
            "Epoch 26/100\n",
            "34/34 [==============================] - 0s 1ms/step - loss: 6718.1682 - mae: 6718.1682\n",
            "Epoch 27/100\n",
            "34/34 [==============================] - 0s 1ms/step - loss: 7107.2977 - mae: 7107.2977\n",
            "Epoch 28/100\n",
            "34/34 [==============================] - 0s 2ms/step - loss: 7357.2010 - mae: 7357.2010\n",
            "Epoch 29/100\n",
            "34/34 [==============================] - 0s 1ms/step - loss: 6668.5721 - mae: 6668.5721\n",
            "Epoch 30/100\n",
            "34/34 [==============================] - 0s 2ms/step - loss: 7119.4991 - mae: 7119.4991\n",
            "Epoch 31/100\n",
            "34/34 [==============================] - 0s 1ms/step - loss: 7360.1235 - mae: 7360.1235\n",
            "Epoch 32/100\n",
            "34/34 [==============================] - 0s 1ms/step - loss: 6817.2566 - mae: 6817.2566\n",
            "Epoch 33/100\n",
            "34/34 [==============================] - 0s 2ms/step - loss: 6991.0289 - mae: 6991.0289\n",
            "Epoch 34/100\n",
            "34/34 [==============================] - 0s 1ms/step - loss: 6829.4905 - mae: 6829.4905\n",
            "Epoch 35/100\n",
            "34/34 [==============================] - 0s 2ms/step - loss: 6895.2916 - mae: 6895.2916\n",
            "Epoch 36/100\n",
            "34/34 [==============================] - 0s 1ms/step - loss: 6762.5129 - mae: 6762.5129\n",
            "Epoch 37/100\n",
            "34/34 [==============================] - 0s 2ms/step - loss: 6910.4815 - mae: 6910.4815\n",
            "Epoch 38/100\n",
            "34/34 [==============================] - 0s 1ms/step - loss: 6405.0325 - mae: 6405.0325\n",
            "Epoch 39/100\n",
            "34/34 [==============================] - 0s 1ms/step - loss: 6799.7921 - mae: 6799.7921\n",
            "Epoch 40/100\n",
            "34/34 [==============================] - 0s 1ms/step - loss: 6696.0544 - mae: 6696.0544\n",
            "Epoch 41/100\n",
            "34/34 [==============================] - 0s 1ms/step - loss: 6632.0484 - mae: 6632.0484\n",
            "Epoch 42/100\n",
            "34/34 [==============================] - 0s 1ms/step - loss: 6501.1589 - mae: 6501.1589\n",
            "Epoch 43/100\n",
            "34/34 [==============================] - 0s 1ms/step - loss: 6518.8881 - mae: 6518.8881\n",
            "Epoch 44/100\n",
            "34/34 [==============================] - 0s 1ms/step - loss: 6287.3744 - mae: 6287.3744\n",
            "Epoch 45/100\n",
            "34/34 [==============================] - 0s 1ms/step - loss: 6331.2561 - mae: 6331.2561\n",
            "Epoch 46/100\n",
            "34/34 [==============================] - 0s 1ms/step - loss: 6080.3169 - mae: 6080.3169\n",
            "Epoch 47/100\n",
            "34/34 [==============================] - 0s 1ms/step - loss: 6665.8195 - mae: 6665.8195\n",
            "Epoch 48/100\n",
            "34/34 [==============================] - 0s 1ms/step - loss: 6424.2352 - mae: 6424.2352\n",
            "Epoch 49/100\n",
            "34/34 [==============================] - 0s 1ms/step - loss: 6154.8287 - mae: 6154.8287\n",
            "Epoch 50/100\n",
            "34/34 [==============================] - 0s 1ms/step - loss: 6426.9840 - mae: 6426.9840\n",
            "Epoch 51/100\n",
            "34/34 [==============================] - 0s 2ms/step - loss: 6338.3259 - mae: 6338.3259\n",
            "Epoch 52/100\n",
            "34/34 [==============================] - 0s 1ms/step - loss: 6335.6011 - mae: 6335.6011\n",
            "Epoch 53/100\n",
            "34/34 [==============================] - 0s 1ms/step - loss: 5995.7962 - mae: 5995.7962\n",
            "Epoch 54/100\n",
            "34/34 [==============================] - 0s 1ms/step - loss: 6431.7972 - mae: 6431.7972\n",
            "Epoch 55/100\n",
            "34/34 [==============================] - 0s 2ms/step - loss: 6224.0661 - mae: 6224.0661\n",
            "Epoch 56/100\n",
            "34/34 [==============================] - 0s 1ms/step - loss: 6289.4112 - mae: 6289.4112\n",
            "Epoch 57/100\n",
            "34/34 [==============================] - 0s 1ms/step - loss: 6578.3136 - mae: 6578.3136\n",
            "Epoch 58/100\n",
            "34/34 [==============================] - 0s 1ms/step - loss: 6365.6013 - mae: 6365.6013\n",
            "Epoch 59/100\n",
            "34/34 [==============================] - 0s 1ms/step - loss: 5914.7983 - mae: 5914.7983\n",
            "Epoch 60/100\n",
            "34/34 [==============================] - 0s 1ms/step - loss: 6239.8723 - mae: 6239.8723\n",
            "Epoch 61/100\n",
            "34/34 [==============================] - 0s 2ms/step - loss: 6751.6415 - mae: 6751.6415\n",
            "Epoch 62/100\n",
            "34/34 [==============================] - 0s 1ms/step - loss: 6350.5861 - mae: 6350.5861\n",
            "Epoch 63/100\n",
            "34/34 [==============================] - 0s 1ms/step - loss: 6374.7378 - mae: 6374.7378\n",
            "Epoch 64/100\n",
            "34/34 [==============================] - 0s 1ms/step - loss: 5877.7617 - mae: 5877.7617\n",
            "Epoch 65/100\n",
            "34/34 [==============================] - 0s 2ms/step - loss: 6260.5318 - mae: 6260.5318\n",
            "Epoch 66/100\n",
            "34/34 [==============================] - 0s 1ms/step - loss: 6007.1747 - mae: 6007.1747\n",
            "Epoch 67/100\n",
            "34/34 [==============================] - 0s 2ms/step - loss: 6106.7938 - mae: 6106.7938\n",
            "Epoch 68/100\n",
            "34/34 [==============================] - 0s 2ms/step - loss: 6035.6668 - mae: 6035.6668\n",
            "Epoch 69/100\n",
            "34/34 [==============================] - 0s 1ms/step - loss: 6523.5435 - mae: 6523.5435\n",
            "Epoch 70/100\n",
            "34/34 [==============================] - 0s 1ms/step - loss: 5708.9528 - mae: 5708.9528\n",
            "Epoch 71/100\n",
            "34/34 [==============================] - 0s 2ms/step - loss: 6110.2170 - mae: 6110.2170\n",
            "Epoch 72/100\n",
            "34/34 [==============================] - 0s 2ms/step - loss: 5773.3151 - mae: 5773.3151\n",
            "Epoch 73/100\n",
            "34/34 [==============================] - 0s 2ms/step - loss: 6297.5183 - mae: 6297.5183\n",
            "Epoch 74/100\n",
            "34/34 [==============================] - 0s 2ms/step - loss: 6112.9393 - mae: 6112.9393\n",
            "Epoch 75/100\n",
            "34/34 [==============================] - 0s 1ms/step - loss: 6449.7250 - mae: 6449.7250\n",
            "Epoch 76/100\n",
            "34/34 [==============================] - 0s 1ms/step - loss: 5688.1448 - mae: 5688.1448\n",
            "Epoch 77/100\n",
            "34/34 [==============================] - 0s 1ms/step - loss: 6402.3397 - mae: 6402.3397\n",
            "Epoch 78/100\n",
            "34/34 [==============================] - 0s 1ms/step - loss: 5499.5553 - mae: 5499.5553\n",
            "Epoch 79/100\n",
            "34/34 [==============================] - 0s 1ms/step - loss: 5108.3478 - mae: 5108.3478\n",
            "Epoch 80/100\n",
            "34/34 [==============================] - 0s 1ms/step - loss: 5226.6397 - mae: 5226.6397\n",
            "Epoch 81/100\n",
            "34/34 [==============================] - 0s 2ms/step - loss: 5817.3261 - mae: 5817.3261\n",
            "Epoch 82/100\n",
            "34/34 [==============================] - 0s 1ms/step - loss: 6548.7323 - mae: 6548.7323\n",
            "Epoch 83/100\n",
            "34/34 [==============================] - 0s 2ms/step - loss: 5722.6891 - mae: 5722.6891\n",
            "Epoch 84/100\n",
            "34/34 [==============================] - 0s 2ms/step - loss: 5570.2336 - mae: 5570.2336\n",
            "Epoch 85/100\n",
            "34/34 [==============================] - 0s 2ms/step - loss: 5121.8587 - mae: 5121.8587\n",
            "Epoch 86/100\n",
            "34/34 [==============================] - 0s 1ms/step - loss: 5889.9362 - mae: 5889.9362\n",
            "Epoch 87/100\n",
            "34/34 [==============================] - 0s 2ms/step - loss: 5472.2751 - mae: 5472.2751\n",
            "Epoch 88/100\n",
            "34/34 [==============================] - 0s 2ms/step - loss: 5770.0215 - mae: 5770.0215\n",
            "Epoch 89/100\n",
            "34/34 [==============================] - 0s 2ms/step - loss: 5392.7422 - mae: 5392.7422\n",
            "Epoch 90/100\n",
            "34/34 [==============================] - 0s 2ms/step - loss: 5951.3922 - mae: 5951.3922\n",
            "Epoch 91/100\n",
            "34/34 [==============================] - 0s 1ms/step - loss: 5577.1110 - mae: 5577.1110\n",
            "Epoch 92/100\n",
            "34/34 [==============================] - 0s 2ms/step - loss: 5633.8429 - mae: 5633.8429\n",
            "Epoch 93/100\n",
            "34/34 [==============================] - 0s 2ms/step - loss: 5209.0318 - mae: 5209.0318\n",
            "Epoch 94/100\n",
            "34/34 [==============================] - 0s 1ms/step - loss: 5018.4434 - mae: 5018.4434\n",
            "Epoch 95/100\n",
            "34/34 [==============================] - 0s 2ms/step - loss: 5419.2086 - mae: 5419.2086\n",
            "Epoch 96/100\n",
            "34/34 [==============================] - 0s 1ms/step - loss: 5547.8981 - mae: 5547.8981\n",
            "Epoch 97/100\n",
            "34/34 [==============================] - 0s 2ms/step - loss: 4931.7091 - mae: 4931.7091\n",
            "Epoch 98/100\n",
            "34/34 [==============================] - 0s 2ms/step - loss: 4912.5433 - mae: 4912.5433\n",
            "Epoch 99/100\n",
            "34/34 [==============================] - 0s 2ms/step - loss: 4650.0259 - mae: 4650.0259\n",
            "Epoch 100/100\n",
            "34/34 [==============================] - 0s 1ms/step - loss: 4770.1368 - mae: 4770.1368\n"
          ],
          "name": "stdout"
        },
        {
          "output_type": "execute_result",
          "data": {
            "text/plain": [
              "<tensorflow.python.keras.callbacks.History at 0x7fe717f850d0>"
            ]
          },
          "metadata": {
            "tags": []
          },
          "execution_count": 77
        }
      ]
    },
    {
      "cell_type": "code",
      "metadata": {
        "colab": {
          "base_uri": "https://localhost:8080/"
        },
        "id": "bAfk5YJS-yy8",
        "outputId": "3fe1ba01-66a4-4176-f20f-78b015327a98"
      },
      "source": [
        "# Evaluate the larger model\n",
        "insurance_model_2.evaluate(X_test, y_test)"
      ],
      "execution_count": null,
      "outputs": [
        {
          "output_type": "stream",
          "text": [
            "9/9 [==============================] - 0s 2ms/step - loss: 4924.3477 - mae: 4924.3477\n"
          ],
          "name": "stdout"
        },
        {
          "output_type": "execute_result",
          "data": {
            "text/plain": [
              "[4924.34765625, 4924.34765625]"
            ]
          },
          "metadata": {
            "tags": []
          },
          "execution_count": 78
        }
      ]
    },
    {
      "cell_type": "code",
      "metadata": {
        "colab": {
          "base_uri": "https://localhost:8080/"
        },
        "id": "kSu0aStBACCE",
        "outputId": "bdf60316-ea95-4699-fb8e-14e921443e7b"
      },
      "source": [
        "insurance_model.evaluate(X_test, y_test)"
      ],
      "execution_count": null,
      "outputs": [
        {
          "output_type": "stream",
          "text": [
            "9/9 [==============================] - 0s 2ms/step - loss: 8962.6367 - mae: 8962.6367\n"
          ],
          "name": "stdout"
        },
        {
          "output_type": "execute_result",
          "data": {
            "text/plain": [
              "[8962.63671875, 8962.63671875]"
            ]
          },
          "metadata": {
            "tags": []
          },
          "execution_count": 79
        }
      ]
    },
    {
      "cell_type": "code",
      "metadata": {
        "colab": {
          "base_uri": "https://localhost:8080/"
        },
        "id": "xittUGrfBtQl",
        "outputId": "47d0d1b1-14a9-4db4-d788-27c139d61631"
      },
      "source": [
        "# Set random seed\n",
        "tf.random.set_seed(42)\n",
        "\n",
        "# 1. Create the model\n",
        "insurance_model_3 = tf.keras.Sequential([\n",
        "    tf.keras.layers.Dense(100),\n",
        "    tf.keras.layers.Dense(10),\n",
        "    tf.keras.layers.Dense(1),\n",
        "])\n",
        "\n",
        "# 2. Compile the model\n",
        "insurance_model_3.compile(loss=tf.keras.losses.mae,\n",
        "                          optimizer=tf.keras.optimizers.Adam(),\n",
        "                          metrics=['mae'])\n",
        "\n",
        "# 3. Fit the model\n",
        "history = insurance_model_3.fit(X_train, y_train, epochs=200)"
      ],
      "execution_count": null,
      "outputs": [
        {
          "output_type": "stream",
          "text": [
            "Epoch 1/200\n",
            "34/34 [==============================] - 0s 1ms/step - loss: 13251.7400 - mae: 13251.7400\n",
            "Epoch 2/200\n",
            "34/34 [==============================] - 0s 2ms/step - loss: 12768.7726 - mae: 12768.7726\n",
            "Epoch 3/200\n",
            "34/34 [==============================] - 0s 1ms/step - loss: 12248.2855 - mae: 12248.2855\n",
            "Epoch 4/200\n",
            "34/34 [==============================] - 0s 1ms/step - loss: 12353.0242 - mae: 12353.0242\n",
            "Epoch 5/200\n",
            "34/34 [==============================] - 0s 2ms/step - loss: 11243.3972 - mae: 11243.3972\n",
            "Epoch 6/200\n",
            "34/34 [==============================] - 0s 2ms/step - loss: 9718.5255 - mae: 9718.5255\n",
            "Epoch 7/200\n",
            "34/34 [==============================] - 0s 2ms/step - loss: 8354.8474 - mae: 8354.8474\n",
            "Epoch 8/200\n",
            "34/34 [==============================] - 0s 2ms/step - loss: 7732.2964 - mae: 7732.2964\n",
            "Epoch 9/200\n",
            "34/34 [==============================] - 0s 1ms/step - loss: 7537.6737 - mae: 7537.6737\n",
            "Epoch 10/200\n",
            "34/34 [==============================] - 0s 1ms/step - loss: 7652.7184 - mae: 7652.7184\n",
            "Epoch 11/200\n",
            "34/34 [==============================] - 0s 1ms/step - loss: 7802.4481 - mae: 7802.4481\n",
            "Epoch 12/200\n",
            "34/34 [==============================] - 0s 1ms/step - loss: 7370.3458 - mae: 7370.3458\n",
            "Epoch 13/200\n",
            "34/34 [==============================] - 0s 1ms/step - loss: 7651.9583 - mae: 7651.9583\n",
            "Epoch 14/200\n",
            "34/34 [==============================] - 0s 2ms/step - loss: 7404.5587 - mae: 7404.5587\n",
            "Epoch 15/200\n",
            "34/34 [==============================] - 0s 1ms/step - loss: 7639.0614 - mae: 7639.0614\n",
            "Epoch 16/200\n",
            "34/34 [==============================] - 0s 2ms/step - loss: 7569.4714 - mae: 7569.4714\n",
            "Epoch 17/200\n",
            "34/34 [==============================] - 0s 1ms/step - loss: 6946.3936 - mae: 6946.3936\n",
            "Epoch 18/200\n",
            "34/34 [==============================] - 0s 1ms/step - loss: 7137.7241 - mae: 7137.7241\n",
            "Epoch 19/200\n",
            "34/34 [==============================] - 0s 2ms/step - loss: 7165.3119 - mae: 7165.3119\n",
            "Epoch 20/200\n",
            "34/34 [==============================] - 0s 1ms/step - loss: 7063.6223 - mae: 7063.6223\n",
            "Epoch 21/200\n",
            "34/34 [==============================] - 0s 2ms/step - loss: 6472.3189 - mae: 6472.3189\n",
            "Epoch 22/200\n",
            "34/34 [==============================] - 0s 2ms/step - loss: 6674.0546 - mae: 6674.0546\n",
            "Epoch 23/200\n",
            "34/34 [==============================] - 0s 1ms/step - loss: 7112.2982 - mae: 7112.2982\n",
            "Epoch 24/200\n",
            "34/34 [==============================] - 0s 1ms/step - loss: 6838.1526 - mae: 6838.1526\n",
            "Epoch 25/200\n",
            "34/34 [==============================] - 0s 1ms/step - loss: 7496.9558 - mae: 7496.9558\n",
            "Epoch 26/200\n",
            "34/34 [==============================] - 0s 1ms/step - loss: 6718.1682 - mae: 6718.1682\n",
            "Epoch 27/200\n",
            "34/34 [==============================] - 0s 2ms/step - loss: 7107.2977 - mae: 7107.2977\n",
            "Epoch 28/200\n",
            "34/34 [==============================] - 0s 1ms/step - loss: 7357.2010 - mae: 7357.2010\n",
            "Epoch 29/200\n",
            "34/34 [==============================] - 0s 2ms/step - loss: 6668.5721 - mae: 6668.5721\n",
            "Epoch 30/200\n",
            "34/34 [==============================] - 0s 1ms/step - loss: 7119.4991 - mae: 7119.4991\n",
            "Epoch 31/200\n",
            "34/34 [==============================] - 0s 1ms/step - loss: 7360.1235 - mae: 7360.1235\n",
            "Epoch 32/200\n",
            "34/34 [==============================] - 0s 1ms/step - loss: 6817.2566 - mae: 6817.2566\n",
            "Epoch 33/200\n",
            "34/34 [==============================] - 0s 1ms/step - loss: 6991.0289 - mae: 6991.0289\n",
            "Epoch 34/200\n",
            "34/34 [==============================] - 0s 1ms/step - loss: 6829.4905 - mae: 6829.4905\n",
            "Epoch 35/200\n",
            "34/34 [==============================] - 0s 2ms/step - loss: 6895.2916 - mae: 6895.2916\n",
            "Epoch 36/200\n",
            "34/34 [==============================] - 0s 1ms/step - loss: 6762.5129 - mae: 6762.5129\n",
            "Epoch 37/200\n",
            "34/34 [==============================] - 0s 1ms/step - loss: 6910.4815 - mae: 6910.4815\n",
            "Epoch 38/200\n",
            "34/34 [==============================] - 0s 2ms/step - loss: 6405.0325 - mae: 6405.0325\n",
            "Epoch 39/200\n",
            "34/34 [==============================] - 0s 2ms/step - loss: 6799.7921 - mae: 6799.7921\n",
            "Epoch 40/200\n",
            "34/34 [==============================] - 0s 2ms/step - loss: 6696.0544 - mae: 6696.0544\n",
            "Epoch 41/200\n",
            "34/34 [==============================] - 0s 2ms/step - loss: 6632.0484 - mae: 6632.0484\n",
            "Epoch 42/200\n",
            "34/34 [==============================] - 0s 2ms/step - loss: 6501.1589 - mae: 6501.1589\n",
            "Epoch 43/200\n",
            "34/34 [==============================] - 0s 2ms/step - loss: 6518.8881 - mae: 6518.8881\n",
            "Epoch 44/200\n",
            "34/34 [==============================] - 0s 2ms/step - loss: 6287.3744 - mae: 6287.3744\n",
            "Epoch 45/200\n",
            "34/34 [==============================] - 0s 1ms/step - loss: 6331.2561 - mae: 6331.2561\n",
            "Epoch 46/200\n",
            "34/34 [==============================] - 0s 2ms/step - loss: 6080.3169 - mae: 6080.3169\n",
            "Epoch 47/200\n",
            "34/34 [==============================] - 0s 1ms/step - loss: 6665.8195 - mae: 6665.8195\n",
            "Epoch 48/200\n",
            "34/34 [==============================] - 0s 1ms/step - loss: 6424.2352 - mae: 6424.2352\n",
            "Epoch 49/200\n",
            "34/34 [==============================] - 0s 1ms/step - loss: 6154.8287 - mae: 6154.8287\n",
            "Epoch 50/200\n",
            "34/34 [==============================] - 0s 1ms/step - loss: 6426.9840 - mae: 6426.9840\n",
            "Epoch 51/200\n",
            "34/34 [==============================] - 0s 1ms/step - loss: 6338.3259 - mae: 6338.3259\n",
            "Epoch 52/200\n",
            "34/34 [==============================] - 0s 2ms/step - loss: 6335.6011 - mae: 6335.6011\n",
            "Epoch 53/200\n",
            "34/34 [==============================] - 0s 1ms/step - loss: 5995.7962 - mae: 5995.7962\n",
            "Epoch 54/200\n",
            "34/34 [==============================] - 0s 1ms/step - loss: 6431.7972 - mae: 6431.7972\n",
            "Epoch 55/200\n",
            "34/34 [==============================] - 0s 1ms/step - loss: 6224.0661 - mae: 6224.0661\n",
            "Epoch 56/200\n",
            "34/34 [==============================] - 0s 2ms/step - loss: 6289.4112 - mae: 6289.4112\n",
            "Epoch 57/200\n",
            "34/34 [==============================] - 0s 1ms/step - loss: 6578.3136 - mae: 6578.3136\n",
            "Epoch 58/200\n",
            "34/34 [==============================] - 0s 2ms/step - loss: 6365.6013 - mae: 6365.6013\n",
            "Epoch 59/200\n",
            "34/34 [==============================] - 0s 1ms/step - loss: 5914.7983 - mae: 5914.7983\n",
            "Epoch 60/200\n",
            "34/34 [==============================] - 0s 1ms/step - loss: 6239.8723 - mae: 6239.8723\n",
            "Epoch 61/200\n",
            "34/34 [==============================] - 0s 1ms/step - loss: 6751.6415 - mae: 6751.6415\n",
            "Epoch 62/200\n",
            "34/34 [==============================] - 0s 1ms/step - loss: 6350.5861 - mae: 6350.5861\n",
            "Epoch 63/200\n",
            "34/34 [==============================] - 0s 1ms/step - loss: 6374.7378 - mae: 6374.7378\n",
            "Epoch 64/200\n",
            "34/34 [==============================] - 0s 1ms/step - loss: 5877.7617 - mae: 5877.7617\n",
            "Epoch 65/200\n",
            "34/34 [==============================] - 0s 1ms/step - loss: 6260.5318 - mae: 6260.5318\n",
            "Epoch 66/200\n",
            "34/34 [==============================] - 0s 1ms/step - loss: 6007.1747 - mae: 6007.1747\n",
            "Epoch 67/200\n",
            "34/34 [==============================] - 0s 1ms/step - loss: 6106.7938 - mae: 6106.7938\n",
            "Epoch 68/200\n",
            "34/34 [==============================] - 0s 1ms/step - loss: 6035.6668 - mae: 6035.6668\n",
            "Epoch 69/200\n",
            "34/34 [==============================] - 0s 1ms/step - loss: 6523.5435 - mae: 6523.5435\n",
            "Epoch 70/200\n",
            "34/34 [==============================] - 0s 2ms/step - loss: 5708.9528 - mae: 5708.9528\n",
            "Epoch 71/200\n",
            "34/34 [==============================] - 0s 1ms/step - loss: 6110.2170 - mae: 6110.2170\n",
            "Epoch 72/200\n",
            "34/34 [==============================] - 0s 1ms/step - loss: 5773.3151 - mae: 5773.3151\n",
            "Epoch 73/200\n",
            "34/34 [==============================] - 0s 1ms/step - loss: 6297.5183 - mae: 6297.5183\n",
            "Epoch 74/200\n",
            "34/34 [==============================] - 0s 1ms/step - loss: 6112.9393 - mae: 6112.9393\n",
            "Epoch 75/200\n",
            "34/34 [==============================] - 0s 2ms/step - loss: 6449.7250 - mae: 6449.7250\n",
            "Epoch 76/200\n",
            "34/34 [==============================] - 0s 1ms/step - loss: 5688.1448 - mae: 5688.1448\n",
            "Epoch 77/200\n",
            "34/34 [==============================] - 0s 2ms/step - loss: 6402.3397 - mae: 6402.3397\n",
            "Epoch 78/200\n",
            "34/34 [==============================] - 0s 1ms/step - loss: 5499.5553 - mae: 5499.5553\n",
            "Epoch 79/200\n",
            "34/34 [==============================] - 0s 2ms/step - loss: 5108.3478 - mae: 5108.3478\n",
            "Epoch 80/200\n",
            "34/34 [==============================] - 0s 1ms/step - loss: 5226.6397 - mae: 5226.6397\n",
            "Epoch 81/200\n",
            "34/34 [==============================] - 0s 2ms/step - loss: 5817.3261 - mae: 5817.3261\n",
            "Epoch 82/200\n",
            "34/34 [==============================] - 0s 2ms/step - loss: 6548.7323 - mae: 6548.7323\n",
            "Epoch 83/200\n",
            "34/34 [==============================] - 0s 1ms/step - loss: 5722.6891 - mae: 5722.6891\n",
            "Epoch 84/200\n",
            "34/34 [==============================] - 0s 2ms/step - loss: 5570.2336 - mae: 5570.2336\n",
            "Epoch 85/200\n",
            "34/34 [==============================] - 0s 1ms/step - loss: 5121.8587 - mae: 5121.8587\n",
            "Epoch 86/200\n",
            "34/34 [==============================] - 0s 2ms/step - loss: 5889.9362 - mae: 5889.9362\n",
            "Epoch 87/200\n",
            "34/34 [==============================] - 0s 2ms/step - loss: 5472.2751 - mae: 5472.2751\n",
            "Epoch 88/200\n",
            "34/34 [==============================] - 0s 2ms/step - loss: 5770.0215 - mae: 5770.0215\n",
            "Epoch 89/200\n",
            "34/34 [==============================] - 0s 2ms/step - loss: 5392.7422 - mae: 5392.7422\n",
            "Epoch 90/200\n",
            "34/34 [==============================] - 0s 2ms/step - loss: 5951.3922 - mae: 5951.3922\n",
            "Epoch 91/200\n",
            "34/34 [==============================] - 0s 2ms/step - loss: 5577.1110 - mae: 5577.1110\n",
            "Epoch 92/200\n",
            "34/34 [==============================] - 0s 2ms/step - loss: 5633.8429 - mae: 5633.8429\n",
            "Epoch 93/200\n",
            "34/34 [==============================] - 0s 2ms/step - loss: 5209.0318 - mae: 5209.0318\n",
            "Epoch 94/200\n",
            "34/34 [==============================] - 0s 1ms/step - loss: 5018.4434 - mae: 5018.4434\n",
            "Epoch 95/200\n",
            "34/34 [==============================] - 0s 1ms/step - loss: 5419.2086 - mae: 5419.2086\n",
            "Epoch 96/200\n",
            "34/34 [==============================] - 0s 1ms/step - loss: 5547.8981 - mae: 5547.8981\n",
            "Epoch 97/200\n",
            "34/34 [==============================] - 0s 1ms/step - loss: 4931.7091 - mae: 4931.7091\n",
            "Epoch 98/200\n",
            "34/34 [==============================] - 0s 1ms/step - loss: 4912.5433 - mae: 4912.5433\n",
            "Epoch 99/200\n",
            "34/34 [==============================] - 0s 1ms/step - loss: 4650.0259 - mae: 4650.0259\n",
            "Epoch 100/200\n",
            "34/34 [==============================] - 0s 1ms/step - loss: 4770.1368 - mae: 4770.1368\n",
            "Epoch 101/200\n",
            "34/34 [==============================] - 0s 1ms/step - loss: 4909.3405 - mae: 4909.3405\n",
            "Epoch 102/200\n",
            "34/34 [==============================] - 0s 1ms/step - loss: 4673.0495 - mae: 4673.0495\n",
            "Epoch 103/200\n",
            "34/34 [==============================] - 0s 1ms/step - loss: 4396.5531 - mae: 4396.5531\n",
            "Epoch 104/200\n",
            "34/34 [==============================] - 0s 2ms/step - loss: 4917.1084 - mae: 4917.1084\n",
            "Epoch 105/200\n",
            "34/34 [==============================] - 0s 2ms/step - loss: 4314.7778 - mae: 4314.7778\n",
            "Epoch 106/200\n",
            "34/34 [==============================] - 0s 1ms/step - loss: 4739.7995 - mae: 4739.7995\n",
            "Epoch 107/200\n",
            "34/34 [==============================] - 0s 2ms/step - loss: 4745.8093 - mae: 4745.8093\n",
            "Epoch 108/200\n",
            "34/34 [==============================] - 0s 1ms/step - loss: 4517.0400 - mae: 4517.0400\n",
            "Epoch 109/200\n",
            "34/34 [==============================] - 0s 2ms/step - loss: 4803.4275 - mae: 4803.4275\n",
            "Epoch 110/200\n",
            "34/34 [==============================] - 0s 1ms/step - loss: 4702.8919 - mae: 4702.8919\n",
            "Epoch 111/200\n",
            "34/34 [==============================] - 0s 2ms/step - loss: 4289.6146 - mae: 4289.6146\n",
            "Epoch 112/200\n",
            "34/34 [==============================] - 0s 1ms/step - loss: 4062.5322 - mae: 4062.5322\n",
            "Epoch 113/200\n",
            "34/34 [==============================] - 0s 1ms/step - loss: 3978.4756 - mae: 3978.4756\n",
            "Epoch 114/200\n",
            "34/34 [==============================] - 0s 2ms/step - loss: 4152.9214 - mae: 4152.9214\n",
            "Epoch 115/200\n",
            "34/34 [==============================] - 0s 1ms/step - loss: 4003.9165 - mae: 4003.9165\n",
            "Epoch 116/200\n",
            "34/34 [==============================] - 0s 1ms/step - loss: 4288.2785 - mae: 4288.2785\n",
            "Epoch 117/200\n",
            "34/34 [==============================] - 0s 1ms/step - loss: 3860.9309 - mae: 3860.9309\n",
            "Epoch 118/200\n",
            "34/34 [==============================] - 0s 1ms/step - loss: 3865.8638 - mae: 3865.8638\n",
            "Epoch 119/200\n",
            "34/34 [==============================] - 0s 2ms/step - loss: 3953.7542 - mae: 3953.7542\n",
            "Epoch 120/200\n",
            "34/34 [==============================] - 0s 2ms/step - loss: 4055.4669 - mae: 4055.4669\n",
            "Epoch 121/200\n",
            "34/34 [==============================] - 0s 2ms/step - loss: 4136.1248 - mae: 4136.1248\n",
            "Epoch 122/200\n",
            "34/34 [==============================] - 0s 1ms/step - loss: 3805.4186 - mae: 3805.4186\n",
            "Epoch 123/200\n",
            "34/34 [==============================] - 0s 2ms/step - loss: 3729.5202 - mae: 3729.5202\n",
            "Epoch 124/200\n",
            "34/34 [==============================] - 0s 2ms/step - loss: 3653.3789 - mae: 3653.3789\n",
            "Epoch 125/200\n",
            "34/34 [==============================] - 0s 1ms/step - loss: 4047.0974 - mae: 4047.0974\n",
            "Epoch 126/200\n",
            "34/34 [==============================] - 0s 2ms/step - loss: 3759.8391 - mae: 3759.8391\n",
            "Epoch 127/200\n",
            "34/34 [==============================] - 0s 1ms/step - loss: 3898.7483 - mae: 3898.7483\n",
            "Epoch 128/200\n",
            "34/34 [==============================] - 0s 1ms/step - loss: 3728.9218 - mae: 3728.9218\n",
            "Epoch 129/200\n",
            "34/34 [==============================] - 0s 1ms/step - loss: 4054.4523 - mae: 4054.4523\n",
            "Epoch 130/200\n",
            "34/34 [==============================] - 0s 1ms/step - loss: 3811.9230 - mae: 3811.9230\n",
            "Epoch 131/200\n",
            "34/34 [==============================] - 0s 2ms/step - loss: 3840.0032 - mae: 3840.0032\n",
            "Epoch 132/200\n",
            "34/34 [==============================] - 0s 1ms/step - loss: 4002.2322 - mae: 4002.2322\n",
            "Epoch 133/200\n",
            "34/34 [==============================] - 0s 2ms/step - loss: 4039.5692 - mae: 4039.5692\n",
            "Epoch 134/200\n",
            "34/34 [==============================] - 0s 1ms/step - loss: 3874.6315 - mae: 3874.6315\n",
            "Epoch 135/200\n",
            "34/34 [==============================] - 0s 2ms/step - loss: 3851.9765 - mae: 3851.9765\n",
            "Epoch 136/200\n",
            "34/34 [==============================] - 0s 2ms/step - loss: 3716.1255 - mae: 3716.1255\n",
            "Epoch 137/200\n",
            "34/34 [==============================] - 0s 1ms/step - loss: 3771.7132 - mae: 3771.7132\n",
            "Epoch 138/200\n",
            "34/34 [==============================] - 0s 1ms/step - loss: 4019.1487 - mae: 4019.1487\n",
            "Epoch 139/200\n",
            "34/34 [==============================] - 0s 1ms/step - loss: 3714.7945 - mae: 3714.7945\n",
            "Epoch 140/200\n",
            "34/34 [==============================] - 0s 1ms/step - loss: 3735.7563 - mae: 3735.7563\n",
            "Epoch 141/200\n",
            "34/34 [==============================] - 0s 1ms/step - loss: 3858.8476 - mae: 3858.8476\n",
            "Epoch 142/200\n",
            "34/34 [==============================] - 0s 2ms/step - loss: 3625.0085 - mae: 3625.0085\n",
            "Epoch 143/200\n",
            "34/34 [==============================] - 0s 2ms/step - loss: 3835.1521 - mae: 3835.1521\n",
            "Epoch 144/200\n",
            "34/34 [==============================] - 0s 1ms/step - loss: 3868.1936 - mae: 3868.1936\n",
            "Epoch 145/200\n",
            "34/34 [==============================] - 0s 2ms/step - loss: 4044.2481 - mae: 4044.2481\n",
            "Epoch 146/200\n",
            "34/34 [==============================] - 0s 1ms/step - loss: 3948.1645 - mae: 3948.1645\n",
            "Epoch 147/200\n",
            "34/34 [==============================] - 0s 1ms/step - loss: 3696.6694 - mae: 3696.6694\n",
            "Epoch 148/200\n",
            "34/34 [==============================] - 0s 2ms/step - loss: 3497.7141 - mae: 3497.7141\n",
            "Epoch 149/200\n",
            "34/34 [==============================] - 0s 2ms/step - loss: 3636.5157 - mae: 3636.5157\n",
            "Epoch 150/200\n",
            "34/34 [==============================] - 0s 1ms/step - loss: 3824.4876 - mae: 3824.4876\n",
            "Epoch 151/200\n",
            "34/34 [==============================] - 0s 2ms/step - loss: 3805.8298 - mae: 3805.8298\n",
            "Epoch 152/200\n",
            "34/34 [==============================] - 0s 2ms/step - loss: 3755.0754 - mae: 3755.0754\n",
            "Epoch 153/200\n",
            "34/34 [==============================] - 0s 1ms/step - loss: 3716.7277 - mae: 3716.7277\n",
            "Epoch 154/200\n",
            "34/34 [==============================] - 0s 2ms/step - loss: 3894.3153 - mae: 3894.3153\n",
            "Epoch 155/200\n",
            "34/34 [==============================] - 0s 2ms/step - loss: 3651.1834 - mae: 3651.1834\n",
            "Epoch 156/200\n",
            "34/34 [==============================] - 0s 2ms/step - loss: 3542.4872 - mae: 3542.4872\n",
            "Epoch 157/200\n",
            "34/34 [==============================] - 0s 1ms/step - loss: 3542.7571 - mae: 3542.7571\n",
            "Epoch 158/200\n",
            "34/34 [==============================] - 0s 2ms/step - loss: 3921.3213 - mae: 3921.3213\n",
            "Epoch 159/200\n",
            "34/34 [==============================] - 0s 1ms/step - loss: 3773.9635 - mae: 3773.9635\n",
            "Epoch 160/200\n",
            "34/34 [==============================] - 0s 2ms/step - loss: 3836.4512 - mae: 3836.4512\n",
            "Epoch 161/200\n",
            "34/34 [==============================] - 0s 2ms/step - loss: 3695.3159 - mae: 3695.3159\n",
            "Epoch 162/200\n",
            "34/34 [==============================] - 0s 2ms/step - loss: 3842.3962 - mae: 3842.3962\n",
            "Epoch 163/200\n",
            "34/34 [==============================] - 0s 2ms/step - loss: 3436.4965 - mae: 3436.4965\n",
            "Epoch 164/200\n",
            "34/34 [==============================] - 0s 1ms/step - loss: 3658.1668 - mae: 3658.1668\n",
            "Epoch 165/200\n",
            "34/34 [==============================] - 0s 2ms/step - loss: 3724.9990 - mae: 3724.9990\n",
            "Epoch 166/200\n",
            "34/34 [==============================] - 0s 2ms/step - loss: 3876.5262 - mae: 3876.5262\n",
            "Epoch 167/200\n",
            "34/34 [==============================] - 0s 2ms/step - loss: 4017.7594 - mae: 4017.7594\n",
            "Epoch 168/200\n",
            "34/34 [==============================] - 0s 2ms/step - loss: 3752.5265 - mae: 3752.5265\n",
            "Epoch 169/200\n",
            "34/34 [==============================] - 0s 1ms/step - loss: 3595.9144 - mae: 3595.9144\n",
            "Epoch 170/200\n",
            "34/34 [==============================] - 0s 1ms/step - loss: 3880.7918 - mae: 3880.7918\n",
            "Epoch 171/200\n",
            "34/34 [==============================] - 0s 1ms/step - loss: 3588.6998 - mae: 3588.6998\n",
            "Epoch 172/200\n",
            "34/34 [==============================] - 0s 2ms/step - loss: 3788.0718 - mae: 3788.0718\n",
            "Epoch 173/200\n",
            "34/34 [==============================] - 0s 2ms/step - loss: 3816.2179 - mae: 3816.2179\n",
            "Epoch 174/200\n",
            "34/34 [==============================] - 0s 2ms/step - loss: 3762.2578 - mae: 3762.2578\n",
            "Epoch 175/200\n",
            "34/34 [==============================] - 0s 2ms/step - loss: 3877.9812 - mae: 3877.9812\n",
            "Epoch 176/200\n",
            "34/34 [==============================] - 0s 2ms/step - loss: 3795.1465 - mae: 3795.1465\n",
            "Epoch 177/200\n",
            "34/34 [==============================] - 0s 2ms/step - loss: 3768.2689 - mae: 3768.2689\n",
            "Epoch 178/200\n",
            "34/34 [==============================] - 0s 2ms/step - loss: 3567.2376 - mae: 3567.2376\n",
            "Epoch 179/200\n",
            "34/34 [==============================] - 0s 1ms/step - loss: 3471.1047 - mae: 3471.1047\n",
            "Epoch 180/200\n",
            "34/34 [==============================] - 0s 2ms/step - loss: 4114.2342 - mae: 4114.2342\n",
            "Epoch 181/200\n",
            "34/34 [==============================] - 0s 1ms/step - loss: 3853.8357 - mae: 3853.8357\n",
            "Epoch 182/200\n",
            "34/34 [==============================] - 0s 2ms/step - loss: 3778.6590 - mae: 3778.6590\n",
            "Epoch 183/200\n",
            "34/34 [==============================] - 0s 1ms/step - loss: 3474.2507 - mae: 3474.2507\n",
            "Epoch 184/200\n",
            "34/34 [==============================] - 0s 2ms/step - loss: 3624.6951 - mae: 3624.6951\n",
            "Epoch 185/200\n",
            "34/34 [==============================] - 0s 2ms/step - loss: 3491.3103 - mae: 3491.3103\n",
            "Epoch 186/200\n",
            "34/34 [==============================] - 0s 2ms/step - loss: 3824.2027 - mae: 3824.2027\n",
            "Epoch 187/200\n",
            "34/34 [==============================] - 0s 2ms/step - loss: 3889.5553 - mae: 3889.5553\n",
            "Epoch 188/200\n",
            "34/34 [==============================] - 0s 2ms/step - loss: 3916.9766 - mae: 3916.9766\n",
            "Epoch 189/200\n",
            "34/34 [==============================] - 0s 2ms/step - loss: 3449.6390 - mae: 3449.6390\n",
            "Epoch 190/200\n",
            "34/34 [==============================] - 0s 1ms/step - loss: 3790.5261 - mae: 3790.5261\n",
            "Epoch 191/200\n",
            "34/34 [==============================] - 0s 2ms/step - loss: 3899.9987 - mae: 3899.9987\n",
            "Epoch 192/200\n",
            "34/34 [==============================] - 0s 1ms/step - loss: 3676.4644 - mae: 3676.4644\n",
            "Epoch 193/200\n",
            "34/34 [==============================] - 0s 2ms/step - loss: 3766.0237 - mae: 3766.0237\n",
            "Epoch 194/200\n",
            "34/34 [==============================] - 0s 1ms/step - loss: 3871.3434 - mae: 3871.3434\n",
            "Epoch 195/200\n",
            "34/34 [==============================] - 0s 2ms/step - loss: 3423.9755 - mae: 3423.9755\n",
            "Epoch 196/200\n",
            "34/34 [==============================] - 0s 2ms/step - loss: 3567.7101 - mae: 3567.7101\n",
            "Epoch 197/200\n",
            "34/34 [==============================] - 0s 2ms/step - loss: 3950.4742 - mae: 3950.4742\n",
            "Epoch 198/200\n",
            "34/34 [==============================] - 0s 1ms/step - loss: 3620.9258 - mae: 3620.9258\n",
            "Epoch 199/200\n",
            "34/34 [==============================] - 0s 2ms/step - loss: 3628.1823 - mae: 3628.1823\n",
            "Epoch 200/200\n",
            "34/34 [==============================] - 0s 2ms/step - loss: 3810.1321 - mae: 3810.1321\n"
          ],
          "name": "stdout"
        }
      ]
    },
    {
      "cell_type": "code",
      "metadata": {
        "colab": {
          "base_uri": "https://localhost:8080/"
        },
        "id": "R8MZasaFCeqj",
        "outputId": "90a87fdc-050e-4cac-b372-68b39a363091"
      },
      "source": [
        "# Evaluate our third model\n",
        "insurance_model_3.evaluate(X_test, y_test)"
      ],
      "execution_count": null,
      "outputs": [
        {
          "output_type": "stream",
          "text": [
            "9/9 [==============================] - 0s 2ms/step - loss: 3491.2961 - mae: 3491.2961\n"
          ],
          "name": "stdout"
        },
        {
          "output_type": "execute_result",
          "data": {
            "text/plain": [
              "[3491.296142578125, 3491.296142578125]"
            ]
          },
          "metadata": {
            "tags": []
          },
          "execution_count": 81
        }
      ]
    },
    {
      "cell_type": "code",
      "metadata": {
        "colab": {
          "base_uri": "https://localhost:8080/"
        },
        "id": "2HADUytbCrIN",
        "outputId": "a5925096-cfc3-4c4a-bc25-d57a32844501"
      },
      "source": [
        "insurance_model.evaluate(X_test, y_test)"
      ],
      "execution_count": null,
      "outputs": [
        {
          "output_type": "stream",
          "text": [
            "9/9 [==============================] - 0s 2ms/step - loss: 8962.6367 - mae: 8962.6367\n"
          ],
          "name": "stdout"
        },
        {
          "output_type": "execute_result",
          "data": {
            "text/plain": [
              "[8962.63671875, 8962.63671875]"
            ]
          },
          "metadata": {
            "tags": []
          },
          "execution_count": 82
        }
      ]
    },
    {
      "cell_type": "code",
      "metadata": {
        "colab": {
          "base_uri": "https://localhost:8080/",
          "height": 296
        },
        "id": "43trE2lTDaWg",
        "outputId": "d453e50d-44e1-4e5b-9ee4-28bb23836697"
      },
      "source": [
        "# Plot history (also know as a loss curve or a training curve)\n",
        "pd.DataFrame(history.history).plot()\n",
        "plt.ylabel('loss')\n",
        "plt.xlabel('epochs')"
      ],
      "execution_count": null,
      "outputs": [
        {
          "output_type": "execute_result",
          "data": {
            "text/plain": [
              "Text(0.5, 0, 'epochs')"
            ]
          },
          "metadata": {
            "tags": []
          },
          "execution_count": 83
        },
        {
          "output_type": "display_data",
          "data": {
            "image/png": "[encoded data removed]",
            "text/plain": [
              "<Figure size 432x288 with 1 Axes>"
            ]
          },
          "metadata": {
            "tags": [],
            "needs_background": "light"
          }
        }
      ]
    },
    {
      "cell_type": "markdown",
      "metadata": {
        "id": "ppQw16bUD2XM"
      },
      "source": [
        "> 🧐  **Question:** How long should you train for?\n",
        "\n",
        "It depends. Really... It depends on the problem you're working on. However, many people have asked this question before... so TensorFlow [EarlyStoping Callback](https://www.tensorflow.org/api_docs/python/tf/keras/callbacks/EarlyStopping), which is a TensorFlow component you can add to your model to stop trainging once it stopes improving a certain metric."
      ]
    },
    {
      "cell_type": "markdown",
      "metadata": {
        "id": "xxP1c4WwEpwK"
      },
      "source": [
        "## Preprocessing data (normalization and standardization)\n",
        "\n",
        "In terms of scaling values, neural networks tend to prefer normalization\n",
        "\n",
        "If you're not sure on which to use, you could try both and see which performs better."
      ]
    },
    {
      "cell_type": "code",
      "metadata": {
        "colab": {
          "base_uri": "https://localhost:8080/",
          "height": 197
        },
        "id": "60cHYoXz9v1W",
        "outputId": "93690685-f308-42a5-c8cb-dffb96490b73"
      },
      "source": [
        "import pandas as pd\n",
        "import matplotlib.pyplot as plt\n",
        "import tensorflow as tf\n",
        "\n",
        "# Read in the insurance dataframe\n",
        "insurance = pd.read_csv('https://raw.githubusercontent.com/stedy/Machine-Learning-with-R-datasets/master/insurance.csv')\n",
        "insurance.head()"
      ],
      "execution_count": null,
      "outputs": [
        {
          "output_type": "execute_result",
          "data": {
            "text/html": [
              "<div>\n",
              "<style scoped>\n",
              "    .dataframe tbody tr th:only-of-type {\n",
              "        vertical-align: middle;\n",
              "    }\n",
              "\n",
              "    .dataframe tbody tr th {\n",
              "        vertical-align: top;\n",
              "    }\n",
              "\n",
              "    .dataframe thead th {\n",
              "        text-align: right;\n",
              "    }\n",
              "</style>\n",
              "<table border=\"1\" class=\"dataframe\">\n",
              "  <thead>\n",
              "    <tr style=\"text-align: right;\">\n",
              "      <th></th>\n",
              "      <th>age</th>\n",
              "      <th>sex</th>\n",
              "      <th>bmi</th>\n",
              "      <th>children</th>\n",
              "      <th>smoker</th>\n",
              "      <th>region</th>\n",
              "      <th>charges</th>\n",
              "    </tr>\n",
              "  </thead>\n",
              "  <tbody>\n",
              "    <tr>\n",
              "      <th>0</th>\n",
              "      <td>19</td>\n",
              "      <td>female</td>\n",
              "      <td>27.900</td>\n",
              "      <td>0</td>\n",
              "      <td>yes</td>\n",
              "      <td>southwest</td>\n",
              "      <td>16884.92400</td>\n",
              "    </tr>\n",
              "    <tr>\n",
              "      <th>1</th>\n",
              "      <td>18</td>\n",
              "      <td>male</td>\n",
              "      <td>33.770</td>\n",
              "      <td>1</td>\n",
              "      <td>no</td>\n",
              "      <td>southeast</td>\n",
              "      <td>1725.55230</td>\n",
              "    </tr>\n",
              "    <tr>\n",
              "      <th>2</th>\n",
              "      <td>28</td>\n",
              "      <td>male</td>\n",
              "      <td>33.000</td>\n",
              "      <td>3</td>\n",
              "      <td>no</td>\n",
              "      <td>southeast</td>\n",
              "      <td>4449.46200</td>\n",
              "    </tr>\n",
              "    <tr>\n",
              "      <th>3</th>\n",
              "      <td>33</td>\n",
              "      <td>male</td>\n",
              "      <td>22.705</td>\n",
              "      <td>0</td>\n",
              "      <td>no</td>\n",
              "      <td>northwest</td>\n",
              "      <td>21984.47061</td>\n",
              "    </tr>\n",
              "    <tr>\n",
              "      <th>4</th>\n",
              "      <td>32</td>\n",
              "      <td>male</td>\n",
              "      <td>28.880</td>\n",
              "      <td>0</td>\n",
              "      <td>no</td>\n",
              "      <td>northwest</td>\n",
              "      <td>3866.85520</td>\n",
              "    </tr>\n",
              "  </tbody>\n",
              "</table>\n",
              "</div>"
            ],
            "text/plain": [
              "   age     sex     bmi  children smoker     region      charges\n",
              "0   19  female  27.900         0    yes  southwest  16884.92400\n",
              "1   18    male  33.770         1     no  southeast   1725.55230\n",
              "2   28    male  33.000         3     no  southeast   4449.46200\n",
              "3   33    male  22.705         0     no  northwest  21984.47061\n",
              "4   32    male  28.880         0     no  northwest   3866.85520"
            ]
          },
          "metadata": {
            "tags": []
          },
          "execution_count": 84
        }
      ]
    },
    {
      "cell_type": "markdown",
      "metadata": {
        "id": "OZZoasEn-8lZ"
      },
      "source": [
        "To prepare our data, we can borrow a few classes from Scikit-Learn."
      ]
    },
    {
      "cell_type": "code",
      "metadata": {
        "id": "jjAEebWE-JQK"
      },
      "source": [
        "from sklearn.compose import make_column_transformer\n",
        "from sklearn.preprocessing import MinMaxScaler, OneHotEncoder\n",
        "from sklearn.model_selection import train_test_split\n",
        "\n",
        "# Create a column transformer\n",
        "ct = make_column_transformer(\n",
        "    (MinMaxScaler(), ['age', 'bmi', 'children']), # turn all values in these columns between 0 and 1\n",
        "    (OneHotEncoder(handle_unknown='ignore'), ['sex', 'smoker', 'region'])\n",
        ")\n",
        "\n",
        "# Create X and y (into features and labels)\n",
        "X = insurance.drop('charges', axis=1)\n",
        "y = insurance['charges']\n",
        "\n",
        "# Build our train and test sets\n",
        "X_train, X_test, y_train, y_test = train_test_split(X, y, test_size=0.2, random_state=42)\n",
        "\n",
        "# Fit the column transform to our training data\n",
        "ct.fit(X_train)\n",
        "\n",
        "# Transform training and test data with normalization (MinMaxScaler) and OneHotEncoder\n",
        "X_train_normal = ct.transform(X_train)\n",
        "X_test_normal = ct.transform(X_test) "
      ],
      "execution_count": null,
      "outputs": []
    },
    {
      "cell_type": "code",
      "metadata": {
        "colab": {
          "base_uri": "https://localhost:8080/"
        },
        "id": "MyHWhFV2BiK-",
        "outputId": "57c627eb-dad9-41ea-8fb1-2dccdd3a99ad"
      },
      "source": [
        "# What does our data look like now\n",
        "X_train_normal[0]"
      ],
      "execution_count": null,
      "outputs": [
        {
          "output_type": "execute_result",
          "data": {
            "text/plain": [
              "array([0.60869565, 0.10734463, 0.4       , 1.        , 0.        ,\n",
              "       1.        , 0.        , 0.        , 1.        , 0.        ,\n",
              "       0.        ])"
            ]
          },
          "metadata": {
            "tags": []
          },
          "execution_count": 86
        }
      ]
    },
    {
      "cell_type": "code",
      "metadata": {
        "colab": {
          "base_uri": "https://localhost:8080/"
        },
        "id": "HTDuKGeCCAVT",
        "outputId": "c23253a1-06b5-49bb-e4fe-7ef9dd853e58"
      },
      "source": [
        "X_train.shape, X_train_normal.shape"
      ],
      "execution_count": null,
      "outputs": [
        {
          "output_type": "execute_result",
          "data": {
            "text/plain": [
              "((1070, 6), (1070, 11))"
            ]
          },
          "metadata": {
            "tags": []
          },
          "execution_count": 87
        }
      ]
    },
    {
      "cell_type": "markdown",
      "metadata": {
        "id": "Rk7jgsrGCTA8"
      },
      "source": [
        "Beautiful! OUr data has been normalized and one hot encoded. Now let's build a neural network model on it and see how it goes."
      ]
    },
    {
      "cell_type": "code",
      "metadata": {
        "colab": {
          "base_uri": "https://localhost:8080/"
        },
        "id": "mLbcjtMjCpQn",
        "outputId": "2f774a0c-faff-49be-8009-60d78331c423"
      },
      "source": [
        "# Build a neural network model to fit on our normalized data. \n",
        "tf.random.set_seed(42)\n",
        "\n",
        "# 1. Create the modle\n",
        "insurance_model_4 = tf.keras.Sequential([\n",
        "  tf.keras.layers.Dense(100),\n",
        "  tf.keras.layers.Dense(10),\n",
        "  tf.keras.layers.Dense(1)\n",
        "])\n",
        "\n",
        "# 2. Compile the model\n",
        "insurance_model_4.compile(loss=tf.keras.losses.mae,\n",
        "                          optimizer=tf.keras.optimizers.Adam(),\n",
        "                          metrics=['mae'])\n",
        "\n",
        "# 3. Fit the model \n",
        "insurance_model_4.fit(X_train_normal, y_train, epochs=100)"
      ],
      "execution_count": null,
      "outputs": [
        {
          "output_type": "stream",
          "text": [
            "Epoch 1/100\n",
            "34/34 [==============================] - 0s 1ms/step - loss: 13296.4671 - mae: 13296.4671\n",
            "Epoch 2/100\n",
            "34/34 [==============================] - 0s 1ms/step - loss: 12948.4245 - mae: 12948.4245\n",
            "Epoch 3/100\n",
            "34/34 [==============================] - 0s 1ms/step - loss: 12705.2201 - mae: 12705.2201\n",
            "Epoch 4/100\n",
            "34/34 [==============================] - 0s 1ms/step - loss: 13369.7395 - mae: 13369.7395\n",
            "Epoch 5/100\n",
            "34/34 [==============================] - 0s 1ms/step - loss: 13230.8567 - mae: 13230.8567\n",
            "Epoch 6/100\n",
            "34/34 [==============================] - 0s 1ms/step - loss: 12995.1999 - mae: 12995.1999\n",
            "Epoch 7/100\n",
            "34/34 [==============================] - 0s 2ms/step - loss: 12876.1059 - mae: 12876.1059\n",
            "Epoch 8/100\n",
            "34/34 [==============================] - 0s 1ms/step - loss: 13004.0395 - mae: 13004.0395\n",
            "Epoch 9/100\n",
            "34/34 [==============================] - 0s 1ms/step - loss: 12508.0465 - mae: 12508.0465\n",
            "Epoch 10/100\n",
            "34/34 [==============================] - 0s 1ms/step - loss: 12304.9941 - mae: 12304.9941\n",
            "Epoch 11/100\n",
            "34/34 [==============================] - 0s 1ms/step - loss: 12190.6080 - mae: 12190.6080\n",
            "Epoch 12/100\n",
            "34/34 [==============================] - 0s 1ms/step - loss: 10948.1238 - mae: 10948.1238\n",
            "Epoch 13/100\n",
            "34/34 [==============================] - 0s 2ms/step - loss: 11033.2710 - mae: 11033.2710\n",
            "Epoch 14/100\n",
            "34/34 [==============================] - 0s 1ms/step - loss: 10209.3786 - mae: 10209.3786\n",
            "Epoch 15/100\n",
            "34/34 [==============================] - 0s 2ms/step - loss: 9943.5374 - mae: 9943.5374\n",
            "Epoch 16/100\n",
            "34/34 [==============================] - 0s 1ms/step - loss: 9393.3773 - mae: 9393.3773\n",
            "Epoch 17/100\n",
            "34/34 [==============================] - 0s 1ms/step - loss: 8554.0274 - mae: 8554.0274\n",
            "Epoch 18/100\n",
            "34/34 [==============================] - 0s 1ms/step - loss: 8463.0888 - mae: 8463.0888\n",
            "Epoch 19/100\n",
            "34/34 [==============================] - 0s 2ms/step - loss: 8238.9919 - mae: 8238.9919\n",
            "Epoch 20/100\n",
            "34/34 [==============================] - 0s 1ms/step - loss: 7992.1423 - mae: 7992.1423\n",
            "Epoch 21/100\n",
            "34/34 [==============================] - 0s 1ms/step - loss: 7246.4891 - mae: 7246.4891\n",
            "Epoch 22/100\n",
            "34/34 [==============================] - 0s 1ms/step - loss: 7520.6745 - mae: 7520.6745\n",
            "Epoch 23/100\n",
            "34/34 [==============================] - 0s 1ms/step - loss: 7862.2013 - mae: 7862.2013\n",
            "Epoch 24/100\n",
            "34/34 [==============================] - 0s 2ms/step - loss: 7617.0075 - mae: 7617.0075\n",
            "Epoch 25/100\n",
            "34/34 [==============================] - 0s 2ms/step - loss: 8118.1869 - mae: 8118.1869\n",
            "Epoch 26/100\n",
            "34/34 [==============================] - 0s 1ms/step - loss: 7381.5776 - mae: 7381.5776\n",
            "Epoch 27/100\n",
            "34/34 [==============================] - 0s 1ms/step - loss: 7759.2990 - mae: 7759.2990\n",
            "Epoch 28/100\n",
            "34/34 [==============================] - 0s 1ms/step - loss: 7961.3148 - mae: 7961.3148\n",
            "Epoch 29/100\n",
            "34/34 [==============================] - 0s 1ms/step - loss: 7357.1594 - mae: 7357.1594\n",
            "Epoch 30/100\n",
            "34/34 [==============================] - 0s 2ms/step - loss: 7670.5824 - mae: 7670.5824\n",
            "Epoch 31/100\n",
            "34/34 [==============================] - 0s 2ms/step - loss: 7833.2158 - mae: 7833.2158\n",
            "Epoch 32/100\n",
            "34/34 [==============================] - 0s 1ms/step - loss: 7408.4353 - mae: 7408.4353\n",
            "Epoch 33/100\n",
            "34/34 [==============================] - 0s 1ms/step - loss: 7603.6621 - mae: 7603.6621\n",
            "Epoch 34/100\n",
            "34/34 [==============================] - 0s 1ms/step - loss: 7385.2734 - mae: 7385.2734\n",
            "Epoch 35/100\n",
            "34/34 [==============================] - 0s 1ms/step - loss: 7340.4551 - mae: 7340.4551\n",
            "Epoch 36/100\n",
            "34/34 [==============================] - 0s 1ms/step - loss: 7276.7009 - mae: 7276.7009\n",
            "Epoch 37/100\n",
            "34/34 [==============================] - 0s 1ms/step - loss: 7342.1807 - mae: 7342.1807\n",
            "Epoch 38/100\n",
            "34/34 [==============================] - 0s 1ms/step - loss: 6918.2718 - mae: 6918.2718\n",
            "Epoch 39/100\n",
            "34/34 [==============================] - 0s 1ms/step - loss: 7252.1240 - mae: 7252.1240\n",
            "Epoch 40/100\n",
            "34/34 [==============================] - 0s 1ms/step - loss: 7029.9498 - mae: 7029.9498\n",
            "Epoch 41/100\n",
            "34/34 [==============================] - 0s 1ms/step - loss: 6984.8112 - mae: 6984.8112\n",
            "Epoch 42/100\n",
            "34/34 [==============================] - 0s 2ms/step - loss: 6884.6928 - mae: 6884.6928\n",
            "Epoch 43/100\n",
            "34/34 [==============================] - 0s 1ms/step - loss: 6755.5828 - mae: 6755.5828\n",
            "Epoch 44/100\n",
            "34/34 [==============================] - 0s 2ms/step - loss: 6608.4541 - mae: 6608.4541\n",
            "Epoch 45/100\n",
            "34/34 [==============================] - 0s 2ms/step - loss: 6537.6250 - mae: 6537.6250\n",
            "Epoch 46/100\n",
            "34/34 [==============================] - 0s 2ms/step - loss: 6454.2749 - mae: 6454.2749\n",
            "Epoch 47/100\n",
            "34/34 [==============================] - 0s 1ms/step - loss: 6729.0266 - mae: 6729.0266\n",
            "Epoch 48/100\n",
            "34/34 [==============================] - 0s 1ms/step - loss: 6517.0466 - mae: 6517.0466\n",
            "Epoch 49/100\n",
            "34/34 [==============================] - 0s 2ms/step - loss: 6209.9380 - mae: 6209.9380\n",
            "Epoch 50/100\n",
            "34/34 [==============================] - 0s 1ms/step - loss: 6433.2527 - mae: 6433.2527\n",
            "Epoch 51/100\n",
            "34/34 [==============================] - 0s 1ms/step - loss: 6253.4749 - mae: 6253.4749\n",
            "Epoch 52/100\n",
            "34/34 [==============================] - 0s 1ms/step - loss: 6122.7599 - mae: 6122.7599\n",
            "Epoch 53/100\n",
            "34/34 [==============================] - 0s 2ms/step - loss: 5797.8437 - mae: 5797.8437\n",
            "Epoch 54/100\n",
            "34/34 [==============================] - 0s 1ms/step - loss: 6036.6884 - mae: 6036.6884\n",
            "Epoch 55/100\n",
            "34/34 [==============================] - 0s 2ms/step - loss: 5688.6436 - mae: 5688.6436\n",
            "Epoch 56/100\n",
            "34/34 [==============================] - 0s 1ms/step - loss: 5664.2595 - mae: 5664.2595\n",
            "Epoch 57/100\n",
            "34/34 [==============================] - 0s 2ms/step - loss: 5857.4061 - mae: 5857.4061\n",
            "Epoch 58/100\n",
            "34/34 [==============================] - 0s 1ms/step - loss: 5509.3852 - mae: 5509.3852\n",
            "Epoch 59/100\n",
            "34/34 [==============================] - 0s 2ms/step - loss: 5316.6016 - mae: 5316.6016\n",
            "Epoch 60/100\n",
            "34/34 [==============================] - 0s 2ms/step - loss: 5322.8677 - mae: 5322.8677\n",
            "Epoch 61/100\n",
            "34/34 [==============================] - 0s 2ms/step - loss: 5458.1975 - mae: 5458.1975\n",
            "Epoch 62/100\n",
            "34/34 [==============================] - 0s 1ms/step - loss: 5230.6231 - mae: 5230.6231\n",
            "Epoch 63/100\n",
            "34/34 [==============================] - 0s 2ms/step - loss: 5084.5996 - mae: 5084.5996\n",
            "Epoch 64/100\n",
            "34/34 [==============================] - 0s 2ms/step - loss: 4677.8217 - mae: 4677.8217\n",
            "Epoch 65/100\n",
            "34/34 [==============================] - 0s 2ms/step - loss: 4707.1110 - mae: 4707.1110\n",
            "Epoch 66/100\n",
            "34/34 [==============================] - 0s 1ms/step - loss: 4361.7458 - mae: 4361.7458\n",
            "Epoch 67/100\n",
            "34/34 [==============================] - 0s 2ms/step - loss: 4333.7879 - mae: 4333.7879\n",
            "Epoch 68/100\n",
            "34/34 [==============================] - 0s 1ms/step - loss: 4294.6888 - mae: 4294.6888\n",
            "Epoch 69/100\n",
            "34/34 [==============================] - 0s 1ms/step - loss: 4365.7155 - mae: 4365.7155\n",
            "Epoch 70/100\n",
            "34/34 [==============================] - 0s 1ms/step - loss: 3931.4924 - mae: 3931.4924\n",
            "Epoch 71/100\n",
            "34/34 [==============================] - 0s 1ms/step - loss: 4040.8881 - mae: 4040.8881\n",
            "Epoch 72/100\n",
            "34/34 [==============================] - 0s 2ms/step - loss: 3725.7781 - mae: 3725.7781\n",
            "Epoch 73/100\n",
            "34/34 [==============================] - 0s 1ms/step - loss: 4041.0183 - mae: 4041.0183\n",
            "Epoch 74/100\n",
            "34/34 [==============================] - 0s 1ms/step - loss: 3849.4077 - mae: 3849.4077\n",
            "Epoch 75/100\n",
            "34/34 [==============================] - 0s 2ms/step - loss: 4063.8180 - mae: 4063.8180\n",
            "Epoch 76/100\n",
            "34/34 [==============================] - 0s 1ms/step - loss: 3594.6083 - mae: 3594.6083\n",
            "Epoch 77/100\n",
            "34/34 [==============================] - 0s 1ms/step - loss: 3877.1156 - mae: 3877.1156\n",
            "Epoch 78/100\n",
            "34/34 [==============================] - 0s 2ms/step - loss: 3571.6357 - mae: 3571.6357\n",
            "Epoch 79/100\n",
            "34/34 [==============================] - 0s 3ms/step - loss: 3272.2002 - mae: 3272.2002\n",
            "Epoch 80/100\n",
            "34/34 [==============================] - 0s 2ms/step - loss: 3333.3793 - mae: 3333.3793\n",
            "Epoch 81/100\n",
            "34/34 [==============================] - 0s 2ms/step - loss: 3560.1417 - mae: 3560.1417\n",
            "Epoch 82/100\n",
            "34/34 [==============================] - 0s 2ms/step - loss: 4082.1635 - mae: 4082.1635\n",
            "Epoch 83/100\n",
            "34/34 [==============================] - 0s 2ms/step - loss: 3690.6050 - mae: 3690.6050\n",
            "Epoch 84/100\n",
            "34/34 [==============================] - 0s 2ms/step - loss: 3491.1416 - mae: 3491.1416\n",
            "Epoch 85/100\n",
            "34/34 [==============================] - 0s 1ms/step - loss: 3196.7644 - mae: 3196.7644\n",
            "Epoch 86/100\n",
            "34/34 [==============================] - 0s 2ms/step - loss: 3696.4115 - mae: 3696.4115\n",
            "Epoch 87/100\n",
            "34/34 [==============================] - 0s 1ms/step - loss: 3584.8877 - mae: 3584.8877\n",
            "Epoch 88/100\n",
            "34/34 [==============================] - 0s 2ms/step - loss: 3717.8066 - mae: 3717.8066\n",
            "Epoch 89/100\n",
            "34/34 [==============================] - 0s 2ms/step - loss: 3437.4367 - mae: 3437.4367\n",
            "Epoch 90/100\n",
            "34/34 [==============================] - 0s 1ms/step - loss: 3799.4690 - mae: 3799.4690\n",
            "Epoch 91/100\n",
            "34/34 [==============================] - 0s 2ms/step - loss: 3660.1360 - mae: 3660.1360\n",
            "Epoch 92/100\n",
            "34/34 [==============================] - 0s 2ms/step - loss: 3743.4218 - mae: 3743.4218\n",
            "Epoch 93/100\n",
            "34/34 [==============================] - 0s 1ms/step - loss: 3536.3569 - mae: 3536.3569\n",
            "Epoch 94/100\n",
            "34/34 [==============================] - 0s 2ms/step - loss: 3439.5847 - mae: 3439.5847\n",
            "Epoch 95/100\n",
            "34/34 [==============================] - 0s 2ms/step - loss: 3570.7316 - mae: 3570.7316\n",
            "Epoch 96/100\n",
            "34/34 [==============================] - 0s 1ms/step - loss: 3734.5113 - mae: 3734.5113\n",
            "Epoch 97/100\n",
            "34/34 [==============================] - 0s 2ms/step - loss: 3444.5726 - mae: 3444.5726\n",
            "Epoch 98/100\n",
            "34/34 [==============================] - 0s 1ms/step - loss: 3465.0855 - mae: 3465.0855\n",
            "Epoch 99/100\n",
            "34/34 [==============================] - 0s 1ms/step - loss: 3225.0306 - mae: 3225.0306\n",
            "Epoch 100/100\n",
            "34/34 [==============================] - 0s 1ms/step - loss: 3421.0633 - mae: 3421.0633\n"
          ],
          "name": "stdout"
        },
        {
          "output_type": "execute_result",
          "data": {
            "text/plain": [
              "<tensorflow.python.keras.callbacks.History at 0x7fe767593a10>"
            ]
          },
          "metadata": {
            "tags": []
          },
          "execution_count": 88
        }
      ]
    },
    {
      "cell_type": "code",
      "metadata": {
        "colab": {
          "base_uri": "https://localhost:8080/"
        },
        "id": "APMuQxNGEQ42",
        "outputId": "315c2439-9eec-4b75-f19a-b863db31981d"
      },
      "source": [
        "# Evaluate our insurance model trained on normalized data\n",
        "insurance_model_4.evaluate(X_test_normal, y_test)"
      ],
      "execution_count": null,
      "outputs": [
        {
          "output_type": "stream",
          "text": [
            "9/9 [==============================] - 0s 2ms/step - loss: 3438.7844 - mae: 3438.7844\n"
          ],
          "name": "stdout"
        },
        {
          "output_type": "execute_result",
          "data": {
            "text/plain": [
              "[3438.784423828125, 3438.784423828125]"
            ]
          },
          "metadata": {
            "tags": []
          },
          "execution_count": 89
        }
      ]
    },
    {
      "cell_type": "code",
      "metadata": {
        "id": "WuZEA6HaEf8Y"
      },
      "source": [
        "!wget -nc https://raw.githubusercontent.com/brpy/colab-pdf/master/colab_pdf.py\n",
        "from colab_pdf import colab_pdf\n",
        "colab_pdf('01_neural_network_regression_with_tensorflow.ipynb')"
      ],
      "execution_count": null,
      "outputs": []
    }
  ]
}